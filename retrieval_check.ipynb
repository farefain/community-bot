{
 "cells": [
  {
   "cell_type": "code",
   "execution_count": 11,
   "metadata": {},
   "outputs": [],
   "source": [
    "# embeddings = VertexAIEmbeddings()\n",
    "# Create a vectorstore from documents\n",
    "from langchain.embeddings import VertexAIEmbeddings\n",
    "from langchain.vectorstores import DocArrayInMemorySearch\n",
    "import langchain\n",
    "from langchain.llms import VertexAI\n",
    "import streamlit as st\n",
    "from langchain.llms import OpenAI\n",
    "from langchain.text_splitter import CharacterTextSplitter, RecursiveCharacterTextSplitter\n",
    "from langchain.embeddings import OpenAIEmbeddings, VertexAIEmbeddings\n",
    "from langchain.vectorstores import Chroma\n",
    "from langchain.chains import RetrievalQA\n",
    "from langchain.chains.query_constructor.base import AttributeInfo\n",
    "from langchain.retrievers.self_query.base import SelfQueryRetriever\n",
    "embeddings = VertexAIEmbeddings()\n"
   ]
  },
  {
   "cell_type": "code",
   "execution_count": 70,
   "metadata": {},
   "outputs": [],
   "source": [
    "db = Chroma(persist_directory='vector_databases/Upgrade_db', \n",
    "                      embedding_function=embeddings)"
   ]
  },
  {
   "cell_type": "code",
   "execution_count": 71,
   "metadata": {},
   "outputs": [],
   "source": [
    "LLM = VertexAI(model_name='text-bison@001', max_output_tokens='800', temperature=0)"
   ]
  },
  {
   "cell_type": "code",
   "execution_count": 72,
   "metadata": {},
   "outputs": [],
   "source": [
    "metadata_field_info = [\n",
    "    AttributeInfo(\n",
    "        name = 'url',\n",
    "        description='Where the document is from. Should be a link to the document',\n",
    "        type = 'string'\n",
    "    ),\n",
    "    AttributeInfo(\n",
    "        name = 'tag',\n",
    "        description= \"What subc-class the document belongs too. Should be one of 'Others', 'Directory services', 'Cloud/OS', 'Integration', 'Cisco firewall', 'Authentication', 'Cisco dna', 'Design'\",\n",
    "        type = 'string'\n",
    "    ),\n",
    "    AttributeInfo(\n",
    "        name = 'topic_name',\n",
    "        description = \"The topic where the document belongs to.\",\n",
    "        type = 'string'\n",
    "\n",
    "    ),\n",
    "    # Attribute info for summary \n",
    "    AttributeInfo(\n",
    "        name = 'summary',\n",
    "        description = \"The summary of the document\",\n",
    "        type = 'string'\n",
    "    ),\n",
    "    # attribute info for conversation id\n",
    "    AttributeInfo(\n",
    "        name = 'conversation_id',\n",
    "        description = \"The conversation id where the document belongs to\",\n",
    "        type = 'string'\n",
    "    )\n",
    "\n",
    "]\n"
   ]
  },
  {
   "cell_type": "code",
   "execution_count": 73,
   "metadata": {},
   "outputs": [],
   "source": [
    "document_content_description = \"The content of the document for class Design/Integration\""
   ]
  },
  {
   "cell_type": "code",
   "execution_count": 74,
   "metadata": {},
   "outputs": [],
   "source": [
    "retriever = SelfQueryRetriever.from_llm(\n",
    "        llm=LLM, \n",
    "        vectorstore=db,\n",
    "        document_contents=document_content_description,\n",
    "        metadata_field_info=metadata_field_info,\n",
    "        verbose=True\n",
    "    )"
   ]
  },
  {
   "cell_type": "code",
   "execution_count": 76,
   "metadata": {},
   "outputs": [],
   "source": [
    "query = \" The issue is that there is no single API that provides the full details of the Network Devices.\""
   ]
  },
  {
   "cell_type": "code",
   "execution_count": 77,
   "metadata": {},
   "outputs": [
    {
     "name": "stdout",
     "output_type": "stream",
     "text": [
      "query='Network Devices' filter=None limit=None\n"
     ]
    }
   ],
   "source": [
    "context = retriever.get_relevant_documents(query)\n",
    "context_2 = db.similarity_search(query, k=4)"
   ]
  },
  {
   "cell_type": "code",
   "execution_count": 78,
   "metadata": {},
   "outputs": [
    {
     "name": "stdout",
     "output_type": "stream",
     "text": [
      "[Document(page_content=\"ld/new, due to HW upgrade at the same time for this cluster) in one quick process.thanks,David |||| @curlytopzzzThere is not a single API that provides the full details of the Network Devices. You would need to create a script that executes the GET API for the network devices, captures each individual 'id' or 'name' value, then executes the GET by id/name on each one to capture the details.\\nSee the additional info on DevNet:\\nhttps://developer.cisco.com/docs/identity-services-engine/v1/#!networkd\", metadata={'url': 'https://community.cisco.com/t5/network-access-control/cisco-ise-nad-api-export-for-scheduled-nackup/td-p/4693816', 'tag': 'Integration', 'topic_name': '0_detail_id_patch', 'summary': \"The issue is that there is no single API that provides the full details of the Network Devices. To get the full details, you would need to create a script that executes the GET API for the network devices, captures each individual 'id' or 'name' value, then executes the GET by id/name on each one to capture the details.\", 'conversation_id': 4693816}),\n",
      " Document(page_content='The issue is that the ISE appliance is not reachable from the network switches at 03:40 every morning. This is causing the ISE appliance to generate High Load Average and High Authentication Latency alerts. Hi All,I am running two Cisco ISE 2.7 Patch 7 on physical SNS-3515-K9. Doing their expected personas of both being PSN, P MnT, S MnT, P PAN and S PAN and PxGrid. There is also SDA deployment and we have 3 DNAC running 2.2.3.6Every morning I am greeted with alarms on DNAC that Radius Server wa', metadata={'url': 'https://community.cisco.com/t5/network-access-control/cisco-ise-2-7-patch-7-high-load-average/td-p/4698011', 'tag': 'Cisco dna', 'topic_name': '0_high_appliance_switch', 'summary': 'The issue is that the ISE appliance is not reachable from the network switches at 03:40 every morning. This is causing the ISE appliance to generate High Load Average and High Authentication Latency alerts.', 'conversation_id': 4698011}),\n",
      " Document(page_content='The issue is that there is no single API that provides the full details of the Network Devices. To get the full details, you would need to create a script that executes the GET API for the network devices, captures each individual \\'id\\' or \\'name\\' value, then executes the GET by id/name on each one to capture the details. Is there an API to export the NAD database w/ complete device details? I was hoping to see detailed information per devices.By Get I can only have an output(sample):\"SearchResult', metadata={'url': 'https://community.cisco.com/t5/network-access-control/cisco-ise-nad-api-export-for-scheduled-nackup/td-p/4693816', 'tag': 'Integration', 'topic_name': '0_detail_id_patch', 'summary': \"The issue is that there is no single API that provides the full details of the Network Devices. To get the full details, you would need to create a script that executes the GET API for the network devices, captures each individual 'id' or 'name' value, then executes the GET by id/name on each one to capture the details.\", 'conversation_id': 4693816}),\n",
      " Document(page_content='engine/v1/#!networkdevice\\n@davidgfriedman the same applies for gathering endpoint details\\nhttps://developer.cisco.com/docs/identity-services-engine/v1/#!endpoint', metadata={'url': 'https://community.cisco.com/t5/network-access-control/cisco-ise-nad-api-export-for-scheduled-nackup/td-p/4693816', 'tag': 'Integration', 'topic_name': '0_detail_id_patch', 'summary': \"The issue is that there is no single API that provides the full details of the Network Devices. To get the full details, you would need to create a script that executes the GET API for the network devices, captures each individual 'id' or 'name' value, then executes the GET by id/name on each one to capture the details.\", 'conversation_id': 4693816})]\n"
     ]
    }
   ],
   "source": [
    "from pprint import pprint\n",
    "pprint(context)"
   ]
  },
  {
   "cell_type": "code",
   "execution_count": 79,
   "metadata": {},
   "outputs": [
    {
     "name": "stdout",
     "output_type": "stream",
     "text": [
      "[Document(page_content='The issue is that there is no single API that provides the full details of the Network Devices. To get the full details, you would need to create a script that executes the GET API for the network devices, captures each individual \\'id\\' or \\'name\\' value, then executes the GET by id/name on each one to capture the details. Is there an API to export the NAD database w/ complete device details? I was hoping to see detailed information per devices.By Get I can only have an output(sample):\"SearchResult', metadata={'url': 'https://community.cisco.com/t5/network-access-control/cisco-ise-nad-api-export-for-scheduled-nackup/td-p/4693816', 'tag': 'Integration', 'topic_name': '0_detail_id_patch', 'summary': \"The issue is that there is no single API that provides the full details of the Network Devices. To get the full details, you would need to create a script that executes the GET API for the network devices, captures each individual 'id' or 'name' value, then executes the GET by id/name on each one to capture the details.\", 'conversation_id': 4693816}),\n",
      " Document(page_content=\"ld/new, due to HW upgrade at the same time for this cluster) in one quick process.thanks,David |||| @curlytopzzzThere is not a single API that provides the full details of the Network Devices. You would need to create a script that executes the GET API for the network devices, captures each individual 'id' or 'name' value, then executes the GET by id/name on each one to capture the details.\\nSee the additional info on DevNet:\\nhttps://developer.cisco.com/docs/identity-services-engine/v1/#!networkd\", metadata={'url': 'https://community.cisco.com/t5/network-access-control/cisco-ise-nad-api-export-for-scheduled-nackup/td-p/4693816', 'tag': 'Integration', 'topic_name': '0_detail_id_patch', 'summary': \"The issue is that there is no single API that provides the full details of the Network Devices. To get the full details, you would need to create a script that executes the GET API for the network devices, captures each individual 'id' or 'name' value, then executes the GET by id/name on each one to capture the details.\", 'conversation_id': 4693816}),\n",
      " Document(page_content='engine/v1/#!networkdevice\\n@davidgfriedman the same applies for gathering endpoint details\\nhttps://developer.cisco.com/docs/identity-services-engine/v1/#!endpoint', metadata={'url': 'https://community.cisco.com/t5/network-access-control/cisco-ise-nad-api-export-for-scheduled-nackup/td-p/4693816', 'tag': 'Integration', 'topic_name': '0_detail_id_patch', 'summary': \"The issue is that there is no single API that provides the full details of the Network Devices. To get the full details, you would need to create a script that executes the GET API for the network devices, captures each individual 'id' or 'name' value, then executes the GET by id/name on each one to capture the details.\", 'conversation_id': 4693816}),\n",
      " Document(page_content=\"n´t have the latest patches or patches of a specific date/time installed in the device?I was investigating in some forums but I couldn't find a solution that met what I was looking for to implement.Hoping not to bother you with my doubt, I am very attentive to any advice or help you can give me.Greetings, |||| Hello! I had a question about a case in particular It's a bit far-fetched, but in short, does exist on ISE or in another appliance on Cisco a function that allow scanning for VPN connectio\", metadata={'url': 'https://community.cisco.com/t5/network-access-control/ise-doubts-about-capabilites-for-vpn-and-endpoints-connections/td-p/4604760', 'tag': 'Others', 'topic_name': '0_node_patch_deployment', 'summary': \"The user is looking for a way to scan VPN connections and endpoint connections, and to make rules or policies to not allow a connection of a host if it doesn't have the latest patches or patches of a specific date/time installed in the device.\", 'conversation_id': 4604760})]\n"
     ]
    }
   ],
   "source": [
    "pprint(context_2)"
   ]
  },
  {
   "cell_type": "code",
   "execution_count": 81,
   "metadata": {},
   "outputs": [],
   "source": [
    "import pandas as pd"
   ]
  },
  {
   "cell_type": "code",
   "execution_count": 110,
   "metadata": {},
   "outputs": [
    {
     "data": {
      "text/html": [
       "<div>\n",
       "<style scoped>\n",
       "    .dataframe tbody tr th:only-of-type {\n",
       "        vertical-align: middle;\n",
       "    }\n",
       "\n",
       "    .dataframe tbody tr th {\n",
       "        vertical-align: top;\n",
       "    }\n",
       "\n",
       "    .dataframe thead th {\n",
       "        text-align: right;\n",
       "    }\n",
       "</style>\n",
       "<table border=\"1\" class=\"dataframe\">\n",
       "  <thead>\n",
       "    <tr style=\"text-align: right;\">\n",
       "      <th></th>\n",
       "      <th>topic_id</th>\n",
       "      <th>product_tag</th>\n",
       "      <th>word</th>\n",
       "      <th>score</th>\n",
       "      <th>total_topic_words</th>\n",
       "      <th>class</th>\n",
       "      <th>analysis_window</th>\n",
       "      <th>quarter_for_analysis</th>\n",
       "    </tr>\n",
       "  </thead>\n",
       "  <tbody>\n",
       "    <tr>\n",
       "      <th>0</th>\n",
       "      <td>0</td>\n",
       "      <td>Cisco dna</td>\n",
       "      <td>sda</td>\n",
       "      <td>0.583726</td>\n",
       "      <td>3</td>\n",
       "      <td>Licensing</td>\n",
       "      <td>annual</td>\n",
       "      <td>20233</td>\n",
       "    </tr>\n",
       "    <tr>\n",
       "      <th>1</th>\n",
       "      <td>0</td>\n",
       "      <td>Cisco dna</td>\n",
       "      <td>relationship</td>\n",
       "      <td>0.583726</td>\n",
       "      <td>3</td>\n",
       "      <td>Licensing</td>\n",
       "      <td>annual</td>\n",
       "      <td>20233</td>\n",
       "    </tr>\n",
       "    <tr>\n",
       "      <th>2</th>\n",
       "      <td>0</td>\n",
       "      <td>Cisco dna</td>\n",
       "      <td>sgt</td>\n",
       "      <td>0.583726</td>\n",
       "      <td>3</td>\n",
       "      <td>Licensing</td>\n",
       "      <td>annual</td>\n",
       "      <td>20233</td>\n",
       "    </tr>\n",
       "    <tr>\n",
       "      <th>3</th>\n",
       "      <td>0</td>\n",
       "      <td>Cisco dna</td>\n",
       "      <td>addition</td>\n",
       "      <td>0.583726</td>\n",
       "      <td>3</td>\n",
       "      <td>Licensing</td>\n",
       "      <td>annual</td>\n",
       "      <td>20233</td>\n",
       "    </tr>\n",
       "    <tr>\n",
       "      <th>4</th>\n",
       "      <td>0</td>\n",
       "      <td>Cisco dna</td>\n",
       "      <td>required</td>\n",
       "      <td>0.677620</td>\n",
       "      <td>3</td>\n",
       "      <td>Licensing</td>\n",
       "      <td>annual</td>\n",
       "      <td>20233</td>\n",
       "    </tr>\n",
       "  </tbody>\n",
       "</table>\n",
       "</div>"
      ],
      "text/plain": [
       "   topic_id product_tag          word     score  total_topic_words      class  \\\n",
       "0         0   Cisco dna           sda  0.583726                  3  Licensing   \n",
       "1         0   Cisco dna  relationship  0.583726                  3  Licensing   \n",
       "2         0   Cisco dna           sgt  0.583726                  3  Licensing   \n",
       "3         0   Cisco dna      addition  0.583726                  3  Licensing   \n",
       "4         0   Cisco dna      required  0.677620                  3  Licensing   \n",
       "\n",
       "  analysis_window  quarter_for_analysis  \n",
       "0          annual                 20233  \n",
       "1          annual                 20233  \n",
       "2          annual                 20233  \n",
       "3          annual                 20233  \n",
       "4          annual                 20233  "
      ]
     },
     "execution_count": 110,
     "metadata": {},
     "output_type": "execute_result"
    }
   ],
   "source": [
    "# read cluster file \n",
    "df = pd.read_excel('dataset/top_topics_aq.xlsx')\n",
    "df.head()"
   ]
  },
  {
   "cell_type": "code",
   "execution_count": 116,
   "metadata": {},
   "outputs": [
    {
     "data": {
      "text/plain": [
       "['cause',\n",
       " 'problem',\n",
       " 'radius',\n",
       " 'configuration',\n",
       " 'error',\n",
       " 'upgrade',\n",
       " 'service',\n",
       " 'deployment',\n",
       " 'patch',\n",
       " 'node']"
      ]
     },
     "execution_count": 116,
     "metadata": {},
     "output_type": "execute_result"
    }
   ],
   "source": [
    "df[df['topic_id'] == 0]['word'].tolist()"
   ]
  },
  {
   "cell_type": "code",
   "execution_count": 112,
   "metadata": {},
   "outputs": [],
   "source": [
    "# fileter for class-tag-cluster and annual data- upgrade and others \n",
    "df = df[(df['class'] == 'Upgrade') & (df['product_tag'] == 'Others') & (df['analysis_window'] == 'annual')]"
   ]
  },
  {
   "cell_type": "code",
   "execution_count": 121,
   "metadata": {},
   "outputs": [
    {
     "data": {
      "text/plain": [
       "[0, 1]"
      ]
     },
     "execution_count": 121,
     "metadata": {},
     "output_type": "execute_result"
    }
   ],
   "source": [
    "df['topic_id'].unique().tolist()"
   ]
  },
  {
   "cell_type": "code",
   "execution_count": null,
   "metadata": {},
   "outputs": [],
   "source": []
  },
  {
   "cell_type": "code",
   "execution_count": 103,
   "metadata": {},
   "outputs": [],
   "source": [
    "# cluster 0 words and score \n",
    "cluster_0_words = df[df['topic_id'] == 0]['word'].tolist()\n",
    "cluster_0_score = df[df['topic_id'] == 0]['score'].tolist()\n",
    "\n",
    "\n",
    "# cluster 1 words and score\n",
    "cluster_1_words = df[df['topic_id'] == 1]['word'].tolist()\n",
    "cluster_1_score = df[df['topic_id'] == 1]['score'].tolist()"
   ]
  },
  {
   "cell_type": "code",
   "execution_count": 117,
   "metadata": {},
   "outputs": [
    {
     "data": {
      "text/plain": [
       "['#636EFA',\n",
       " '#EF553B',\n",
       " '#00CC96',\n",
       " '#AB63FA',\n",
       " '#FFA15A',\n",
       " '#19D3F3',\n",
       " '#FF6692',\n",
       " '#B6E880',\n",
       " '#FF97FF',\n",
       " '#FECB52']"
      ]
     },
     "execution_count": 117,
     "metadata": {},
     "output_type": "execute_result"
    }
   ],
   "source": [
    "import plotly.express as px\n",
    "px.colors.qualitative.Plotly"
   ]
  },
  {
   "cell_type": "code",
   "execution_count": 109,
   "metadata": {},
   "outputs": [
    {
     "data": {
      "application/vnd.plotly.v1+json": {
       "config": {
        "plotlyServerURL": "https://plot.ly"
       },
       "data": [
        {
         "marker": {
          "color": "blue",
          "size": [
           0.03242344632621745,
           0.03242344632621745,
           0.03242344632621745,
           0.03402123158749004,
           0.0361059379089031,
           0.05121286172226915,
           0.05393861449776878,
           0.05801834431068885,
           0.06899235070893138,
           0.0755400477588702
          ],
          "sizemin": 5,
          "sizemode": "diameter",
          "sizeref": 0.1
         },
         "mode": "markers",
         "name": "Topic 0",
         "type": "scatter",
         "x": [
          "cause",
          "problem",
          "radius",
          "configuration",
          "error",
          "upgrade",
          "service",
          "deployment",
          "patch",
          "node"
         ],
         "y": [
          0.03242344632621745,
          0.03242344632621745,
          0.03242344632621745,
          0.03402123158749004,
          0.0361059379089031,
          0.05121286172226915,
          0.05393861449776878,
          0.05801834431068885,
          0.06899235070893138,
          0.0755400477588702
         ]
        },
        {
         "marker": {
          "color": "red",
          "size": [
           0.04776309058813826,
           0.04776309058813826,
           0.05005100760160831,
           0.0667346768021444,
           0.0667346768021444,
           0.07387191894005463,
           0.07960515098023044,
           0.1296013133801239,
           0.228673956901465,
           0.2335104670449868
          ],
          "sizemin": 5,
          "sizemode": "diameter",
          "sizeref": 0.1
         },
         "mode": "markers",
         "name": "Topic 1",
         "type": "scatter",
         "x": [
          "method",
          "secondary",
          "cluster",
          "available",
          "concerned",
          "whether",
          "install",
          "version",
          "patch",
          "upgrade"
         ],
         "y": [
          0.04776309058813826,
          0.04776309058813826,
          0.05005100760160831,
          0.0667346768021444,
          0.0667346768021444,
          0.07387191894005463,
          0.07960515098023044,
          0.1296013133801239,
          0.228673956901465,
          0.2335104670449868
         ]
        }
       ],
       "layout": {
        "shapes": [
         {
          "line": {
           "color": "black",
           "width": 2
          },
          "type": "line",
          "x0": 9.5,
          "x1": 9.5,
          "xref": "x",
          "y0": 0,
          "y1": 1,
          "yref": "paper"
         }
        ],
        "template": {
         "data": {
          "candlestick": [
           {
            "decreasing": {
             "line": {
              "color": "#000033"
             }
            },
            "increasing": {
             "line": {
              "color": "#000032"
             }
            },
            "type": "candlestick"
           }
          ],
          "contour": [
           {
            "colorscale": [
             [
              0,
              "#000011"
             ],
             [
              0.1111111111111111,
              "#000012"
             ],
             [
              0.2222222222222222,
              "#000013"
             ],
             [
              0.3333333333333333,
              "#000014"
             ],
             [
              0.4444444444444444,
              "#000015"
             ],
             [
              0.5555555555555556,
              "#000016"
             ],
             [
              0.6666666666666666,
              "#000017"
             ],
             [
              0.7777777777777778,
              "#000018"
             ],
             [
              0.8888888888888888,
              "#000019"
             ],
             [
              1,
              "#000020"
             ]
            ],
            "type": "contour"
           }
          ],
          "contourcarpet": [
           {
            "colorscale": [
             [
              0,
              "#000011"
             ],
             [
              0.1111111111111111,
              "#000012"
             ],
             [
              0.2222222222222222,
              "#000013"
             ],
             [
              0.3333333333333333,
              "#000014"
             ],
             [
              0.4444444444444444,
              "#000015"
             ],
             [
              0.5555555555555556,
              "#000016"
             ],
             [
              0.6666666666666666,
              "#000017"
             ],
             [
              0.7777777777777778,
              "#000018"
             ],
             [
              0.8888888888888888,
              "#000019"
             ],
             [
              1,
              "#000020"
             ]
            ],
            "type": "contourcarpet"
           }
          ],
          "heatmap": [
           {
            "colorscale": [
             [
              0,
              "#000011"
             ],
             [
              0.1111111111111111,
              "#000012"
             ],
             [
              0.2222222222222222,
              "#000013"
             ],
             [
              0.3333333333333333,
              "#000014"
             ],
             [
              0.4444444444444444,
              "#000015"
             ],
             [
              0.5555555555555556,
              "#000016"
             ],
             [
              0.6666666666666666,
              "#000017"
             ],
             [
              0.7777777777777778,
              "#000018"
             ],
             [
              0.8888888888888888,
              "#000019"
             ],
             [
              1,
              "#000020"
             ]
            ],
            "type": "heatmap"
           }
          ],
          "histogram2d": [
           {
            "colorscale": [
             [
              0,
              "#000011"
             ],
             [
              0.1111111111111111,
              "#000012"
             ],
             [
              0.2222222222222222,
              "#000013"
             ],
             [
              0.3333333333333333,
              "#000014"
             ],
             [
              0.4444444444444444,
              "#000015"
             ],
             [
              0.5555555555555556,
              "#000016"
             ],
             [
              0.6666666666666666,
              "#000017"
             ],
             [
              0.7777777777777778,
              "#000018"
             ],
             [
              0.8888888888888888,
              "#000019"
             ],
             [
              1,
              "#000020"
             ]
            ],
            "type": "histogram2d"
           }
          ],
          "icicle": [
           {
            "textfont": {
             "color": "white"
            },
            "type": "icicle"
           }
          ],
          "sankey": [
           {
            "textfont": {
             "color": "#000036"
            },
            "type": "sankey"
           }
          ],
          "scatter": [
           {
            "marker": {
             "line": {
              "width": 0
             }
            },
            "type": "scatter"
           }
          ],
          "table": [
           {
            "cells": {
             "fill": {
              "color": "#000038"
             },
             "font": {
              "color": "#000037"
             },
             "line": {
              "color": "#000039"
             }
            },
            "header": {
             "fill": {
              "color": "#000040"
             },
             "font": {
              "color": "#000036"
             },
             "line": {
              "color": "#000039"
             }
            },
            "type": "table"
           }
          ],
          "waterfall": [
           {
            "connector": {
             "line": {
              "color": "#000036",
              "width": 2
             }
            },
            "decreasing": {
             "marker": {
              "color": "#000033"
             }
            },
            "increasing": {
             "marker": {
              "color": "#000032"
             }
            },
            "totals": {
             "marker": {
              "color": "#000034"
             }
            },
            "type": "waterfall"
           }
          ]
         },
         "layout": {
          "coloraxis": {
           "colorscale": [
            [
             0,
             "#000011"
            ],
            [
             0.1111111111111111,
             "#000012"
            ],
            [
             0.2222222222222222,
             "#000013"
            ],
            [
             0.3333333333333333,
             "#000014"
            ],
            [
             0.4444444444444444,
             "#000015"
            ],
            [
             0.5555555555555556,
             "#000016"
            ],
            [
             0.6666666666666666,
             "#000017"
            ],
            [
             0.7777777777777778,
             "#000018"
            ],
            [
             0.8888888888888888,
             "#000019"
            ],
            [
             1,
             "#000020"
            ]
           ]
          },
          "colorscale": {
           "diverging": [
            [
             0,
             "#000021"
            ],
            [
             0.1,
             "#000022"
            ],
            [
             0.2,
             "#000023"
            ],
            [
             0.3,
             "#000024"
            ],
            [
             0.4,
             "#000025"
            ],
            [
             0.5,
             "#000026"
            ],
            [
             0.6,
             "#000027"
            ],
            [
             0.7,
             "#000028"
            ],
            [
             0.8,
             "#000029"
            ],
            [
             0.9,
             "#000030"
            ],
            [
             1,
             "#000031"
            ]
           ],
           "sequential": [
            [
             0,
             "#000011"
            ],
            [
             0.1111111111111111,
             "#000012"
            ],
            [
             0.2222222222222222,
             "#000013"
            ],
            [
             0.3333333333333333,
             "#000014"
            ],
            [
             0.4444444444444444,
             "#000015"
            ],
            [
             0.5555555555555556,
             "#000016"
            ],
            [
             0.6666666666666666,
             "#000017"
            ],
            [
             0.7777777777777778,
             "#000018"
            ],
            [
             0.8888888888888888,
             "#000019"
            ],
            [
             1,
             "#000020"
            ]
           ],
           "sequentialminus": [
            [
             0,
             "#000011"
            ],
            [
             0.1111111111111111,
             "#000012"
            ],
            [
             0.2222222222222222,
             "#000013"
            ],
            [
             0.3333333333333333,
             "#000014"
            ],
            [
             0.4444444444444444,
             "#000015"
            ],
            [
             0.5555555555555556,
             "#000016"
            ],
            [
             0.6666666666666666,
             "#000017"
            ],
            [
             0.7777777777777778,
             "#000018"
            ],
            [
             0.8888888888888888,
             "#000019"
            ],
            [
             1,
             "#000020"
            ]
           ]
          },
          "colorway": [
           "#000001",
           "#000002",
           "#000003",
           "#000004",
           "#000005",
           "#000006",
           "#000007",
           "#000008",
           "#000009",
           "#000010"
          ]
         }
        },
        "title": {
         "text": "Top 10 Words for Each Cluster"
        },
        "xaxis": {
         "title": {
          "text": "Words"
         }
        },
        "yaxis": {
         "title": {
          "text": "Weight"
         }
        }
       }
      }
     },
     "metadata": {},
     "output_type": "display_data"
    }
   ],
   "source": [
    "\n",
    "import plotly.graph_objects as go\n",
    "\n",
    "# create two lists of top 10 words and their weights for each cluster\n",
    "cluster1_words = cluster_0_words\n",
    "cluster1_weights = cluster_0_score\n",
    "topic_id_set_1 = 'Topic 0'\n",
    "\n",
    "cluster2_words = cluster_1_words\n",
    "cluster2_weights = cluster_1_score\n",
    "topic_id_set_2 = 'Topic 1'\n",
    "\n",
    "\n",
    "fig = go.Figure()\n",
    "\n",
    "\n",
    "\n",
    "fig.add_trace(go.Scatter(\n",
    "    x=cluster1_words,\n",
    "    y=cluster1_weights,\n",
    "    name=topic_id_set_1,\n",
    "    mode='markers',\n",
    "    marker=dict(\n",
    "        size=cluster1_weights,\n",
    "        color='blue',\n",
    "        sizemode='diameter',\n",
    "        sizeref=0.1,\n",
    "        sizemin=5,\n",
    "))\n",
    ")\n",
    "\n",
    "fig.add_trace(go.Scatter(\n",
    "    x=cluster2_words,\n",
    "    y=cluster2_weights,\n",
    "    name=topic_id_set_2,\n",
    "    mode='markers',\n",
    "    marker=dict(\n",
    "        size=cluster2_weights,\n",
    "        color='red',\n",
    "        sizemode='diameter',\n",
    "        sizeref=0.1,\n",
    "        sizemin=5,\n",
    "    )\n",
    ")\n",
    ")\n",
    "\n",
    "# add vertical line to separate the two clusters\n",
    "fig.update_layout(shapes=[\n",
    "    dict(\n",
    "        type= 'line',\n",
    "        yref='paper',\n",
    "        xref='x',\n",
    "        x0=len(cluster1_words)-0.5,\n",
    "        y0=0,\n",
    "        x1=len(cluster1_words)-0.5,\n",
    "        y1=1,\n",
    "        line=dict(color='black', width=2)\n",
    "    )\n",
    "])\n",
    "\n",
    "# add labels and title \n",
    "fig.update_layout(\n",
    "    title='Top 10 Words for Each Cluster',\n",
    "    xaxis_title='Words',\n",
    "    yaxis_title='Weight',)\n",
    "\n",
    "fig.show()"
   ]
  },
  {
   "cell_type": "code",
   "execution_count": null,
   "metadata": {},
   "outputs": [],
   "source": []
  },
  {
   "cell_type": "code",
   "execution_count": 83,
   "metadata": {},
   "outputs": [
    {
     "data": {
      "text/html": [
       "<div>\n",
       "<style scoped>\n",
       "    .dataframe tbody tr th:only-of-type {\n",
       "        vertical-align: middle;\n",
       "    }\n",
       "\n",
       "    .dataframe tbody tr th {\n",
       "        vertical-align: top;\n",
       "    }\n",
       "\n",
       "    .dataframe thead th {\n",
       "        text-align: right;\n",
       "    }\n",
       "</style>\n",
       "<table border=\"1\" class=\"dataframe\">\n",
       "  <thead>\n",
       "    <tr style=\"text-align: right;\">\n",
       "      <th></th>\n",
       "      <th>topic</th>\n",
       "      <th>doc</th>\n",
       "      <th>post_x_coordinate</th>\n",
       "      <th>post_y_coordinate</th>\n",
       "      <th>user</th>\n",
       "      <th>topic_id</th>\n",
       "      <th>topic_name</th>\n",
       "      <th>post_url</th>\n",
       "      <th>post_preview</th>\n",
       "      <th>class</th>\n",
       "      <th>analysis_window</th>\n",
       "      <th>quarter_for_analysis</th>\n",
       "      <th>conversation_id</th>\n",
       "      <th>text</th>\n",
       "      <th>summary_text</th>\n",
       "      <th>tag</th>\n",
       "    </tr>\n",
       "  </thead>\n",
       "  <tbody>\n",
       "    <tr>\n",
       "      <th>0</th>\n",
       "      <td>0</td>\n",
       "      <td>person   purchase  advantage license additio...</td>\n",
       "      <td>0.380220</td>\n",
       "      <td>0.056250</td>\n",
       "      <td>2164</td>\n",
       "      <td>0</td>\n",
       "      <td>0_advantage_license_dna</td>\n",
       "      <td>https://community.cisco.com/t5/cisco-one-discu...</td>\n",
       "      <td>Hello Folks,\\n&amp;nbsp;\\nQuick question. I have p...</td>\n",
       "      <td>Licensing</td>\n",
       "      <td>annual</td>\n",
       "      <td>20233</td>\n",
       "      <td>4757953</td>\n",
       "      <td>&lt;P&gt;Hello Folks,&lt;/P&gt;\\n&lt;P&gt;&amp;nbsp;&lt;/P&gt;\\n&lt;P&gt;Quick q...</td>\n",
       "      <td>The issue being faced is that the person is no...</td>\n",
       "      <td>Cisco dna</td>\n",
       "    </tr>\n",
       "    <tr>\n",
       "      <th>1</th>\n",
       "      <td>0</td>\n",
       "      <td>understand relationship  dna center sda whet...</td>\n",
       "      <td>0.738165</td>\n",
       "      <td>0.836678</td>\n",
       "      <td>23114</td>\n",
       "      <td>0</td>\n",
       "      <td>0_advantage_license_dna</td>\n",
       "      <td>https://community.cisco.com/t5/cisco-digital-n...</td>\n",
       "      <td>Hello All,\\nStarting to get into ISE and DNA a...</td>\n",
       "      <td>Licensing</td>\n",
       "      <td>annual</td>\n",
       "      <td>20233</td>\n",
       "      <td>4725319</td>\n",
       "      <td>&lt;P&gt;Hello All,&lt;/P&gt;\\n&lt;P&gt;Starting to get into ISE...</td>\n",
       "      <td>The user is trying to understand the relations...</td>\n",
       "      <td>Cisco dna</td>\n",
       "    </tr>\n",
       "    <tr>\n",
       "      <th>2</th>\n",
       "      <td>0</td>\n",
       "      <td>enable policy based enforcement   essentia...</td>\n",
       "      <td>0.234175</td>\n",
       "      <td>0.935613</td>\n",
       "      <td>73380</td>\n",
       "      <td>0</td>\n",
       "      <td>0_advantage_license_dna</td>\n",
       "      <td>https://community.cisco.com/t5/software-define...</td>\n",
       "      <td>I have question about ISE&amp;nbsp;I have ISE esse...</td>\n",
       "      <td>Licensing</td>\n",
       "      <td>annual</td>\n",
       "      <td>20233</td>\n",
       "      <td>4614950</td>\n",
       "      <td>&lt;P&gt;I have question about ISE&lt;/P&gt;&lt;P&gt;&amp;nbsp;&lt;/P&gt;&lt;...</td>\n",
       "      <td>The issue being faced is that the user wants t...</td>\n",
       "      <td>Cisco dna</td>\n",
       "    </tr>\n",
       "    <tr>\n",
       "      <th>3</th>\n",
       "      <td>0</td>\n",
       "      <td>generating alarm smart  authorization renew...</td>\n",
       "      <td>0.590524</td>\n",
       "      <td>0.374223</td>\n",
       "      <td>63672</td>\n",
       "      <td>0</td>\n",
       "      <td>0_smart_failure_authorization</td>\n",
       "      <td>https://community.cisco.com/t5/network-access-...</td>\n",
       "      <td>Hi guys,&amp;nbsp;I am running two node deployment...</td>\n",
       "      <td>Licensing</td>\n",
       "      <td>annual</td>\n",
       "      <td>20233</td>\n",
       "      <td>4638108</td>\n",
       "      <td>&lt;P&gt;Hi guys,&lt;/P&gt;&lt;P&gt;&amp;nbsp;&lt;/P&gt;&lt;P&gt;I am running tw...</td>\n",
       "      <td>The issue being faced is that ISE is generatin...</td>\n",
       "      <td>Cisco firewall</td>\n",
       "    </tr>\n",
       "    <tr>\n",
       "      <th>4</th>\n",
       "      <td>0</td>\n",
       "      <td>smart license  box connected internet able o...</td>\n",
       "      <td>0.152381</td>\n",
       "      <td>0.551912</td>\n",
       "      <td>84584</td>\n",
       "      <td>0</td>\n",
       "      <td>0_smart_failure_authorization</td>\n",
       "      <td>https://community.cisco.com/t5/network-access-...</td>\n",
       "      <td>I want to smart license my ISE box which ia no...</td>\n",
       "      <td>Licensing</td>\n",
       "      <td>annual</td>\n",
       "      <td>20233</td>\n",
       "      <td>4613090</td>\n",
       "      <td>&lt;P&gt;I want to smart license my ISE box which ia...</td>\n",
       "      <td>The customer wants to smart license their ISE ...</td>\n",
       "      <td>Cisco firewall</td>\n",
       "    </tr>\n",
       "  </tbody>\n",
       "</table>\n",
       "</div>"
      ],
      "text/plain": [
       "   topic                                                doc  \\\n",
       "0      0    person   purchase  advantage license additio...   \n",
       "1      0    understand relationship  dna center sda whet...   \n",
       "2      0      enable policy based enforcement   essentia...   \n",
       "3      0     generating alarm smart  authorization renew...   \n",
       "4      0    smart license  box connected internet able o...   \n",
       "\n",
       "   post_x_coordinate  post_y_coordinate   user  topic_id  \\\n",
       "0           0.380220           0.056250   2164         0   \n",
       "1           0.738165           0.836678  23114         0   \n",
       "2           0.234175           0.935613  73380         0   \n",
       "3           0.590524           0.374223  63672         0   \n",
       "4           0.152381           0.551912  84584         0   \n",
       "\n",
       "                      topic_name  \\\n",
       "0        0_advantage_license_dna   \n",
       "1        0_advantage_license_dna   \n",
       "2        0_advantage_license_dna   \n",
       "3  0_smart_failure_authorization   \n",
       "4  0_smart_failure_authorization   \n",
       "\n",
       "                                            post_url  \\\n",
       "0  https://community.cisco.com/t5/cisco-one-discu...   \n",
       "1  https://community.cisco.com/t5/cisco-digital-n...   \n",
       "2  https://community.cisco.com/t5/software-define...   \n",
       "3  https://community.cisco.com/t5/network-access-...   \n",
       "4  https://community.cisco.com/t5/network-access-...   \n",
       "\n",
       "                                        post_preview      class  \\\n",
       "0  Hello Folks,\\n&nbsp;\\nQuick question. I have p...  Licensing   \n",
       "1  Hello All,\\nStarting to get into ISE and DNA a...  Licensing   \n",
       "2  I have question about ISE&nbsp;I have ISE esse...  Licensing   \n",
       "3  Hi guys,&nbsp;I am running two node deployment...  Licensing   \n",
       "4  I want to smart license my ISE box which ia no...  Licensing   \n",
       "\n",
       "  analysis_window  quarter_for_analysis  conversation_id  \\\n",
       "0          annual                 20233          4757953   \n",
       "1          annual                 20233          4725319   \n",
       "2          annual                 20233          4614950   \n",
       "3          annual                 20233          4638108   \n",
       "4          annual                 20233          4613090   \n",
       "\n",
       "                                                text  \\\n",
       "0  <P>Hello Folks,</P>\\n<P>&nbsp;</P>\\n<P>Quick q...   \n",
       "1  <P>Hello All,</P>\\n<P>Starting to get into ISE...   \n",
       "2  <P>I have question about ISE</P><P>&nbsp;</P><...   \n",
       "3  <P>Hi guys,</P><P>&nbsp;</P><P>I am running tw...   \n",
       "4  <P>I want to smart license my ISE box which ia...   \n",
       "\n",
       "                                        summary_text             tag  \n",
       "0  The issue being faced is that the person is no...       Cisco dna  \n",
       "1  The user is trying to understand the relations...       Cisco dna  \n",
       "2  The issue being faced is that the user wants t...       Cisco dna  \n",
       "3  The issue being faced is that ISE is generatin...  Cisco firewall  \n",
       "4  The customer wants to smart license their ISE ...  Cisco firewall  "
      ]
     },
     "execution_count": 83,
     "metadata": {},
     "output_type": "execute_result"
    }
   ],
   "source": [
    "# read cluster file \n",
    "df = pd.read_excel('dataset/tag_clusters.xlsx')\n",
    "df.head()"
   ]
  },
  {
   "cell_type": "code",
   "execution_count": 90,
   "metadata": {},
   "outputs": [],
   "source": [
    "# Filter for upgrade class and others tag \n",
    "df = df[(df['class'] == 'Upgrade') & (df['tag'] == 'Others')]\n",
    "\n",
    "# Filter for annual analysis window\n",
    "df = df[df['analysis_window'] == 'annual']\n",
    "\n",
    "# Filter for documents that are not nan\n",
    "df = df[df['text'].notna()]\n",
    "\n",
    "# # get x coordinate of the document\n",
    "x = df['post_x_coordinate'].tolist()\n",
    "y = df['post_y_coordinate'].tolist()\n",
    "\n",
    "# # hover info will be the summary \n",
    "# hover_info = df['summary_text'].tolist()\n",
    "\n",
    "\n",
    "# scatter plot dataframe with topic_id as color \n",
    "df_scatter = df[['topic_id', 'post_x_coordinate', 'post_y_coordinate', 'summary_text']]\n"
   ]
  },
  {
   "cell_type": "code",
   "execution_count": 92,
   "metadata": {},
   "outputs": [
    {
     "data": {
      "application/vnd.plotly.v1+json": {
       "config": {
        "plotlyServerURL": "https://plot.ly"
       },
       "data": [
        {
         "customdata": [
          [
           "The issue is that the 'Total Endpoints' on the ISE dashboard is not reflecting the number of devices in the Identities database after upgrading from ISE v2.7, Patch 7 to ISE v3.2."
          ],
          [
           "The issue being faced is that when upgrading from ISE 2.7 to 3.1 P6, the URT log shows a failure due to a known issue where multiple entries are present in the Licensing table on the 2nd PAN."
          ],
          [
           "The issue being faced is whether to upgrade to ISE 3.1 or ISE 3.2. The author is considering upgrading to ISE 3.2 because it will not have to be upgraded for another three years, but is concerned that it is not widely adopted yet."
          ],
          [
           "The issue is that the custom set of letters for the guest policy within ISE is not working as expected.\nThe user is expecting to only generate accounts with the letters \"a\", \"b\", \"c\", \"d\", \"e\", and \"f\", but they are still seeing accounts with other letters.\nThis is likely due to a bug in ISE 2.7 patch 3, which the user is planning to upgrade to 3.1 in the next month."
          ],
          [
           "The issue is that the user is receiving multiple errors after upgrading to ISE 3.1P5. The errors appear to be manufacturer's OUIs to the ISE configuration and seem to be harmless, but the user wants to know if it is expected and how to turn off the email alerts for these messages."
          ],
          [
           "The issue being faced is that Cisco ISE 3.1p5 has a bug where Cisco Phones whose EAP-TLS certificate is signed by Call Manager (CAPF cert) would fail. This can be resolved by reverting back to patch 4."
          ],
          [
           "The issue being faced is that the nodes in a Cisco ISE deployment are being upgraded from 2.7 to 3.1, and the question is whether the nodes will rejoin if the upgrade is done without breaking the cluster and through CLI."
          ],
          [
           "The issue being faced is that the user is not sure if a node will rejoin the deployment after being upgraded from the CLI without deregistering from the deployment."
          ],
          [
           "The issue being faced is that the user wants to upgrade ISE from 2.7 patch 8 to 3.1 patch 4, but they are concerned about whether there are any known issues in version 3.1 and patch 4, or if there could be any issues if they are doing a direct upgrade from CLI without breaking the cluster."
          ],
          [
           "The user is unable to upgrade ISE from 3.1.0.518 (Patch 5) to 3.2.0 due to a bug."
          ],
          [
           "Marcos is asking how automatic remediation of anti-malware works in ISE."
          ],
          [
           "The issue is that the user wants to know when Cisco will stop supporting ISE 3.0 so that they can plan their upgrade accordingly."
          ],
          [
           "The user is trying to migrate their ISE 2.7 deployment to a Medium-Sized ISE deployment but is having trouble finding the correct documentation."
          ],
          [
           "The user is trying to upgrade Cisco ISE from version 2.1 to version 3.0, but they are unable to find the upgrade path."
          ],
          [
           "The issue is that the ISE is unable to use the access list configured on the WLC, even though the authorization profile is configured correctly."
          ],
          [
           "The issue being faced is that after upgrading the ISE servers to version 3.1, the guest portal is not working and clients are getting \"the web page is not available\" error."
          ],
          [
           "The issue is that the ISE 2.7 to 3.2 upgrade is not working as expected. The machine is not able to login anymore and it looks like the restarting services are looping."
          ],
          [
           "The issue is that the user is trying to upgrade their ISE deployment from 2.6 to 3.1 and they need help with the upgrade approach."
          ],
          [
           "The issue is that the PAN is now on a different patch level to the other nodes, and this is causing problems with the sponsor portal. The sponsor portal needs to be able to communicate to the PAN for database and configuration changes, and this communication is broken because of the different patch levels. To fix this, you need to bring all of the nodes to the same patch level as soon as possible."
          ],
          [
           "The issue being faced is that the user wants to patch the ISE cluster without causing a network outage."
          ],
          [
           "The issue being faced is that the customer needs to upgrade their ISE cluster from 2.4 to 3.1 but they want to keep the same IP addresses."
          ],
          [
           "The issue is that the user is trying to upgrade Cisco ISE from 2.4 to 2.7, but they have an expired certificate that is preventing the upgrade from succeeding."
          ],
          [
           "The issue being faced is that the bug described in the link is still present in Patch 9 of ISE version 2.7. This is a concern because the bug had previously affected the company before Patch 8 was released."
          ],
          [
           "The issue is that the ISE node that is being upgraded cannot handle new radius requests while the other node is still up. This can cause a disruption in service for clients that are trying to authenticate."
          ],
          [
           "The user is wondering if URT can be run well in advance of the upgrade or if it is supposed to be run directly before the upgrade."
          ],
          [
           "The issue being faced is that the ISE Messaging Service is not running on Node 2 after upgrading from 2.4 to 2.7 P9. This can cause problems with ISE functionality, such as not being able to send or receive syslog messages."
          ],
          [
           "The issue is that EAP-MD5 is not supported when FIPS is enabled, and the author is looking for an alternative method for NEAT configuration."
          ],
          [
           "The issue is that after disabling TLS 1.0 on ISE 3.1 patch 3, the admin GUI is not accessible. The services are working fine, but the admin GUI shows a blank page after login."
          ],
          [
           "The issue is that when installing patch 8 on ISE 2.7, the patch will not install if the device is currently on patch 1 or patch 2. To avoid this issue, you can either move to an intermediate patch such as patch 6 first, or you can install patch 9 directly."
          ],
          [
           "The issue is that when installing Cisco ISE patches using the web UI and logging in at the same time with SSH for checking patching progress, it prevents the node from booting."
          ],
          [
           "The issue is that the Meraki Wireless APs are taking longer to reauthenticate after upgrading to ISE 2.7 Patch 8. The latency between the APs and the ISE server is 22240 ms. This is affecting multiple offices, and the only common factor is that the ISE device is in a data center. The offices are connected to the data center via SD WAN."
          ],
          [
           "The user is trying to figure out the best way to upgrade the ISE OS in HA state and install a patch."
          ],
          [
           "After removing the hotpatch for log4j from the secondary ISE server, the ISE indexing engine service went down and is not coming up."
          ],
          [
           "The issue is that after installing Patch 5 on a ISE Deployment 3.1, TACACS-Logs are not being generated, but Radius Logs are still working."
          ],
          [
           "The issue is that after upgrading from ISE 2.7 patch 8 to 3.1, the secondary monitor/admin-node cannot start the ise application due to an integrity check failure."
          ],
          [
           "The issue is that after upgrading ISE 2.7 patch 8 to 3.1, the application ise cannot start on the secondary monitor/admin-node."
          ],
          [
           "The issue being faced is that the Profiler Feed Service is sending hundreds of configuration change alerts to the user's email inbox."
          ],
          [
           "The issue is that the user is having trouble upgrading their SNS appliance from 2.4 to 3.1."
          ],
          [
           "The issue is that the ISE 3.1P5 patch was supposed to be available in November 2022 but is not yet available on the Cisco Software Download website."
          ],
          [
           "The issue being faced is that the ISE deployment is not healthy and the Health Checks need to be run before the patch can be installed. The Health Checks can be run during business hours without impacting endpoints/clients on the network. The Trust Store Certificate Validation has an exclamation point and shows \"0/2\", but there are no expired certificates on the Trusted Certificates page."
          ],
          [
           "The issue being faced is that the system certificate is not being displayed in the browser when logging into ISE 2.3."
          ],
          [
           "The issue is that the ZTP config in BASE64 encoding no longer works when booting the VM from the new 3.1 ISO, and the patching via FTP didn't work anymore."
          ],
          [
           "The issue is that the PSNs on 2.7 are sending data to the PAN on 2.2, even though they are different deployments. This is because the old nodes are still in the configuration that was restored, even though they are not part of the new deployment."
          ],
          [
           "The customer is planning to upgrade ISE 2.7 to 3.2 and build HA setup. They want to know if they can upgrade to the latest version and if it is required to have the same configuration."
          ],
          [
           "Julia is tasked with upgrading the TLS version on multiple hosts, but she is only given the options to allow TLS 1.0 and TLS 1.1 in the security settings of ISE 3.1."
          ],
          [
           "The issue being faced is that the patch 8 for Cisco Identity Services Engine 2.7 is not yet available for download."
          ],
          [
           "The issue is that there is a bug in the 2.7 P5 version of the software that is causing instability and crashes. The 2.7 P8 version fixes this bug and is therefore recommended."
          ],
          [
           "The issue is that the URT application is unable to connect to the database and get the required information to estimate the upgrade time. This is causing the error message \"ORA-12545: Connect failed because target host or object does not exist\"."
          ],
          [
           "The issue being faced is that the user wants to upgrade the IOS of their Cisco ISE virtual machine from version 2.4 to 3.0, but they are not sure how to do so."
          ],
          [
           "The issue being faced is that the user is unable to disable an email alarm that they created. This is a problem because the user may not want to receive the emails anymore, or they may want to change the settings of the alarm."
          ],
          [
           "The issue being faced is that the user wants to unlink their primary and secondary ISE pair so that they can be standalones."
          ],
          [
           "The user is having an issue with their Meraki APs not being able to connect to Radius after upgrading ISE from 2.7 to 3.1."
          ],
          [
           "The issue is that the patch installation failed with the following error: \"Could not unbundle package ise-patchbundle-3.1.0.518-Patch4-22091704.SPA.x86_64.tar.gz from repository ISE, err = #012gzip: stdin: unexpected end of file#012tar: Unexpected EOF in archive#012tar: Unexpected EOF in archive#012tar: Error is not recoverable: exiting now\". This can be caused by a number of factors, but the most common is that the patch installation (tar)-file is corrupt. To resolve this, you can try verifying the md5sum of the patch installation (tar)-file. If the md5sum is correct, then you can try re-downloading the patch installation (tar)-file. If the md5sum is incorrect, then you will need to contact Cisco TAC for assistance."
          ],
          [
           "Sreng is having an issue upgrading ISE Evaluation 2.7 to 3.1 because the \"Platform Support Check\" states that it needs at least 12 CPU for the upgrade, but the evaluation of ISE 3.1 has the same CPU requirement as the evaluation of 2.7."
          ],
          [
           "The issue being faced in the TEXT is that the author is trying to upgrade ISE 1.4-P8 to 2.7-P7, but is running into a number of problems, including ISE 3355 Appliances no longer being supported, the upgrade from 2.2 to 2.7 failing, and the new 1.4 configuration backup not working on the 2.2 restore."
          ],
          [
           "The user is unsure whether they need to install any patches for their ISE nodes, and if so, which ones."
          ],
          [
           "The issue being faced is that the user is trying to install ISE patch 2 but it is defective and has been withdrawn from the downloads site."
          ],
          [
           "The issue is that after upgrading to 17.6.3 from 17.3.5a, 802.1x is not working."
          ],
          [
           "The issue is that the compatibility matrix shows that WLC version 17.3.5 is compatible with ISE 3.1, but every version after that is only compatibly with 3.0."
          ],
          [
           "The issue is that the upgrade of ISE from version 2.4 to 3.0 failed on the primary M&T node with the error \"The new deployment already have two M&T nodes. Disable M&T on one of them from UI before upgrading this node.\""
          ],
          [
           "The issue being faced is that the license is not being consumed in the GUI, even though ISE has client authentication. This may be a bug in the software."
          ],
          [
           "The customer wants to know if they can upgrade their ISE software from 2.4 to 3.1 without having to pay any additional costs."
          ],
          [
           "The issue being faced is that ISE is experiencing high authentication latency. This can be caused by a number of factors, including:\n\n* Insufficient hardware resources\n* Incorrect policy settings\n* Outdated software\n\nTo resolve the issue, it is necessary to identify the root cause and take appropriate action. This may involve upgrading the software, optimizing the policy settings, or adding additional hardware resources."
          ],
          [
           "The user is looking for advice on the best upgrade method for their small deployment with two nodes, one of which is a PSN."
          ],
          [
           "The issue is that the upgrade from ISE 2.6 patch 11 to ISE 2.7 is failing due to timeouts during the upgrade pre-check and health checks."
          ],
          [
           "The issue being faced is that the customer is looking to upgrade from ISE 2.7 to 3.1 and wants to know if it is a direct path and if there are any changes to POSTURE functionality when upgrading."
          ],
          [
           "The issue is that the ISE is not able to see the IOS image that is located on the TFTP server. The user wants to know if they can use the local disk repo of ISE as the repo while upgrading the ISE. The answer is yes, you can use localdisk as the upgrade repository."
          ],
          [
           "The issue is that the certificates have expired and there is no option to renew them in the ISE version that is being used."
          ],
          [
           "The issue is that the official ISE upgrade guide states that the Backup and Restore method is only supported for ISE 2.6 or later, but there are reports of people successfully upgrading from ISE 2.4 to ISE 3.1 using this method."
          ],
          [
           "The user is having an issue with ISE 2.4 patch 13 where the web portal is not loading."
          ],
          [
           "The issue is that ISE 3.1 patch 3 is not installing correctly on Hyper-V, and the VM will not boot after the patch is installed."
          ],
          [
           "The issue is that the pre-requisites for upgrading ISE 3.0 to 3.1 state that the latest patch must be applied to the current release before upgrading, but it is not clear if this is still necessary when using the backup/restore method."
          ],
          [
           "The issue is that the user is not sure whether they need to remove the hotfixes before installing patch 10 or not."
          ],
          [
           "The issue being faced is that after upgrading from ISE v3.0 to v3.1 p3, the default interface for service traffic is changed to eth0, whereas, before the upgrade it was through eth1."
          ],
          [
           "The issue is that the user is trying to upgrade their ISE server from version 2.2 to 2.7 or 3.0, but they are not sure if their previous licenses can be migrated for free or if they have to buy a new one. They are also concerned about whether the configuration migration will proceed smoothly."
          ],
          [
           "The issue is that the upgrade of ISE 3.0 to 3.1 failed and the secondary server is not reachable."
          ],
          [
           "The issue is that the Radius Live Logs are not being displayed after an upgrade to ISE 2.6 or newer. This can be fixed by regenerating the certificates or by disabling the ISE Messaging Service."
          ],
          [
           "The issue is that some users are experiencing problems with the application service after upgrading from Cisco ISE 3.0 to 3.1 patch 3. This can cause the application service to become stuck in starting, which requires a rebuild."
          ],
          [
           "The user is planning to upgrade to version 2.7 of their ISE, but they are concerned about the impact that the patch 14 will have on current and future authentications."
          ],
          [
           "The issue being faced is that users are experiencing connection drops when their devices reauthenticate with the network. This is due to a RADIUS packet containing invalid state attributes, which causes the endpoint to abandon the EAP session and start a new one."
          ],
          [
           "The user is unable to see the configuration of the identity source sequence in Cisco ISE 2.7 patch 3."
          ],
          [
           "The issue is that after installing Cisco ISE Passive Identity Connector on vmware esxi 6.7, the user is unable to assign an IP address to the device."
          ],
          [
           "The issue being faced is that the customer wants to upgrade ISE VM from 2.4 to 3.0 but is unsure if VMware version 14 for ESXi 6.7 is supported."
          ],
          [
           "The user is looking for a way to scan VPN connections and endpoint connections, and to make rules or policies to not allow a connection of a host if it doesn't have the latest patches or patches of a specific date/time installed in the device."
          ],
          [
           "The issue being faced is that the PSN nodes on ISE 3.0 are experiencing growing CPU and authentication latency over time. The CPU has been spiking on all PSNs, and the latency has been increasing to an unhealthy level. This has been happening since the upgrade to 3.0, and rebooting the PSNs only temporarily fixes the issue."
          ],
          [
           "After upgrading ISE 2.4 to 3.1, the connection to SSM On-Prem is lost."
          ],
          [
           "The user is asking whether ISE 3.0 Patch 5 still requires the Log4j Hotfix."
          ]
         ],
         "hovertemplate": "post_x_coordinate=%{x}<br>post_y_coordinate=%{y}<br>summary_text=%{customdata[0]}<br>topic_id=%{marker.color}<extra></extra>",
         "legendgroup": "",
         "marker": {
          "color": [
           0,
           0,
           1,
           0,
           0,
           0,
           0,
           0,
           1,
           1,
           0,
           1,
           0,
           1,
           0,
           1,
           0,
           1,
           0,
           1,
           1,
           1,
           1,
           0,
           1,
           0,
           0,
           0,
           1,
           0,
           0,
           1,
           0,
           0,
           0,
           1,
           0,
           1,
           1,
           0,
           1,
           0,
           0,
           1,
           0,
           1,
           0,
           0,
           1,
           0,
           1,
           0,
           0,
           0,
           0,
           1,
           1,
           1,
           0,
           0,
           0,
           1,
           0,
           0,
           1,
           0,
           0,
           1,
           1,
           1,
           1,
           1,
           1,
           0,
           1,
           1,
           0,
           0,
           1,
           0,
           1,
           0,
           1,
           0,
           0,
           0,
           0
          ],
          "coloraxis": "coloraxis",
          "symbol": "circle"
         },
         "mode": "markers",
         "name": "",
         "orientation": "v",
         "showlegend": false,
         "type": "scatter",
         "x": [
          4.651313304901123,
          3.748926162719727,
          3.361049652099609,
          4.221219062805176,
          3.920406579971313,
          4.074057102203369,
          2.672277688980103,
          2.709705591201782,
          2.539926528930664,
          3.643945217132568,
          5.627532482147217,
          3.846914291381836,
          2.674755811691284,
          2.693333148956299,
          5.890578746795654,
          4.303020000457764,
          5.305392742156982,
          3.962124109268188,
          4.732344627380371,
          4.015241622924805,
          3.898571491241455,
          2.980452060699463,
          2.384347677230835,
          3.237493753433228,
          3.683383464813232,
          3.528325080871582,
          5.09312915802002,
          5.724132061004639,
          2.322753667831421,
          5.797857284545898,
          5.068663597106934,
          3.114104270935059,
          5.759451389312744,
          5.63471508026123,
          3.531270503997803,
          3.67875599861145,
          3.763423204421997,
          4.338536262512207,
          4.203650951385498,
          4.795979976654053,
          3.674338340759277,
          5.857796669006348,
          3.063876390457153,
          2.710139989852905,
          5.137741088867188,
          4.210882186889648,
          4.068131923675537,
          4.188143253326416,
          5.010106563568115,
          4.246227741241455,
          4.214779853820801,
          4.418506622314453,
          5.129042148590088,
          3.500762939453125,
          3.816253423690796,
          5.401994705200195,
          3.914597988128662,
          4.333001613616943,
          5.963932037353516,
          3.230055570602417,
          5.820864200592041,
          3.358151197433472,
          4.972643375396729,
          2.957496881484985,
          2.934821844100952,
          4.891774654388428,
          5.701972961425781,
          2.921422481536865,
          3.150151491165161,
          4.369552135467529,
          5.123604774475098,
          2.942600965499878,
          5.600533485412598,
          4.251492023468018,
          2.573953151702881,
          3.465315103530884,
          5.352354049682617,
          4.433715343475342,
          2.737741470336914,
          4.854442596435547,
          3.862834692001343,
          4.929450988769531,
          5.044252872467041,
          4.676601409912109,
          4.879784107208252,
          4.31260347366333,
          5.690573215484619
         ],
         "xaxis": "x",
         "y": [
          0.6387516856193542,
          0.3541623651981354,
          2.481261968612671,
          0.2777405083179474,
          -0.2327090054750443,
          0.366092711687088,
          1.052219390869141,
          0.5958238244056702,
          2.277681350708008,
          3.228007555007935,
          0.4344048202037811,
          2.930330753326416,
          0.7869086265563965,
          2.924962759017944,
          0.2661687731742859,
          4.280757427215576,
          1.565717577934265,
          2.913883209228516,
          -0.1453524231910706,
          2.372364044189453,
          2.645358800888062,
          1.880925178527832,
          2.567420721054077,
          0.2773798108100891,
          1.915433049201965,
          0.1227831318974495,
          1.104355335235596,
          1.225810527801514,
          2.497394561767578,
          1.44095504283905,
          0.4424814283847809,
          3.317896127700806,
          1.686321496963501,
          2.104680299758911,
          0.7590391635894775,
          1.277052283287048,
          0.02400083094835281,
          3.52729058265686,
          4.245649337768555,
          0.1754288971424103,
          3.815972089767456,
          0.951827883720398,
          0.630662202835083,
          2.835873603820801,
          1.056496500968933,
          4.1962571144104,
          0.7053350210189819,
          -0.01475306041538715,
          2.485363721847534,
          -0.4358689188957214,
          2.064626932144165,
          1.489702582359314,
          -0.141796663403511,
          0.9653935432434082,
          0.9628272652626038,
          2.911249399185181,
          4.109885692596436,
          3.500980138778687,
          0.618809163570404,
          0.7012223601341248,
          0.5786239504814148,
          1.706624269485474,
          -0.4763988256454468,
          0.6288284659385681,
          2.606386661529541,
          1.641823410987854,
          0.9602875113487244,
          1.918278932571411,
          3.079042911529541,
          3.913881063461304,
          2.589963436126709,
          2.52760910987854,
          2.722866296768188,
          0.7478495836257935,
          2.02929949760437,
          3.586421251296997,
          1.430233359336853,
          -0.416485458612442,
          2.671173334121704,
          -0.2727435827255249,
          3.967668294906616,
          0.5882427096366882,
          2.475243806838989,
          0.1167959421873093,
          -0.5457589030265808,
          1.670390009880066,
          2.53388237953186
         ],
         "yaxis": "y"
        }
       ],
       "layout": {
        "coloraxis": {
         "colorbar": {
          "title": {
           "text": "topic_id"
          }
         },
         "colorscale": [
          [
           0,
           "#000011"
          ],
          [
           0.1111111111111111,
           "#000012"
          ],
          [
           0.2222222222222222,
           "#000013"
          ],
          [
           0.3333333333333333,
           "#000014"
          ],
          [
           0.4444444444444444,
           "#000015"
          ],
          [
           0.5555555555555556,
           "#000016"
          ],
          [
           0.6666666666666666,
           "#000017"
          ],
          [
           0.7777777777777778,
           "#000018"
          ],
          [
           0.8888888888888888,
           "#000019"
          ],
          [
           1,
           "#000020"
          ]
         ]
        },
        "legend": {
         "tracegroupgap": 0
        },
        "margin": {
         "t": 60
        },
        "template": {
         "data": {
          "candlestick": [
           {
            "decreasing": {
             "line": {
              "color": "#000033"
             }
            },
            "increasing": {
             "line": {
              "color": "#000032"
             }
            },
            "type": "candlestick"
           }
          ],
          "contour": [
           {
            "colorscale": [
             [
              0,
              "#000011"
             ],
             [
              0.1111111111111111,
              "#000012"
             ],
             [
              0.2222222222222222,
              "#000013"
             ],
             [
              0.3333333333333333,
              "#000014"
             ],
             [
              0.4444444444444444,
              "#000015"
             ],
             [
              0.5555555555555556,
              "#000016"
             ],
             [
              0.6666666666666666,
              "#000017"
             ],
             [
              0.7777777777777778,
              "#000018"
             ],
             [
              0.8888888888888888,
              "#000019"
             ],
             [
              1,
              "#000020"
             ]
            ],
            "type": "contour"
           }
          ],
          "contourcarpet": [
           {
            "colorscale": [
             [
              0,
              "#000011"
             ],
             [
              0.1111111111111111,
              "#000012"
             ],
             [
              0.2222222222222222,
              "#000013"
             ],
             [
              0.3333333333333333,
              "#000014"
             ],
             [
              0.4444444444444444,
              "#000015"
             ],
             [
              0.5555555555555556,
              "#000016"
             ],
             [
              0.6666666666666666,
              "#000017"
             ],
             [
              0.7777777777777778,
              "#000018"
             ],
             [
              0.8888888888888888,
              "#000019"
             ],
             [
              1,
              "#000020"
             ]
            ],
            "type": "contourcarpet"
           }
          ],
          "heatmap": [
           {
            "colorscale": [
             [
              0,
              "#000011"
             ],
             [
              0.1111111111111111,
              "#000012"
             ],
             [
              0.2222222222222222,
              "#000013"
             ],
             [
              0.3333333333333333,
              "#000014"
             ],
             [
              0.4444444444444444,
              "#000015"
             ],
             [
              0.5555555555555556,
              "#000016"
             ],
             [
              0.6666666666666666,
              "#000017"
             ],
             [
              0.7777777777777778,
              "#000018"
             ],
             [
              0.8888888888888888,
              "#000019"
             ],
             [
              1,
              "#000020"
             ]
            ],
            "type": "heatmap"
           }
          ],
          "histogram2d": [
           {
            "colorscale": [
             [
              0,
              "#000011"
             ],
             [
              0.1111111111111111,
              "#000012"
             ],
             [
              0.2222222222222222,
              "#000013"
             ],
             [
              0.3333333333333333,
              "#000014"
             ],
             [
              0.4444444444444444,
              "#000015"
             ],
             [
              0.5555555555555556,
              "#000016"
             ],
             [
              0.6666666666666666,
              "#000017"
             ],
             [
              0.7777777777777778,
              "#000018"
             ],
             [
              0.8888888888888888,
              "#000019"
             ],
             [
              1,
              "#000020"
             ]
            ],
            "type": "histogram2d"
           }
          ],
          "icicle": [
           {
            "textfont": {
             "color": "white"
            },
            "type": "icicle"
           }
          ],
          "sankey": [
           {
            "textfont": {
             "color": "#000036"
            },
            "type": "sankey"
           }
          ],
          "scatter": [
           {
            "marker": {
             "line": {
              "width": 0
             }
            },
            "type": "scatter"
           }
          ],
          "table": [
           {
            "cells": {
             "fill": {
              "color": "#000038"
             },
             "font": {
              "color": "#000037"
             },
             "line": {
              "color": "#000039"
             }
            },
            "header": {
             "fill": {
              "color": "#000040"
             },
             "font": {
              "color": "#000036"
             },
             "line": {
              "color": "#000039"
             }
            },
            "type": "table"
           }
          ],
          "waterfall": [
           {
            "connector": {
             "line": {
              "color": "#000036",
              "width": 2
             }
            },
            "decreasing": {
             "marker": {
              "color": "#000033"
             }
            },
            "increasing": {
             "marker": {
              "color": "#000032"
             }
            },
            "totals": {
             "marker": {
              "color": "#000034"
             }
            },
            "type": "waterfall"
           }
          ]
         },
         "layout": {
          "coloraxis": {
           "colorscale": [
            [
             0,
             "#000011"
            ],
            [
             0.1111111111111111,
             "#000012"
            ],
            [
             0.2222222222222222,
             "#000013"
            ],
            [
             0.3333333333333333,
             "#000014"
            ],
            [
             0.4444444444444444,
             "#000015"
            ],
            [
             0.5555555555555556,
             "#000016"
            ],
            [
             0.6666666666666666,
             "#000017"
            ],
            [
             0.7777777777777778,
             "#000018"
            ],
            [
             0.8888888888888888,
             "#000019"
            ],
            [
             1,
             "#000020"
            ]
           ]
          },
          "colorscale": {
           "diverging": [
            [
             0,
             "#000021"
            ],
            [
             0.1,
             "#000022"
            ],
            [
             0.2,
             "#000023"
            ],
            [
             0.3,
             "#000024"
            ],
            [
             0.4,
             "#000025"
            ],
            [
             0.5,
             "#000026"
            ],
            [
             0.6,
             "#000027"
            ],
            [
             0.7,
             "#000028"
            ],
            [
             0.8,
             "#000029"
            ],
            [
             0.9,
             "#000030"
            ],
            [
             1,
             "#000031"
            ]
           ],
           "sequential": [
            [
             0,
             "#000011"
            ],
            [
             0.1111111111111111,
             "#000012"
            ],
            [
             0.2222222222222222,
             "#000013"
            ],
            [
             0.3333333333333333,
             "#000014"
            ],
            [
             0.4444444444444444,
             "#000015"
            ],
            [
             0.5555555555555556,
             "#000016"
            ],
            [
             0.6666666666666666,
             "#000017"
            ],
            [
             0.7777777777777778,
             "#000018"
            ],
            [
             0.8888888888888888,
             "#000019"
            ],
            [
             1,
             "#000020"
            ]
           ],
           "sequentialminus": [
            [
             0,
             "#000011"
            ],
            [
             0.1111111111111111,
             "#000012"
            ],
            [
             0.2222222222222222,
             "#000013"
            ],
            [
             0.3333333333333333,
             "#000014"
            ],
            [
             0.4444444444444444,
             "#000015"
            ],
            [
             0.5555555555555556,
             "#000016"
            ],
            [
             0.6666666666666666,
             "#000017"
            ],
            [
             0.7777777777777778,
             "#000018"
            ],
            [
             0.8888888888888888,
             "#000019"
            ],
            [
             1,
             "#000020"
            ]
           ]
          },
          "colorway": [
           "#000001",
           "#000002",
           "#000003",
           "#000004",
           "#000005",
           "#000006",
           "#000007",
           "#000008",
           "#000009",
           "#000010"
          ]
         }
        },
        "xaxis": {
         "anchor": "y",
         "domain": [
          0,
          1
         ],
         "title": {
          "text": "post_x_coordinate"
         }
        },
        "yaxis": {
         "anchor": "x",
         "domain": [
          0,
          1
         ],
         "title": {
          "text": "post_y_coordinate"
         }
        }
       }
      }
     },
     "metadata": {},
     "output_type": "display_data"
    }
   ],
   "source": [
    "import plotly.graph_objects as go\n",
    "import plotly.express as px\n",
    "\n",
    "fig = px.scatter(df_scatter, x=\"post_x_coordinate\", y=\"post_y_coordinate\", color=\"topic_id\", hover_data=['summary_text'])\n",
    "\n",
    "\n",
    "\n",
    "fig.show()"
   ]
  },
  {
   "cell_type": "code",
   "execution_count": 91,
   "metadata": {},
   "outputs": [
    {
     "data": {
      "image/png": "[encoded data removed]",
      "text/plain": [
       "<Figure size 432x288 with 1 Axes>"
      ]
     },
     "metadata": {
      "needs_background": "light"
     },
     "output_type": "display_data"
    }
   ],
   "source": [
    "import matplotlib.pyplot as plt\n",
    "\n",
    "# plot scatter plot \n",
    "plt.scatter(df_scatter['post_x_coordinate'], df_scatter['post_y_coordinate'], c=df_scatter['topic_id'], cmap='viridis')\n",
    "\n",
    "# # add hover info\n",
    "# for i, txt in enumerate(hover_info):\n",
    "#     plt.annotate(txt, (x[i], y[i]))\n",
    "\n",
    "# add labels and title \n",
    "plt.xlabel('x coordinate')\n",
    "plt.ylabel('y coordinate')\n",
    "plt.title('Document distribution for Upgrade class and Others tag')\n",
    "\n",
    "plt.show()"
   ]
  },
  {
   "cell_type": "code",
   "execution_count": null,
   "metadata": {},
   "outputs": [],
   "source": []
  }
 ],
 "metadata": {
  "kernelspec": {
   "display_name": "Python 3",
   "language": "python",
   "name": "python3"
  },
  "language_info": {
   "codemirror_mode": {
    "name": "ipython",
    "version": 3
   },
   "file_extension": ".py",
   "mimetype": "text/x-python",
   "name": "python",
   "nbconvert_exporter": "python",
   "pygments_lexer": "ipython3",
   "version": "3.8.7"
  },
  "orig_nbformat": 4
 },
 "nbformat": 4,
 "nbformat_minor": 2
}
