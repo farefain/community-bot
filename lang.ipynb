{
 "cells": [
  {
   "cell_type": "code",
   "execution_count": 1,
   "metadata": {},
   "outputs": [],
   "source": [
    "import langchain\n",
    "from langchain.llms import VertexAI\n",
    "import streamlit as st\n",
    "from langchain.llms import OpenAI\n",
    "from langchain.text_splitter import CharacterTextSplitter, RecursiveCharacterTextSplitter\n",
    "from langchain.embeddings import OpenAIEmbeddings, VertexAIEmbeddings\n",
    "from langchain.vectorstores import Chroma\n",
    "from langchain.chains import RetrievalQA"
   ]
  },
  {
   "cell_type": "code",
   "execution_count": 2,
   "metadata": {},
   "outputs": [],
   "source": [
    "import pandas as pd \n",
    "import re \n",
    "from bs4 import BeautifulSoup\n",
    "from langchain.docstore.document import Document \n",
    "from langchain.embeddings import VertexAIEmbeddings, OpenAIEmbeddings\n",
    "from langchain.vectorstores import Chroma\n",
    "from langchain.text_splitter import CharacterTextSplitter, RecursiveCharacterTextSplitter\n",
    "import os \n",
    "from langchain.vectorstores import DocArrayInMemorySearch"
   ]
  },
  {
   "cell_type": "code",
   "execution_count": 3,
   "metadata": {},
   "outputs": [],
   "source": [
    "from google.cloud import aiplatform"
   ]
  },
  {
   "cell_type": "code",
   "execution_count": 4,
   "metadata": {},
   "outputs": [],
   "source": [
    "aiplatform.init(project=\"gcp-cxbcsdev-nprd-34905\")"
   ]
  },
  {
   "cell_type": "code",
   "execution_count": 5,
   "metadata": {},
   "outputs": [],
   "source": [
    "llm = VertexAI(temperature=0.8)"
   ]
  },
  {
   "cell_type": "code",
   "execution_count": 6,
   "metadata": {},
   "outputs": [],
   "source": [
    "from bs4 import BeautifulSoup"
   ]
  },
  {
   "cell_type": "code",
   "execution_count": 7,
   "metadata": {},
   "outputs": [],
   "source": [
    "def remove_html_tags(text):\n",
    "    soup = BeautifulSoup(text, 'html.parser')\n",
    "    text = soup.get_text()   \n",
    "    clean_doc = re.sub(r'\\xa0', '', text)\n",
    "    return clean_doc"
   ]
  },
  {
   "cell_type": "code",
   "execution_count": 8,
   "metadata": {},
   "outputs": [],
   "source": [
    "import pandas as pd\n",
    "import re \n",
    "from langchain.docstore.document import Document "
   ]
  },
  {
   "cell_type": "code",
   "execution_count": 9,
   "metadata": {},
   "outputs": [],
   "source": [
    "class_name = 'Licensing'"
   ]
  },
  {
   "cell_type": "code",
   "execution_count": 10,
   "metadata": {},
   "outputs": [],
   "source": [
    "df = pd.read_excel('dataset/tag_clusters.xlsx')"
   ]
  },
  {
   "cell_type": "code",
   "execution_count": 11,
   "metadata": {},
   "outputs": [],
   "source": [
    "# filter for annual analysis window, class name, and remove nan values\n",
    "df = df[df['analysis_window'] == 'annual']\n",
    "df = df[(df['class'] == class_name)]\n",
    "df['text'] = df['text'].apply(remove_html_tags)"
   ]
  },
  {
   "cell_type": "code",
   "execution_count": 12,
   "metadata": {},
   "outputs": [],
   "source": [
    "docs = df['text'].tolist()\n",
    "post_url = df['post_url'].tolist()\n",
    "post_tag = df['tag'].tolist()\n",
    "post_topic = df['topic_name'].tolist()\n",
    "post_summary = df['summary_text'].tolist()\n",
    "conversation_id = df['conversation_id'].tolist()"
   ]
  },
  {
   "cell_type": "code",
   "execution_count": 13,
   "metadata": {},
   "outputs": [],
   "source": [
    "# convert nan values to ''\n",
    "docs = [doc if isinstance(doc, str) else '' for doc in docs]\n",
    "post_summary = [summary if isinstance(summary, str) else '' for summary in post_summary]"
   ]
  },
  {
   "cell_type": "code",
   "execution_count": 14,
   "metadata": {},
   "outputs": [],
   "source": [
    "try:\n",
    "\n",
    "    doc_augmented = [post_summary + \" \" + doc for post_summary, doc in zip(post_summary, docs)]\n",
    "\n",
    "except TypeError:\n",
    "    print(\"TypeError encountered\")\n",
    "    print(\"post_summary: \", post_summary)\n",
    "    print(\"doc: \", docs)\n",
    "\n",
    "docs = [Document(page_content=doc) for doc in doc_augmented]\n",
    "\n",
    "                    # metadata={'url': post_url[i], \n",
    "                    #         'tag': post_tag[i], \n",
    "                    #         'topic_name': post_topic[i], \n",
    "                    #         'summary': post_summary[i], \n",
    "                    #         'conversation_id': conversation_id[i]}) for i, doc in enumerate(doc_augmented)]"
   ]
  },
  {
   "cell_type": "code",
   "execution_count": 15,
   "metadata": {},
   "outputs": [
    {
     "name": "stdout",
     "output_type": "stream",
     "text": [
      "Documents split <<>>\n"
     ]
    }
   ],
   "source": [
    "text_splitter = RecursiveCharacterTextSplitter(\n",
    "        chunk_size = 500,\n",
    "        chunk_overlap = 20,\n",
    "        separators=['||||']\n",
    ")\n",
    "\n",
    "docs = text_splitter.split_documents(docs)\n",
    "print(\"Documents split <<>>\")\n",
    "\n",
    "embeddings = VertexAIEmbeddings()"
   ]
  },
  {
   "cell_type": "code",
   "execution_count": 16,
   "metadata": {},
   "outputs": [],
   "source": [
    "db_name = class_name"
   ]
  },
  {
   "cell_type": "code",
   "execution_count": 17,
   "metadata": {},
   "outputs": [],
   "source": [
    "from langchain.vectorstores import DocArrayInMemorySearch"
   ]
  },
  {
   "cell_type": "code",
   "execution_count": 18,
   "metadata": {},
   "outputs": [
    {
     "data": {
      "text/plain": [
       "Document(page_content='The issue being faced is that the person is not sure if they need to purchase ISE Advantage licenses in addition to the DNA Advantage licenses they have already purchased. They are concerned because the Cisco ISE 3.x licensing structure states that ISE Advantage licenses are required to use pxGrid and TrustSec. Hello Folks,\\n\\nQuick question. I have purchased DNA Advantage licenses for Cisco SD-Access deployment. With SD-Access, we already have ISE 3.x Essential licenses. The question is do I also', metadata={})"
      ]
     },
     "execution_count": 18,
     "metadata": {},
     "output_type": "execute_result"
    }
   ],
   "source": [
    "docs[0]"
   ]
  },
  {
   "cell_type": "code",
   "execution_count": 19,
   "metadata": {},
   "outputs": [
    {
     "ename": "TypeError",
     "evalue": "Cannot create a consistent method resolution\norder (MRO) for bases type, ABCMeta",
     "output_type": "error",
     "traceback": [
      "\u001b[1;31m---------------------------------------------------------------------------\u001b[0m",
      "\u001b[1;31mTypeError\u001b[0m                                 Traceback (most recent call last)",
      "\u001b[1;32m<ipython-input-19-96eeee252d9c>\u001b[0m in \u001b[0;36m<module>\u001b[1;34m\u001b[0m\n\u001b[1;32m----> 1\u001b[1;33m \u001b[0mdb\u001b[0m \u001b[1;33m=\u001b[0m \u001b[0mDocArrayInMemorySearch\u001b[0m\u001b[1;33m.\u001b[0m\u001b[0mfrom_documents\u001b[0m\u001b[1;33m(\u001b[0m\u001b[0mdocs\u001b[0m\u001b[1;33m,\u001b[0m \u001b[0membeddings\u001b[0m\u001b[1;33m)\u001b[0m\u001b[1;33m\u001b[0m\u001b[1;33m\u001b[0m\u001b[0m\n\u001b[0m",
      "\u001b[1;32mc:\\Users\\farefain\\AppData\\Local\\Programs\\Python\\Python38\\lib\\site-packages\\langchain\\vectorstores\\base.py\u001b[0m in \u001b[0;36mfrom_documents\u001b[1;34m(cls, documents, embedding, **kwargs)\u001b[0m\n\u001b[0;32m    334\u001b[0m         \u001b[0mtexts\u001b[0m \u001b[1;33m=\u001b[0m \u001b[1;33m[\u001b[0m\u001b[0md\u001b[0m\u001b[1;33m.\u001b[0m\u001b[0mpage_content\u001b[0m \u001b[1;32mfor\u001b[0m \u001b[0md\u001b[0m \u001b[1;32min\u001b[0m \u001b[0mdocuments\u001b[0m\u001b[1;33m]\u001b[0m\u001b[1;33m\u001b[0m\u001b[1;33m\u001b[0m\u001b[0m\n\u001b[0;32m    335\u001b[0m         \u001b[0mmetadatas\u001b[0m \u001b[1;33m=\u001b[0m \u001b[1;33m[\u001b[0m\u001b[0md\u001b[0m\u001b[1;33m.\u001b[0m\u001b[0mmetadata\u001b[0m \u001b[1;32mfor\u001b[0m \u001b[0md\u001b[0m \u001b[1;32min\u001b[0m \u001b[0mdocuments\u001b[0m\u001b[1;33m]\u001b[0m\u001b[1;33m\u001b[0m\u001b[1;33m\u001b[0m\u001b[0m\n\u001b[1;32m--> 336\u001b[1;33m         \u001b[1;32mreturn\u001b[0m \u001b[0mcls\u001b[0m\u001b[1;33m.\u001b[0m\u001b[0mfrom_texts\u001b[0m\u001b[1;33m(\u001b[0m\u001b[0mtexts\u001b[0m\u001b[1;33m,\u001b[0m \u001b[0membedding\u001b[0m\u001b[1;33m,\u001b[0m \u001b[0mmetadatas\u001b[0m\u001b[1;33m=\u001b[0m\u001b[0mmetadatas\u001b[0m\u001b[1;33m,\u001b[0m \u001b[1;33m**\u001b[0m\u001b[0mkwargs\u001b[0m\u001b[1;33m)\u001b[0m\u001b[1;33m\u001b[0m\u001b[1;33m\u001b[0m\u001b[0m\n\u001b[0m\u001b[0;32m    337\u001b[0m \u001b[1;33m\u001b[0m\u001b[0m\n\u001b[0;32m    338\u001b[0m     \u001b[1;33m@\u001b[0m\u001b[0mclassmethod\u001b[0m\u001b[1;33m\u001b[0m\u001b[1;33m\u001b[0m\u001b[0m\n",
      "\u001b[1;32mc:\\Users\\farefain\\AppData\\Local\\Programs\\Python\\Python38\\lib\\site-packages\\langchain\\vectorstores\\docarray\\in_memory.py\u001b[0m in \u001b[0;36mfrom_texts\u001b[1;34m(cls, texts, embedding, metadatas, **kwargs)\u001b[0m\n\u001b[0;32m     65\u001b[0m             \u001b[0mDocArrayInMemorySearch\u001b[0m \u001b[0mVector\u001b[0m \u001b[0mStore\u001b[0m\u001b[1;33m\u001b[0m\u001b[1;33m\u001b[0m\u001b[0m\n\u001b[0;32m     66\u001b[0m         \"\"\"\n\u001b[1;32m---> 67\u001b[1;33m         \u001b[0mstore\u001b[0m \u001b[1;33m=\u001b[0m \u001b[0mcls\u001b[0m\u001b[1;33m.\u001b[0m\u001b[0mfrom_params\u001b[0m\u001b[1;33m(\u001b[0m\u001b[0membedding\u001b[0m\u001b[1;33m,\u001b[0m \u001b[1;33m**\u001b[0m\u001b[0mkwargs\u001b[0m\u001b[1;33m)\u001b[0m\u001b[1;33m\u001b[0m\u001b[1;33m\u001b[0m\u001b[0m\n\u001b[0m\u001b[0;32m     68\u001b[0m         \u001b[0mstore\u001b[0m\u001b[1;33m.\u001b[0m\u001b[0madd_texts\u001b[0m\u001b[1;33m(\u001b[0m\u001b[0mtexts\u001b[0m\u001b[1;33m=\u001b[0m\u001b[0mtexts\u001b[0m\u001b[1;33m,\u001b[0m \u001b[0mmetadatas\u001b[0m\u001b[1;33m=\u001b[0m\u001b[0mmetadatas\u001b[0m\u001b[1;33m)\u001b[0m\u001b[1;33m\u001b[0m\u001b[1;33m\u001b[0m\u001b[0m\n\u001b[0;32m     69\u001b[0m         \u001b[1;32mreturn\u001b[0m \u001b[0mstore\u001b[0m\u001b[1;33m\u001b[0m\u001b[1;33m\u001b[0m\u001b[0m\n",
      "\u001b[1;32mc:\\Users\\farefain\\AppData\\Local\\Programs\\Python\\Python38\\lib\\site-packages\\langchain\\vectorstores\\docarray\\in_memory.py\u001b[0m in \u001b[0;36mfrom_params\u001b[1;34m(cls, embedding, metric, **kwargs)\u001b[0m\n\u001b[0;32m     36\u001b[0m             \u001b[1;33m**\u001b[0m\u001b[0mkwargs\u001b[0m\u001b[1;33m:\u001b[0m \u001b[0mOther\u001b[0m \u001b[0mkeyword\u001b[0m \u001b[0marguments\u001b[0m \u001b[0mto\u001b[0m \u001b[0mbe\u001b[0m \u001b[0mpassed\u001b[0m \u001b[0mto\u001b[0m \u001b[0mthe\u001b[0m \u001b[0mget_doc_cls\u001b[0m \u001b[0mmethod\u001b[0m\u001b[1;33m.\u001b[0m\u001b[1;33m\u001b[0m\u001b[1;33m\u001b[0m\u001b[0m\n\u001b[0;32m     37\u001b[0m         \"\"\"\n\u001b[1;32m---> 38\u001b[1;33m         \u001b[0m_check_docarray_import\u001b[0m\u001b[1;33m(\u001b[0m\u001b[1;33m)\u001b[0m\u001b[1;33m\u001b[0m\u001b[1;33m\u001b[0m\u001b[0m\n\u001b[0m\u001b[0;32m     39\u001b[0m         \u001b[1;32mfrom\u001b[0m \u001b[0mdocarray\u001b[0m\u001b[1;33m.\u001b[0m\u001b[0mindex\u001b[0m \u001b[1;32mimport\u001b[0m \u001b[0mInMemoryExactNNIndex\u001b[0m\u001b[1;33m\u001b[0m\u001b[1;33m\u001b[0m\u001b[0m\n\u001b[0;32m     40\u001b[0m \u001b[1;33m\u001b[0m\u001b[0m\n",
      "\u001b[1;32mc:\\Users\\farefain\\AppData\\Local\\Programs\\Python\\Python38\\lib\\site-packages\\langchain\\vectorstores\\docarray\\base.py\u001b[0m in \u001b[0;36m_check_docarray_import\u001b[1;34m()\u001b[0m\n\u001b[0;32m     17\u001b[0m \u001b[1;32mdef\u001b[0m \u001b[0m_check_docarray_import\u001b[0m\u001b[1;33m(\u001b[0m\u001b[1;33m)\u001b[0m \u001b[1;33m->\u001b[0m \u001b[1;32mNone\u001b[0m\u001b[1;33m:\u001b[0m\u001b[1;33m\u001b[0m\u001b[1;33m\u001b[0m\u001b[0m\n\u001b[0;32m     18\u001b[0m     \u001b[1;32mtry\u001b[0m\u001b[1;33m:\u001b[0m\u001b[1;33m\u001b[0m\u001b[1;33m\u001b[0m\u001b[0m\n\u001b[1;32m---> 19\u001b[1;33m         \u001b[1;32mimport\u001b[0m \u001b[0mdocarray\u001b[0m\u001b[1;33m\u001b[0m\u001b[1;33m\u001b[0m\u001b[0m\n\u001b[0m\u001b[0;32m     20\u001b[0m \u001b[1;33m\u001b[0m\u001b[0m\n\u001b[0;32m     21\u001b[0m         \u001b[0mda_version\u001b[0m \u001b[1;33m=\u001b[0m \u001b[0mdocarray\u001b[0m\u001b[1;33m.\u001b[0m\u001b[0m__version__\u001b[0m\u001b[1;33m.\u001b[0m\u001b[0msplit\u001b[0m\u001b[1;33m(\u001b[0m\u001b[1;34m\".\"\u001b[0m\u001b[1;33m)\u001b[0m\u001b[1;33m\u001b[0m\u001b[1;33m\u001b[0m\u001b[0m\n",
      "\u001b[1;32mc:\\Users\\farefain\\AppData\\Local\\Programs\\Python\\Python38\\lib\\site-packages\\docarray\\__init__.py\u001b[0m in \u001b[0;36m<module>\u001b[1;34m\u001b[0m\n\u001b[0;32m      3\u001b[0m \u001b[1;32mimport\u001b[0m \u001b[0mlogging\u001b[0m\u001b[1;33m\u001b[0m\u001b[1;33m\u001b[0m\u001b[0m\n\u001b[0;32m      4\u001b[0m \u001b[1;33m\u001b[0m\u001b[0m\n\u001b[1;32m----> 5\u001b[1;33m \u001b[1;32mfrom\u001b[0m \u001b[0mdocarray\u001b[0m\u001b[1;33m.\u001b[0m\u001b[0marray\u001b[0m \u001b[1;32mimport\u001b[0m \u001b[0mDocList\u001b[0m\u001b[1;33m,\u001b[0m \u001b[0mDocVec\u001b[0m\u001b[1;33m\u001b[0m\u001b[1;33m\u001b[0m\u001b[0m\n\u001b[0m\u001b[0;32m      6\u001b[0m \u001b[1;32mfrom\u001b[0m \u001b[0mdocarray\u001b[0m\u001b[1;33m.\u001b[0m\u001b[0mbase_doc\u001b[0m\u001b[1;33m.\u001b[0m\u001b[0mdoc\u001b[0m \u001b[1;32mimport\u001b[0m \u001b[0mBaseDoc\u001b[0m\u001b[1;33m\u001b[0m\u001b[1;33m\u001b[0m\u001b[0m\n\u001b[0;32m      7\u001b[0m \u001b[1;32mfrom\u001b[0m \u001b[0mdocarray\u001b[0m\u001b[1;33m.\u001b[0m\u001b[0mutils\u001b[0m\u001b[1;33m.\u001b[0m\u001b[0m_internal\u001b[0m\u001b[1;33m.\u001b[0m\u001b[0mmisc\u001b[0m \u001b[1;32mimport\u001b[0m \u001b[0m_get_path_from_docarray_root_level\u001b[0m\u001b[1;33m\u001b[0m\u001b[1;33m\u001b[0m\u001b[0m\n",
      "\u001b[1;32mc:\\Users\\farefain\\AppData\\Local\\Programs\\Python\\Python38\\lib\\site-packages\\docarray\\array\\__init__.py\u001b[0m in \u001b[0;36m<module>\u001b[1;34m\u001b[0m\n\u001b[1;32m----> 1\u001b[1;33m \u001b[1;32mfrom\u001b[0m \u001b[0mdocarray\u001b[0m\u001b[1;33m.\u001b[0m\u001b[0marray\u001b[0m\u001b[1;33m.\u001b[0m\u001b[0many_array\u001b[0m \u001b[1;32mimport\u001b[0m \u001b[0mAnyDocArray\u001b[0m\u001b[1;33m\u001b[0m\u001b[1;33m\u001b[0m\u001b[0m\n\u001b[0m\u001b[0;32m      2\u001b[0m \u001b[1;32mfrom\u001b[0m \u001b[0mdocarray\u001b[0m\u001b[1;33m.\u001b[0m\u001b[0marray\u001b[0m\u001b[1;33m.\u001b[0m\u001b[0mdoc_list\u001b[0m\u001b[1;33m.\u001b[0m\u001b[0mdoc_list\u001b[0m \u001b[1;32mimport\u001b[0m \u001b[0mDocList\u001b[0m\u001b[1;33m\u001b[0m\u001b[1;33m\u001b[0m\u001b[0m\n\u001b[0;32m      3\u001b[0m \u001b[1;32mfrom\u001b[0m \u001b[0mdocarray\u001b[0m\u001b[1;33m.\u001b[0m\u001b[0marray\u001b[0m\u001b[1;33m.\u001b[0m\u001b[0mdoc_vec\u001b[0m\u001b[1;33m.\u001b[0m\u001b[0mdoc_vec\u001b[0m \u001b[1;32mimport\u001b[0m \u001b[0mDocVec\u001b[0m\u001b[1;33m\u001b[0m\u001b[1;33m\u001b[0m\u001b[0m\n\u001b[0;32m      4\u001b[0m \u001b[1;33m\u001b[0m\u001b[0m\n\u001b[0;32m      5\u001b[0m \u001b[0m__all__\u001b[0m \u001b[1;33m=\u001b[0m \u001b[1;33m[\u001b[0m\u001b[1;34m'DocList'\u001b[0m\u001b[1;33m,\u001b[0m \u001b[1;34m'DocVec'\u001b[0m\u001b[1;33m,\u001b[0m \u001b[1;34m'AnyDocArray'\u001b[0m\u001b[1;33m]\u001b[0m\u001b[1;33m\u001b[0m\u001b[1;33m\u001b[0m\u001b[0m\n",
      "\u001b[1;32mc:\\Users\\farefain\\AppData\\Local\\Programs\\Python\\Python38\\lib\\site-packages\\docarray\\array\\any_array.py\u001b[0m in \u001b[0;36m<module>\u001b[1;34m\u001b[0m\n\u001b[0;32m     20\u001b[0m \u001b[1;32mimport\u001b[0m \u001b[0mnumpy\u001b[0m \u001b[1;32mas\u001b[0m \u001b[0mnp\u001b[0m\u001b[1;33m\u001b[0m\u001b[1;33m\u001b[0m\u001b[0m\n\u001b[0;32m     21\u001b[0m \u001b[1;33m\u001b[0m\u001b[0m\n\u001b[1;32m---> 22\u001b[1;33m \u001b[1;32mfrom\u001b[0m \u001b[0mdocarray\u001b[0m\u001b[1;33m.\u001b[0m\u001b[0mbase_doc\u001b[0m \u001b[1;32mimport\u001b[0m \u001b[0mBaseDoc\u001b[0m\u001b[1;33m\u001b[0m\u001b[1;33m\u001b[0m\u001b[0m\n\u001b[0m\u001b[0;32m     23\u001b[0m \u001b[1;32mfrom\u001b[0m \u001b[0mdocarray\u001b[0m\u001b[1;33m.\u001b[0m\u001b[0mdisplay\u001b[0m\u001b[1;33m.\u001b[0m\u001b[0mdocument_array_summary\u001b[0m \u001b[1;32mimport\u001b[0m \u001b[0mDocArraySummary\u001b[0m\u001b[1;33m\u001b[0m\u001b[1;33m\u001b[0m\u001b[0m\n\u001b[0;32m     24\u001b[0m \u001b[1;32mfrom\u001b[0m \u001b[0mdocarray\u001b[0m\u001b[1;33m.\u001b[0m\u001b[0mtyping\u001b[0m\u001b[1;33m.\u001b[0m\u001b[0mabstract_type\u001b[0m \u001b[1;32mimport\u001b[0m \u001b[0mAbstractType\u001b[0m\u001b[1;33m\u001b[0m\u001b[1;33m\u001b[0m\u001b[0m\n",
      "\u001b[1;32mc:\\Users\\farefain\\AppData\\Local\\Programs\\Python\\Python38\\lib\\site-packages\\docarray\\base_doc\\__init__.py\u001b[0m in \u001b[0;36m<module>\u001b[1;34m\u001b[0m\n\u001b[1;32m----> 1\u001b[1;33m \u001b[1;32mfrom\u001b[0m \u001b[0mdocarray\u001b[0m\u001b[1;33m.\u001b[0m\u001b[0mbase_doc\u001b[0m\u001b[1;33m.\u001b[0m\u001b[0many_doc\u001b[0m \u001b[1;32mimport\u001b[0m \u001b[0mAnyDoc\u001b[0m\u001b[1;33m\u001b[0m\u001b[1;33m\u001b[0m\u001b[0m\n\u001b[0m\u001b[0;32m      2\u001b[0m \u001b[1;32mfrom\u001b[0m \u001b[0mdocarray\u001b[0m\u001b[1;33m.\u001b[0m\u001b[0mbase_doc\u001b[0m\u001b[1;33m.\u001b[0m\u001b[0mbase_node\u001b[0m \u001b[1;32mimport\u001b[0m \u001b[0mBaseNode\u001b[0m\u001b[1;33m\u001b[0m\u001b[1;33m\u001b[0m\u001b[0m\n\u001b[0;32m      3\u001b[0m \u001b[1;32mfrom\u001b[0m \u001b[0mdocarray\u001b[0m\u001b[1;33m.\u001b[0m\u001b[0mbase_doc\u001b[0m\u001b[1;33m.\u001b[0m\u001b[0mdoc\u001b[0m \u001b[1;32mimport\u001b[0m \u001b[0mBaseDoc\u001b[0m\u001b[1;33m\u001b[0m\u001b[1;33m\u001b[0m\u001b[0m\n\u001b[0;32m      4\u001b[0m from docarray.utils._internal.misc import (\n\u001b[0;32m      5\u001b[0m     \u001b[0m_get_path_from_docarray_root_level\u001b[0m\u001b[1;33m,\u001b[0m\u001b[1;33m\u001b[0m\u001b[1;33m\u001b[0m\u001b[0m\n",
      "\u001b[1;32mc:\\Users\\farefain\\AppData\\Local\\Programs\\Python\\Python38\\lib\\site-packages\\docarray\\base_doc\\any_doc.py\u001b[0m in \u001b[0;36m<module>\u001b[1;34m\u001b[0m\n\u001b[0;32m      1\u001b[0m \u001b[1;32mfrom\u001b[0m \u001b[0mtyping\u001b[0m \u001b[1;32mimport\u001b[0m \u001b[0mType\u001b[0m\u001b[1;33m\u001b[0m\u001b[1;33m\u001b[0m\u001b[0m\n\u001b[0;32m      2\u001b[0m \u001b[1;33m\u001b[0m\u001b[0m\n\u001b[1;32m----> 3\u001b[1;33m \u001b[1;32mfrom\u001b[0m \u001b[1;33m.\u001b[0m\u001b[0mdoc\u001b[0m \u001b[1;32mimport\u001b[0m \u001b[0mBaseDoc\u001b[0m\u001b[1;33m\u001b[0m\u001b[1;33m\u001b[0m\u001b[0m\n\u001b[0m\u001b[0;32m      4\u001b[0m \u001b[1;33m\u001b[0m\u001b[0m\n\u001b[0;32m      5\u001b[0m \u001b[1;33m\u001b[0m\u001b[0m\n",
      "\u001b[1;32mc:\\Users\\farefain\\AppData\\Local\\Programs\\Python\\Python38\\lib\\site-packages\\docarray\\base_doc\\doc.py\u001b[0m in \u001b[0;36m<module>\u001b[1;34m\u001b[0m\n\u001b[0;32m     25\u001b[0m \u001b[1;32mfrom\u001b[0m \u001b[0mdocarray\u001b[0m\u001b[1;33m.\u001b[0m\u001b[0mbase_doc\u001b[0m\u001b[1;33m.\u001b[0m\u001b[0mbase_node\u001b[0m \u001b[1;32mimport\u001b[0m \u001b[0mBaseNode\u001b[0m\u001b[1;33m\u001b[0m\u001b[1;33m\u001b[0m\u001b[0m\n\u001b[0;32m     26\u001b[0m \u001b[1;32mfrom\u001b[0m \u001b[0mdocarray\u001b[0m\u001b[1;33m.\u001b[0m\u001b[0mbase_doc\u001b[0m\u001b[1;33m.\u001b[0m\u001b[0mio\u001b[0m\u001b[1;33m.\u001b[0m\u001b[0mjson\u001b[0m \u001b[1;32mimport\u001b[0m \u001b[0morjson_dumps_and_decode\u001b[0m\u001b[1;33m\u001b[0m\u001b[1;33m\u001b[0m\u001b[0m\n\u001b[1;32m---> 27\u001b[1;33m \u001b[1;32mfrom\u001b[0m \u001b[0mdocarray\u001b[0m\u001b[1;33m.\u001b[0m\u001b[0mbase_doc\u001b[0m\u001b[1;33m.\u001b[0m\u001b[0mmixins\u001b[0m \u001b[1;32mimport\u001b[0m \u001b[0mIOMixin\u001b[0m\u001b[1;33m,\u001b[0m \u001b[0mUpdateMixin\u001b[0m\u001b[1;33m\u001b[0m\u001b[1;33m\u001b[0m\u001b[0m\n\u001b[0m\u001b[0;32m     28\u001b[0m \u001b[1;32mfrom\u001b[0m \u001b[0mdocarray\u001b[0m\u001b[1;33m.\u001b[0m\u001b[0mtyping\u001b[0m \u001b[1;32mimport\u001b[0m \u001b[0mID\u001b[0m\u001b[1;33m\u001b[0m\u001b[1;33m\u001b[0m\u001b[0m\n\u001b[0;32m     29\u001b[0m \u001b[1;32mfrom\u001b[0m \u001b[0mdocarray\u001b[0m\u001b[1;33m.\u001b[0m\u001b[0mtyping\u001b[0m\u001b[1;33m.\u001b[0m\u001b[0mtensor\u001b[0m\u001b[1;33m.\u001b[0m\u001b[0mabstract_tensor\u001b[0m \u001b[1;32mimport\u001b[0m \u001b[0mAbstractTensor\u001b[0m\u001b[1;33m\u001b[0m\u001b[1;33m\u001b[0m\u001b[0m\n",
      "\u001b[1;32mc:\\Users\\farefain\\AppData\\Local\\Programs\\Python\\Python38\\lib\\site-packages\\docarray\\base_doc\\mixins\\__init__.py\u001b[0m in \u001b[0;36m<module>\u001b[1;34m\u001b[0m\n\u001b[1;32m----> 1\u001b[1;33m \u001b[1;32mfrom\u001b[0m \u001b[0mdocarray\u001b[0m\u001b[1;33m.\u001b[0m\u001b[0mbase_doc\u001b[0m\u001b[1;33m.\u001b[0m\u001b[0mmixins\u001b[0m\u001b[1;33m.\u001b[0m\u001b[0mio\u001b[0m \u001b[1;32mimport\u001b[0m \u001b[0mIOMixin\u001b[0m\u001b[1;33m\u001b[0m\u001b[1;33m\u001b[0m\u001b[0m\n\u001b[0m\u001b[0;32m      2\u001b[0m \u001b[1;32mfrom\u001b[0m \u001b[0mdocarray\u001b[0m\u001b[1;33m.\u001b[0m\u001b[0mbase_doc\u001b[0m\u001b[1;33m.\u001b[0m\u001b[0mmixins\u001b[0m\u001b[1;33m.\u001b[0m\u001b[0mupdate\u001b[0m \u001b[1;32mimport\u001b[0m \u001b[0mUpdateMixin\u001b[0m\u001b[1;33m\u001b[0m\u001b[1;33m\u001b[0m\u001b[0m\n\u001b[0;32m      3\u001b[0m \u001b[1;33m\u001b[0m\u001b[0m\n\u001b[0;32m      4\u001b[0m \u001b[0m__all__\u001b[0m \u001b[1;33m=\u001b[0m \u001b[1;33m[\u001b[0m\u001b[1;34m'IOMixin'\u001b[0m\u001b[1;33m,\u001b[0m \u001b[1;34m'UpdateMixin'\u001b[0m\u001b[1;33m]\u001b[0m\u001b[1;33m\u001b[0m\u001b[1;33m\u001b[0m\u001b[0m\n",
      "\u001b[1;32mc:\\Users\\farefain\\AppData\\Local\\Programs\\Python\\Python38\\lib\\site-packages\\docarray\\base_doc\\mixins\\io.py\u001b[0m in \u001b[0;36m<module>\u001b[1;34m\u001b[0m\n\u001b[0;32m     19\u001b[0m \u001b[1;33m\u001b[0m\u001b[0m\n\u001b[0;32m     20\u001b[0m \u001b[1;32mfrom\u001b[0m \u001b[0mdocarray\u001b[0m\u001b[1;33m.\u001b[0m\u001b[0mbase_doc\u001b[0m\u001b[1;33m.\u001b[0m\u001b[0mbase_node\u001b[0m \u001b[1;32mimport\u001b[0m \u001b[0mBaseNode\u001b[0m\u001b[1;33m\u001b[0m\u001b[1;33m\u001b[0m\u001b[0m\n\u001b[1;32m---> 21\u001b[1;33m \u001b[1;32mfrom\u001b[0m \u001b[0mdocarray\u001b[0m\u001b[1;33m.\u001b[0m\u001b[0mtyping\u001b[0m \u001b[1;32mimport\u001b[0m \u001b[0mNdArray\u001b[0m\u001b[1;33m\u001b[0m\u001b[1;33m\u001b[0m\u001b[0m\n\u001b[0m\u001b[0;32m     22\u001b[0m \u001b[1;32mfrom\u001b[0m \u001b[0mdocarray\u001b[0m\u001b[1;33m.\u001b[0m\u001b[0mtyping\u001b[0m\u001b[1;33m.\u001b[0m\u001b[0mproto_register\u001b[0m \u001b[1;32mimport\u001b[0m \u001b[0m_PROTO_TYPE_NAME_TO_CLASS\u001b[0m\u001b[1;33m\u001b[0m\u001b[1;33m\u001b[0m\u001b[0m\n\u001b[0;32m     23\u001b[0m \u001b[1;32mfrom\u001b[0m \u001b[0mdocarray\u001b[0m\u001b[1;33m.\u001b[0m\u001b[0mutils\u001b[0m\u001b[1;33m.\u001b[0m\u001b[0m_internal\u001b[0m\u001b[1;33m.\u001b[0m\u001b[0mcompress\u001b[0m \u001b[1;32mimport\u001b[0m \u001b[0m_compress_bytes\u001b[0m\u001b[1;33m,\u001b[0m \u001b[0m_decompress_bytes\u001b[0m\u001b[1;33m\u001b[0m\u001b[1;33m\u001b[0m\u001b[0m\n",
      "\u001b[1;32mc:\\Users\\farefain\\AppData\\Local\\Programs\\Python\\Python38\\lib\\site-packages\\docarray\\typing\\__init__.py\u001b[0m in \u001b[0;36m<module>\u001b[1;34m\u001b[0m\n\u001b[0;32m      1\u001b[0m \u001b[1;32mfrom\u001b[0m \u001b[0mtyping_extensions\u001b[0m \u001b[1;32mimport\u001b[0m \u001b[0mTYPE_CHECKING\u001b[0m\u001b[1;33m\u001b[0m\u001b[1;33m\u001b[0m\u001b[0m\n\u001b[0;32m      2\u001b[0m \u001b[1;33m\u001b[0m\u001b[0m\n\u001b[1;32m----> 3\u001b[1;33m \u001b[1;32mfrom\u001b[0m \u001b[0mdocarray\u001b[0m\u001b[1;33m.\u001b[0m\u001b[0mtyping\u001b[0m\u001b[1;33m.\u001b[0m\u001b[0mbytes\u001b[0m \u001b[1;32mimport\u001b[0m \u001b[0mAudioBytes\u001b[0m\u001b[1;33m,\u001b[0m \u001b[0mImageBytes\u001b[0m\u001b[1;33m,\u001b[0m \u001b[0mVideoBytes\u001b[0m\u001b[1;33m\u001b[0m\u001b[1;33m\u001b[0m\u001b[0m\n\u001b[0m\u001b[0;32m      4\u001b[0m \u001b[1;32mfrom\u001b[0m \u001b[0mdocarray\u001b[0m\u001b[1;33m.\u001b[0m\u001b[0mtyping\u001b[0m\u001b[1;33m.\u001b[0m\u001b[0mid\u001b[0m \u001b[1;32mimport\u001b[0m \u001b[0mID\u001b[0m\u001b[1;33m\u001b[0m\u001b[1;33m\u001b[0m\u001b[0m\n\u001b[0;32m      5\u001b[0m \u001b[1;32mfrom\u001b[0m \u001b[0mdocarray\u001b[0m\u001b[1;33m.\u001b[0m\u001b[0mtyping\u001b[0m\u001b[1;33m.\u001b[0m\u001b[0mtensor\u001b[0m \u001b[1;32mimport\u001b[0m \u001b[0mImageNdArray\u001b[0m\u001b[1;33m,\u001b[0m \u001b[0mImageTensor\u001b[0m\u001b[1;33m\u001b[0m\u001b[1;33m\u001b[0m\u001b[0m\n",
      "\u001b[1;32mc:\\Users\\farefain\\AppData\\Local\\Programs\\Python\\Python38\\lib\\site-packages\\docarray\\typing\\bytes\\__init__.py\u001b[0m in \u001b[0;36m<module>\u001b[1;34m\u001b[0m\n\u001b[1;32m----> 1\u001b[1;33m \u001b[1;32mfrom\u001b[0m \u001b[0mdocarray\u001b[0m\u001b[1;33m.\u001b[0m\u001b[0mtyping\u001b[0m\u001b[1;33m.\u001b[0m\u001b[0mbytes\u001b[0m\u001b[1;33m.\u001b[0m\u001b[0maudio_bytes\u001b[0m \u001b[1;32mimport\u001b[0m \u001b[0mAudioBytes\u001b[0m\u001b[1;33m\u001b[0m\u001b[1;33m\u001b[0m\u001b[0m\n\u001b[0m\u001b[0;32m      2\u001b[0m \u001b[1;32mfrom\u001b[0m \u001b[0mdocarray\u001b[0m\u001b[1;33m.\u001b[0m\u001b[0mtyping\u001b[0m\u001b[1;33m.\u001b[0m\u001b[0mbytes\u001b[0m\u001b[1;33m.\u001b[0m\u001b[0mimage_bytes\u001b[0m \u001b[1;32mimport\u001b[0m \u001b[0mImageBytes\u001b[0m\u001b[1;33m\u001b[0m\u001b[1;33m\u001b[0m\u001b[0m\n\u001b[0;32m      3\u001b[0m \u001b[1;32mfrom\u001b[0m \u001b[0mdocarray\u001b[0m\u001b[1;33m.\u001b[0m\u001b[0mtyping\u001b[0m\u001b[1;33m.\u001b[0m\u001b[0mbytes\u001b[0m\u001b[1;33m.\u001b[0m\u001b[0mvideo_bytes\u001b[0m \u001b[1;32mimport\u001b[0m \u001b[0mVideoBytes\u001b[0m\u001b[1;33m\u001b[0m\u001b[1;33m\u001b[0m\u001b[0m\n\u001b[0;32m      4\u001b[0m \u001b[1;33m\u001b[0m\u001b[0m\n\u001b[0;32m      5\u001b[0m \u001b[0m__all__\u001b[0m \u001b[1;33m=\u001b[0m \u001b[1;33m[\u001b[0m\u001b[1;34m'ImageBytes'\u001b[0m\u001b[1;33m,\u001b[0m \u001b[1;34m'VideoBytes'\u001b[0m\u001b[1;33m,\u001b[0m \u001b[1;34m'AudioBytes'\u001b[0m\u001b[1;33m]\u001b[0m\u001b[1;33m\u001b[0m\u001b[1;33m\u001b[0m\u001b[0m\n",
      "\u001b[1;32mc:\\Users\\farefain\\AppData\\Local\\Programs\\Python\\Python38\\lib\\site-packages\\docarray\\typing\\bytes\\audio_bytes.py\u001b[0m in \u001b[0;36m<module>\u001b[1;34m\u001b[0m\n\u001b[0;32m      8\u001b[0m \u001b[1;32mfrom\u001b[0m \u001b[0mdocarray\u001b[0m\u001b[1;33m.\u001b[0m\u001b[0mtyping\u001b[0m\u001b[1;33m.\u001b[0m\u001b[0mabstract_type\u001b[0m \u001b[1;32mimport\u001b[0m \u001b[0mAbstractType\u001b[0m\u001b[1;33m\u001b[0m\u001b[1;33m\u001b[0m\u001b[0m\n\u001b[0;32m      9\u001b[0m \u001b[1;32mfrom\u001b[0m \u001b[0mdocarray\u001b[0m\u001b[1;33m.\u001b[0m\u001b[0mtyping\u001b[0m\u001b[1;33m.\u001b[0m\u001b[0mproto_register\u001b[0m \u001b[1;32mimport\u001b[0m \u001b[0m_register_proto\u001b[0m\u001b[1;33m\u001b[0m\u001b[1;33m\u001b[0m\u001b[0m\n\u001b[1;32m---> 10\u001b[1;33m \u001b[1;32mfrom\u001b[0m \u001b[0mdocarray\u001b[0m\u001b[1;33m.\u001b[0m\u001b[0mtyping\u001b[0m\u001b[1;33m.\u001b[0m\u001b[0mtensor\u001b[0m\u001b[1;33m.\u001b[0m\u001b[0maudio\u001b[0m \u001b[1;32mimport\u001b[0m \u001b[0mAudioNdArray\u001b[0m\u001b[1;33m\u001b[0m\u001b[1;33m\u001b[0m\u001b[0m\n\u001b[0m\u001b[0;32m     11\u001b[0m \u001b[1;32mfrom\u001b[0m \u001b[0mdocarray\u001b[0m\u001b[1;33m.\u001b[0m\u001b[0mutils\u001b[0m\u001b[1;33m.\u001b[0m\u001b[0m_internal\u001b[0m\u001b[1;33m.\u001b[0m\u001b[0mmisc\u001b[0m \u001b[1;32mimport\u001b[0m \u001b[0mimport_library\u001b[0m\u001b[1;33m\u001b[0m\u001b[1;33m\u001b[0m\u001b[0m\n\u001b[0;32m     12\u001b[0m \u001b[1;33m\u001b[0m\u001b[0m\n",
      "\u001b[1;32mc:\\Users\\farefain\\AppData\\Local\\Programs\\Python\\Python38\\lib\\site-packages\\docarray\\typing\\tensor\\__init__.py\u001b[0m in \u001b[0;36m<module>\u001b[1;34m\u001b[0m\n\u001b[0;32m      3\u001b[0m \u001b[1;32mfrom\u001b[0m \u001b[0mtyping_extensions\u001b[0m \u001b[1;32mimport\u001b[0m \u001b[0mTYPE_CHECKING\u001b[0m\u001b[1;33m\u001b[0m\u001b[1;33m\u001b[0m\u001b[0m\n\u001b[0;32m      4\u001b[0m \u001b[1;33m\u001b[0m\u001b[0m\n\u001b[1;32m----> 5\u001b[1;33m \u001b[1;32mfrom\u001b[0m \u001b[0mdocarray\u001b[0m\u001b[1;33m.\u001b[0m\u001b[0mtyping\u001b[0m\u001b[1;33m.\u001b[0m\u001b[0mtensor\u001b[0m\u001b[1;33m.\u001b[0m\u001b[0maudio\u001b[0m \u001b[1;32mimport\u001b[0m \u001b[0mAudioNdArray\u001b[0m\u001b[1;33m\u001b[0m\u001b[1;33m\u001b[0m\u001b[0m\n\u001b[0m\u001b[0;32m      6\u001b[0m \u001b[1;32mfrom\u001b[0m \u001b[0mdocarray\u001b[0m\u001b[1;33m.\u001b[0m\u001b[0mtyping\u001b[0m\u001b[1;33m.\u001b[0m\u001b[0mtensor\u001b[0m\u001b[1;33m.\u001b[0m\u001b[0membedding\u001b[0m \u001b[1;32mimport\u001b[0m \u001b[0mAnyEmbedding\u001b[0m\u001b[1;33m,\u001b[0m \u001b[0mNdArrayEmbedding\u001b[0m\u001b[1;33m\u001b[0m\u001b[1;33m\u001b[0m\u001b[0m\n\u001b[0;32m      7\u001b[0m \u001b[1;32mfrom\u001b[0m \u001b[0mdocarray\u001b[0m\u001b[1;33m.\u001b[0m\u001b[0mtyping\u001b[0m\u001b[1;33m.\u001b[0m\u001b[0mtensor\u001b[0m\u001b[1;33m.\u001b[0m\u001b[0mimage\u001b[0m \u001b[1;32mimport\u001b[0m \u001b[0mImageNdArray\u001b[0m\u001b[1;33m,\u001b[0m \u001b[0mImageTensor\u001b[0m\u001b[1;33m\u001b[0m\u001b[1;33m\u001b[0m\u001b[0m\n",
      "\u001b[1;32mc:\\Users\\farefain\\AppData\\Local\\Programs\\Python\\Python38\\lib\\site-packages\\docarray\\typing\\tensor\\audio\\__init__.py\u001b[0m in \u001b[0;36m<module>\u001b[1;34m\u001b[0m\n\u001b[0;32m      3\u001b[0m \u001b[1;33m\u001b[0m\u001b[0m\n\u001b[0;32m      4\u001b[0m \u001b[1;32mfrom\u001b[0m \u001b[0mdocarray\u001b[0m\u001b[1;33m.\u001b[0m\u001b[0mtyping\u001b[0m\u001b[1;33m.\u001b[0m\u001b[0mtensor\u001b[0m\u001b[1;33m.\u001b[0m\u001b[0maudio\u001b[0m\u001b[1;33m.\u001b[0m\u001b[0maudio_ndarray\u001b[0m \u001b[1;32mimport\u001b[0m \u001b[0mAudioNdArray\u001b[0m\u001b[1;33m\u001b[0m\u001b[1;33m\u001b[0m\u001b[0m\n\u001b[1;32m----> 5\u001b[1;33m \u001b[1;32mfrom\u001b[0m \u001b[0mdocarray\u001b[0m\u001b[1;33m.\u001b[0m\u001b[0mtyping\u001b[0m\u001b[1;33m.\u001b[0m\u001b[0mtensor\u001b[0m\u001b[1;33m.\u001b[0m\u001b[0maudio\u001b[0m\u001b[1;33m.\u001b[0m\u001b[0maudio_tensor\u001b[0m \u001b[1;32mimport\u001b[0m \u001b[0mAudioTensor\u001b[0m\u001b[1;33m\u001b[0m\u001b[1;33m\u001b[0m\u001b[0m\n\u001b[0m\u001b[0;32m      6\u001b[0m from docarray.utils._internal.misc import (\n\u001b[0;32m      7\u001b[0m     \u001b[0m_get_path_from_docarray_root_level\u001b[0m\u001b[1;33m,\u001b[0m\u001b[1;33m\u001b[0m\u001b[1;33m\u001b[0m\u001b[0m\n",
      "\u001b[1;32mc:\\Users\\farefain\\AppData\\Local\\Programs\\Python\\Python38\\lib\\site-packages\\docarray\\typing\\tensor\\audio\\audio_tensor.py\u001b[0m in \u001b[0;36m<module>\u001b[1;34m\u001b[0m\n\u001b[0;32m      6\u001b[0m \u001b[0mtorch_available\u001b[0m \u001b[1;33m=\u001b[0m \u001b[0mis_torch_available\u001b[0m\u001b[1;33m(\u001b[0m\u001b[1;33m)\u001b[0m\u001b[1;33m\u001b[0m\u001b[1;33m\u001b[0m\u001b[0m\n\u001b[0;32m      7\u001b[0m \u001b[1;32mif\u001b[0m \u001b[0mtorch_available\u001b[0m\u001b[1;33m:\u001b[0m\u001b[1;33m\u001b[0m\u001b[1;33m\u001b[0m\u001b[0m\n\u001b[1;32m----> 8\u001b[1;33m     \u001b[1;32mfrom\u001b[0m \u001b[0mdocarray\u001b[0m\u001b[1;33m.\u001b[0m\u001b[0mtyping\u001b[0m\u001b[1;33m.\u001b[0m\u001b[0mtensor\u001b[0m\u001b[1;33m.\u001b[0m\u001b[0maudio\u001b[0m\u001b[1;33m.\u001b[0m\u001b[0maudio_torch_tensor\u001b[0m \u001b[1;32mimport\u001b[0m \u001b[0mAudioTorchTensor\u001b[0m\u001b[1;33m\u001b[0m\u001b[1;33m\u001b[0m\u001b[0m\n\u001b[0m\u001b[0;32m      9\u001b[0m \u001b[1;33m\u001b[0m\u001b[0m\n\u001b[0;32m     10\u001b[0m \u001b[0mtf_available\u001b[0m \u001b[1;33m=\u001b[0m \u001b[0mis_tf_available\u001b[0m\u001b[1;33m(\u001b[0m\u001b[1;33m)\u001b[0m\u001b[1;33m\u001b[0m\u001b[1;33m\u001b[0m\u001b[0m\n",
      "\u001b[1;32mc:\\Users\\farefain\\AppData\\Local\\Programs\\Python\\Python38\\lib\\site-packages\\docarray\\typing\\tensor\\audio\\audio_torch_tensor.py\u001b[0m in \u001b[0;36m<module>\u001b[1;34m\u001b[0m\n\u001b[0;32m      1\u001b[0m \u001b[1;32mfrom\u001b[0m \u001b[0mdocarray\u001b[0m\u001b[1;33m.\u001b[0m\u001b[0mtyping\u001b[0m\u001b[1;33m.\u001b[0m\u001b[0mproto_register\u001b[0m \u001b[1;32mimport\u001b[0m \u001b[0m_register_proto\u001b[0m\u001b[1;33m\u001b[0m\u001b[1;33m\u001b[0m\u001b[0m\n\u001b[0;32m      2\u001b[0m \u001b[1;32mfrom\u001b[0m \u001b[0mdocarray\u001b[0m\u001b[1;33m.\u001b[0m\u001b[0mtyping\u001b[0m\u001b[1;33m.\u001b[0m\u001b[0mtensor\u001b[0m\u001b[1;33m.\u001b[0m\u001b[0maudio\u001b[0m\u001b[1;33m.\u001b[0m\u001b[0mabstract_audio_tensor\u001b[0m \u001b[1;32mimport\u001b[0m \u001b[0mAbstractAudioTensor\u001b[0m\u001b[1;33m\u001b[0m\u001b[1;33m\u001b[0m\u001b[0m\n\u001b[1;32m----> 3\u001b[1;33m \u001b[1;32mfrom\u001b[0m \u001b[0mdocarray\u001b[0m\u001b[1;33m.\u001b[0m\u001b[0mtyping\u001b[0m\u001b[1;33m.\u001b[0m\u001b[0mtensor\u001b[0m\u001b[1;33m.\u001b[0m\u001b[0mtorch_tensor\u001b[0m \u001b[1;32mimport\u001b[0m \u001b[0mTorchTensor\u001b[0m\u001b[1;33m,\u001b[0m \u001b[0mmetaTorchAndNode\u001b[0m\u001b[1;33m\u001b[0m\u001b[1;33m\u001b[0m\u001b[0m\n\u001b[0m\u001b[0;32m      4\u001b[0m \u001b[1;33m\u001b[0m\u001b[0m\n\u001b[0;32m      5\u001b[0m \u001b[1;33m\u001b[0m\u001b[0m\n",
      "\u001b[1;32mc:\\Users\\farefain\\AppData\\Local\\Programs\\Python\\Python38\\lib\\site-packages\\docarray\\typing\\tensor\\torch_tensor.py\u001b[0m in \u001b[0;36m<module>\u001b[1;34m\u001b[0m\n\u001b[0;32m     29\u001b[0m \u001b[1;31m# the mypy error suppression below should not be necessary anymore once the following\u001b[0m\u001b[1;33m\u001b[0m\u001b[1;33m\u001b[0m\u001b[1;33m\u001b[0m\u001b[0m\n\u001b[0;32m     30\u001b[0m \u001b[1;31m# is released in mypy: https://github.com/python/mypy/pull/14135\u001b[0m\u001b[1;33m\u001b[0m\u001b[1;33m\u001b[0m\u001b[1;33m\u001b[0m\u001b[0m\n\u001b[1;32m---> 31\u001b[1;33m class metaTorchAndNode(\n\u001b[0m\u001b[0;32m     32\u001b[0m     \u001b[0mAbstractTensor\u001b[0m\u001b[1;33m.\u001b[0m\u001b[0m__parametrized_meta__\u001b[0m\u001b[1;33m,\u001b[0m  \u001b[1;31m# type: ignore\u001b[0m\u001b[1;33m\u001b[0m\u001b[1;33m\u001b[0m\u001b[0m\n\u001b[0;32m     33\u001b[0m     \u001b[0mtorch_base\u001b[0m\u001b[1;33m,\u001b[0m  \u001b[1;31m# type: ignore\u001b[0m\u001b[1;33m\u001b[0m\u001b[1;33m\u001b[0m\u001b[0m\n",
      "\u001b[1;31mTypeError\u001b[0m: Cannot create a consistent method resolution\norder (MRO) for bases type, ABCMeta"
     ]
    }
   ],
   "source": [
    "db = DocArrayInMemorySearch.from_documents(docs, embeddings)"
   ]
  },
  {
   "cell_type": "code",
   "execution_count": 20,
   "metadata": {},
   "outputs": [
    {
     "data": {
      "text/plain": [
       "[Document(page_content='The issue being faced is that the person is not sure if they need to purchase ISE Advantage licenses in addition to the DNA Advantage licenses they have already purchased. They are concerned because the Cisco ISE 3.x licensing structure states that ISE Advantage licenses are required to use pxGrid and TrustSec. Hello Folks,\\n\\nQuick question. I have purchased DNA Advantage licenses for Cisco SD-Access deployment. With SD-Access, we already have ISE 3.x Essential licenses. The question is do I also', metadata={}),\n",
       " Document(page_content='uestion is do I also need to purchase ISE Advantage license? As mentioned on Cisco ISE 3.x licensing structure, it says that to use pxGrid (with DNA-C - no pxGrid Cloud required in my case) and TrustSec (Group-based Access Policy), I need ISE advantage licenses. Can someone please clarify based on their experience. |||| check this matrix will helo you depends what feature you looking to implement :\\nhttps://www.cisco.com/c/m/en_uk/products/software/dna-subscription-switching/en-sw-sub-matrix-swit', metadata={}),\n",
       " Document(page_content='n-sw-sub-matrix-switching.html', metadata={}),\n",
       " Document(page_content=\"The user is trying to understand the relationship between ISE, DNA Center, and SDA, and whether or not DNA Center is required to implement Trustsec, SGT's, and Posture. Hello All,\\nStarting to get into ISE and DNA and a couple of queries if someone can point me in the right direction. There is a lot of content on both subjects and I cant quite piece together where DNA Center is necessary when it comes to SDA. For example do I need DNA Center to implement Trustsec, SGT's and Posture? From what I c\", metadata={}),\n",
       " Document(page_content=\"sture? From what I can determine ISE covers this and DNA Center is more monitoring along with some Admin integration or am I miss-understanding.\\nAlso, from a licensing perspective if I were to use Cisco 9200's in my lab for my edge switches to achieve SGT and Posture I just need the Network Essential's or is it necessary to have Network Advantage licensing? I appreciate I'll need the DNA Advantage term license but not be needed if DNA Center not used.\\nHas anyone a link that explains in more deta\", metadata={}),\n",
       " Document(page_content='xplains in more detail or a brief summary?\\nThanks in advance\\nDave |||| Hi Dave. Manually (by hand on the CLI, without DNA Center) deployed wired and wireless Cisco infra with ISE will give you capability to implement Group-Based Policy (aka TrustSec), SGT and posture.\\nNetwork Advantage and DNA Advantage is required for GBP in C9K switches.\\nIf you choose to proceed with DNA Center and SD-Access you will get automation of the fabric (no manual deployment) which natively support GBP and Network Vir', metadata={}),\n",
       " Document(page_content=\"GBP and Network Virtualisaiton, Assurance, Endpoint Analytics, Trust Analytics and Group-Based Policy Analytics. If you're not sure what those things are then searching some of the most recent presentations on ciscolive.com would be a good way to learn.\\nIn short: deployment and visibility of campus networks, GBP and SGT is easier with DNA Center. |||| Thanks jedolphiI appreciate you providing some clarity which is very helpful.\", metadata={}),\n",
       " Document(page_content='The issue being faced is that the user wants to enable policy based enforcement on ISE, but they are not sure if their essential license supports this feature or if they need to upgrade to Advantage. I have question about ISEI have ISE essential and want to enable policy based enforcement.Does the essential license support this or i must upgrade to Advantage?Thanks in advance. |||| if any one share with me link for my question i will be highly appreciated |||| Hi\\n\\nCisco ISE license models and ty', metadata={}),\n",
       " Document(page_content='icense models and types are as it follows:\\nCisco ISE Essentials licenseprovides user visibility and enforcement features including AAA and 802.1X, Guest (Hotspot, Self-Reg, Sponsored) and Easy Connect (PassiveID).\\nCisco ISE Advantage licenseenables all Essentials features plus following capabilities:\\n\\nContext Sharing (pxGrid Out/In)\\nProfiling Enforcement\\nAI Endpoint Analytics Enforcement\\nGroup-Based Policy (TrustSec)\\nBYOD (+CA, +MDP)\\nRTC (ANC)\\nProfiling Visibility\\nAI Endpoint Analytics Visibilit', metadata={}),\n",
       " Document(page_content='Analytics Visibility\\nUser-Defined Network for Cloud\\n\\nCisco ISE Premier licenseis full stack license including all Advantage features plus following capabilities:\\n\\nPosture Visibility and Enforcement\\nMDM Visibility and Enforcement\\n\\n\\nTC-NAC Visibility and Enforcement\\n\\nFrom the DNA perspective, you can', metadata={}),\n",
       " Document(page_content='The issue being faced is that ISE is generating alarms about Smart Licensing Authorization Renewal Failure, even though there is no actual failure and the authorization is successful. Hi guys,I am running two node deployment with fresh ISE 3.1 patch3 installation.I am getting every few days alarm like this:Alarms: Smart Licensing Authorization Renewal Failure, with description when I open the alarm \"Smart Licensing Authorization Renewal Failure: Details=Communication send error.\"I have checked f', metadata={}),\n",
       " Document(page_content='or.\"I have checked firewall, there is no block from ISE servers and communication is allowed in the exact timestamp of the alarm (I can see in the firewall logs).Also I see in Licensing page, in \"Last Authorization\" column that there was successful authorization few hours after the alarm timestamp.Anyone else experiencing similar behavior? Is it a bug and is there some workaround?It\\'s not affecting production in any way, just I am getting alarms approx. every second day for this matter.Thanks a', metadata={}),\n",
       " Document(page_content=\"his matter.Thanks a lot in advance!Regards,Milos |||| Yup, this is a common issue across multiple Cisco Smart Licensed products; not just ISE. It seems to be related to the backend Smart Licensing systems. Not sure if its unable to handle the load from customer products, some sort of DDoS protection, or what. These can be safely ignored as ISE does have a grace period. |||| Hi,I couldn't find any pattern in this, apart that it's happening every day or every second day, although as I said, not ha\", metadata={}),\n",
       " Document(page_content='gh as I said, not having any impact on production, as next authorization following the failed one is generally always being successful.Regards,Milos', metadata={}),\n",
       " Document(page_content='The customer wants to smart license their ISE box which is not connected to the internet, and they are not able to open the correct firewall ports to allow traffic through. I want to smart license my ISE box which ia not having direct connectivity to internet.Please let me know can we do that. |||| You can use a Proxy Server or the CSSM-On Prem\\n\\nUsing Cisco Smart Software Manager (CSSM) On-Prem for Smart Licensing in Air-Gapped Networks |||| Hi Charlie,We are not having proxy set up as well. If', metadata={}),\n",
       " Document(page_content='set up as well. If we want to open the firewall ports then i found thw below domains need to be opened in one of the document over 443 and 80 ports.Tools.cisco.comWww.cisco.comBut when i checked the deny logs in the firewall, the hits are towards tools1.cisco.com,tools2.cisco.com,..etcCan you please help me withthe exact domains which needs to be opened in the firewall.', metadata={}),\n",
       " Document(page_content='The issue is that the customer is confused about the ISE license requirements for a VM in Azure. We currently have 2 physical ISE appliances, we plan to add an additional one and will be hosted in AzureI am aware of the cost to the VM in Azure but confused a bit on the ISE license requirements. We are on the smart licensing on the current ISE devicesWhat is the cost of a VM license for ISE', metadata={}),\n",
       " Document(page_content='The VM medium licenses are not working because they need to be converted to the VM common license. Hello,I migrated my ISE installation from v2.4 and traditional licenses to v3.1 with patch 3 and smart licenses.All is working well, but the two licenses for VM based nodes do not work.I transfered the traditional VM medium licenses to the smart account. I can see them in the Software Central.2xCisco ISE Virtual Machine Medium with SKU R-ISE-VMM-K9= and no product instances mapped. Means 2 of 2 are', metadata={}),\n",
       " Document(page_content='ed. Means 2 of 2 are available.That makes sense for me.But the ISE server seems to request a different thing from the smart licensing system.The license is called only \"ISE VM\" if I check the product instance of my ISE.If I search in the licenses folder of my virtual account, I also see these two names for the VM licenses.Seems that Cisco has a naming mismatch here? How can I fix that?Thanks a lot! |||| You need to convert them to the VM Common (VMC License). A licensing TAC Case should be able', metadata={}),\n",
       " Document(page_content='Case should be able to help out. With native Cloud support for AWS added in 3.1, the small, medium, large licenses have been replaced with a single license.\\n |||| Ask your reseller to order 2 each of the $0 SKU \"L-ISE-VMC-UPG=\". Once deposited in your Smart Account you can convert the old style VM Medium license to the common license (the type required by ISE 3.1+).', metadata={}),\n",
       " Document(page_content='The customer is planning to upgrade Cisco ISE from 2.7 to 3.1 and they have some questions about the licenses. Dear All,We are planning to upgrade Cisco ISE from 2.7 to 3.1. I am using Cisco SNS-3615-K9. Currently, we have base licenses only. My question is about the licenses.As I know that I need to convert from traditional PAK to smart licenses and my converted licenses from BASE toEssential. So questions are:1. Will my converted Essential licenses will be expired on 31-Oct-2023? If yes, Do I', metadata={}),\n",
       " Document(page_content='-2023? If yes, Do I need to purchase or renew or extendEssential licenses again?2. As I am using Hardware Device 3615, Do I also need to purchase VM license as Common/Small/Medium/Large? |||| Dear All,We are planning to upgrade Cisco ISE from 2.7 to 3.1. I am using Cisco SNS-3615-K9. Currently, we have base licenses only. My question is about the licenses.As I know that I need to convert from traditional PAK to smart licenses and my converted licenses from BASE toEssential. So questions are:1. W', metadata={}),\n",
       " Document(page_content='o questions are:1. Will my converted Essential licenses will be expired on 31-Oct-2023? If yes, Do I need to purchase or renew or extendEssential licenses again?2. As I am using Hardware Device 3615, Do I also need to purchase VM license as Common/Small/Medium/Large? |||| SNS-3615-K9 - are you looking to Upgrade on this device or you looking to create a new VM with 3.1\\ncheck the release notes for the support of hardware appliance :\\nhttps://www.cisco.com/c/en/us/td/docs/security/ise/3-1/release_n', metadata={}),\n",
       " Document(page_content='ty/ise/3-1/release_notes/b_ise_31_RN.html\\n1. Will my converted Essential licenses will be expired on 31-Oct-2023? If yes, Do I need to purchase or renew or extendEssential licenses again?\\n- as per I know if the License have validity you can use same License. and convert to smart License.\\n2. As I am using Hardware Device 3615, Do I also need to purchase VM license as Common/Small/Medium/Large?\\n- if you are using same hardware you do not need any further, you can upgrade or re-image exiting kit.\\n-', metadata={}),\n",
       " Document(page_content='image exiting kit.\\n- even if you looking to create new VM, you can migrate your License from hardware to VM as per I know.\\nS/M/Large depends on requirement, look at the sizing guide :\\nhttps://www.cisco.com/c/en/us/td/docs/security/ise/performance_and_scalability/b_ise_perf_and_scale.html', metadata={}),\n",
       " Document(page_content='The issue is that the ISE deployment is showing a warning that there are fewer VM licenses installed than VM resources/VM nodes deployed. This is a cosmetic warning and will not affect the operation of ISE. In order to get rid of the warning, it will be required to do the conversions of licensing that were mentioned in the previous post. Hello Guys,\\ni\\'ve a cisco ISE deploy running version 3.0 and patch7.After setting up the cluster everything\\'s working fine but i\\'ve got the following warning \"“F', metadata={}),\n",
       " Document(page_content='ollowing warning \"“Fewer VM Licenses installed than VM Resources/VM Nodes deployed\".All nodes are running with a small vm license and with 32gb of ram and 16 cpu on Vmware, i found the following picture on the documentation and i was wondering if this could be the cause of the warning.\\n\\nDo i have to decrease the cpu fro 16 to 12?If I continue to disregard this warning, will it stop the operation or will it remain just a cosmetic warning?(i\\'ve not migrated my VM Small license to the VM Common lic', metadata={}),\n",
       " Document(page_content='to the VM Common license yet)\\n\\n\\u2003Thank you\\n\\n |||| Hello Guys,\\ni\\'ve a cisco ISE deploy running version 3.0 and patch7.After setting up the cluster everything\\'s working fine but i\\'ve got the following warning \"“Fewer VM Licenses installed than VM Resources/VM Nodes deployed\".All nodes are running with a small vm license and with 32gb of ram and 16 cpu on Vmware, i found the following picture on the documentation and i was wondering if this could be the cause of the warning.\\n\\nDo i have to decrease t', metadata={}),\n",
       " Document(page_content=\"i have to decrease the cpu fro 16 to 12?If I continue to disregard this warning, will it stop the operation or will it remain just a cosmetic warning?(i've not migrated my VM Small license to the VM Common license yet)\\n\\n\\u2003Thank you\\n\\n |||| hello@MaErre21325, the warning that you have right now is cosmetic and it won't affect your operations that you are doing with ISE, in order to get rid off the alarm it will be required that you do the conversions of licensing that you mentioned in your previous\", metadata={}),\n",
       " Document(page_content='ned in your previous post .\\nLet me know if that helped you .', metadata={}),\n",
       " Document(page_content=\"The user is trying to configure ISE 3.1 Radius authentication so that AD users can use their linked AD account when connecting to the wireless AP and using the wireless service, but the admin account created by ISE is being used instead. hello.I am trying to set up ISE 3.1 Radius authentication.\\nWhen logging in to the WLC's admin page, the admin account created by ISE is used, and AD users should not be able to log in.You must be able to use the linked AD account when connecting to the wireless\", metadata={}),\n",
       " Document(page_content='ing to the wireless AP and using the wireless service.\\nHow should policy sets be configured in relation to the corresponding policy settings? |||| Hi,1. My advise you should use TACACS if you have device admin license on ISE for device administration. Then you create policy in Device Admin Policy set using Internal users as identity store.2. To setup authentication on wireless you can configure policies in policy set and setup authorization using AD groups or other conditions.You have provided v', metadata={}),\n",
       " Document(page_content='.You have provided very less information in the post. If you provide more info would be better.', metadata={}),\n",
       " Document(page_content='The issue being faced is that the author is new to ISE and needs help planning the deployment of a Cisco ISE Cluster. Hallo All,\\nBeing new to ISE , we want to install one Cisco ISE Cluster with assistance of cisco partner. The consideration for us are following:-\\nNumber of licenses required for endpoints\\nWhich feature we required for ISE\\nDeployment ISE nodes with which features required to be installed like PSN, MNT , PAN\\nIntegration for AD for remote /Wireless Access/DNAC/\\nWhat could be other t', metadata={}),\n",
       " Document(page_content='hat could be other things needs to be consider before going for installation and furhter steps.\\nWith Regards\\nDEV |||| \\n- To be honest if you have a solid partner with close contact to Cisco , then the purpose is that the partner will be able to assist you with all those questions , here is some sample document :https://www.ciscolive.com/c/dam/r/ciscolive/us/docs/2019/pdf/BRKSEC-2430.pdf, bit date, but figures related to scaling are probably still applicable.\\nM. |||| Along with the mentioned docu', metadata={}),\n",
       " Document(page_content='h the mentioned document, you can also check for below knowledge base article:\\nhttps://community.cisco.com/t5/security-knowledge-base/ise-planning-amp-pre-deployment-checklists/ta-p/3622635\\nPoonam', metadata={}),\n",
       " Document(page_content='The issue is that the customer is new to ISE and needs help planning and deploying a Cisco ISE cluster. Hallo All,\\nBeing new to ISE , we want to install one Cisco ISE Cluster with assistance of cisco partner. The consideration for us are following:-\\nNumber of licenses required for endpoints\\nWhich feature we required for ISE\\nDeployment ISE nodes with which features required to be installed like PSN, MNT , PAN\\nIntegration for AD for remote /Wireless Access/DNAC/\\nWhat could be other things needs to', metadata={}),\n",
       " Document(page_content='ther things needs to be consider before going for installation and furhter steps.\\nWith Regards\\nDEV |||| Good to start with deployment guide and roles :\\nhttps://www.ciscolive.com/c/dam/r/ciscolive/us/docs/2020/pdf/DGTL-BRKSEC-3432-reference.pdf\\nIf you looking 2 Node deployment, so both will be act as all roles.\\nLook at the License :\\nhttps://www.cisco.com/c/en/us/products/collateral/security/identity-services-engine/guide-c07-656177.html', metadata={}),\n",
       " Document(page_content='The customer wants to use ISE for both AD and local authentication and authorization, and skip the Access Control Policy on FTD. I have a customer who owns ISE admin but not FTD admin so they want to do dACL for RA VPN so they can skip the Access Control Policy on FTD. (So the less they have to ask to the FTD team the better).They want AD integration for authentication but also need a local database for non-corporate users (external users).\\nCan they have both AD and local authentication and auth', metadata={}),\n",
       " Document(page_content=\"hentication and authorization done through ISE (so FTD would just reference ISE for both)?I'm thinking FTD authentication should go to ISE and ISE would check with AD, if user is not in AD then check local user base).\\n(then they will add DUO MFA... but I guess I'll post that with DUO after this is confirmed...)\\nP.S. Does dACL require posture capable license? |||| Yeah the internal users would be moved into ISE, then your ISE policy would reference AD and internal users.\\ndACL does not require Pre\", metadata={}),\n",
       " Document(page_content='does not require Premier Licenses.', metadata={}),\n",
       " Document(page_content=\"The user wants to make switch authentication using groups and users in AD through the ISE device, but they don't know how. Hello DearsI have cisco ISE joined to Active Directory (AD), i need to make switch authentication using groups and users in AD through the ISE device , could anyone help me with this regardBests |||| Does your ISE deployment have the Device Administration license? That's required to enable the TACACS server features on it.\\nGiven that, just about everything you'd want to know\", metadata={}),\n",
       " Document(page_content=\"g you'd want to know can be found in this guide:\\nhttps://community.cisco.com/t5/security-documents/cisco-ise-device-administration-prescriptive-deployment-guide/ta-p/3738365\", metadata={}),\n",
       " Document(page_content='Marco wants to know what kind of licenses does ISE 3.x consume with PxGrid for the integration with Forescout. What kind of licenses does ISE 3.x consume with PxGrid for the integration with Forescout? Essential, Advantage or Premier?\\nThanks\\nMarco |||| What kind of licenses does ISE 3.x consume with PxGrid for the integration with Forescout? Essential, Advantage or Premier?\\nThanks\\nMarco', metadata={}),\n",
       " Document(page_content='The customer is confused about the pxGrid license requirements, specifically whether or not they need to renew their Plus licenses in order to continue using pxGrid. Hello,\\nI\\'m finding pxgrid license information very confusing.\\nOn the ordering guide, table 2 says pxgrid does not consume a license but on the license guide it states the following:\\n\"pxGrid is used to share context collected by ISE with other products. A Plus license is required to enable pxGrid functionality. There is no session co', metadata={}),\n",
       " Document(page_content='ere is no session count decrement when context for session is shared. However, to use pxGrid, the number of Plus sessions licensed must be equal to the number of Base sessions licensed. For more information, see Cisco ISE Licenses and Services section inCisco Identity Services Engine Ordering Guide.\"\\nIn my deployment i see zero PLUS licenses being consumed despite using pxgrid for context sharing with third-party solutions.\\nNow I\\'m due to renew my Plus licenses, can I assume I could renew only t', metadata={}),\n",
       " Document(page_content='I could renew only the bare minimum for Pxgrid to be active or it should be the same number I currently have for BASE? |||| Enforcement != Compliance. pxGrid context sharing requires a Plus/Advantage license per endpoint shared through pxGrid to remain in compliance. Is ISE not performing active authentication in your deployment? See here:https://www.cisco.com/c/en/us/products/collateral/security/identity-services-engine/guide-c07-656177.html#214Contextexchangelicensingrequirements\\n\\nNote:Each ac', metadata={}),\n",
       " Document(page_content='ements\\n\\nNote:Each active endpoint’s context shared with an external system will consume an Advantage license. Each active endpoint session information shared with an external system will need a 1:1 Advantage license. For example, when a Windows laptop authenticates via 802.1X, one Essentials license is consumed. If this endpoint’s context is shared with Cisco Stealthwatch or NGFW, one additional Advantage license will be consumed. |||| Hello,\\nStill not clear because I have more base licenses tha', metadata={}),\n",
       " Document(page_content='re base licenses than plus licenses and no warnings of out of compliance so this tells me that I can have the bare minimum of plus just to keep pxgrid working.\\nIs there any document that describes what happens when you do no renew a plus license? for exemple, I believe my pxgrid use will be out of compliance for 45 days and then the setting will still be there but as read only and I cannot do anything new.\\nWould that be correct?', metadata={}),\n",
       " Document(page_content='The customer wants to know if they will be able to continue using ISE 2.7 after October 31, 2023 without upgrading to version 3.1 and converting their licenses to Smart Licensing. Hello,\\nI have Cisco ISE 2.7 in HA (VMs) with 25000 Base licenses and Device admin license.\\nI have a question regarding licensing: If we do not upgrade to version 3.1 should we be able to use ISE after October 31 2023?\\n |||| Smart Licensing is available on 2.7 as well. You can convert your existing licenses to a smart a', metadata={}),\n",
       " Document(page_content='icenses to a smart account and register ISE with smart licensing. |||| I understand, but if we do not convert licenses to smart and continue to use product as is, will we have problems after October 31?', metadata={}),\n",
       " Document(page_content='The issue is that the user is not sure how to best deploy ISE with Device admin and Guest access. They have already ordered 4 ISE VM with Tacacs and Advantage Subscription, and they are looking for advice on the best way to proceed. Hi AllHope you are doing wellIm planning to deploy Cisco ISE 3.0 for Device admin and guest access. Planning to install and pair of PAN,MNT and PSN will be installed at 2 location for redundancy.I was just going through few documents which says for guest access best', metadata={}),\n",
       " Document(page_content='r guest access best practice is to deploy PSN in DMZ.Want to confirm if as i have already ordered 4 ISE VM with Tacacs and Advantage Subscription can you please suggest the best way to deploy ISE with Device admin and Guest access |||| @Bhardwajp refer to the ISE Guest deployment guide, this has several deployment options. You could either have dedicated PSN in the DMZ or the PSN in the LAN with an interface in the DMZ. It depends on your environment and what you requirements from a security per', metadata={}),\n",
       " Document(page_content='from a security perspective.\\nhttps://community.cisco.com/t5/security-knowledge-base/ise-guest-access-prescriptive-deployment-guide/ta-p/3640475#toc-hId-1418163900\\n |||| hi@Bhardwajp, it would depend mostly on the kind of deployment you want to create and your needs, in any case you might need to review that the ports related to guess/radius and tacacs are not being blocked among your network, please refer tohttps://www.cisco.com/c/en/us/td/docs/security/ise/3-0/install_guide/b_ise_InstallationG', metadata={}),\n",
       " Document(page_content='/b_ise_InstallationGuide30/b_ise_InstallationGuide27_chapter_0110.pdf\\nAs per the licensing that you acquired, this is ok as the Guess flows uses essential licensing which is already contained on the Advantage licensing you got, and the device administration ones are the ones that will be used by tacacs, for your referencehttps://www.cisco.com/c/en/us/td/docs/security/ise/3-0/admin_guide/b_ISE_admin_3_0/m_Licensing30.html.\\nRate and comment if that helped you.', metadata={}),\n",
       " Document(page_content='The issue is that there is a change of licensing scheme between ISE 2.X and ISE 3.X versions, and you might have to convert the licenses that you have from your 2.7 in valid licenses for 3.1. Hi All,We are upgrading our 2.7 deployment to 3.1 patch 4. Will there be any licensing issues while doing the upgrade node by node from CLI, since there is a license structure change in 3.x versions? Also, during the upgrade some nodes will be having 2.7 version and others will be having 3.1 version. At thi', metadata={}),\n",
       " Document(page_content=\"3.1 version. At this time, will there be any issues? |||| You need to get your license converted to the new model before upgrading as the old licensing model won't work with ISE 3.x. You can rollback to old licensing model if required.\\nYou can refer this document for license conversion. |||| hi@Gouthami Nair, you are correct when you say that there is a change of licensing scheme between ISE 2.X and ISE 3.X versions, you might have to convert the licenses that you have from your 2.7 in valid li\", metadata={}),\n",
       " Document(page_content='your 2.7 in valid licenses for 3.1 , please refer tohttps://www.cisco.com/c/en/us/products/collateral/security/identity-services-engine/ise-licensing-guide-og.htmlor contact TAC licensing team in case you need help during these conversions.\\nNow related to your other queries, when you upgrade from a 2.X version to a 3.X version the ISE by default will give you a 90 day trial to convert/acquire the corresponding licensing your environment needs with base on your flows configured , the upgrade can', metadata={}),\n",
       " Document(page_content='d , the upgrade can be done in several ways (one including the CLI that you mention) more information can be seen herehttps://www.cisco.com/c/en/us/td/docs/security/ise/3-1/upgrade_guide/HTML/b_upgrade_method_3_1.html, at the end you will have the same result and evaluation trial licensing while upgrading, so having this trial version into account you can have a split environment between 2.7 and 3.1 without no issue during the trial period.\\nRate and comment if that helped you.', metadata={}),\n",
       " Document(page_content=\"The user is having an issue with Cisco ISE Licensing where they have 200 ISE Essentials licenses registered in their ISE system, but Cisco.com shows that there is 196 licenses in balance. They are not sure where the four licenses left. Hello! I have a question about Cisco ISE Licensing. I have 200 ISE Essentials licenses and i have registered them in my ISE system. Now in cisco.com account it shows that there is 196 license in balance. I don't understand where these four licenses left. There is\", metadata={}),\n",
       " Document(page_content='nses left. There is no any guest connection, autherithation etc, that can use license. I attach screenshot from cisco.com', metadata={}),\n",
       " Document(page_content='The issue is that the ISE is not able to communicate with the Smart Software Manager and therefore is unable to renew its license. This can be caused by a variety of factors, such as incorrect configuration of the ISE or the Smart Software Manager, or a network issue. To resolve the issue, it is necessary to troubleshoot the communication between the two systems. Hi to all,i started getting the messages you see at the bottom of the thread in my ISE 2.7.0.356 with patches 1,2,4 installed.I downlo', metadata={}),\n",
       " Document(page_content='4 installed.I downloaded a new token in order to register the system, but nothing changed. I also deregistered and registered the system , nothing changed also.The funny thing is that it mentions \"Evaluation period of Smart Licensing has expired.\" probably due to deregistration/registration i did.I recall in the past there were some changes in cisco server and there was a certificate issue, maybe the same situation holds true about ISE?The system worked just fine 5 years now in conjunction with', metadata={}),\n",
       " Document(page_content='in conjunction with smart software central.Any help appreciated.ThanksDitter.++++++++++++++++++++++++++++++++++++++++++++++++++++++++++++++++++++++++++++++Alarm Name :Smart Licensing Evaluation Period ExpiredDetails :Smart Licensing evaluation period expired: Details=Smart Licensing evaluation period expiredDescription :Evaluation period of Smart Licensing has expired.Severity :CriticalSuggested Actions :Refer to the ISE License Administration page to register ISE with Cisco Smart Software Manag', metadata={}),\n",
       " Document(page_content='Smart Software Manager.*** This message is generated by Cisco Identity Services Engine (ISE) *** |||| Hi to all,i started getting the messages you see at the bottom of the thread in my ISE 2.7.0.356 with patches 1,2,4 installed.I downloaded a new token in order to register the system, but nothing changed. I also deregistered and registered the system , nothing changed also.The funny thing is that it mentions \"Evaluation period of Smart Licensing has expired.\" probably due to deregistration/regis', metadata={}),\n",
       " Document(page_content='deregistration/registration i did.I recall in the past there were some changes in cisco server and there was a certificate issue, maybe the same situation holds true about ISE?The system worked just fine 5 years now in conjunction with smart software central.Any help appreciated.ThanksDitter.++++++++++++++++++++++++++++++++++++++++++++++++++++++++++++++++++++++++++++++Alarm Name :Smart Licensing Evaluation Period ExpiredDetails :Smart Licensing evaluation period expired: Details=Smart Licensing', metadata={}),\n",
       " Document(page_content='ils=Smart Licensing evaluation period expiredDescription :Evaluation period of Smart Licensing has expired.Severity :CriticalSuggested Actions :Refer to the ISE License Administration page to register ISE with Cisco Smart Software Manager.*** This message is generated by Cisco Identity Services Engine (ISE) *** |||| check here most of the FN:\\nhttps://www.cisco.com/c/en/us/support/security/identity-services-engine/products-field-notices-list.html\\ncheck the communication to the cisco License Serve', metadata={}),\n",
       " Document(page_content='cisco License Server and verify the settings again :\\nsuggested steps :\\ninAdministration > System > Licensingtry to:\\n1. update theSmart Licensing Registration... clicking theUpdatebutton\\n2.deregisterandregistertheSmart Licensing(you will need theRegistration Tokenfor that)\\n\\nNote: pay attention to yourSmart Licensing Registration-Connection Method(Direct HTTPS,HTTPS ProxyorTransport Gateway).\\nhttps://www.cisco.com/c/en/us/td/docs/security/ise/2-7/admin_guide/b_ise_27_admin_guide/m_ise_man_license', metadata={}),\n",
       " Document(page_content='de/m_ise_man_license.html\\nThe bug should have fixed by now :\\nCSCwa13877 : Bug Search Tool (cisco.com)', metadata={}),\n",
       " Document(page_content=\"The issue is that the user wants to move an ISE cluster to another datacenter, but they are not sure how to handle the license moving. Hi guys,\\n\\ni have a cluster on two ISE Vm (small size) in a datacenter\\nI have to move this vm to another DC (anotner vmware clusetr) same configuration but different ip\\nI'm using smart license but i'm not sure how to handle license moving\\nCan you kindly provide any tips about how to proceed?\\nregards\\n\\n\\n |||| Hi guys,\\n\\ni have a cluster on two ISE Vm (small size) in\", metadata={}),\n",
       " Document(page_content=\"Vm (small size) in a datacenter\\nI have to move this vm to another DC (anotner vmware clusetr) same configuration but different ip\\nI'm using smart license but i'm not sure how to handle license moving\\nCan you kindly provide any tips about how to proceed?\\nregards\\n\\n\\n |||| ISE doesn't support snapshots, What I suggest is to do:1. Take configuration backup of your primary ISE node. Also take an operational backup (optional if you want your logs).2. Prepare the new ISE VMs in the new location. 3. Res\", metadata={}),\n",
       " Document(page_content=\"new location. 3. Restore the configuration backup.\\nRegarding the licenses, it should be okay once you register the new VMs to your smart account as the new nodes would stop consuming them once you decommission them.Just make sure that the versions are the same or compatible if you want to restore the configuration on the new nodes.For example: you can restore 2.7 backup on a node running 3.1 but you can't do the same with a backup taken from a node running 2.4.\", metadata={}),\n",
       " Document(page_content=\"The issue is that the user is unable to generate a license for the secondary ISE node. I have two physical 3615 ISE nodes. As I understood they by default come shipped with version 2.6.I have just tried to get the license for both nodes from the PAK. In the wizard I have to supply the Product Id, Version Id and Serial Number.In the wizard I filled in the details for the Primary node, an Add button appeared but I didn't click it, as below the Primary node parameters there were fields for the Seco\", metadata={}),\n",
       " Document(page_content=\"fields for the Secondary node to be filled in. I filled these in, and clicked next to finish the process.After I downloaded the license, I saw that only one license was fulfilled. So I tried to start the wizard again to generate the license for the Secondary node, I filled in the Secondary fields, but the wizard won't let me continue by clicking next. The Primary Node has * next to it, but I already generated that one before.How do I solve this issue? I can't seem to generate a license for the\", metadata={}),\n",
       " Document(page_content=\"e a license for the Secondary Node now.I want to use both ISE nodes for Device Administration. |||| I have two physical 3615 ISE nodes. As I understood they by default come shipped with version 2.6.I have just tried to get the license for both nodes from the PAK. In the wizard I have to supply the Product Id, Version Id and Serial Number.In the wizard I filled in the details for the Primary node, an Add button appeared but I didn't click it, as below the Primary node parameters there were fields\", metadata={}),\n",
       " Document(page_content=\"rs there were fields for the Secondary node to be filled in. I filled these in, and clicked next to finish the process.After I downloaded the license, I saw that only one license was fulfilled. So I tried to start the wizard again to generate the license for the Secondary node, I filled in the Secondary fields, but the wizard won't let me continue by clicking next. The Primary Node has * next to it, but I already generated that one before.How do I solve this issue? I can't seem to generate a lic\", metadata={}),\n",
       " Document(page_content='em to generate a license for the Secondary Node now.I want to use both ISE nodes for Device Administration. |||| Hello,\\nI suggest that you should raise a case with Cisco Licensing team, they can help.', metadata={}),\n",
       " Document(page_content='The issue is that the ISE is showing active live sessions for VPN anyconnect users who have already dropped on the ASA devices. This is causing the ISE to occupy more base licenses than necessary. Hello All,Recently found there are lots of VPN anyconnect user authenticated last year but halted in ISE live session, and occupied more base license.Actually, the users had dropped on the ASA devices, but still see active live session on ISE.I tried \"session termination\", but not work.ISE send out CoA', metadata={}),\n",
       " Document(page_content='ork.ISE send out CoA disconnect request, and got \"5417 Dynamic Authorization failed\"Checked on ASA, see the log can not find out the session. Because the session had dropped long time ago.%ASA-4-109102: Received CoA Disconnect from 172.20.1.156, but cannot find named session ac17120a127b600061caa8fb.The problem is that all of these last year\\'s sessions actually not exist in ASA, we want to terminate these unused live sessions on ISE, but ISE will send CoA to ASA to request termination, but there', metadata={}),\n",
       " Document(page_content='rmination, but there is no session found that caused termination failed.We have to terminate these sessions because occupied lots of base license.Is there any other way can force terminate these radius live sessions on ISE(version 2.6) to release base license?Thank you very much for your help and discussion!thanksJeffery |||| Hello All,Recently found there are lots of VPN anyconnect user authenticated last year but halted in ISE live session, and occupied more base license.Actually, the users ha', metadata={}),\n",
       " Document(page_content='tually, the users had dropped on the ASA devices, but still see active live session on ISE.I tried \"session termination\", but not work.ISE send out CoA disconnect request, and got \"5417 Dynamic Authorization failed\"Checked on ASA, see the log can not find out the session. Because the session had dropped long time ago.%ASA-4-109102: Received CoA Disconnect from 172.20.1.156, but cannot find named session ac17120a127b600061caa8fb.The problem is that all of these last year\\'s sessions actually not e', metadata={}),\n",
       " Document(page_content='sions actually not exist in ASA, we want to terminate these unused live sessions on ISE, but ISE will send CoA to ASA to request termination, but there is no session found that caused termination failed.We have to terminate these sessions because occupied lots of base license.Is there any other way can force terminate these radius live sessions on ISE(version 2.6) to release base license?Thank you very much for your help and discussion!thanksJeffery |||| Do you have RADIUS Accounting enabled on', metadata={}),\n",
       " Document(page_content=\"counting enabled on the ASA? I'm not sure of way to forcibly delete these (other than deleting the endpoint from context visibility maybe?). What patch of 2.6 are you on?\\nAlso:https://www.cisco.com/c/en/us/products/collateral/security/identity-services-engine/bulletin-c25-2503911.html\", metadata={}),\n",
       " Document(page_content=\"The issue is that the user is unable to activate the Anyconnect licenses because they do not have an ASA. HiWe have recently bought ISE with Anyconnect licenses but we couldn't activate the Anyconnect licenses as we don't have an ASAIs there any way to use the full Anyconnect client without an ASA ?Thanks |||| @cegsm yes you can buy AnyConnect aka Secure Client without an ASA or FTD.\\nhttps://www.cisco.com/c/en/us/products/collateral/security/anyconnect-secure-mobility-client/secure-client-og.htm\", metadata={}),\n",
       " Document(page_content='secure-client-og.html\\n |||| When the anyconnect ended ?\\nI think you need router or asa as end of vpn.\\nISE use for auth/authz', metadata={}),\n",
       " Document(page_content='The issue being faced is that the user is unsure how ISE counts licenses when it is only used for authorization. Hi All ,I find the information If ISEdo authorization function only , How ISE count license .\\nThank you . |||| Every time you apply an authorisation, a license is consumed. It depends on what you match in the authorisation rule which license is used (Ess, Adv, Prem).\\nhttps://www.cisco.com/c/en/us/products/collateral/security/identity-services-engine/ise-licensing-guide-og.html |||| @K', metadata={}),\n",
       " Document(page_content=\"uide-og.html |||| @Karsten Iwen\\nThank you for response. You mean authentication or authorization license consumed it's same scenario.\", metadata={}),\n",
       " Document(page_content='The issue is that the customer is seeing different license consumption numbers from different places in ISE. The customer is asking for an explanation for this discrepancy and whether or not they need to get more licenses. Hi,A customer have an ise 3.1 deployment with some captive portals enabled. We see different license consumption from different places.In ISE we get a big ammount of licenses consumption, >1000 essential licenses.In Smart Account we get only 156.In Current active sessions repo', metadata={}),\n",
       " Document(page_content=\"active sessions report we get arround 500 active sessions.The customer have 500 essential licenses and ISE says that there is not any day out of compliance. I don't know how to estimate the need or not to get more licenses, and the customer is asking a response on this different data. I'm not able to find any glue on this gap of the number of licenses in use.I understand that there can be more licenses consumed than active sessions for many reasons, but how to interpret the huge difference with\", metadata={}),\n",
       " Document(page_content='uge difference with Smart Account?Does anyone know how to interpret this? Should I open a TAC question?Thanks |||| Are you getting any emails or alerts out of compliance - if not you should ok as per i know.\\nbelow guide explain some of the concerns you have in the consumptions :\\nhttps://www.cisco.com/c/en/us/td/docs/security/ise/3-0/admin_guide/b_ISE_admin_3_0/m_Licensing30.html\\nBut still give a proof to your customer and peace of mind - Open a TAC and provide the evidence to customer - so he wi', metadata={}),\n",
       " Document(page_content=\"customer - so he will be happy since the answer come from Cisco. (this always useful) |||| Thanks Balaji,No there is not any day out of compliance, all is about to understand the differences between counters, and whichone follow as a reference to grow in licenses.I'll open a TAC question in few days if there is not a clear response here.Thanks again\", metadata={}),\n",
       " Document(page_content='The issue being faced is that the CISCO ISE REST API demo page is not working. I want to try CISCO ISE REST API, so first i wanted to use DEMO for this software, but the page with demo doesn workthis is the link: https://www.cisco.com/c/en/us/products/security/identity-services-engine/demos.htmlThanks Hynek |||| @Hynek Ctvrtecka you can download the ISE OVA or ISO file from here - https://software.cisco.com/download/home/283801620/type/283802505/release/3.1.0 which has a 90 day evaluation licens', metadata={}),\n",
       " Document(page_content='ay evaluation license. You just need a CCO account to login to be able to download the file.\\n |||| You can also use a dcloud demo if you would like to explore an lab environment without having to install it yourself.ISE 3.1 instant on demo environmenthttps://dcloud2-sjc.cisco.com/content/instantdemo/cisco-identity-services-engine-ise-3-1-instant-demo?returnPathTitleKey=content-view\\nISE 3.2 Sandboxhttps://dcloud2-sjc.cisco.com/content/demo/309061?returnPathTitleKey=content-view', metadata={}),\n",
       " Document(page_content=\"The user is trying to order Cisco ISE for a new deployment on the cisco SNS but can't find the base license or the replacement license. How can I order Cisco ISE for a new deployment on the cisco SNS? I tried to find the base lic( L-ISE-BSE-250=) and the replacement L-ISE-BSE-PLIC but didn't find it, so please, any advice about the new part number? |||| All you need is in theCisco ISE Licensing Guide.\\nThe replacement for the Base license is the Essentials subscription. |||| check the replacement\", metadata={}),\n",
       " Document(page_content='heck the replacement License :\\nhttps://www.cisco.com/c/en/us/products/collateral/security/identity-services-engine/identity-services-engine-base-plus-apex-license-pids-eol.html', metadata={}),\n",
       " Document(page_content='The issue being faced is that there is no clear guidance on how to implement ISE for remote access VPN clients. The Cisco ISE can be used for both authenticating and posturing remote access VPN clients. A design document detailing the implementation of ISE for this purpose can be found in the Cisco ISE documentation.Regarding version 9 of the Cisco ASA code, it eliminates the need for Inline Posture by integrating posture assessment into the VPN client. This should allow for posturing without an', metadata={}),\n",
       " Document(page_content='posturing without any additional configuration.Regarding VPN licensing for Cisco ASRs, the number of VPN licenses depends on the specific model and software version of the ASR. It is recommended to check the datasheet or product specifications for each specific model to determine the number of VPN licenses included.As for support for NADs on ISRs and ASRs, NADs are supported on ISRs but not explicitly mentioned for ASRs. It is recommended to check the specific product specifications or consult w', metadata={}),\n",
       " Document(page_content='cations or consult with a Cisco representative for more information on NAD support on ASRs.', metadata={}),\n",
       " Document(page_content='The user is asking about the ISE licensing conversion when upgrading from ISE version 2.3 to ISE version 3.1. Currently I am working on Cisco ISE version 2.3 & planning to upgrade to ISE version 3.1.\\nI have a query on ISE licensing conversion.\\ncurrently I am having 6500 Base (perpetual) & 6000 Plus license(subscription based).\\n1. After conversion what I get and how much count... Essential Advantage Primer?\\n2. Can I use the VM common licenses on ISE VM appliance with version 2.7?\\n |||| 1. 6000 Ad', metadata={}),\n",
       " Document(page_content='.7?\\n |||| 1. 6000 Advantage, 500 Essentials\\n2. Yes, but the VMC license requires Smart Licensing\\nhttps://isedemolab.com/license-calc/ |||| Adding to the provided answer, be aware that also the 500 Essentials licenses will be a subscription after the migration.', metadata={}),\n",
       " Document(page_content=\"The issue is that the current ISE environment is not well-maintained and needs to be upgraded to 3.1.0. The question is whether to migrate the existing devices, policies, etc. or start from scratch. Hello allI recently took over ISE for my company. We're running version 2.7 and we're looking to upgrade to 3.X. It looks like 3.1.0 is the current recommended.It's been decided that we want to deploy a new environment for the upgrade rather than upgrade the current environment. The reason being it w\", metadata={}),\n",
       " Document(page_content=\"he reason being it wasn't exactly set up right from the start and it's kind of been frankensteined together since.A few questions about taking this path.1. As far as licensing would the new environment just use trial license while we set up and test the new environment and then move the existing licenses over from the old environment?2. Would it be recommended to migrate existing devices, policies, static profiles, etc and then clean up from there, or start from scratch? In other words, restore\", metadata={}),\n",
       " Document(page_content=\"ther words, restore or start from scratch? We've had to manually profile a lot of devices due to old/outdated profiling policies that would need to be modified to correctly profile new devices. |||| Are these virtuals? so you need proper planning and future use.\\nSure ISE 3.1.0 is longtive plan (3.2 on way to deploy)\\nyes you can build new Servers and start Trail and once you ready move the License using smart License portal.\\ndepends on how big the setup is, its just days work, I would create a br\", metadata={}),\n",
       " Document(page_content=\"I would create a brand new one from scratch, this way you get the opportunity to clean up any organic profiles that don't need and are not sure can go off.\\nAlso, another part of testing is a major part of after deployment, so test ....test...Monitoring is a key role.\\nAnother last note, before you put them Live make sure have all the patches in place.\\n\\n |||| For 1) it depends how your actual setup is licensed. ISE 3.1 runs with smart licensing. If you are using PAC based licenses you have to mig\", metadata={}),\n",
       " Document(page_content='nses you have to migrate them and can install the new deployment fully licensed and phase the old deployment out. If your actual deployment already runs on Smart-Licensing, I would run the new as evaluation and then switch over.\\nFor 2) it depends on what kind of monster you created. If devices, policies and so on are mainly ok, you could migrate them first and then clean up. But I am always a friend of first cleaning up and then migrating. If it is a whole mess, doing a complete new setup is lik', metadata={}),\n",
       " Document(page_content='ete new setup is likely the better approach.', metadata={}),\n",
       " Document(page_content='The user wants to know if they need a license to use Cisco ISE for only Radius authentication with Meraki Wi-Fi devices. Hi,Quick question Do I need a license to use Cisco ISE for only Radius authentication with Meraki Wi-Fi devices? |||| Also, if I am only using a Base license, do I get TAC support with that? |||| Any type of ISE usage requires a license. If you are only doing authentication and basic authorization then you need at a minimum the ISE VM license (or hardware appliance) and ISE Es', metadata={}),\n",
       " Document(page_content='ppliance) and ISE Essentials licenses. Every concurrent active RADIUS session consumes a license.\\nA support SKU is included with most VM purchases and is required in addition to the aforementioned licenses in order to get TAC support and upgrade entitlement.', metadata={}),\n",
       " Document(page_content='The issue is that the WLC9800 is not able to authenticate with the ISE TACACS server. This is evident from the error message \"%Error in authentication.\" that appears when the WLC is enabled. The ISE logs may show additional information about the cause of the error. I want to connect WLC9800 and ISE with TACACS.\\nDocuments I referenced is\\'https://www.cisco.com/c/en/us/support/docs/wireless/catalyst-9800-series-wireless-controllers/214490-configure-radius-and-tacacs-for-gui-and.html #anc11\\'.\\nI foll', metadata={}),\n",
       " Document(page_content=\"html #anc11'.\\nI followed that document, but I connected to WLC with SSH,When ENABLEd\\n'%Error in authentication.'A phrase appearsIt does not enter ENABLE mode.\\nPlease respond if you have a solution. |||| \\n- Ref :https://www.cisco.com/c/en/us/support/docs/wireless/catalyst-9800-series-wireless-controllers/214490-configure-radius-and-tacacs-for-gui-and.html#anc11      >....Note: in order to use ISE as TACACS+ server, you must have aDevice Administration license package, and either a Base or a Mobil\", metadata={}),\n",
       " Document(page_content='er a Base or a Mobility license. Also, once the licenses are installed, you must enable the Device Admin feature for the node. To do so, edit the node deployment node under Administrator > Deployment, and check the box:\\nM. |||| What do the ISE logs show?', metadata={}),\n",
       " Document(page_content='The user wants to know how the license will be consumed when enabling web authentication for guest wifi users from ISE. Hi Team,\\nI have a requirement to enable web authentication for guest wifi users from ISE. I would like to know how the license will be consumed. I could see tie essential license will be consumed based on radius session. Does it mean the license will be reserved as long as the guest user connected to the network or is it only during the authentication time?\\n |||| the license wi', metadata={}),\n",
       " Document(page_content='|||| the license will be consumed for the length of the session, once the session is terminated the license will be added back to the pool. |||| @sirajuddeen t p the license will be consumed for an active session, once they logged off then a license will no longer be used.', metadata={}),\n",
       " Document(page_content='The issue is that the user wants to upgrade their ISE 2.0 VM to 2.7 but is unsure of the steps involved and if there are any license or configuration changes required. Dears,For now we are using 2.0 version. As I know we have to do these steps in order to get 2.7 and higher - 2.0-->2.2-->2.7The question - is there any manipulations with licenses? I mean do we need to convert them to smart, or export and then import.Maybe someone has detailed instruction or upgrade? We have only CLI access to ser', metadata={}),\n",
       " Document(page_content='ly CLI access to server and the disk usage is 88%. Is there will be any problems with that?I found this one:https://www.cisco.com/c/en/us/td/docs/security/ise/2-2/upgrade_guide/b_ise_upgrade_guide_22/b_ise_upgrade_guide_22_chapter_010.html |||| What is your server - a VM or hardware appliance? There are restrictions on version support for older server hardware as well as changes in CPU and memory and disk requirements that affect your upgrade path.\\nThe 2.0 PAK-based licenses are still usable on', metadata={}),\n",
       " Document(page_content='are still usable on 2.7 - Smart licenses are only required as of 3.0 or later. However, if you are moving to a new server you would need to have them rehosted which requires TAC support. |||| Hi Marvin,We are using VM.As I understand it is easier to up the new server because of different disk and CPU requirements.Is there any tool to export configurations from 2.0 version (authentication rules, access lists, endpoint devices) and import them to a new 2.7 version?', metadata={}),\n",
       " Document(page_content='The client is running ISE v2.4 with 800 base licenses which is coming out of support by the 26th Dec 2022, and they would like to upgrade to v2.7 and remain on this version for few months until they are ready to move to 3.1. Hi Everyone,\\nI need some assistance; I have a client who is running ISE V2.4 with 800 Base Lice. which is coming out of support by the 26th Dec 2022, they would like to upgrade to V2.7 and remain on this version for few months until they are ready to move 3.1, is that possib', metadata={}),\n",
       " Document(page_content=\"3.1, is that possible?\\nThank you |||| Hello@ziyad.sarah\\nyes that is fine, since the Base Licenses type is perpetual (i.e. they don't expire).\\nOnce you move to ISE 3.1 you will need to have a Smart Account with Essentials licenses. |||| Hi Arne,\\nThank you for your quick reply,\\nCould I ask a follow up question, what will happen if the client doesn't upgrade to a newer version of ISE by the 26th Dec 2022 will they lose all TAC support till they are move into a newer version?\", metadata={}),\n",
       " Document(page_content='The issue is that the profiling service was disabled during the upgrade, which caused MAB authentication/authorization to not work. This can be resolved by enabling the profiling service. Hi. I have performed a upgrade from ISE2.7 patch7 to ISE3.1 Patch 4. And would like to share some interesting things that happened during this activity. My environment is a two node deployment. I performed the upgrade from cli. Started the upgrade on the secondary admin and then on the primary admin. When I sta', metadata={}),\n",
       " Document(page_content='ry admin. When I started I hade my licensing reverted to traditional as suggested in the upgrade guide.When I tried do start the gui I was prompted to enter a license file. I supplied a file but that did not help. Contacted Cisco TAC and that was a known bug and I was suggested to apply patch4 that would solve that issue. The patch solved that issue. I then converted the license to smart licensing and it did work.In the logs i could see that my MAB authentication/authorization did not work, Wire', metadata={}),\n",
       " Document(page_content='n did not work, Wired-dot1x, Wiredless-dot1x worked and admin logins using radius (PAP) worked as well, BUT not MAB. The cause for this behavior is that the profiling service was disabled during the upgrade. Enabling it the MAB starts working.I just have the basic 3.1 license (Essentials) installed and I am still able to enable and run the Profiling service. |||| You will get licensing alarms for this. Essentials does not include profiling. You need to purchase Advantage. Keep in mind any compli', metadata={}),\n",
       " Document(page_content='p in mind any compliance issues regarding the EULA. |||| For MAB to work you must enable profiling, If I don’t enable profiling i am not able to edit the identity groups containing the MAC addresses I use to group the endpoints connecting.Essentials:RADIUS authentication, authorization, andaccounting, including 802.1X, MACauthentication bypass and easy connect, and webauthentication.The advantage states:Profiling services, including basic asset visibilityand enforcement features.It is confusing.', metadata={}),\n",
       " Document(page_content='res.It is confusing. I am not getting any License alarms, I am compliant.', metadata={}),\n",
       " Document(page_content=\"The person is looking for information on what licenses they need to purchase for a small ISE 3.x essentials environment for 100 wired devices with Device Admin for TACACS+. I'm looking to deploy a small ISE 3.x essentials environment for 100 wired devices with Device Admin for TACACS+. What licenses do I need to purchase? |||| Base License is good enough for only 802.1x and device administration.\\nLook at below guide if you need more advanced features :\\nhttps://www.cisco.com/c/en/us/products/coll\", metadata={}),\n",
       " Document(page_content='/en/us/products/collateral/security/identity-services-engine/ise-licensing-guide-og.html#3CiscoISELicenses\\nAre you looking to deploy using appliance or VM (if VM check the resources), also make sure switch has right IOS code for 802.1x deployment. |||| Thanks for this BB, will be looking to deploy it in a VMWare environment that has plenty of resource available. Would this just be twoISE-VM-K9to take care of it?', metadata={}),\n",
       " Document(page_content='The user is planning to migrate their ISE environment to smart licensing, but they cannot find the licenses on their ISE environment. They are wondering where the licenses are installed and how they can view their information. I am planning on migrating our ISE environment to smart licensing, however I found about 50 licenses forC1-ISE-BASE-AP on our cisco portal. I am not seeing that license on our ISE environment. We do use radius for ISE for our WLC access points. Where is that that license i', metadata={}),\n",
       " Document(page_content='that that license installed on and how can I view its information? |||| C1-ISE-BASE-AP license is added to the ISE endpoint pool for any endpoint. |||| Where is the endpoint pool?', metadata={}),\n",
       " Document(page_content='The issue is that the user is unable to add a license to ISE 3.1 even though they have added the license through Smart License. This is likely because the user does not have enough or the correct licenses in their Smart Portal. The user may need to convert their licenses to the new model that is required for ISE 3.x or deregister and re-register ISE to the Smart Portal. \\n\\u2003\\nhello.After installing ISE 3.1, the license was added through Smart License normally, but still the error as shown in the pi', metadata={}),\n",
       " Document(page_content='r as shown in the picture is displayed.\\nHaving trouble with the license addition process? |||| Do you actually have those licenses in your smart portal? It appears you do not have enough (or are missing) Essentials and Device Admin licenses. |||| If you converted all the licenses to the new model that is required for ISE 3.x, then I would recommend deregistering and re-registering ISE to the smart portal.', metadata={}),\n",
       " Document(page_content='The issue is that the customer is not sure how ISE counts the number of concurrent sessions. They have a peak connection of 1100 devices for an hour, but only 300 devices connected for most of the day. They want to know if ISE counts each active connection as an instant or if it takes an average. Hi\\nI have a question about how the ISE account for thenumber of concurrent sessions.\\nI have a peak connection for a day eg. 1100 devices (some guests connected for a very short time )for 1 an hour somet', metadata={}),\n",
       " Document(page_content=')for 1 an hour sometimes,and in most of the day, only 300 devices are connected.\\nhow many lic. is required?\\nReg.\\n |||| Why so many threads ? you already have one here same context ?\\nhttps://community.cisco.com/t5/archive-tkb/how-ise-count-number-of-concurrent-sessions/tac-p/4700629#M115 |||| Not sure, I have only posted once,\\nI would like to know does the activeconnectioncount as an instant or take an average', metadata={}),\n",
       " Document(page_content=\"The issue being faced is that the user is trying to determine how many Cisco ISE-P-LIC (Premier) licenses they need to deploy 500 users. Hello,We have Cisco ISE 3.1, How do I know how many Cisco ISE-P-LIC (Premier) licenses do I need to deploy 500 users?? can't find how to count licenses anywhere.Thanks in advance |||| Licensing for ISE 3.x is actually pretty straight forward. It's not based on users, it's based on the number of unique endpoints (mac addresses) that will be connected to the netw\", metadata={}),\n",
       " Document(page_content='onnected to the network at any given point. ISE maintains these sessions until an endpoint disconnects from the network or times out.The licensing has three tiers, Essential, Advantage, and Premier. The authorization features you use in ISE when authenticating these unique mac address/endpoints will determine which one of the licenses you need.Premier licenses will cover any endpoint authorized with Premier, Advantage, or Essentials features.Advantage licenses will cover any endpoint authorized', metadata={}),\n",
       " Document(page_content='endpoint authorized with Advantage or Essentials features.Essentials licenses will only cover endpoint authorizations with essentials features.\\nThe ISE ordering guide walks through the features and what tier they fall in to.https://www.cisco.com/c/en/us/products/collateral/security/identity-services-engine/guide-c07-656177.htmlThis thread from Charlie provides a quick reference of feature to license typehttps://community.cisco.com/t5/security-knowledge-base/ise-licensing-quick-access/ta-p/365347', metadata={}),\n",
       " Document(page_content='k-access/ta-p/3653471', metadata={}),\n",
       " Document(page_content='The issue is that the user is unable to add a license to ISE version 2.1 after reinstalling due to a disk full error. The error message indicates that a base license is required in order to add the device administration license. Good morning .\\nI tried to add a license after reinstalling due to a disk full error in ISE version 2.1, but it was not added due to the following error:\\nfailed validation cannot install device administration license when a base license is not installed\\nWhat should I do?', metadata={}),\n",
       " Document(page_content='d\\nWhat should I do? |||| Have you already added the base license back? The error is indicating something that has always been the case in 1.x and 2.x, you need at least 100 base licenses installed to add the device admin / tacacs license.', metadata={}),\n",
       " Document(page_content='The customer is trying to understand how Cisco ISE will count sessions for their TACACS and Radius authentication deployments. Hello, We would like to purchase Cisco ISE and planning use it for TACACS, Radius Authentication for Corporate SSID and also for Guest SSID (For Guest SSID we would like to use CWA, probably self-registring type).As I undesrtand We need Device Administration and Essential Licenses. But what about session counts? How ISE will count sessions in our scenario?Thanks |||| for', metadata={}),\n",
       " Document(page_content='ario?Thanks |||| for tacacs (device administration license) you need 1 license per psn, irrespective of total number of tacacs sessions (that the hardware or VM can support).\\nfor radius the essential license count should be equal to total consecutive number of devices that will authentication through ise. when device disconnects the license is added back to the pool. Essential license is needed per deployment unlike device administration which is needed 1 per psn that you will use for tacacs. ||', metadata={}),\n",
       " Document(page_content=\"l use for tacacs. |||| Thanks for your response, ammahend.Just for the clarification, for example, if I have 200 devices associated with Corporate SSID and 500 devices with Guest SSID (in case of CWA) it's means that I need to purchase 700 sessions? (1-999 Session Bands)\", metadata={}),\n",
       " Document(page_content='The issue is that there are multiple network devices with different access permissions for different users, and the user wants to create read only access for all users with all devices using ISE. Hello all,\\nwe have mutiple network devices like firewall, cisco and checkpoint, WAF, algosec,proxy, secure share, PKI, and each devices having access different peoples. now i need to created read only access all the users with all devices using ISE.\\nplease suggest me.\\n |||| Hi Sank, do you have ISE devi', metadata={}),\n",
       " Document(page_content='do you have ISE device admin license? If yes,TACACS+ Device Administrationfeature is good for this case. You can define Shell profiles based on privilege level and roles. Please refer to the configuration guide.\\nIf not, please refer toUse RADIUS for Device Administration with ISE.\\nThank you very much!', metadata={}),\n",
       " Document(page_content='The issue is that the user is trying to configure access in a wireless network via facebook, but they do not know which licenses they need in ISE. Staff,What licenses should I have in ISE, installed in a VM, in order to configure access in a wireless network via facebook?', metadata={}),\n",
       " Document(page_content=\"The issue being faced is that the user is trying to determine which license they need for their Cisco Identity Services Engine. Hello good night,\\nWould be the Essentials (User Visibility and Enforcement) license· AAA and 802.1X· Guest (Hotspot, Self-Reg, Sponsored)· Easy Connect (PassiveID)\\nhttps://www.cisco.com/c/en/us/products/collateral/security/identity-services-engine/qa-c67-744190.pdf |||| Gracias |||| Thank you.I've been seeing Cisco's stuff, that's right. Thank you very much.\", metadata={}),\n",
       " Document(page_content='The issue being faced is that the user is unsure if they will lose their license if they change the IP address of one of the nodes in their ISE deployment. Hi everyone!Can anyone consult me if there are any problems with ISE licensing in case I want to change an IP address? Can I lose the license if I change the IP address of one of the nodes? Do I have to make a relicensing request? Or I can simply change the IP address of the ISE interface? |||| No issues with licensing.', metadata={}),\n",
       " Document(page_content='The issue being faced is that the customer is unsure of the license tier requirements for ISE and C9200L in order to use the Profile feature and Authorization policies. We have ISE appliance and C9200L switches which will be integrated with the ISE. We want to use the Profile feature and use those profiles in Authorization policies which will be implemented in the C9200L sw. What license tier do we need in both (ISE and C9200L) to make this scenario? Can I use advantage license for ISE while c92', metadata={}),\n",
       " Document(page_content=\"se for ISE while c9200 is essential ? |||| what ISE Version, check the Plus License if you looking profiling :\\nhttps://www.cisco.com/c/en/us/products/collateral/security/identity-services-engine/guide-c07-656177.html\\nCat 9200 - Essential is good enough to work 802.1x (yes you can also use network advantage License) |||| Thank you for replying, but you didn't answer my question\\nI know that ISE Profiling require Advantage license and profile is not a 802.1x\\nBut what about c9200? Should I upgrade i\", metadata={}),\n",
       " Document(page_content='? Should I upgrade it to Advantage too or I can use the Essential to imply the profile authorization policy in c9200?', metadata={}),\n",
       " Document(page_content='The issue is that the customer wants to extend the ISE functions to their \"industrial network\" but they are not sure if this kind of deployment is allowed and supported by TAC. They also want to know if they need a full ISE license or if there are licenses to only run specific services of ISE. Hello,I have a small question about the deployment of Cisco ISE.Actually we are running a cluster of 2 members, each hosting PAN-MnT-PSN.We want to extend the ISE functions to our \"industrial network\" sepa', metadata={}),\n",
       " Document(page_content='strial network\" separated by a DMZ.To limit the trafic between the 2 zones, I would like to add one (or 2 for redundancy) server running only PSN server.Is this kind of deployment allowed and supported by TAC ? If yes do I need a full ISE license or there are licenses to only run specific services of ISE ?Thanks for your help.Herve |||| Hello,I have a small question about the deployment of Cisco ISE.Actually we are running a cluster of 2 members, each hosting PAN-MnT-PSN.We want to extend the IS', metadata={}),\n",
       " Document(page_content='ant to extend the ISE functions to our \"industrial network\" separated by a DMZ.To limit the trafic between the 2 zones, I would like to add one (or 2 for redundancy) server running only PSN server.Is this kind of deployment allowed and supported by TAC ? If yes do I need a full ISE license or there are licenses to only run specific services of ISE ?Thanks for your help.Herve |||| You will need to move to the Medium deployment as mentioned here:https://www.cisco.com/c/en/us/td/docs/security/ise/p', metadata={}),\n",
       " Document(page_content='/docs/security/ise/performance_and_scalability/b_ise_perf_and_scale.html#Cisco_Concept.dita_67b428f0-2240-4383-bd49-5eb7a7b98a35\\nYou will need the following to remain in a supported Topology:\\n\\nPAN + MnT\\nPAN + MnT\\nPSN\\nPSN\\nDMZ\\n\\nPSN\\nPSN', metadata={}),\n",
       " Document(page_content=\"The issue is that the user is not sure what tiers to select when registering ISE with their smart account. They have Essential and Premier licenses, and they want to know if they need to select Advantage as well. Hi, I've a quick question about registering ISE with a smart account.We have Essential and Premier licenses, when registering ISE with our smart account, what tiers to we select?Essentials and Premier or do we need to select Advantage as well as Premier has Advantage features?Thanks |||\", metadata={}),\n",
       " Document(page_content='features?Thanks |||| Depends what is the requirement, check the tier license with features here :\\nhttps://www.cisco.com/c/en/us/td/docs/security/ise/3-0/admin_guide/b_ISE_admin_3_0/m_Licensing30.html |||| You should enable whatever licenses you actually have in your Smart Account. For your case, that would be Essential and Premier.\\nI am curious to your use-cases as well though. What was the drive to purchase only Essentials and Premier? Are you not doing any profiling but you are doing Posture?', metadata={}),\n",
       " Document(page_content='The customer is using ISE license 2.2 version and they want to purchase additional licenses. They are wondering if they need to update the ISE version. Hi Techies,\\nCurrently customer is using ISE license 2.2 version and now they are planning to purchase additional licenses.\\nWanted to understand, is there any ISE version update needs to be done from customer if they purchase new licenses? |||| They would have to purchase new style licenses (Essential/Advantage/Premium) and then open a TAC case fo', metadata={}),\n",
       " Document(page_content='n open a TAC case for conversion to the old style (Base/Plus/Apex).\\nSee \"Rolling back from ISE 3.0 to the ISE 2.X release\" in this document:\\nhttps://www.cisco.com/c/en/us/products/collateral/security/identity-services-engine/ise-licensing-migration-guide-og.html', metadata={}),\n",
       " Document(page_content='The user is having trouble setting up ISE Essential licenses on their ISE 3.1 VM. They have created a token in Smart Licensing to connect the licenses with ISE, but they are unable to figure out how to proceed. Hello! I have ISE Essential licenses on my cisco account (smart licensing). How can I set them on ISE 3.1 VM ? I have created a token in Smart Licensing to connect these licenses with ISE. ButI couldn’t figure it out any more. |||| use this guide to continue\\nhttps://www.cisco.com/c/en/us/', metadata={}),\n",
       " Document(page_content='w.cisco.com/c/en/us/td/docs/security/ise/3-0/admin_guide/b_ISE_admin_3_0/m_Licensing30.html#task_n3y_zsf_smb |||| Hello! Thank you. Take a look please. Does it show that 0 essential licenses available? In smart account i have 200', metadata={}),\n",
       " Document(page_content='The issue being faced is that the customer wants to upgrade their ISE Essential license to Premier before the current license expiration date, but they are not sure which part number to use. Dears,I have ISE hardware appliances already installed with ISE Essential license, I want to upgrade my license from Essential to Premier before the current license expiration date. which part number must use for this upgrade?As I think ISE-P-LIC part number is used to purchase new license not to upgrade exi', metadata={}),\n",
       " Document(page_content='e not to upgrade exiting one.Thanks. |||| Hi@Eman.Bakri,\\nif I understand correctly, you would like to change your entire Essential License to Premier License.\\nEssential License is licensed on a Subscription basis (1, 3 and 5 years) and existing Subscriptions may be changed during the term of the Subscription. Changes may be made to products and/or quantities ordered.\\nPlease:\\n1sttake a look at Change Subscription Job Aid.\\n2ndContact your AM (Account Manager)\\nHope this helps !!! |||| There is no u', metadata={}),\n",
       " Document(page_content='! |||| There is no upgrade SKU. As@Marcelo Moraissaid work with your Cisco Partner and Cisco Account team.', metadata={}),\n",
       " Document(page_content='The user is unable to add a new network device to ISE even though they have a valid essential license. Dears,we have ISE with valid essential license, but when we try to add new network device we find it disableAny help please,, |||| I think you are hitting this bug, look up the details for workaround in the link below\\nhttps://bst.cisco.com/bugsearch/bug/CSCvw34491', metadata={}),\n",
       " Document(page_content='The issue being faced is that the user is unable to do accounting for device administration without a TACACS device admin license. They are only looking to use ISE for device administration, so they do not need the endpoints accounting license. Hi all,I have question please.Can I do accounting for device administration and without TACACS device admin license? |||| I mean Commands accounting. not endpoints accounting, my scope is to use ISE only for device administration', metadata={}),\n",
       " Document(page_content=\"The user is trying to figure out which ISE license they need to purchase. They are currently using Cisco ACS 5.x and are planning to migrate to ISE. They are not sure if the Essentials license includes DACL, which they use extensively. Hello,I need some help to fully understand what license I need to buy for our first ISE purchase.Currently we are using Cisco ACS 5.x and I'm planning to migrate to a more recent product.I'm oriented to ISE because looks like the natural successor to ACS.I'm not s\", metadata={}),\n",
       " Document(page_content=\"sor to ACS.I'm not sure about what license can give me access to the old DACL, of which we make a great use.Features that we use are:AD authenticationDACLDUO 2FAusers, groupsauthentication to multiple firewalls and switchesPlease note that the first 3 features are used by us with AnyConnect as well.And given that I'm not very familiar with this technology and given the complexity of ISE licensing, I demand your help to figure out what license fits me bets betweenPremier,Advantage andEssentials.\", metadata={}),\n",
       " Document(page_content=\"tage andEssentials. |||| Essentials should cover everything you describe.https://www.cisco.com/c/en/us/products/collateral/security/identity-services-engine/guide-c07-656177.html |||| That's the site on which I spent a good amount of time, but I'm still not sure if DACL are included into the Essentials license\", metadata={}),\n",
       " Document(page_content='The issue is that the ISE keeps getting a licensing error message, even though there is no issue between the ISE and the internet. Keep getting this Licensing error message on a regular basis on the ISE 3.1 patch 3. See attached.There was no issue between the ISE and Internet around that time. |||| Hi@adamscottmaster2013,\\ndouble check your Licensing configuration (at Administration > System > Licensing) special attention to Connection Method.\\nIf you are using a Proxy, double check your configura', metadata={}),\n",
       " Document(page_content='check your configuration at Administration > System > Settings > Proxy.\\nNote: try different Connection Methods to verify your issue.\\nHope this helps !!! |||| I am NOT using proxy, the ISE has direct Internet access to https://tools.cisco.com, https://tools1.cisco.com and https://tools2.cisco.comAny other ideas?', metadata={}),\n",
       " Document(page_content='The issue is that the customer is migrating their ISE deployment to new VM servers and they are not sure how to handle the licenses. They are concerned that if they re-host the license during the second phase, it will affect the ISE service. Hi Guys,\\nI have 5x nodes running in VM in distributed deployment mode (PAN/PMnT, SAN/SMnT, 3x PSNs). Our old VM servers will need to be migrated to the new VM servers which means the ISE should be migrated also to the new VM servers. Connectivity between the', metadata={}),\n",
       " Document(page_content='ectivity between the old VM servers and new VM servers are not an issue.\\nMy plan is to have 2x phase approach, the 1st phase will be the SAN and 1x PSN then the 2nd phase will be the PAN and the other PSNs.\\n\\nBuild 2x new VM nodes in the new VM servers. These 2x new VM will be the new SAN and new PSN.\\nDeregister the SAN from the existing PAN and shutdown the SAN from the old VM servers.\\nConfigure the SAN in the new VM server with the same CLI configuration of the old SAN.\\nRe-register new SAN to t', metadata={}),\n",
       " Document(page_content='egister new SAN to the old PAN.\\nSame procedure will be done for the PSNs.\\n\\nMy question now is about the license as we are using Traditional License.\\n\\nSince I have a new SAN in the 1st phase which means it has a new serial number. Do I need to re-host the license already so that it will match the new serial number of the SAN then import it in the old PAN?\\nWhat will happen if I re-host and import the license during the 2nd phase? Will my ISE service be affected even though the discrepancy is only', metadata={}),\n",
       " Document(page_content='discrepancy is only in the SAN and not the PAN?\\n\\nThank you |||| Why not just vMotion them to the new hosts? |||| Hi@ahollifield, my customer does not want to use the cold migration strategy because they told me it does not work the last time they did that and they want to have at least a minimal downtime that is why we are building a new one in parallel per phases.', metadata={}),\n",
       " Document(page_content='The customer is confused about the different types of Cisco ISE 3 essential licenses and how to purchase them. Hello,During investigating Cisco ISE 3 essential licenses, I noticed that there are multiple PIDs can be purchased:ISE-E-LICorL-ISE-E-Scan anyone help me in this regard. are tier based licenses still need to be purchased based on the node quantities? or 1 ISE-E-LIC would be enough?This is really confusingThanks in advance |||| https://www.cisco.com/c/en/us/products/collateral/security/i', metadata={}),\n",
       " Document(page_content='ollateral/security/identity-services-engine/guide-c07-656177.html', metadata={}),\n",
       " Document(page_content='The issue being faced is that the user wants to use Cisco ISE to dynamically assign users to VLANs based on their device type. The user has a base license for Cisco ISE and one SSID with 802.1x authentication. They want to put users with corporate devices in VLAN 10 and users with guest devices in the guest VLAN. They have tried to use the dynamic ACL guide provided by Cisco, but it is not working. Hi,I have cisco ise base license , and one ssid with dot1x authentication.If anyone use corporate', metadata={}),\n",
       " Document(page_content=\"nyone use corporate device ,I want put them in vlan 10 if not I want put them guest vlan or just give them internet accessor just give them the privilege's of guest usersThanks |||| look at the guide below you may help you :\\n\\nhttps://www.cisco.com/c/en/us/support/docs/security/identity-services-engine/212419-configure-per-user-dynamic-access-contro.html |||| Hi,The above is dynamic acl ,this will not help\", metadata={}),\n",
       " Document(page_content='The issue is that the user is able to enable other tiers of licenses even though they only have essential licenses. This can cause problems because the user may not be able to use the features of the other tiers and may be in violation of the terms of their license agreement. Hi guys,Even if I have \"Essential\" Tier licenses, I saw that I can \"Enable\" other Tiers as well in Licensing page and practically get all the menus in ISE. With having onle Essential enabled, lot of menus/options are not ev', metadata={}),\n",
       " Document(page_content=\"s/options are not even accessible.I don't use any features of Advantage or Premier in Policy Set or any kind of policy so I don't consume those and I am not in violation practically, as only Essential is getting consumed.Is there any pros or cons of having other Tiers enabled, even they will not be in use? Am I getting better visibility, for example, in Endpoints page or anywhere else?Regards,Milos |||| No new functionality. Once the grace period expires, the menus will be hidden/blurred anyways\", metadata={}),\n",
       " Document(page_content='dden/blurred anyways. If you wish to use Profiling for better Context Visibility for example, you will need to purchase Advantage licensing. |||| check this FAQ : (is that helpful ?) - what features you looking, what kind of setup you have ?\\n\\n\\nEssentials, Advantage, and Premier licenses in ISE 3.0\\nhttps://www.cisco.com/c/en/us/products/collateral/security/identity-services-engine/qa-c67-744190.html', metadata={}),\n",
       " Document(page_content=\"The issue is that the customer is not sure if each user or the device they log on from consumes ISE base license or any other license type usage. Hi,\\n\\nI'm preparing a solution for Guest WiFi with users to be created on ISE through either sponsor or self service portal.\\n\\nMy question is, will each user or the device they log on from consume ISE base license or any other license type usage.\\n\\nis there any other consideration to be taken into account with this solution.\\n\\nSajid |||| you need to select\", metadata={}),\n",
       " Document(page_content='| you need to select correct license counts according to number of devices and features they are planning to use. you can use AAA, Guest sponsor features in Base license and if you are planning to use posture like features, it needs premier license. since these are concurrent licenses, you can purchase only for count of required quantity for concurrent access.\\ncheck this.\\nhttps://www.cisco.com/c/en/us/products/collateral/security/identity-services-engine/qa-c67-744190.html\\n |||| My question is,', metadata={}),\n",
       " Document(page_content='||| My question is, will each user or the device they log on from consume ISE base license or any other license type usage.\\n\\nuser and device are 2 different things, ise license is based on per session, each user can have multiple devices and multiple session. So as recommended keep the count based on consurrent sessions. For your use case base license is sufficient.', metadata={}),\n",
       " Document(page_content='The issue being faced is that the customer is planning to migrate from 2.4 to 3.1 and is concerned about how the licensing will be affected during the transition period. we have 2.4 in production with traditional licenses.\\nWe are building 3.1 in parallel, at some point within few days we will migrate the VMM license to common and base to essential.\\nMy question to community expert.\\n1. There is going to be a month of transition period as we migrate network from 2.4 to 3.1, will the traditional lic', metadata={}),\n",
       " Document(page_content='the traditional licenses on 2.4 be effected, if we change to common VM and essential, its only for this transition period where we will be running 2.4 with traditional and 3.1 with smart licenses both at the same time.\\n2. we have to reload MnT on 2.4 every month because of a current bug on 2.4, will there be any potential effect on licenses if the reload is done on MnT during transition period.\\n\\nThanks |||| Assuming your traditional licenses are PAK, and the 2.4 deployment is not using smart li', metadata={}),\n",
       " Document(page_content=\"s not using smart licensing, then those licenses will be unaffected. The 2.4 deployment will be unaware of any licensing changes you're making in the smart account or in preparation for 3.x.\\n#2, reloading the MNT, this will be fine, the 2.4 deployment will run as it always has for you. |||| Thanks Damien, yes it is PAK, that's what I thought but certainly doesn't hurt to have a second opinion.\", metadata={}),\n",
       " Document(page_content=\"The issue is that the customer wants to deploy ISE with 2 Policy Service Nodes (PSN) in HA, but they are not sure if they need to also deploy a Primary (and Secondary) Administration Node (PAN) and/or Monitoring Node (MtN). They are also not sure how many virtual machine licenses they need to buy. Dear Community, I'm desingning an ISE deployment for a regional company that have a big amount of network devices which they want to administrate using TACACS+ protocol, they want HA by installing 2 se\", metadata={}),\n",
       " Document(page_content=\"A by installing 2 servers in 2 different locations separated 200km, I've thought to implement ISE with 2 Policy Service Nodes (PSN), mounted over a virtual appliance running on 2 phisical servers, one at each location, due to the user wants Device Administration only. My questions for you are:1- Can 2 PSN be deployed and work in HA without install a Primary (and Secondary) Administration Node (PAN) and/or Monitoring Node (MtN)?2- If the 2 PSN are implemented I know that 2 Device Admin licences a\", metadata={}),\n",
       " Document(page_content=\"ice Admin licences are needed, however, I'm not sure how many virtual machine licenses I must to buy for both PSN, I mean, buying just one VM licence is enough and it can be installed twice (on each server), or I need to provide 2 VM licences, one for each server?3- If we are going to deploy just PSN, what about the endpoints licences?, we need 50,000 sessions, Do we need buy licenses for those endpoints?I'll be very glad of you can help me with this issueBest regards |||| Hi@mbolano,\\n1st each I\", metadata={}),\n",
       " Document(page_content=\"@mbolano,\\n1st each ISE Deployment MUST have:\\n1. at least one PAN\\n2. at least one MnT\\n3. one or more PSN\\nNote: all this Personas may be in one Standalone Node (PAN + MnT + PSN)\\n2nd if you have 'X' Node then you need 'X' VM Common License\\n3rdISE License Consumptions are based on Active Sessions. That is, any Endpoint without an Active Session is not counted !!!\\nPlease take a look at: Performance and Scalability Guide for ISE.\\n\\nHope this helps !!! |||| Hi Marcelo, thank you so much for your respons\", metadata={}),\n",
       " Document(page_content=\"uch for your response, it has cleared most of mydoubts, but in my case we want HA, and we have 2 physical servers.. and asyou mention we can deploy a standalone node with 3 persons, PAN, MtN & PSN.Could we deploy 2 nodes with those 3 persons for HA?.. if yes, how many VMlicenses we must to buy, 2 VM licenses?Our need (currently) is Network Device Administration using TACACS+ with HAby deploying 2 nodes located geografically separated. Is that posible ?Finally, I'm trying to create an estimate on\", metadata={}),\n",
       " Document(page_content='reate an estimate on CCW, I need to be sure therequired licensesThen licensing should be like:1 subscription license1 essentials license? (Or 2 essentials lic)?2 VM licenses2 Device Admin licensesService supportRight?Best regardsMario Bolaño', metadata={}),\n",
       " Document(page_content='The issue is that the customer is trying to figure out how many licenses they need for ISE. They have 200 phones with dual ports, 1500 wireless users, and 100 pcs which are connected to the phones. They want to authorize all of these devices and are wondering what type of license they should buy. Hi ,I have 200 phone with dual port , and 1500 wireless users and 100 pc which are connected to the phoneSo what is the total license require for ISEI want to authorize all those deviceWhat type of lice', metadata={}),\n",
       " Document(page_content='iceWhat type of license I should buyThanks |||| as per the information you need 802.1x authentication.\\n\\nSmall ISE deployment should work for you with Essential License , If you looking any profile Enforcement, then Advantage License needed \\n\\nlook below FAQ :\\n\\nhttps://www.cisco.com/c/en/us/products/collateral/security/identity-services-engine/qa-c67-744190.html |||| Hi,If I buyAdvantage license ,The number of devices still unlimited , or do I need to specify the numbersThanks', metadata={}),\n",
       " Document(page_content=\"The issue being faced is that the user is looking for a way to purge inactive endpoints from the database in order to keep it clean and tidy. Hi guys,Do you have any recommendation/best practice how to purge inactive endpoints from the database, in order to keep it clean and tidy, let's say, anything inactive for more then 100 days?I am running Cisco ISE 3.1 with Essential licensing.Thanks a lot!Milos |||| \\n- FYI :https://www.cisco.com/c/en/us/td/docs/security/ise/3-0/admin_guide/b_ISE_admin_3_0\", metadata={}),\n",
       " Document(page_content='uide/b_ISE_admin_3_0/b_ISE_admin_30_maintain_monitor.html#concept_0776B37A2C3542189950F5DFB1961FA2\\nM. |||| Hi marc1000,Thanks for reply, just referring to the manual is not very helpful in this case.I would like to see some real world examples for this, if someone is using any purge policy effectively in their deployment for purging inactive endpoints.', metadata={}),\n",
       " Document(page_content='The issue is that the person is not sure how to onboard the SNS-3695 appliance. They have a few steps in mind, but they are not sure if they are in the right order. They would like some guidance on the best way to onboard the appliance. Can you please assist to provide high-level SNS-3695 appliance onboarding steps? I got ISE 3.0 shipped along with appliances.I want to understand the sequential steps to be followed. I randomly put a few steps below, and I request your guidance and a few referenc', metadata={}),\n",
       " Document(page_content='e and a few reference guides, and sequential order of approach to onboard these nodes. 1. ISE 3.0 Patch install 2. Migrate from 3.0 to 3.1( unable to see existing patch version running on new nodes) 3. License Migration from 2.X to 3.X- Can both ISE 2.x and 3.X nodes can consume ISE smart licenses? 4. ISE node registration cert, migrate from self-signed to Public PKI cert 5 Create EAP and other Portal PKI cert  |||| Can you please assist to provide high-level SNS-3695 appliance onboarding steps?', metadata={}),\n",
       " Document(page_content='ce onboarding steps? I got ISE 3.0 shipped along with appliances.I want to understand the sequential steps to be followed. I randomly put a few steps below, and I request your guidance and a few reference guides, and sequential order of approach to onboard these nodes. 1. ISE 3.0 Patch install 2. Migrate from 3.0 to 3.1( unable to see existing patch version running on new nodes) 3. License Migration from 2.X to 3.X- Can both ISE 2.x and 3.X nodes can consume ISE smart licenses? 4. ISE node regis', metadata={}),\n",
       " Document(page_content='s? 4. ISE node registration cert, migrate from self-signed to Public PKI cert 5 Create EAP and other Portal PKI cert  |||| Start here:Cisco ISE & NAC Resources - Cisco Community\\n\\nSpecifically with the admin and installation guides. Step 1 should also be to re-image the 3695s with the 3.1 ISO as 3.1 is now the suggested release.\\n\\nYes multiple ISE deployments can consume from the same Smart Account / Virtual Account.', metadata={}),\n",
       " Document(page_content='The organization is upgrading their ISE from 2.4 to 3.0 and is having trouble converting base licenses to common licenses. Hello,My organization is currently in the process of upgrading our ISE from 2.4 to 3.0 but have ran into an issue when it comes to converting licenses. Are base licenses able to be converted into common licenses? |||| Hello,My organization is currently in the process of upgrading our ISE from 2.4 to 3.0 but have ran into an issue when it comes to converting licenses. Are bas', metadata={}),\n",
       " Document(page_content=\"ng licenses. Are base licenses able to be converted into common licenses? |||| These two don't relate to each other:\\n\\nCommon is the new VM-host license that replaces the small/medium/large that were used previously.\\nBase gets replaced by Essentials\\nBase+Plus gets replaced by Advantage\\nBase+Plus+Apex gets replaced by Premier\\n\\nhttps://www.cisco.com/c/en/us/products/collateral/security/identity-services-engine/ise-licensing-migration-guide-og.html\", metadata={}),\n",
       " Document(page_content='The issue is that the VM license is out of compliance, which means that there are fewer VM licenses installed than VM resources/VM nodes deployed. This can be fixed by working with the Cisco licensing team to confirm that you have authorization for the VM medium license and to fix any discrepancies with the virtual account not showing the correct numbers. VM License is Out of ComplianceFewer VM licenses installed than VM resources/VM nodes deployed.Check your Smart Account and/or contact your Ci', metadata={}),\n",
       " Document(page_content='d/or contact your Cisco Sales Representative.Smart Software LicensingThe Virtual Account \"DEFAULT\" reported a shortage of 1 \"ISE VM\" license.2022-Apr-18 05:56:23 System1 new \"Cisco ISE Virtual Machine Medium\" perpetual license was added to the Virtual Account \"DEFAULT\" via Smart License Conversion (PAK:32R9H3R5C3X)  2022-Apr-18 05:56:23 00u4kfo180rUhYCIi5d7Question 1: There was a VM license in the smart account before. During this period, I loaded it on ISE without any problem, but when I checke', metadata={}),\n",
       " Document(page_content='m, but when I checked it again, ISE showed that it was not compliant, so I deleted it in the smart account, and then there was no problem It is restored, how can I solve the problem of my ISE vm license non-compliance alarm, my authorization file is R-ISE-VMM-K9= Cisco ISE Virtual Machine Medium |||| VM License is Out of ComplianceFewer VM licenses installed than VM resources/VM nodes deployed.Check your Smart Account and/or contact your Cisco Sales Representative.Smart Software LicensingThe Vir', metadata={}),\n",
       " Document(page_content='are LicensingThe Virtual Account \"DEFAULT\" reported a shortage of 1 \"ISE VM\" license.2022-Apr-18 05:56:23 System1 new \"Cisco ISE Virtual Machine Medium\" perpetual license was added to the Virtual Account \"DEFAULT\" via Smart License Conversion (PAK:32R9H3R5C3X)  2022-Apr-18 05:56:23 00u4kfo180rUhYCIi5d7Question 1: There was a VM license in the smart account before. During this period, I loaded it on ISE without any problem, but when I checked it again, ISE showed that it was not compliant, so I d', metadata={}),\n",
       " Document(page_content='ot compliant, so I deleted it in the smart account, and then there was no problem It is restored, how can I solve the problem of my ISE vm license non-compliance alarm, my authorization file is R-ISE-VMM-K9= Cisco ISE Virtual Machine Medium |||| I would recommend working with Cisco licensing team first, confirm with necessary proof that you have authorisation for VM medium license. If there are any discrepancies with the virtual account not showing the correct numbers, they will assist in fixing', metadata={}),\n",
       " Document(page_content='ill assist in fixing them.', metadata={}),\n",
       " Document(page_content='The issue being faced is that the user needs to upgrade a 2 nodes deployment (VM) that run 2.7 to 3.0 (or 3.1) and they are not sure if they need to convert the old fashion license to new mode (Essential, Advantage...) before the upgrade or they can do this after the upgrade. Dear community,I need to upgrade a 2 nodes deployment (VM) that run 2.7 to 3.0 (or 3.1)The ISE deployment is already using Smart Licensing with base licenses.We are quite clear with the upgrade procedure, but have some ques', metadata={}),\n",
       " Document(page_content=', but have some questions with licenses.Do we need to convert the old fashion license to new mode (Essential, Advantage...) before the upgrade or we can do this after the upgrade?Any special thing to take into consideration with the license upgrade porcess ?Also, for the new VM license mode (if we go to 3.1) , do we neeed to upgrade to the new VM licence mode before or after the upgrade?Any feedback?Thanks |||| Dear community,I need to upgrade a 2 nodes deployment (VM) that run 2.7 to 3.0 (or 3.', metadata={}),\n",
       " Document(page_content='un 2.7 to 3.0 (or 3.1)The ISE deployment is already using Smart Licensing with base licenses.We are quite clear with the upgrade procedure, but have some questions with licenses.Do we need to convert the old fashion license to new mode (Essential, Advantage...) before the upgrade or we can do this after the upgrade?Any special thing to take into consideration with the license upgrade porcess ?Also, for the new VM license mode (if we go to 3.1) , do we neeed to upgrade to the new VM licence mode', metadata={}),\n",
       " Document(page_content='new VM licence mode before or after the upgrade?Any feedback?Thanks |||| Do we need to convert the old fashion license to new mode (Essential, Advantage...) before the upgrade or we can do this after the upgrade?\\nAny special thing to take into consideration with the license upgrade porcess ?\\nAlso, for the new VM license mode (if we go to 3.1) , do we neeed to upgrade to the new VM licence mode before or after the upgrade?\\n-Regardless of what version you migrate to you will need to migrate from e', metadata={}),\n",
       " Document(page_content='ed to migrate from existing old model to new model for licensing support. This will require TAC in order to assist with this process. In my experiences TAC has actually suggested to do it post-upgrade. Note that in doing so you will be out of compliance for a short window. However, there should be no harm to features/services/etc. as your nodes would fall under the eval window. However, you will upon logging in see a license warning banner. Overall, from my experiences with migrating the license', metadata={}),\n",
       " Document(page_content='igrating the licenses from 2.x to 3.x model everything is smooth and honestly rather easy when working with TAC. My suggestion would be to take a look at the following, and work with TAC.\\nAdditional info:\\nCisco Identity Services Engine - Cisco ISE License FAQ - Cisco\\nProducts - ISE Licensing Migration Guide - Cisco', metadata={}),\n",
       " Document(page_content='The user wants to know if a C9200 with essentials license can use ISE (via Radius) for network access control. Do you know if a C9200 with essentials license can use ISE (via Radius) for network access control?I have ISE via radius configured as my AAA server. Each switch port applies authentication and access-session commands.I know the Advanced 9200 can, but i wanted to check regarding essentials. |||| Do you know if a C9200 with essentials license can use ISE (via Radius) for network access c', metadata={}),\n",
       " Document(page_content='for network access control?I have ISE via radius configured as my AAA server. Each switch port applies authentication and access-session commands.I know the Advanced 9200 can, but i wanted to check regarding essentials. |||| Essential should work for you. (never tested on Cat 9200) - Cat 9300 ok\\n\\nTable 10.Network essentials and advantage package features\\n\\nhttps://www.cisco.com/c/en/us/products/collateral/switches/catalyst-9200-series-switches/nb-06-cat9200-ser-data-sheet-cte-en.html#Licensing', metadata={}),\n",
       " Document(page_content=\"Jordan Aldrich is looking for a way to download the Cisco ISE image for his lab environment. Does anyone know where to download the Cisco ISE image? I can't find it anywhere on cisco.com. It would be great to have this for my lab env. |||| @jordanaldrich you can download it here - https://software.cisco.com/download/home/283801620/type/283802505/release/3.1.0\\nYou just need a Cisco account to login to download it, you get a 90 day license. |||| https://cs.co/ise-software\\nEvery ISE installation co\", metadata={}),\n",
       " Document(page_content='ISE installation comes with a 90-day trial of all licenses.\\nSee https://cs.co/ise-licensing for all Licensing needs.', metadata={})]"
      ]
     },
     "execution_count": 20,
     "metadata": {},
     "output_type": "execute_result"
    }
   ],
   "source": [
    "docs"
   ]
  },
  {
   "cell_type": "code",
   "execution_count": 6,
   "metadata": {},
   "outputs": [
    {
     "data": {
      "text/plain": [
       "Index(['topic', 'doc', 'post_x_coordinate', 'post_y_coordinate', 'user',\n",
       "       'topic_id', 'topic_name', 'post_url', 'post_preview', 'class',\n",
       "       'analysis_window', 'quarter_for_analysis', 'conversation_id', 'text',\n",
       "       'summary_text', 'tag'],\n",
       "      dtype='object')"
      ]
     },
     "execution_count": 6,
     "metadata": {},
     "output_type": "execute_result"
    }
   ],
   "source": [
    "df.columns"
   ]
  },
  {
   "cell_type": "code",
   "execution_count": 41,
   "metadata": {},
   "outputs": [],
   "source": [
    "from bs4 import BeautifulSoup\n",
    "import requests"
   ]
  },
  {
   "cell_type": "code",
   "execution_count": null,
   "metadata": {},
   "outputs": [],
   "source": []
  },
  {
   "cell_type": "code",
   "execution_count": 13,
   "metadata": {},
   "outputs": [
    {
     "data": {
      "text/plain": [
       "class\n",
       "Implement             667\n",
       "Design/Integration    191\n",
       "Upgrade               107\n",
       "Licensing              74\n",
       "Name: count, dtype: int64"
      ]
     },
     "execution_count": 13,
     "metadata": {},
     "output_type": "execute_result"
    }
   ],
   "source": [
    "df['class'].value_counts()"
   ]
  },
  {
   "cell_type": "code",
   "execution_count": 14,
   "metadata": {},
   "outputs": [
    {
     "data": {
      "text/plain": [
       "Index(['topic', 'doc', 'post_x_coordinate', 'post_y_coordinate', 'user',\n",
       "       'topic_id', 'topic_name', 'post_url', 'post_preview', 'class',\n",
       "       'analysis_window', 'quarter_for_analysis', 'conversation_id', 'text',\n",
       "       'summary_text', 'tag'],\n",
       "      dtype='object')"
      ]
     },
     "execution_count": 14,
     "metadata": {},
     "output_type": "execute_result"
    }
   ],
   "source": [
    "df.columns"
   ]
  },
  {
   "cell_type": "code",
   "execution_count": 15,
   "metadata": {},
   "outputs": [],
   "source": [
    "df = df[(df['class'] == class_name) & (df['analysis_window'] == 'annual')]"
   ]
  },
  {
   "cell_type": "code",
   "execution_count": 16,
   "metadata": {},
   "outputs": [
    {
     "data": {
      "text/plain": [
       "(74, 16)"
      ]
     },
     "execution_count": 16,
     "metadata": {},
     "output_type": "execute_result"
    }
   ],
   "source": [
    "df.shape"
   ]
  },
  {
   "cell_type": "markdown",
   "metadata": {},
   "source": []
  },
  {
   "cell_type": "code",
   "execution_count": 206,
   "metadata": {},
   "outputs": [],
   "source": [
    "from bs4 import BeautifulSoup\n",
    "def remove_html_tags(text):\n",
    "        soup = BeautifulSoup(text, 'html.parser')\n",
    "        return soup.get_text()"
   ]
  },
  {
   "cell_type": "code",
   "execution_count": 207,
   "metadata": {},
   "outputs": [],
   "source": [
    "docs = [remove_html_tags(d) if isinstance(d, str) else '' for d in df['text'].values]"
   ]
  },
  {
   "cell_type": "code",
   "execution_count": 208,
   "metadata": {},
   "outputs": [],
   "source": [
    "for d in docs:\n",
    "    if not isinstance(d, str):\n",
    "        print(d)"
   ]
  },
  {
   "cell_type": "code",
   "execution_count": 209,
   "metadata": {},
   "outputs": [],
   "source": [
    "import re \n",
    "\n",
    "docs = [re.sub(r'\\xa0', '', doc) for doc in docs]"
   ]
  },
  {
   "cell_type": "code",
   "execution_count": 210,
   "metadata": {},
   "outputs": [],
   "source": [
    "df['text'] = docs"
   ]
  },
  {
   "cell_type": "code",
   "execution_count": 211,
   "metadata": {},
   "outputs": [
    {
     "data": {
      "text/plain": [
       "'Hello Folks,\\n\\nQuick question. I have purchased DNA Advantage licenses for Cisco SD-Access deployment. With SD-Access, we already have ISE 3.x Essential licenses. The question is do I also need to purchase ISE Advantage license? As mentioned on Cisco ISE 3.x licensing structure, it says that to use pxGrid (with DNA-C - no pxGrid Cloud required in my case) and TrustSec (Group-based Access Policy), I need ISE advantage licenses. Can someone please clarify based on their experience. |||| check this matrix will helo you depends what feature you looking to implement :\\nhttps://www.cisco.com/c/m/en_uk/products/software/dna-subscription-switching/en-sw-sub-matrix-switching.html Hello All,\\nStarting to get into ISE and DNA and a couple of queries if someone can point me in the right direction. There is a lot of content on both subjects and I cant quite piece together where DNA Center is necessary when it comes to SDA. For example do I need DNA Center to implement Trustsec, SGT\\'s and Posture? From what I can determine ISE covers this and DNA Center is more monitoring along with some Admin integration or am I miss-understanding.\\nAlso, from a licensing perspective if I were to use Cisco 9200\\'s in my lab for my edge switches to achieve SGT and Posture I just need the Network Essential\\'s or is it necessary to have Network Advantage licensing? I appreciate I\\'ll need the DNA Advantage term license but not be needed if DNA Center not used.\\nHas anyone a link that explains in more detail or a brief summary?\\nThanks in advance\\nDave |||| Hi Dave. Manually (by hand on the CLI, without DNA Center) deployed wired and wireless Cisco infra with ISE will give you capability to implement Group-Based Policy (aka TrustSec), SGT and posture.\\nNetwork Advantage and DNA Advantage is required for GBP in C9K switches.\\nIf you choose to proceed with DNA Center and SD-Access you will get automation of the fabric (no manual deployment) which natively support GBP and Network Virtualisaiton, Assurance, Endpoint Analytics, Trust Analytics and Group-Based Policy Analytics. If you\\'re not sure what those things are then searching some of the most recent presentations on ciscolive.com would be a good way to learn.\\nIn short: deployment and visibility of campus networks, GBP and SGT is easier with DNA Center. |||| Thanks jedolphiI appreciate you providing some clarity which is very helpful. I have question about ISEI have ISE essential and want to enable policy based enforcement.Does the essential license support this or i must upgrade to Advantage?Thanks in advance. |||| if any one share with me link for my question i will be highly appreciated |||| Hi\\n\\nCisco ISE license models and types are as it follows:\\nCisco ISE Essentials licenseprovides user visibility and enforcement features including AAA and 802.1X, Guest (Hotspot, Self-Reg, Sponsored) and Easy Connect (PassiveID).\\nCisco ISE Advantage licenseenables all Essentials features plus following capabilities:\\n\\nContext Sharing (pxGrid Out/In)\\nProfiling Enforcement\\nAI Endpoint Analytics Enforcement\\nGroup-Based Policy (TrustSec)\\nBYOD (+CA, +MDP)\\nRTC (ANC)\\nProfiling Visibility\\nAI Endpoint Analytics Visibility\\nUser-Defined Network for Cloud\\n\\nCisco ISE Premier licenseis full stack license including all Advantage features plus following capabilities:\\n\\nPosture Visibility and Enforcement\\nMDM Visibility and Enforcement\\n\\n\\nTC-NAC Visibility and Enforcement\\n\\nFrom the DNA perspective, you can Hi guys,I am running two node deployment with fresh ISE 3.1 patch3 installation.I am getting every few days alarm like this:Alarms: Smart Licensing Authorization Renewal Failure, with description when I open the alarm \"Smart Licensing Authorization Renewal Failure: Details=Communication send error.\"I have checked firewall, there is no block from ISE servers and communication is allowed in the exact timestamp of the alarm (I can see in the firewall logs).Also I see in Licensing page, in \"Last Authorization\" column that there was successful authorization few hours after the alarm timestamp.Anyone else experiencing similar behavior? Is it a bug and is there some workaround?It\\'s not affecting production in any way, just I am getting alarms approx. every second day for this matter.Thanks a lot in advance!Regards,Milos |||| Yup, this is a common issue across multiple Cisco Smart Licensed products; not just ISE. It seems to be related to the backend Smart Licensing systems. Not sure if its unable to handle the load from customer products, some sort of DDoS protection, or what. These can be safely ignored as ISE does have a grace period. |||| Hi,I couldn\\'t find any pattern in this, apart that it\\'s happening every day or every second day, although as I said, not having any impact on production, as next authorization following the failed one is generally always being successful.Regards,Milos I want to smart license my ISE box which ia not having direct connectivity to internet.Please let me know can we do that. |||| You can use a Proxy Server or the CSSM-On Prem\\n\\nUsing Cisco Smart Software Manager (CSSM) On-Prem for Smart Licensing in Air-Gapped Networks |||| Hi Charlie,We are not having proxy set up as well. If we want to open the firewall ports then i found thw below domains need to be opened in one of the document over 443 and 80 ports.Tools.cisco.comWww.cisco.comBut when i checked the deny logs in the firewall, the hits are towards tools1.cisco.com,tools2.cisco.com,..etcCan you please help me withthe exact domains which needs to be opened in the firewall. We currently have 2 physical ISE appliances, we plan to add an additional one and will be hosted in AzureI am aware of the cost to the VM in Azure but confused a bit on the ISE license requirements. We are on the smart licensing on the current ISE devicesWhat is the cost of a VM license for ISE Hello,I migrated my ISE installation from v2.4 and traditional licenses to v3.1 with patch 3 and smart licenses.All is working well, but the two licenses for VM based nodes do not work.I transfered the traditional VM medium licenses to the smart account. I can see them in the Software Central.2xCisco ISE Virtual Machine Medium with SKU R-ISE-VMM-K9= and no product instances mapped. Means 2 of 2 are available.That makes sense for me.But the ISE server seems to request a different thing from the smart licensing system.The license is called only \"ISE VM\" if I check the product instance of my ISE.If I search in the licenses folder of my virtual account, I also see these two names for the VM licenses.Seems that Cisco has a naming mismatch here? How can I fix that?Thanks a lot! |||| You need to convert them to the VM Common (VMC License). A licensing TAC Case should be able to help out. With native Cloud support for AWS added in 3.1, the small, medium, large licenses have been replaced with a single license.\\n |||| Ask your reseller to order 2 each of the $0 SKU \"L-ISE-VMC-UPG=\". Once deposited in your Smart Account you can convert the old style VM Medium license to the common license (the type required by ISE 3.1+). Dear All,We are planning to upgrade Cisco ISE from 2.7 to 3.1. I am using Cisco SNS-3615-K9. Currently, we have base licenses only. My question is about the licenses.As I know that I need to convert from traditional PAK to smart licenses and my converted licenses from BASE toEssential. So questions are:1. Will my converted Essential licenses will be expired on 31-Oct-2023? If yes, Do I need to purchase or renew or extendEssential licenses again?2. As I am using Hardware Device 3615, Do I also need to purchase VM license as Common/Small/Medium/Large? |||| Dear All,We are planning to upgrade Cisco ISE from 2.7 to 3.1. I am using Cisco SNS-3615-K9. Currently, we have base licenses only. My question is about the licenses.As I know that I need to convert from traditional PAK to smart licenses and my converted licenses from BASE toEssential. So questions are:1. Will my converted Essential licenses will be expired on 31-Oct-2023? If yes, Do I need to purchase or renew or extendEssential licenses again?2. As I am using Hardware Device 3615, Do I also need to purchase VM license as Common/Small/Medium/Large? |||| SNS-3615-K9 - are you looking to Upgrade on this device or you looking to create a new VM with 3.1\\ncheck the release notes for the support of hardware appliance :\\nhttps://www.cisco.com/c/en/us/td/docs/security/ise/3-1/release_notes/b_ise_31_RN.html\\n1. Will my converted Essential licenses will be expired on 31-Oct-2023? If yes, Do I need to purchase or renew or extendEssential licenses again?\\n- as per I know if the License have validity you can use same License. and convert to smart License.\\n2. As I am using Hardware Device 3615, Do I also need to purchase VM license as Common/Small/Medium/Large?\\n- if you are using same hardware you do not need any further, you can upgrade or re-image exiting kit.\\n- even if you looking to create new VM, you can migrate your License from hardware to VM as per I know.\\nS/M/Large depends on requirement, look at the sizing guide :\\nhttps://www.cisco.com/c/en/us/td/docs/security/ise/performance_and_scalability/b_ise_perf_and_scale.html\\n Hello Guys,\\ni\\'ve a cisco ISE deploy running version 3.0 and patch7.After setting up the cluster everything\\'s working fine but i\\'ve got the following warning \"“Fewer VM Licenses installed than VM Resources/VM Nodes deployed\".All nodes are running with a small vm license and with 32gb of ram and 16 cpu on Vmware, i found the following picture on the documentation and i was wondering if this could be the cause of the warning.\\n\\nDo i have to decrease the cpu fro 16 to 12?If I continue to disregard this warning, will it stop the operation or will it remain just a cosmetic warning?(i\\'ve not migrated my VM Small license to the VM Common license yet)\\n\\n\\u2003Thank you\\n\\n |||| Hello Guys,\\ni\\'ve a cisco ISE deploy running version 3.0 and patch7.After setting up the cluster everything\\'s working fine but i\\'ve got the following warning \"“Fewer VM Licenses installed than VM Resources/VM Nodes deployed\".All nodes are running with a small vm license and with 32gb of ram and 16 cpu on Vmware, i found the following picture on the documentation and i was wondering if this could be the cause of the warning.\\n\\nDo i have to decrease the cpu fro 16 to 12?If I continue to disregard this warning, will it stop the operation or will it remain just a cosmetic warning?(i\\'ve not migrated my VM Small license to the VM Common license yet)\\n\\n\\u2003Thank you\\n\\n |||| hello@MaErre21325, the warning that you have right now is cosmetic and it won\\'t affect your operations that you are doing with ISE, in order to get rid off the alarm it will be required that you do the conversions of licensing that you mentioned in your previous post .\\nLet me know if that helped you . hello.I am trying to set up ISE 3.1 Radius authentication.\\nWhen logging in to the WLC\\'s admin page, the admin account created by ISE is used, and AD users should not be able to log in.You must be able to use the linked AD account when connecting to the wireless AP and using the wireless service.\\nHow should policy sets be configured in relation to the corresponding policy settings? |||| Hi,1. My advise you should use TACACS if you have device admin license on ISE for device administration. Then you create policy in Device Admin Policy set using Internal users as identity store.2. To setup authentication on wireless you can configure policies in policy set and setup authorization using AD groups or other conditions.You have provided very less information in the post. If you provide more info would be better. Hallo All,\\nBeing new to ISE , we want to install one Cisco ISE Cluster with assistance of cisco partner. The consideration for us are following:-\\nNumber of licenses required for endpoints\\nWhich feature we required for ISE\\nDeployment ISE nodes with which features required to be installed like PSN, MNT , PAN\\nIntegration for AD for remote /Wireless Access/DNAC/\\nWhat could be other things needs to be consider before going for installation and furhter steps.\\nWith Regards\\nDEV |||| \\n- To be honest if you have a solid partner with close contact to Cisco , then the purpose is that the partner will be able to assist you with all those questions , here is some sample document :https://www.ciscolive.com/c/dam/r/ciscolive/us/docs/2019/pdf/BRKSEC-2430.pdf, bit date, but figures related to scaling are probably still applicable.\\nM. |||| Along with the mentioned document, you can also check for below knowledge base article:\\nhttps://community.cisco.com/t5/security-knowledge-base/ise-planning-amp-pre-deployment-checklists/ta-p/3622635\\nPoonam\\n Hallo All,\\nBeing new to ISE , we want to install one Cisco ISE Cluster with assistance of cisco partner. The consideration for us are following:-\\nNumber of licenses required for endpoints\\nWhich feature we required for ISE\\nDeployment ISE nodes with which features required to be installed like PSN, MNT , PAN\\nIntegration for AD for remote /Wireless Access/DNAC/\\nWhat could be other things needs to be consider before going for installation and furhter steps.\\nWith Regards\\nDEV |||| Good to start with deployment guide and roles :\\nhttps://www.ciscolive.com/c/dam/r/ciscolive/us/docs/2020/pdf/DGTL-BRKSEC-3432-reference.pdf\\nIf you looking 2 Node deployment, so both will be act as all roles.\\nLook at the License :\\nhttps://www.cisco.com/c/en/us/products/collateral/security/identity-services-engine/guide-c07-656177.html\\n I have a customer who owns ISE admin but not FTD admin so they want to do dACL for RA VPN so they can skip the Access Control Policy on FTD. (So the less they have to ask to the FTD team the better).They want AD integration for authentication but also need a local database for non-corporate users (external users).\\nCan they have both AD and local authentication and authorization done through ISE (so FTD would just reference ISE for both)?I\\'m thinking FTD authentication should go to ISE and ISE would check with AD, if user is not in AD then check local user base).\\n(then they will add DUO MFA... but I guess I\\'ll post that with DUO after this is confirmed...)\\nP.S. Does dACL require posture capable license? |||| Yeah the internal users would be moved into ISE, then your ISE policy would reference AD and internal users.\\ndACL does not require Premier Licenses. Hello DearsI have cisco ISE joined to Active Directory (AD), i need to make switch authentication using groups and users in AD through the ISE device , could anyone help me with this regardBests |||| Does your ISE deployment have the Device Administration license? That\\'s required to enable the TACACS server features on it.\\nGiven that, just about everything you\\'d want to know can be found in this guide:\\nhttps://community.cisco.com/t5/security-documents/cisco-ise-device-administration-prescriptive-deployment-guide/ta-p/3738365 What kind of licenses does ISE 3.x consume with PxGrid for the integration with Forescout? Essential, Advantage or Premier?\\nThanks\\nMarco |||| What kind of licenses does ISE 3.x consume with PxGrid for the integration with Forescout? Essential, Advantage or Premier?\\nThanks\\nMarco Hello,\\nI\\'m finding pxgrid license information very confusing.\\nOn the ordering guide, table 2 says pxgrid does not consume a license but on the license guide it states the following:\\n\"pxGrid is used to share context collected by ISE with other products. A Plus license is required to enable pxGrid functionality. There is no session count decrement when context for session is shared. However, to use pxGrid, the number of Plus sessions licensed must be equal to the number of Base sessions licensed. For more information, see Cisco ISE Licenses and Services section inCisco Identity Services Engine Ordering Guide.\"\\nIn my deployment i see zero PLUS licenses being consumed despite using pxgrid for context sharing with third-party solutions.\\nNow I\\'m due to renew my Plus licenses, can I assume I could renew only the bare minimum for Pxgrid to be active or it should be the same number I currently have for BASE? |||| Enforcement != Compliance. pxGrid context sharing requires a Plus/Advantage license per endpoint shared through pxGrid to remain in compliance. Is ISE not performing active authentication in your deployment? See here:https://www.cisco.com/c/en/us/products/collateral/security/identity-services-engine/guide-c07-656177.html#214Contextexchangelicensingrequirements\\n\\nNote:Each active endpoint’s context shared with an external system will consume an Advantage license. Each active endpoint session information shared with an external system will need a 1:1 Advantage license. For example, when a Windows laptop authenticates via 802.1X, one Essentials license is consumed. If this endpoint’s context is shared with Cisco Stealthwatch or NGFW, one additional Advantage license will be consumed. |||| Hello,\\nStill not clear because I have more base licenses than plus licenses and no warnings of out of compliance so this tells me that I can have the bare minimum of plus just to keep pxgrid working.\\nIs there any document that describes what happens when you do no renew a plus license? for exemple, I believe my pxgrid use will be out of compliance for 45 days and then the setting will still be there but as read only and I cannot do anything new.\\nWould that be correct? Hello,\\nI have Cisco ISE 2.7 in HA (VMs) with 25000 Base licenses and Device admin license.\\nI have a question regarding licensing: If we do not upgrade to version 3.1 should we be able to use ISE after October 31 2023?\\n |||| Smart Licensing is available on 2.7 as well. You can convert your existing licenses to a smart account and register ISE with smart licensing. |||| I understand, but if we do not convert licenses to smart and continue to use product as is, will we have problems after October 31? Hi AllHope you are doing wellIm planning to deploy Cisco ISE 3.0 for Device admin and guest access. Planning to install and pair of PAN,MNT and PSN will be installed at 2 location for redundancy.I was just going through few documents which says for guest access best practice is to deploy PSN in DMZ.Want to confirm if as i have already ordered 4 ISE VM with Tacacs and Advantage Subscription can you please suggest the best way to deploy ISE with Device admin and Guest access |||| @Bhardwajp refer to the ISE Guest deployment guide, this has several deployment options. You could either have dedicated PSN in the DMZ or the PSN in the LAN with an interface in the DMZ. It depends on your environment and what you requirements from a security perspective.\\nhttps://community.cisco.com/t5/security-knowledge-base/ise-guest-access-prescriptive-deployment-guide/ta-p/3640475#toc-hId-1418163900\\n |||| hi@Bhardwajp, it would depend mostly on the kind of deployment you want to create and your needs, in any case you might need to review that the ports related to guess/radius and tacacs are not being blocked among your network, please refer tohttps://www.cisco.com/c/en/us/td/docs/security/ise/3-0/install_guide/b_ise_InstallationGuide30/b_ise_InstallationGuide27_chapter_0110.pdf\\nAs per the licensing that you acquired, this is ok as the Guess flows uses essential licensing which is already contained on the Advantage licensing you got, and the device administration ones are the ones that will be used by tacacs, for your referencehttps://www.cisco.com/c/en/us/td/docs/security/ise/3-0/admin_guide/b_ISE_admin_3_0/m_Licensing30.html.\\nRate and comment if that helped you. Hi All,We are upgrading our 2.7 deployment to 3.1 patch 4. Will there be any licensing issues while doing the upgrade node by node from CLI, since there is a license structure change in 3.x versions? Also, during the upgrade some nodes will be having 2.7 version and others will be having 3.1 version. At this time, will there be any issues? |||| You need to get your license converted to the new model before upgrading as the old licensing model won\\'t work with ISE 3.x. You can rollback to old licensing model if required.\\nYou can refer this document for license conversion. |||| hi@Gouthami Nair, you are correct when you say that there is a change of licensing scheme between ISE 2.X and ISE 3.X versions, you might have to convert the licenses that you have from your 2.7 in valid licenses for 3.1 , please refer tohttps://www.cisco.com/c/en/us/products/collateral/security/identity-services-engine/ise-licensing-guide-og.htmlor contact TAC licensing team in case you need help during these conversions.\\nNow related to your other queries, when you upgrade from a 2.X version to a 3.X version the ISE by default will give you a 90 day trial to convert/acquire the corresponding licensing your environment needs with base on your flows configured , the upgrade can be done in several ways (one including the CLI that you mention) more information can be seen herehttps://www.cisco.com/c/en/us/td/docs/security/ise/3-1/upgrade_guide/HTML/b_upgrade_method_3_1.html, at the end you will have the same result and evaluation trial licensing while upgrading, so having this trial version into account you can have a split environment between 2.7 and 3.1 without no issue during the trial period.\\nRate and comment if that helped you. Hello! I have a question about Cisco ISE Licensing. I have 200 ISE Essentials licenses and i have registered them in my ISE system. Now in cisco.com account it shows that there is 196 license in balance. I don\\'t understand where these four licenses left. There is no any guest connection, autherithation etc, that can use license. I attach screenshot from cisco.com Hi to all,i started getting the messages you see at the bottom of the thread in my ISE 2.7.0.356 with patches 1,2,4 installed.I downloaded a new token in order to register the system, but nothing changed. I also deregistered and registered the system , nothing changed also.The funny thing is that it mentions \"Evaluation period of Smart Licensing has expired.\" probably due to deregistration/registration i did.I recall in the past there were some changes in cisco server and there was a certificate issue, maybe the same situation holds true about ISE?The system worked just fine 5 years now in conjunction with smart software central.Any help appreciated.ThanksDitter.++++++++++++++++++++++++++++++++++++++++++++++++++++++++++++++++++++++++++++++Alarm Name :Smart Licensing Evaluation Period ExpiredDetails :Smart Licensing evaluation period expired: Details=Smart Licensing evaluation period expiredDescription :Evaluation period of Smart Licensing has expired.Severity :CriticalSuggested Actions :Refer to the ISE License Administration page to register ISE with Cisco Smart Software Manager.*** This message is generated by Cisco Identity Services Engine (ISE) *** |||| Hi to all,i started getting the messages you see at the bottom of the thread in my ISE 2.7.0.356 with patches 1,2,4 installed.I downloaded a new token in order to register the system, but nothing changed. I also deregistered and registered the system , nothing changed also.The funny thing is that it mentions \"Evaluation period of Smart Licensing has expired.\" probably due to deregistration/registration i did.I recall in the past there were some changes in cisco server and there was a certificate issue, maybe the same situation holds true about ISE?The system worked just fine 5 years now in conjunction with smart software central.Any help appreciated.ThanksDitter.++++++++++++++++++++++++++++++++++++++++++++++++++++++++++++++++++++++++++++++Alarm Name :Smart Licensing Evaluation Period ExpiredDetails :Smart Licensing evaluation period expired: Details=Smart Licensing evaluation period expiredDescription :Evaluation period of Smart Licensing has expired.Severity :CriticalSuggested Actions :Refer to the ISE License Administration page to register ISE with Cisco Smart Software Manager.*** This message is generated by Cisco Identity Services Engine (ISE) *** |||| check here most of the FN:\\nhttps://www.cisco.com/c/en/us/support/security/identity-services-engine/products-field-notices-list.html\\ncheck the communication to the cisco License Server and verify the settings again :\\nsuggested steps :\\ninAdministration > System > Licensingtry to:\\n1. update theSmart Licensing Registration... clicking theUpdatebutton\\n2.deregisterandregistertheSmart Licensing(you will need theRegistration Tokenfor that)\\n\\nNote: pay attention to yourSmart Licensing Registration-Connection Method(Direct HTTPS,HTTPS ProxyorTransport Gateway).\\nhttps://www.cisco.com/c/en/us/td/docs/security/ise/2-7/admin_guide/b_ise_27_admin_guide/m_ise_man_license.html\\nThe bug should have fixed by now :\\nCSCwa13877 : Bug Search Tool (cisco.com) Hi guys,\\n\\ni have a cluster on two ISE Vm (small size) in a datacenter\\nI have to move this vm to another DC (anotner vmware clusetr) same configuration but different ip\\nI\\'m using smart license but i\\'m not sure how to handle license moving\\nCan you kindly provide any tips about how to proceed?\\nregards\\n\\n\\n |||| Hi guys,\\n\\ni have a cluster on two ISE Vm (small size) in a datacenter\\nI have to move this vm to another DC (anotner vmware clusetr) same configuration but different ip\\nI\\'m using smart license but i\\'m not sure how to handle license moving\\nCan you kindly provide any tips about how to proceed?\\nregards\\n\\n\\n |||| ISE doesn\\'t support snapshots, What I suggest is to do:1. Take configuration backup of your primary ISE node. Also take an operational backup (optional if you want your logs).2. Prepare the new ISE VMs in the new location. 3. Restore the configuration backup.\\nRegarding the licenses, it should be okay once you register the new VMs to your smart account as the new nodes would stop consuming them once you decommission them.Just make sure that the versions are the same or compatible if you want to restore the configuration on the new nodes.For example: you can restore 2.7 backup on a node running 3.1 but you can\\'t do the same with a backup taken from a node running 2.4. I have two physical 3615 ISE nodes. As I understood they by default come shipped with version 2.6.I have just tried to get the license for both nodes from the PAK. In the wizard I have to supply the Product Id, Version Id and Serial Number.In the wizard I filled in the details for the Primary node, an Add button appeared but I didn\\'t click it, as below the Primary node parameters there were fields for the Secondary node to be filled in. I filled these in, and clicked next to finish the process.After I downloaded the license, I saw that only one license was fulfilled. So I tried to start the wizard again to generate the license for the Secondary node, I filled in the Secondary fields, but the wizard won\\'t let me continue by clicking next. The Primary Node has * next to it, but I already generated that one before.How do I solve this issue? I can\\'t seem to generate a license for the Secondary Node now.I want to use both ISE nodes for Device Administration. |||| I have two physical 3615 ISE nodes. As I understood they by default come shipped with version 2.6.I have just tried to get the license for both nodes from the PAK. In the wizard I have to supply the Product Id, Version Id and Serial Number.In the wizard I filled in the details for the Primary node, an Add button appeared but I didn\\'t click it, as below the Primary node parameters there were fields for the Secondary node to be filled in. I filled these in, and clicked next to finish the process.After I downloaded the license, I saw that only one license was fulfilled. So I tried to start the wizard again to generate the license for the Secondary node, I filled in the Secondary fields, but the wizard won\\'t let me continue by clicking next. The Primary Node has * next to it, but I already generated that one before.How do I solve this issue? I can\\'t seem to generate a license for the Secondary Node now.I want to use both ISE nodes for Device Administration. |||| Hello,\\nI suggest that you should raise a case with Cisco Licensing team, they can help. Hello All,Recently found there are lots of VPN anyconnect user authenticated last year but halted in ISE live session, and occupied more base license.Actually, the users had dropped on the ASA devices, but still see active live session on ISE.I tried \"session termination\", but not work.ISE send out CoA disconnect request, and got \"5417 Dynamic Authorization failed\"Checked on ASA, see the log can not find out the session. Because the session had dropped long time ago.%ASA-4-109102: Received CoA Disconnect from 172.20.1.156, but cannot find named session ac17120a127b600061caa8fb.The problem is that all of these last year\\'s sessions actually not exist in ASA, we want to terminate these unused live sessions on ISE, but ISE will send CoA to ASA to request termination, but there is no session found that caused termination failed.We have to terminate these sessions because occupied lots of base license.Is there any other way can force terminate these radius live sessions on ISE(version 2.6) to release base license?Thank you very much for your help and discussion!thanksJeffery |||| Hello All,Recently found there are lots of VPN anyconnect user authenticated last year but halted in ISE live session, and occupied more base license.Actually, the users had dropped on the ASA devices, but still see active live session on ISE.I tried \"session termination\", but not work.ISE send out CoA disconnect request, and got \"5417 Dynamic Authorization failed\"Checked on ASA, see the log can not find out the session. Because the session had dropped long time ago.%ASA-4-109102: Received CoA Disconnect from 172.20.1.156, but cannot find named session ac17120a127b600061caa8fb.The problem is that all of these last year\\'s sessions actually not exist in ASA, we want to terminate these unused live sessions on ISE, but ISE will send CoA to ASA to request termination, but there is no session found that caused termination failed.We have to terminate these sessions because occupied lots of base license.Is there any other way can force terminate these radius live sessions on ISE(version 2.6) to release base license?Thank you very much for your help and discussion!thanksJeffery |||| Do you have RADIUS Accounting enabled on the ASA? I\\'m not sure of way to forcibly delete these (other than deleting the endpoint from context visibility maybe?). What patch of 2.6 are you on?\\nAlso:https://www.cisco.com/c/en/us/products/collateral/security/identity-services-engine/bulletin-c25-2503911.html HiWe have recently bought ISE with Anyconnect licenses but we couldn\\'t activate the Anyconnect licenses as we don\\'t have an ASAIs there any way to use the full Anyconnect client without an ASA ?Thanks |||| @cegsm yes you can buy AnyConnect aka Secure Client without an ASA or FTD.\\nhttps://www.cisco.com/c/en/us/products/collateral/security/anyconnect-secure-mobility-client/secure-client-og.html\\n |||| When the anyconnect ended ?\\nI think you need router or asa as end of vpn.\\nISE use for auth/authz Hi All ,I find the information If ISEdo authorization function only , How ISE count license .\\nThank you . |||| Every time you apply an authorisation, a license is consumed. It depends on what you match in the authorisation rule which license is used (Ess, Adv, Prem).\\nhttps://www.cisco.com/c/en/us/products/collateral/security/identity-services-engine/ise-licensing-guide-og.html |||| @Karsten Iwen\\nThank you for response. You mean authentication or authorization license consumed it\\'s same scenario.\\n Hi,A customer have an ise 3.1 deployment with some captive portals enabled. We see different license consumption from different places.In ISE we get a big ammount of licenses consumption, >1000 essential licenses.In Smart Account we get only 156.In Current active sessions report we get arround 500 active sessions.The customer have 500 essential licenses and ISE says that there is not any day out of compliance. I don\\'t know how to estimate the need or not to get more licenses, and the customer is asking a response on this different data. I\\'m not able to find any glue on this gap of the number of licenses in use.I understand that there can be more licenses consumed than active sessions for many reasons, but how to interpret the huge difference with Smart Account?Does anyone know how to interpret this? Should I open a TAC question?Thanks |||| Are you getting any emails or alerts out of compliance - if not you should ok as per i know.\\nbelow guide explain some of the concerns you have in the consumptions :\\nhttps://www.cisco.com/c/en/us/td/docs/security/ise/3-0/admin_guide/b_ISE_admin_3_0/m_Licensing30.html\\nBut still give a proof to your customer and peace of mind - Open a TAC and provide the evidence to customer - so he will be happy since the answer come from Cisco. (this always useful) |||| Thanks Balaji,No there is not any day out of compliance, all is about to understand the differences between counters, and whichone follow as a reference to grow in licenses.I\\'ll open a TAC question in few days if there is not a clear response here.Thanks again I want to try CISCO ISE REST API, so first i wanted to use DEMO for this software, but the page with demo doesn workthis is the link: https://www.cisco.com/c/en/us/products/security/identity-services-engine/demos.htmlThanks Hynek |||| @Hynek Ctvrtecka you can download the ISE OVA or ISO file from here - https://software.cisco.com/download/home/283801620/type/283802505/release/3.1.0 which has a 90 day evaluation license. You just need a CCO account to login to be able to download the file.\\n |||| You can also use a dcloud demo if you would like to explore an lab environment without having to install it yourself.ISE 3.1 instant on demo environmenthttps://dcloud2-sjc.cisco.com/content/instantdemo/cisco-identity-services-engine-ise-3-1-instant-demo?returnPathTitleKey=content-view\\nISE 3.2 Sandboxhttps://dcloud2-sjc.cisco.com/content/demo/309061?returnPathTitleKey=content-view How can I order Cisco ISE for a new deployment on the cisco SNS? I tried to find the base lic( L-ISE-BSE-250=) and the replacement L-ISE-BSE-PLIC but didn\\'t find it, so please, any advice about the new part number? |||| All you need is in theCisco ISE Licensing Guide.\\nThe replacement for the Base license is the Essentials subscription. |||| check the replacement License :\\nhttps://www.cisco.com/c/en/us/products/collateral/security/identity-services-engine/identity-services-engine-base-plus-apex-license-pids-eol.html The Cisco ISE can be used for both authenticating and posturing remote access VPN clients. A design document detailing the implementation of ISE for this purpose can be found in the Cisco ISE documentation.Regarding version 9 of the Cisco ASA code, it eliminates the need for Inline Posture by integrating posture assessment into the VPN client. This should allow for posturing without any additional configuration.Regarding VPN licensing for Cisco ASRs, the number of VPN licenses depends on the specific model and software version of the ASR. It is recommended to check the datasheet or product specifications for each specific model to determine the number of VPN licenses included.As for support for NADs on ISRs and ASRs, NADs are supported on ISRs but not explicitly mentioned for ASRs. It is recommended to check the specific product specifications or consult with a Cisco representative for more information on NAD support on ASRs. Currently I am working on Cisco ISE version 2.3 & planning to upgrade to ISE version 3.1.\\nI have a query on ISE licensing conversion.\\ncurrently I am having 6500 Base (perpetual) & 6000 Plus license(subscription based).\\n1. After conversion what I get and how much count... Essential Advantage Primer?\\n2. Can I use the VM common licenses on ISE VM appliance with version 2.7?\\n |||| 1. 6000 Advantage, 500 Essentials\\n2. Yes, but the VMC license requires Smart Licensing\\nhttps://isedemolab.com/license-calc/ |||| Adding to the provided answer, be aware that also the 500 Essentials licenses will be a subscription after the migration. Hello allI recently took over ISE for my company. We\\'re running version 2.7 and we\\'re looking to upgrade to 3.X. It looks like 3.1.0 is the current recommended.It\\'s been decided that we want to deploy a new environment for the upgrade rather than upgrade the current environment. The reason being it wasn\\'t exactly set up right from the start and it\\'s kind of been frankensteined together since.A few questions about taking this path.1. As far as licensing would the new environment just use trial license while we set up and test the new environment and then move the existing licenses over from the old environment?2. Would it be recommended to migrate existing devices, policies, static profiles, etc and then clean up from there, or start from scratch? In other words, restore or start from scratch? We\\'ve had to manually profile a lot of devices due to old/outdated profiling policies that would need to be modified to correctly profile new devices. |||| Are these virtuals? so you need proper planning and future use.\\nSure ISE 3.1.0 is longtive plan (3.2 on way to deploy)\\nyes you can build new Servers and start Trail and once you ready move the License using smart License portal.\\ndepends on how big the setup is, its just days work, I would create a brand new one from scratch, this way you get the opportunity to clean up any organic profiles that don\\'t need and are not sure can go off.\\nAlso, another part of testing is a major part of after deployment, so test ....test...Monitoring is a key role.\\nAnother last note, before you put them Live make sure have all the patches in place.\\n\\n |||| For 1) it depends how your actual setup is licensed. ISE 3.1 runs with smart licensing. If you are using PAC based licenses you have to migrate them and can install the new deployment fully licensed and phase the old deployment out. If your actual deployment already runs on Smart-Licensing, I would run the new as evaluation and then switch over.\\nFor 2) it depends on what kind of monster you created. If devices, policies and so on are mainly ok, you could migrate them first and then clean up. But I am always a friend of first cleaning up and then migrating. If it is a whole mess, doing a complete new setup is likely the better approach. Hi,Quick question Do I need a license to use Cisco ISE for only Radius authentication with Meraki Wi-Fi devices? |||| Also, if I am only using a Base license, do I get TAC support with that? |||| Any type of ISE usage requires a license. If you are only doing authentication and basic authorization then you need at a minimum the ISE VM license (or hardware appliance) and ISE Essentials licenses. Every concurrent active RADIUS session consumes a license.\\nA support SKU is included with most VM purchases and is required in addition to the aforementioned licenses in order to get TAC support and upgrade entitlement. I want to connect WLC9800 and ISE with TACACS.\\nDocuments I referenced is\\'https://www.cisco.com/c/en/us/support/docs/wireless/catalyst-9800-series-wireless-controllers/214490-configure-radius-and-tacacs-for-gui-and.html #anc11\\'.\\nI followed that document, but I connected to WLC with SSH,When ENABLEd\\n\\'%Error in authentication.\\'A phrase appearsIt does not enter ENABLE mode.\\nPlease respond if you have a solution. |||| \\n- Ref :https://www.cisco.com/c/en/us/support/docs/wireless/catalyst-9800-series-wireless-controllers/214490-configure-radius-and-tacacs-for-gui-and.html#anc11      >....Note: in order to use ISE as TACACS+ server, you must have aDevice Administration license package, and either a Base or a Mobility license. Also, once the licenses are installed, you must enable the Device Admin feature for the node. To do so, edit the node deployment node under Administrator > Deployment, and check the box:\\nM. |||| What do the ISE logs show? Hi Team,\\nI have a requirement to enable web authentication for guest wifi users from ISE. I would like to know how the license will be consumed. I could see tie essential license will be consumed based on radius session. Does it mean the license will be reserved as long as the guest user connected to the network or is it only during the authentication time?\\n |||| the license will be consumed for the length of the session, once the session is terminated the license will be added back to the pool. |||| @sirajuddeen t p the license will be consumed for an active session, once they logged off then a license will no longer be used. Dears,For now we are using 2.0 version. As I know we have to do these steps in order to get 2.7 and higher - 2.0-->2.2-->2.7The question - is there any manipulations with licenses? I mean do we need to convert them to smart, or export and then import.Maybe someone has detailed instruction or upgrade? We have only CLI access to server and the disk usage is 88%. Is there will be any problems with that?I found this one:https://www.cisco.com/c/en/us/td/docs/security/ise/2-2/upgrade_guide/b_ise_upgrade_guide_22/b_ise_upgrade_guide_22_chapter_010.html |||| What is your server - a VM or hardware appliance? There are restrictions on version support for older server hardware as well as changes in CPU and memory and disk requirements that affect your upgrade path.\\nThe 2.0 PAK-based licenses are still usable on 2.7 - Smart licenses are only required as of 3.0 or later. However, if you are moving to a new server you would need to have them rehosted which requires TAC support. |||| Hi Marvin,We are using VM.As I understand it is easier to up the new server because of different disk and CPU requirements.Is there any tool to export configurations from 2.0 version (authentication rules, access lists, endpoint devices) and import them to a new 2.7 version? Hi Everyone,\\nI need some assistance; I have a client who is running ISE V2.4 with 800 Base Lice. which is coming out of support by the 26th Dec 2022, they would like to upgrade to V2.7 and remain on this version for few months until they are ready to move 3.1, is that possible?\\nThank you |||| Hello@ziyad.sarah\\nyes that is fine, since the Base Licenses type is perpetual (i.e. they don\\'t expire).\\nOnce you move to ISE 3.1 you will need to have a Smart Account with Essentials licenses. |||| Hi Arne,\\nThank you for your quick reply,\\nCould I ask a follow up question, what will happen if the client doesn\\'t upgrade to a newer version of ISE by the 26th Dec 2022 will they lose all TAC support till they are move into a newer version? Hi. I have performed a upgrade from ISE2.7 patch7 to ISE3.1 Patch 4. And would like to share some interesting things that happened during this activity. My environment is a two node deployment. I performed the upgrade from cli. Started the upgrade on the secondary admin and then on the primary admin. When I started I hade my licensing reverted to traditional as suggested in the upgrade guide.When I tried do start the gui I was prompted to enter a license file. I supplied a file but that did not help. Contacted Cisco TAC and that was a known bug and I was suggested to apply patch4 that would solve that issue. The patch solved that issue. I then converted the license to smart licensing and it did work.In the logs i could see that my MAB authentication/authorization did not work, Wired-dot1x, Wiredless-dot1x worked and admin logins using radius (PAP) worked as well, BUT not MAB. The cause for this behavior is that the profiling service was disabled during the upgrade. Enabling it the MAB starts working.I just have the basic 3.1 license (Essentials) installed and I am still able to enable and run the Profiling service. |||| You will get licensing alarms for this. Essentials does not include profiling. You need to purchase Advantage. Keep in mind any compliance issues regarding the EULA. |||| For MAB to work you must enable profiling, If I don’t enable profiling i am not able to edit the identity groups containing the MAC addresses I use to group the endpoints connecting.Essentials:RADIUS authentication, authorization, andaccounting, including 802.1X, MACauthentication bypass and easy connect, and webauthentication.The advantage states:Profiling services, including basic asset visibilityand enforcement features.It is confusing. I am not getting any License alarms, I am compliant. I\\'m looking to deploy a small ISE 3.x essentials environment for 100 wired devices with Device Admin for TACACS+. What licenses do I need to purchase? |||| Base License is good enough for only 802.1x and device administration.\\nLook at below guide if you need more advanced features :\\nhttps://www.cisco.com/c/en/us/products/collateral/security/identity-services-engine/ise-licensing-guide-og.html#3CiscoISELicenses\\nAre you looking to deploy using appliance or VM (if VM check the resources), also make sure switch has right IOS code for 802.1x deployment. |||| Thanks for this BB, will be looking to deploy it in a VMWare environment that has plenty of resource available. Would this just be twoISE-VM-K9to take care of it? I am planning on migrating our ISE environment to smart licensing, however I found about 50 licenses forC1-ISE-BASE-AP on our cisco portal. I am not seeing that license on our ISE environment. We do use radius for ISE for our WLC access points. Where is that that license installed on and how can I view its information? |||| C1-ISE-BASE-AP license is added to the ISE endpoint pool for any endpoint. |||| Where is the endpoint pool? \\n\\u2003\\nhello.After installing ISE 3.1, the license was added through Smart License normally, but still the error as shown in the picture is displayed.\\nHaving trouble with the license addition process? |||| Do you actually have those licenses in your smart portal? It appears you do not have enough (or are missing) Essentials and Device Admin licenses. |||| If you converted all the licenses to the new model that is required for ISE 3.x, then I would recommend deregistering and re-registering ISE to the smart portal. Hi\\nI have a question about how the ISE account for thenumber of concurrent sessions.\\nI have a peak connection for a day eg. 1100 devices (some guests connected for a very short time )for 1 an hour sometimes,and in most of the day, only 300 devices are connected.\\nhow many lic. is required?\\nReg.\\n |||| Why so many threads ? you already have one here same context ?\\nhttps://community.cisco.com/t5/archive-tkb/how-ise-count-number-of-concurrent-sessions/tac-p/4700629#M115 |||| Not sure, I have only posted once,\\nI would like to know does the activeconnectioncount as an instant or take an average Hello,We have Cisco ISE 3.1, How do I know how many Cisco ISE-P-LIC (Premier) licenses do I need to deploy 500 users?? can\\'t find how to count licenses anywhere.Thanks in advance |||| Licensing for ISE 3.x is actually pretty straight forward. It\\'s not based on users, it\\'s based on the number of unique endpoints (mac addresses) that will be connected to the network at any given point. ISE maintains these sessions until an endpoint disconnects from the network or times out.The licensing has three tiers, Essential, Advantage, and Premier. The authorization features you use in ISE when authenticating these unique mac address/endpoints will determine which one of the licenses you need.Premier licenses will cover any endpoint authorized with Premier, Advantage, or Essentials features.Advantage licenses will cover any endpoint authorized with Advantage or Essentials features.Essentials licenses will only cover endpoint authorizations with essentials features.\\nThe ISE ordering guide walks through the features and what tier they fall in to.https://www.cisco.com/c/en/us/products/collateral/security/identity-services-engine/guide-c07-656177.htmlThis thread from Charlie provides a quick reference of feature to license typehttps://community.cisco.com/t5/security-knowledge-base/ise-licensing-quick-access/ta-p/3653471 Good morning .\\nI tried to add a license after reinstalling due to a disk full error in ISE version 2.1, but it was not added due to the following error:\\nfailed validation cannot install device administration license when a base license is not installed\\nWhat should I do? |||| Have you already added the base license back? The error is indicating something that has always been the case in 1.x and 2.x, you need at least 100 base licenses installed to add the device admin / tacacs license. Hello, We would like to purchase Cisco ISE and planning use it for TACACS, Radius Authentication for Corporate SSID and also for Guest SSID (For Guest SSID we would like to use CWA, probably self-registring type).As I undesrtand We need Device Administration and Essential Licenses. But what about session counts? How ISE will count sessions in our scenario?Thanks |||| for tacacs (device administration license) you need 1 license per psn, irrespective of total number of tacacs sessions (that the hardware or VM can support).\\nfor radius the essential license count should be equal to total consecutive number of devices that will authentication through ise. when device disconnects the license is added back to the pool. Essential license is needed per deployment unlike device administration which is needed 1 per psn that you will use for tacacs. |||| Thanks for your response, ammahend.Just for the clarification, for example, if I have 200 devices associated with Corporate SSID and 500 devices with Guest SSID (in case of CWA) it\\'s means that I need to purchase 700 sessions? (1-999 Session Bands) Hello all,\\nwe have mutiple network devices like firewall, cisco and checkpoint, WAF, algosec,proxy, secure share, PKI, and each devices having access different peoples. now i need to created read only access all the users with all devices using ISE.\\nplease suggest me.\\n |||| Hi Sank, do you have ISE device admin license? If yes,TACACS+ Device Administrationfeature is good for this case. You can define Shell profiles based on privilege level and roles. Please refer to the configuration guide.\\nIf not, please refer toUse RADIUS for Device Administration with ISE.\\nThank you very much! Staff,What licenses should I have in ISE, installed in a VM, in order to configure access in a wireless network via facebook? Hello good night,\\nWould be the Essentials (User Visibility and Enforcement) license· AAA and 802.1X· Guest (Hotspot, Self-Reg, Sponsored)· Easy Connect (PassiveID)\\nhttps://www.cisco.com/c/en/us/products/collateral/security/identity-services-engine/qa-c67-744190.pdf |||| Gracias |||| Thank you.I\\'ve been seeing Cisco\\'s stuff, that\\'s right. Thank you very much. Hi everyone!Can anyone consult me if there are any problems with ISE licensing in case I want to change an IP address? Can I lose the license if I change the IP address of one of the nodes? Do I have to make a relicensing request? Or I can simply change the IP address of the ISE interface? |||| No issues with licensing. We have ISE appliance and C9200L switches which will be integrated with the ISE. We want to use the Profile feature and use those profiles in Authorization policies which will be implemented in the C9200L sw. What license tier do we need in both (ISE and C9200L) to make this scenario? Can I use advantage license for ISE while c9200 is essential ? |||| what ISE Version, check the Plus License if you looking profiling :\\nhttps://www.cisco.com/c/en/us/products/collateral/security/identity-services-engine/guide-c07-656177.html\\nCat 9200 - Essential is good enough to work 802.1x (yes you can also use network advantage License) |||| Thank you for replying, but you didn\\'t answer my question\\nI know that ISE Profiling require Advantage license and profile is not a 802.1x\\nBut what about c9200? Should I upgrade it to Advantage too or I can use the Essential to imply the profile authorization policy in c9200?\\n Hello,I have a small question about the deployment of Cisco ISE.Actually we are running a cluster of 2 members, each hosting PAN-MnT-PSN.We want to extend the ISE functions to our \"industrial network\" separated by a DMZ.To limit the trafic between the 2 zones, I would like to add one (or 2 for redundancy) server running only PSN server.Is this kind of deployment allowed and supported by TAC ? If yes do I need a full ISE license or there are licenses to only run specific services of ISE ?Thanks for your help.Herve |||| Hello,I have a small question about the deployment of Cisco ISE.Actually we are running a cluster of 2 members, each hosting PAN-MnT-PSN.We want to extend the ISE functions to our \"industrial network\" separated by a DMZ.To limit the trafic between the 2 zones, I would like to add one (or 2 for redundancy) server running only PSN server.Is this kind of deployment allowed and supported by TAC ? If yes do I need a full ISE license or there are licenses to only run specific services of ISE ?Thanks for your help.Herve |||| You will need to move to the Medium deployment as mentioned here:https://www.cisco.com/c/en/us/td/docs/security/ise/performance_and_scalability/b_ise_perf_and_scale.html#Cisco_Concept.dita_67b428f0-2240-4383-bd49-5eb7a7b98a35\\nYou will need the following to remain in a supported Topology:\\n\\nPAN + MnT\\nPAN + MnT\\nPSN\\nPSN\\nDMZ\\n\\nPSN\\nPSN\\n\\n\\n Hi, I\\'ve a quick question about registering ISE with a smart account.We have Essential and Premier licenses, when registering ISE with our smart account, what tiers to we select?Essentials and Premier or do we need to select Advantage as well as Premier has Advantage features?Thanks |||| Depends what is the requirement, check the tier license with features here :\\nhttps://www.cisco.com/c/en/us/td/docs/security/ise/3-0/admin_guide/b_ISE_admin_3_0/m_Licensing30.html |||| You should enable whatever licenses you actually have in your Smart Account. For your case, that would be Essential and Premier.\\nI am curious to your use-cases as well though. What was the drive to purchase only Essentials and Premier? Are you not doing any profiling but you are doing Posture? Hi Techies,\\nCurrently customer is using ISE license 2.2 version and now they are planning to purchase additional licenses.\\nWanted to understand, is there any ISE version update needs to be done from customer if they purchase new licenses? |||| They would have to purchase new style licenses (Essential/Advantage/Premium) and then open a TAC case for conversion to the old style (Base/Plus/Apex).\\nSee \"Rolling back from ISE 3.0 to the ISE 2.X release\" in this document:\\nhttps://www.cisco.com/c/en/us/products/collateral/security/identity-services-engine/ise-licensing-migration-guide-og.html Hello! I have ISE Essential licenses on my cisco account (smart licensing). How can I set them on ISE 3.1 VM ? I have created a token in Smart Licensing to connect these licenses with ISE. ButI couldn’t figure it out any more. |||| use this guide to continue\\nhttps://www.cisco.com/c/en/us/td/docs/security/ise/3-0/admin_guide/b_ISE_admin_3_0/m_Licensing30.html#task_n3y_zsf_smb |||| Hello! Thank you. Take a look please. Does it show that 0 essential licenses available? In smart account i have 200 Dears,I have ISE hardware appliances already installed with ISE Essential license, I want to upgrade my license from Essential to Premier before the current license expiration date. which part number must use for this upgrade?As I think ISE-P-LIC part number is used to purchase new license not to upgrade exiting one.Thanks. |||| Hi@Eman.Bakri,\\nif I understand correctly, you would like to change your entire Essential License to Premier License.\\nEssential License is licensed on a Subscription basis (1, 3 and 5 years) and existing Subscriptions may be changed during the term of the Subscription. Changes may be made to products and/or quantities ordered.\\nPlease:\\n1sttake a look at Change Subscription Job Aid.\\n2ndContact your AM (Account Manager)\\nHope this helps !!! |||| There is no upgrade SKU. As@Marcelo Moraissaid work with your Cisco Partner and Cisco Account team. Dears,we have ISE with valid essential license, but when we try to add new network device we find it disableAny help please,, |||| I think you are hitting this bug, look up the details for workaround in the link below\\nhttps://bst.cisco.com/bugsearch/bug/CSCvw34491 Hi all,I have question please.Can I do accounting for device administration and without TACACS device admin license? |||| I mean Commands accounting. not endpoints accounting, my scope is to use ISE only for device administration Hello,I need some help to fully understand what license I need to buy for our first ISE purchase.Currently we are using Cisco ACS 5.x and I\\'m planning to migrate to a more recent product.I\\'m oriented to ISE because looks like the natural successor to ACS.I\\'m not sure about what license can give me access to the old DACL, of which we make a great use.Features that we use are:AD authenticationDACLDUO 2FAusers, groupsauthentication to multiple firewalls and switchesPlease note that the first 3 features are used by us with AnyConnect as well.And given that I\\'m not very familiar with this technology and given the complexity of ISE licensing, I demand your help to figure out what license fits me bets betweenPremier,Advantage andEssentials. |||| Essentials should cover everything you describe.https://www.cisco.com/c/en/us/products/collateral/security/identity-services-engine/guide-c07-656177.html |||| That\\'s the site on which I spent a good amount of time, but I\\'m still not sure if DACL are included into the Essentials license Keep getting this Licensing error message on a regular basis on the ISE 3.1 patch 3. See attached.There was no issue between the ISE and Internet around that time. |||| Hi@adamscottmaster2013,\\ndouble check your Licensing configuration (at Administration > System > Licensing) special attention to Connection Method.\\nIf you are using a Proxy, double check your configuration at Administration > System > Settings > Proxy.\\nNote: try different Connection Methods to verify your issue.\\nHope this helps !!! |||| I am NOT using proxy, the ISE has direct Internet access to https://tools.cisco.com, https://tools1.cisco.com and https://tools2.cisco.comAny other ideas? Hi Guys,\\nI have 5x nodes running in VM in distributed deployment mode (PAN/PMnT, SAN/SMnT, 3x PSNs). Our old VM servers will need to be migrated to the new VM servers which means the ISE should be migrated also to the new VM servers. Connectivity between the old VM servers and new VM servers are not an issue.\\nMy plan is to have 2x phase approach, the 1st phase will be the SAN and 1x PSN then the 2nd phase will be the PAN and the other PSNs.\\n\\nBuild 2x new VM nodes in the new VM servers. These 2x new VM will be the new SAN and new PSN.\\nDeregister the SAN from the existing PAN and shutdown the SAN from the old VM servers.\\nConfigure the SAN in the new VM server with the same CLI configuration of the old SAN.\\nRe-register new SAN to the old PAN.\\nSame procedure will be done for the PSNs.\\n\\nMy question now is about the license as we are using Traditional License.\\n\\nSince I have a new SAN in the 1st phase which means it has a new serial number. Do I need to re-host the license already so that it will match the new serial number of the SAN then import it in the old PAN?\\nWhat will happen if I re-host and import the license during the 2nd phase? Will my ISE service be affected even though the discrepancy is only in the SAN and not the PAN?\\n\\nThank you |||| Why not just vMotion them to the new hosts? |||| Hi@ahollifield, my customer does not want to use the cold migration strategy because they told me it does not work the last time they did that and they want to have at least a minimal downtime that is why we are building a new one in parallel per phases. Hello,During investigating Cisco ISE 3 essential licenses, I noticed that there are multiple PIDs can be purchased:ISE-E-LICorL-ISE-E-Scan anyone help me in this regard. are tier based licenses still need to be purchased based on the node quantities? or 1 ISE-E-LIC would be enough?This is really confusingThanks in advance |||| https://www.cisco.com/c/en/us/products/collateral/security/identity-services-engine/guide-c07-656177.html Hi,I have cisco ise base license , and one ssid with dot1x authentication.If anyone use corporate device ,I want put them in vlan 10 if not I want put them guest vlan or just give them internet accessor just give them the privilege\\'s of guest usersThanks |||| look at the guide below you may help you :\\n\\nhttps://www.cisco.com/c/en/us/support/docs/security/identity-services-engine/212419-configure-per-user-dynamic-access-contro.html |||| Hi,The above is dynamic acl ,this will not help Hi guys,Even if I have \"Essential\" Tier licenses, I saw that I can \"Enable\" other Tiers as well in Licensing page and practically get all the menus in ISE. With having onle Essential enabled, lot of menus/options are not even accessible.I don\\'t use any features of Advantage or Premier in Policy Set or any kind of policy so I don\\'t consume those and I am not in violation practically, as only Essential is getting consumed.Is there any pros or cons of having other Tiers enabled, even they will not be in use? Am I getting better visibility, for example, in Endpoints page or anywhere else?Regards,Milos |||| No new functionality. Once the grace period expires, the menus will be hidden/blurred anyways. If you wish to use Profiling for better Context Visibility for example, you will need to purchase Advantage licensing. |||| check this FAQ : (is that helpful ?) - what features you looking, what kind of setup you have ?\\n\\n\\nEssentials, Advantage, and Premier licenses in ISE 3.0\\nhttps://www.cisco.com/c/en/us/products/collateral/security/identity-services-engine/qa-c67-744190.html Hi,\\n\\nI\\'m preparing a solution for Guest WiFi with users to be created on ISE through either sponsor or self service portal.\\n\\nMy question is, will each user or the device they log on from consume ISE base license or any other license type usage.\\n\\nis there any other consideration to be taken into account with this solution.\\n\\nSajid |||| you need to select correct license counts according to number of devices and features they are planning to use. you can use AAA, Guest sponsor features in Base license and if you are planning to use posture like features, it needs premier license. since these are concurrent licenses, you can purchase only for count of required quantity for concurrent access.\\ncheck this.\\nhttps://www.cisco.com/c/en/us/products/collateral/security/identity-services-engine/qa-c67-744190.html\\n |||| My question is, will each user or the device they log on from consume ISE base license or any other license type usage.\\n\\nuser and device are 2 different things, ise license is based on per session, each user can have multiple devices and multiple session. So as recommended keep the count based on consurrent sessions. For your use case base license is sufficient.\\n we have 2.4 in production with traditional licenses.\\nWe are building 3.1 in parallel, at some point within few days we will migrate the VMM license to common and base to essential.\\nMy question to community expert.\\n1. There is going to be a month of transition period as we migrate network from 2.4 to 3.1, will the traditional licenses on 2.4 be effected, if we change to common VM and essential, its only for this transition period where we will be running 2.4 with traditional and 3.1 with smart licenses both at the same time.\\n2. we have to reload MnT on 2.4 every month because of a current bug on 2.4, will there be any potential effect on licenses if the reload is done on MnT during transition period.\\n\\nThanks |||| Assuming your traditional licenses are PAK, and the 2.4 deployment is not using smart licensing, then those licenses will be unaffected. The 2.4 deployment will be unaware of any licensing changes you\\'re making in the smart account or in preparation for 3.x.\\n#2, reloading the MNT, this will be fine, the 2.4 deployment will run as it always has for you. |||| Thanks Damien, yes it is PAK, that\\'s what I thought but certainly doesn\\'t hurt to have a second opinion. Dear Community, I\\'m desingning an ISE deployment for a regional company that have a big amount of network devices which they want to administrate using TACACS+ protocol, they want HA by installing 2 servers in 2 different locations separated 200km, I\\'ve thought to implement ISE with 2 Policy Service Nodes (PSN), mounted over a virtual appliance running on 2 phisical servers, one at each location, due to the user wants Device Administration only. My questions for you are:1- Can 2 PSN be deployed and work in HA without install a Primary (and Secondary) Administration Node (PAN) and/or Monitoring Node (MtN)?2- If the 2 PSN are implemented I know that 2 Device Admin licences are needed, however, I\\'m not sure how many virtual machine licenses I must to buy for both PSN, I mean, buying just one VM licence is enough and it can be installed twice (on each server), or I need to provide 2 VM licences, one for each server?3- If we are going to deploy just PSN, what about the endpoints licences?, we need 50,000 sessions, Do we need buy licenses for those endpoints?I\\'ll be very glad of you can help me with this issueBest regards |||| Hi@mbolano,\\n1st each ISE Deployment MUST have:\\n1. at least one PAN\\n2. at least one MnT\\n3. one or more PSN\\nNote: all this Personas may be in one Standalone Node (PAN + MnT + PSN)\\n2nd if you have \\'X\\' Node then you need \\'X\\' VM Common License\\n3rdISE License Consumptions are based on Active Sessions. That is, any Endpoint without an Active Session is not counted !!!\\nPlease take a look at: Performance and Scalability Guide for ISE.\\n\\nHope this helps !!! |||| Hi Marcelo, thank you so much for your response, it has cleared most of mydoubts, but in my case we want HA, and we have 2 physical servers.. and asyou mention we can deploy a standalone node with 3 persons, PAN, MtN & PSN.Could we deploy 2 nodes with those 3 persons for HA?.. if yes, how many VMlicenses we must to buy, 2 VM licenses?Our need (currently) is Network Device Administration using TACACS+ with HAby deploying 2 nodes located geografically separated. Is that posible ?Finally, I\\'m trying to create an estimate on CCW, I need to be sure therequired licensesThen licensing should be like:1 subscription license1 essentials license? (Or 2 essentials lic)?2 VM licenses2 Device Admin licensesService supportRight?Best regardsMario Bolaño Hi ,I have 200 phone with dual port , and 1500 wireless users and 100 pc which are connected to the phoneSo what is the total license require for ISEI want to authorize all those deviceWhat type of license I should buyThanks |||| as per the information you need 802.1x authentication.\\n\\nSmall ISE deployment should work for you with Essential License , If you looking any profile Enforcement, then Advantage License needed \\n\\nlook below FAQ :\\n\\nhttps://www.cisco.com/c/en/us/products/collateral/security/identity-services-engine/qa-c67-744190.html |||| Hi,If I buyAdvantage license ,The number of devices still unlimited , or do I need to specify the numbersThanks Hi guys,Do you have any recommendation/best practice how to purge inactive endpoints from the database, in order to keep it clean and tidy, let\\'s say, anything inactive for more then 100 days?I am running Cisco ISE 3.1 with Essential licensing.Thanks a lot!Milos |||| \\n- FYI :https://www.cisco.com/c/en/us/td/docs/security/ise/3-0/admin_guide/b_ISE_admin_3_0/b_ISE_admin_30_maintain_monitor.html#concept_0776B37A2C3542189950F5DFB1961FA2\\nM. |||| Hi marc1000,Thanks for reply, just referring to the manual is not very helpful in this case.I would like to see some real world examples for this, if someone is using any purge policy effectively in their deployment for purging inactive endpoints. Can you please assist to provide high-level SNS-3695 appliance onboarding steps? I got ISE 3.0 shipped along with appliances.I want to understand the sequential steps to be followed. I randomly put a few steps below, and I request your guidance and a few reference guides, and sequential order of approach to onboard these nodes. 1. ISE 3.0 Patch install 2. Migrate from 3.0 to 3.1( unable to see existing patch version running on new nodes) 3. License Migration from 2.X to 3.X- Can both ISE 2.x and 3.X nodes can consume ISE smart licenses? 4. ISE node registration cert, migrate from self-signed to Public PKI cert 5 Create EAP and other Portal PKI cert  |||| Can you please assist to provide high-level SNS-3695 appliance onboarding steps? I got ISE 3.0 shipped along with appliances.I want to understand the sequential steps to be followed. I randomly put a few steps below, and I request your guidance and a few reference guides, and sequential order of approach to onboard these nodes. 1. ISE 3.0 Patch install 2. Migrate from 3.0 to 3.1( unable to see existing patch version running on new nodes) 3. License Migration from 2.X to 3.X- Can both ISE 2.x and 3.X nodes can consume ISE smart licenses? 4. ISE node registration cert, migrate from self-signed to Public PKI cert 5 Create EAP and other Portal PKI cert  |||| Start here:Cisco ISE & NAC Resources - Cisco Community\\n\\nSpecifically with the admin and installation guides. Step 1 should also be to re-image the 3695s with the 3.1 ISO as 3.1 is now the suggested release.\\n\\nYes multiple ISE deployments can consume from the same Smart Account / Virtual Account. Hello,My organization is currently in the process of upgrading our ISE from 2.4 to 3.0 but have ran into an issue when it comes to converting licenses. Are base licenses able to be converted into common licenses? |||| Hello,My organization is currently in the process of upgrading our ISE from 2.4 to 3.0 but have ran into an issue when it comes to converting licenses. Are base licenses able to be converted into common licenses? |||| These two don\\'t relate to each other:\\n\\nCommon is the new VM-host license that replaces the small/medium/large that were used previously.\\nBase gets replaced by Essentials\\nBase+Plus gets replaced by Advantage\\nBase+Plus+Apex gets replaced by Premier\\n\\nhttps://www.cisco.com/c/en/us/products/collateral/security/identity-services-engine/ise-licensing-migration-guide-og.html VM License is Out of ComplianceFewer VM licenses installed than VM resources/VM nodes deployed.Check your Smart Account and/or contact your Cisco Sales Representative.Smart Software LicensingThe Virtual Account \"DEFAULT\" reported a shortage of 1 \"ISE VM\" license.2022-Apr-18 05:56:23 System1 new \"Cisco ISE Virtual Machine Medium\" perpetual license was added to the Virtual Account \"DEFAULT\" via Smart License Conversion (PAK:32R9H3R5C3X)  2022-Apr-18 05:56:23 00u4kfo180rUhYCIi5d7Question 1: There was a VM license in the smart account before. During this period, I loaded it on ISE without any problem, but when I checked it again, ISE showed that it was not compliant, so I deleted it in the smart account, and then there was no problem It is restored, how can I solve the problem of my ISE vm license non-compliance alarm, my authorization file is R-ISE-VMM-K9= Cisco ISE Virtual Machine Medium |||| VM License is Out of ComplianceFewer VM licenses installed than VM resources/VM nodes deployed.Check your Smart Account and/or contact your Cisco Sales Representative.Smart Software LicensingThe Virtual Account \"DEFAULT\" reported a shortage of 1 \"ISE VM\" license.2022-Apr-18 05:56:23 System1 new \"Cisco ISE Virtual Machine Medium\" perpetual license was added to the Virtual Account \"DEFAULT\" via Smart License Conversion (PAK:32R9H3R5C3X)  2022-Apr-18 05:56:23 00u4kfo180rUhYCIi5d7Question 1: There was a VM license in the smart account before. During this period, I loaded it on ISE without any problem, but when I checked it again, ISE showed that it was not compliant, so I deleted it in the smart account, and then there was no problem It is restored, how can I solve the problem of my ISE vm license non-compliance alarm, my authorization file is R-ISE-VMM-K9= Cisco ISE Virtual Machine Medium |||| I would recommend working with Cisco licensing team first, confirm with necessary proof that you have authorisation for VM medium license. If there are any discrepancies with the virtual account not showing the correct numbers, they will assist in fixing them. Dear community,I need to upgrade a 2 nodes deployment (VM) that run 2.7 to 3.0 (or 3.1)The ISE deployment is already using Smart Licensing with base licenses.We are quite clear with the upgrade procedure, but have some questions with licenses.Do we need to convert the old fashion license to new mode (Essential, Advantage...) before the upgrade or we can do this after the upgrade?Any special thing to take into consideration with the license upgrade porcess ?Also, for the new VM license mode (if we go to 3.1) , do we neeed to upgrade to the new VM licence mode before or after the upgrade?Any feedback?Thanks |||| Dear community,I need to upgrade a 2 nodes deployment (VM) that run 2.7 to 3.0 (or 3.1)The ISE deployment is already using Smart Licensing with base licenses.We are quite clear with the upgrade procedure, but have some questions with licenses.Do we need to convert the old fashion license to new mode (Essential, Advantage...) before the upgrade or we can do this after the upgrade?Any special thing to take into consideration with the license upgrade porcess ?Also, for the new VM license mode (if we go to 3.1) , do we neeed to upgrade to the new VM licence mode before or after the upgrade?Any feedback?Thanks |||| Do we need to convert the old fashion license to new mode (Essential, Advantage...) before the upgrade or we can do this after the upgrade?\\nAny special thing to take into consideration with the license upgrade porcess ?\\nAlso, for the new VM license mode (if we go to 3.1) , do we neeed to upgrade to the new VM licence mode before or after the upgrade?\\n-Regardless of what version you migrate to you will need to migrate from existing old model to new model for licensing support. This will require TAC in order to assist with this process. In my experiences TAC has actually suggested to do it post-upgrade. Note that in doing so you will be out of compliance for a short window. However, there should be no harm to features/services/etc. as your nodes would fall under the eval window. However, you will upon logging in see a license warning banner. Overall, from my experiences with migrating the licenses from 2.x to 3.x model everything is smooth and honestly rather easy when working with TAC. My suggestion would be to take a look at the following, and work with TAC.\\nAdditional info:\\nCisco Identity Services Engine - Cisco ISE License FAQ - Cisco\\nProducts - ISE Licensing Migration Guide - Cisco Do you know if a C9200 with essentials license can use ISE (via Radius) for network access control?I have ISE via radius configured as my AAA server. Each switch port applies authentication and access-session commands.I know the Advanced 9200 can, but i wanted to check regarding essentials. |||| Do you know if a C9200 with essentials license can use ISE (via Radius) for network access control?I have ISE via radius configured as my AAA server. Each switch port applies authentication and access-session commands.I know the Advanced 9200 can, but i wanted to check regarding essentials. |||| Essential should work for you. (never tested on Cat 9200) - Cat 9300 ok\\n\\nTable 10.Network essentials and advantage package features\\n\\nhttps://www.cisco.com/c/en/us/products/collateral/switches/catalyst-9200-series-switches/nb-06-cat9200-ser-data-sheet-cte-en.html#Licensing\\n Does anyone know where to download the Cisco ISE image? I can\\'t find it anywhere on cisco.com. It would be great to have this for my lab env. |||| @jordanaldrich you can download it here - https://software.cisco.com/download/home/283801620/type/283802505/release/3.1.0\\nYou just need a Cisco account to login to download it, you get a 90 day license. |||| https://cs.co/ise-software\\nEvery ISE installation comes with a 90-day trial of all licenses.\\nSee https://cs.co/ise-licensing for all Licensing needs.'"
      ]
     },
     "execution_count": 211,
     "metadata": {},
     "output_type": "execute_result"
    }
   ],
   "source": [
    "docs = ' '.join([d if isinstance(d, str) else '' for d in docs])\n",
    "docs"
   ]
  },
  {
   "cell_type": "code",
   "execution_count": 212,
   "metadata": {},
   "outputs": [],
   "source": [
    " # Split documents into chunks\n",
    "\n",
    "\n",
    "text_splitter = RecursiveCharacterTextSplitter(\n",
    "    chunk_size=800, chunk_overlap=10,  separators=[\"\\n\\n\", '\\n']\n",
    ")\n",
    "texts = text_splitter.split_text(docs)"
   ]
  },
  {
   "cell_type": "code",
   "execution_count": 213,
   "metadata": {},
   "outputs": [
    {
     "data": {
      "text/plain": [
       "['Hello Folks,',\n",
       " 'Quick question. I have purchased DNA Advantage licenses for Cisco SD-Access deployment. With SD-Access, we already have ISE 3.x Essential licenses. The question is do I also need to purchase ISE Advantage license? As mentioned on Cisco ISE 3.x licensing structure, it says that to use pxGrid (with DNA-C - no pxGrid Cloud required in my case) and TrustSec (Group-based Access Policy), I need ISE advantage licenses. Can someone please clarify based on their experience. |||| check this matrix will helo you depends what feature you looking to implement :\\nhttps://www.cisco.com/c/m/en_uk/products/software/dna-subscription-switching/en-sw-sub-matrix-switching.html Hello All,',\n",
       " \"Starting to get into ISE and DNA and a couple of queries if someone can point me in the right direction. There is a lot of content on both subjects and I cant quite piece together where DNA Center is necessary when it comes to SDA. For example do I need DNA Center to implement Trustsec, SGT's and Posture? From what I can determine ISE covers this and DNA Center is more monitoring along with some Admin integration or am I miss-understanding.\\nAlso, from a licensing perspective if I were to use Cisco 9200's in my lab for my edge switches to achieve SGT and Posture I just need the Network Essential's or is it necessary to have Network Advantage licensing? I appreciate I'll need the DNA Advantage term license but not be needed if DNA Center not used.\",\n",
       " \"Has anyone a link that explains in more detail or a brief summary?\\nThanks in advance\\nDave |||| Hi Dave. Manually (by hand on the CLI, without DNA Center) deployed wired and wireless Cisco infra with ISE will give you capability to implement Group-Based Policy (aka TrustSec), SGT and posture.\\nNetwork Advantage and DNA Advantage is required for GBP in C9K switches.\\nIf you choose to proceed with DNA Center and SD-Access you will get automation of the fabric (no manual deployment) which natively support GBP and Network Virtualisaiton, Assurance, Endpoint Analytics, Trust Analytics and Group-Based Policy Analytics. If you're not sure what those things are then searching some of the most recent presentations on ciscolive.com would be a good way to learn.\",\n",
       " 'In short: deployment and visibility of campus networks, GBP and SGT is easier with DNA Center. |||| Thanks jedolphiI appreciate you providing some clarity which is very helpful. I have question about ISEI have ISE essential and want to enable policy based enforcement.Does the essential license support this or i must upgrade to Advantage?Thanks in advance. |||| if any one share with me link for my question i will be highly appreciated |||| Hi',\n",
       " 'Cisco ISE license models and types are as it follows:\\nCisco ISE Essentials licenseprovides user visibility and enforcement features including AAA and 802.1X, Guest (Hotspot, Self-Reg, Sponsored) and Easy Connect (PassiveID).\\nCisco ISE Advantage licenseenables all Essentials features plus following capabilities:\\n\\nContext Sharing (pxGrid Out/In)\\nProfiling Enforcement\\nAI Endpoint Analytics Enforcement\\nGroup-Based Policy (TrustSec)\\nBYOD (+CA, +MDP)\\nRTC (ANC)\\nProfiling Visibility\\nAI Endpoint Analytics Visibility\\nUser-Defined Network for Cloud\\n\\nCisco ISE Premier licenseis full stack license including all Advantage features plus following capabilities:\\n\\nPosture Visibility and Enforcement\\nMDM Visibility and Enforcement\\n\\n\\nTC-NAC Visibility and Enforcement',\n",
       " '\\nFrom the DNA perspective, you can Hi guys,I am running two node deployment with fresh ISE 3.1 patch3 installation.I am getting every few days alarm like this:Alarms: Smart Licensing Authorization Renewal Failure, with description when I open the alarm \"Smart Licensing Authorization Renewal Failure: Details=Communication send error.\"I have checked firewall, there is no block from ISE servers and communication is allowed in the exact timestamp of the alarm (I can see in the firewall logs).Also I see in Licensing page, in \"Last Authorization\" column that there was successful authorization few hours after the alarm timestamp.Anyone else experiencing similar behavior? Is it a bug and is there some workaround?It\\'s not affecting production in any way, just I am getting alarms approx. every second day for this matter.Thanks a lot in advance!Regards,Milos |||| Yup, this is a common issue across multiple Cisco Smart Licensed products; not just ISE. It seems to be related to the backend Smart Licensing systems. Not sure if its unable to handle the load from customer products, some sort of DDoS protection, or what. These can be safely ignored as ISE does have a grace period. |||| Hi,I couldn\\'t find any pattern in this, apart that it\\'s happening every day or every second day, although as I said, not having any impact on production, as next authorization following the failed one is generally always being successful.Regards,Milos I want to smart license my ISE box which ia not having direct connectivity to internet.Please let me know can we do that. |||| You can use a Proxy Server or the CSSM-On Prem',\n",
       " '\\nUsing Cisco Smart Software Manager (CSSM) On-Prem for Smart Licensing in Air-Gapped Networks |||| Hi Charlie,We are not having proxy set up as well. If we want to open the firewall ports then i found thw below domains need to be opened in one of the document over 443 and 80 ports.Tools.cisco.comWww.cisco.comBut when i checked the deny logs in the firewall, the hits are towards tools1.cisco.com,tools2.cisco.com,..etcCan you please help me withthe exact domains which needs to be opened in the firewall. We currently have 2 physical ISE appliances, we plan to add an additional one and will be hosted in AzureI am aware of the cost to the VM in Azure but confused a bit on the ISE license requirements. We are on the smart licensing on the current ISE devicesWhat is the cost of a VM license for ISE Hello,I migrated my ISE installation from v2.4 and traditional licenses to v3.1 with patch 3 and smart licenses.All is working well, but the two licenses for VM based nodes do not work.I transfered the traditional VM medium licenses to the smart account. I can see them in the Software Central.2xCisco ISE Virtual Machine Medium with SKU R-ISE-VMM-K9= and no product instances mapped. Means 2 of 2 are available.That makes sense for me.But the ISE server seems to request a different thing from the smart licensing system.The license is called only \"ISE VM\" if I check the product instance of my ISE.If I search in the licenses folder of my virtual account, I also see these two names for the VM licenses.Seems that Cisco has a naming mismatch here? How can I fix that?Thanks a lot! |||| You need to convert them to the VM Common (VMC License). A licensing TAC Case should be able to help out. With native Cloud support for AWS added in 3.1, the small, medium, large licenses have been replaced with a single license.',\n",
       " '\\n |||| Ask your reseller to order 2 each of the $0 SKU \"L-ISE-VMC-UPG=\". Once deposited in your Smart Account you can convert the old style VM Medium license to the common license (the type required by ISE 3.1+). Dear All,We are planning to upgrade Cisco ISE from 2.7 to 3.1. I am using Cisco SNS-3615-K9. Currently, we have base licenses only. My question is about the licenses.As I know that I need to convert from traditional PAK to smart licenses and my converted licenses from BASE toEssential. So questions are:1. Will my converted Essential licenses will be expired on 31-Oct-2023? If yes, Do I need to purchase or renew or extendEssential licenses again?2. As I am using Hardware Device 3615, Do I also need to purchase VM license as Common/Small/Medium/Large? |||| Dear All,We are planning to upgrade Cisco ISE from 2.7 to 3.1. I am using Cisco SNS-3615-K9. Currently, we have base licenses only. My question is about the licenses.As I know that I need to convert from traditional PAK to smart licenses and my converted licenses from BASE toEssential. So questions are:1. Will my converted Essential licenses will be expired on 31-Oct-2023? If yes, Do I need to purchase or renew or extendEssential licenses again?2. As I am using Hardware Device 3615, Do I also need to purchase VM license as Common/Small/Medium/Large? |||| SNS-3615-K9 - are you looking to Upgrade on this device or you looking to create a new VM with 3.1',\n",
       " 'check the release notes for the support of hardware appliance :\\nhttps://www.cisco.com/c/en/us/td/docs/security/ise/3-1/release_notes/b_ise_31_RN.html\\n1. Will my converted Essential licenses will be expired on 31-Oct-2023? If yes, Do I need to purchase or renew or extendEssential licenses again?\\n- as per I know if the License have validity you can use same License. and convert to smart License.\\n2. As I am using Hardware Device 3615, Do I also need to purchase VM license as Common/Small/Medium/Large?\\n- if you are using same hardware you do not need any further, you can upgrade or re-image exiting kit.\\n- even if you looking to create new VM, you can migrate your License from hardware to VM as per I know.\\nS/M/Large depends on requirement, look at the sizing guide :',\n",
       " 'https://www.cisco.com/c/en/us/td/docs/security/ise/performance_and_scalability/b_ise_perf_and_scale.html\\n Hello Guys,\\ni\\'ve a cisco ISE deploy running version 3.0 and patch7.After setting up the cluster everything\\'s working fine but i\\'ve got the following warning \"“Fewer VM Licenses installed than VM Resources/VM Nodes deployed\".All nodes are running with a small vm license and with 32gb of ram and 16 cpu on Vmware, i found the following picture on the documentation and i was wondering if this could be the cause of the warning.',\n",
       " 'Do i have to decrease the cpu fro 16 to 12?If I continue to disregard this warning, will it stop the operation or will it remain just a cosmetic warning?(i\\'ve not migrated my VM Small license to the VM Common license yet)\\n\\n\\u2003Thank you\\n\\n |||| Hello Guys,\\ni\\'ve a cisco ISE deploy running version 3.0 and patch7.After setting up the cluster everything\\'s working fine but i\\'ve got the following warning \"“Fewer VM Licenses installed than VM Resources/VM Nodes deployed\".All nodes are running with a small vm license and with 32gb of ram and 16 cpu on Vmware, i found the following picture on the documentation and i was wondering if this could be the cause of the warning.',\n",
       " \"Do i have to decrease the cpu fro 16 to 12?If I continue to disregard this warning, will it stop the operation or will it remain just a cosmetic warning?(i've not migrated my VM Small license to the VM Common license yet)\\n\\n\\u2003Thank you\",\n",
       " \"|||| hello@MaErre21325, the warning that you have right now is cosmetic and it won't affect your operations that you are doing with ISE, in order to get rid off the alarm it will be required that you do the conversions of licensing that you mentioned in your previous post .\\nLet me know if that helped you . hello.I am trying to set up ISE 3.1 Radius authentication.\\nWhen logging in to the WLC's admin page, the admin account created by ISE is used, and AD users should not be able to log in.You must be able to use the linked AD account when connecting to the wireless AP and using the wireless service.\",\n",
       " 'How should policy sets be configured in relation to the corresponding policy settings? |||| Hi,1. My advise you should use TACACS if you have device admin license on ISE for device administration. Then you create policy in Device Admin Policy set using Internal users as identity store.2. To setup authentication on wireless you can configure policies in policy set and setup authorization using AD groups or other conditions.You have provided very less information in the post. If you provide more info would be better. Hallo All,\\nBeing new to ISE , we want to install one Cisco ISE Cluster with assistance of cisco partner. The consideration for us are following:-\\nNumber of licenses required for endpoints\\nWhich feature we required for ISE',\n",
       " 'Deployment ISE nodes with which features required to be installed like PSN, MNT , PAN\\nIntegration for AD for remote /Wireless Access/DNAC/\\nWhat could be other things needs to be consider before going for installation and furhter steps.\\nWith Regards\\nDEV |||| \\n- To be honest if you have a solid partner with close contact to Cisco , then the purpose is that the partner will be able to assist you with all those questions , here is some sample document :https://www.ciscolive.com/c/dam/r/ciscolive/us/docs/2019/pdf/BRKSEC-2430.pdf, bit date, but figures related to scaling are probably still applicable.\\nM. |||| Along with the mentioned document, you can also check for below knowledge base article:',\n",
       " 'https://community.cisco.com/t5/security-knowledge-base/ise-planning-amp-pre-deployment-checklists/ta-p/3622635\\nPoonam\\n Hallo All,\\nBeing new to ISE , we want to install one Cisco ISE Cluster with assistance of cisco partner. The consideration for us are following:-\\nNumber of licenses required for endpoints\\nWhich feature we required for ISE\\nDeployment ISE nodes with which features required to be installed like PSN, MNT , PAN\\nIntegration for AD for remote /Wireless Access/DNAC/\\nWhat could be other things needs to be consider before going for installation and furhter steps.\\nWith Regards\\nDEV |||| Good to start with deployment guide and roles :\\nhttps://www.ciscolive.com/c/dam/r/ciscolive/us/docs/2020/pdf/DGTL-BRKSEC-3432-reference.pdf',\n",
       " \"If you looking 2 Node deployment, so both will be act as all roles.\\nLook at the License :\\nhttps://www.cisco.com/c/en/us/products/collateral/security/identity-services-engine/guide-c07-656177.html\\n I have a customer who owns ISE admin but not FTD admin so they want to do dACL for RA VPN so they can skip the Access Control Policy on FTD. (So the less they have to ask to the FTD team the better).They want AD integration for authentication but also need a local database for non-corporate users (external users).\\nCan they have both AD and local authentication and authorization done through ISE (so FTD would just reference ISE for both)?I'm thinking FTD authentication should go to ISE and ISE would check with AD, if user is not in AD then check local user base).\",\n",
       " \"(then they will add DUO MFA... but I guess I'll post that with DUO after this is confirmed...)\\nP.S. Does dACL require posture capable license? |||| Yeah the internal users would be moved into ISE, then your ISE policy would reference AD and internal users.\\ndACL does not require Premier Licenses. Hello DearsI have cisco ISE joined to Active Directory (AD), i need to make switch authentication using groups and users in AD through the ISE device , could anyone help me with this regardBests |||| Does your ISE deployment have the Device Administration license? That's required to enable the TACACS server features on it.\\nGiven that, just about everything you'd want to know can be found in this guide:\",\n",
       " \"https://community.cisco.com/t5/security-documents/cisco-ise-device-administration-prescriptive-deployment-guide/ta-p/3738365 What kind of licenses does ISE 3.x consume with PxGrid for the integration with Forescout? Essential, Advantage or Premier?\\nThanks\\nMarco |||| What kind of licenses does ISE 3.x consume with PxGrid for the integration with Forescout? Essential, Advantage or Premier?\\nThanks\\nMarco Hello,\\nI'm finding pxgrid license information very confusing.\\nOn the ordering guide, table 2 says pxgrid does not consume a license but on the license guide it states the following:\"]"
      ]
     },
     "execution_count": 213,
     "metadata": {},
     "output_type": "execute_result"
    }
   ],
   "source": [
    "texts[:20]"
   ]
  },
  {
   "cell_type": "code",
   "execution_count": 222,
   "metadata": {},
   "outputs": [
    {
     "data": {
      "text/html": [
       "<div>\n",
       "<style scoped>\n",
       "    .dataframe tbody tr th:only-of-type {\n",
       "        vertical-align: middle;\n",
       "    }\n",
       "\n",
       "    .dataframe tbody tr th {\n",
       "        vertical-align: top;\n",
       "    }\n",
       "\n",
       "    .dataframe thead th {\n",
       "        text-align: right;\n",
       "    }\n",
       "</style>\n",
       "<table border=\"1\" class=\"dataframe\">\n",
       "  <thead>\n",
       "    <tr style=\"text-align: right;\">\n",
       "      <th></th>\n",
       "      <th>topic</th>\n",
       "      <th>doc</th>\n",
       "      <th>post_x_coordinate</th>\n",
       "      <th>post_y_coordinate</th>\n",
       "      <th>user</th>\n",
       "      <th>topic_id</th>\n",
       "      <th>topic_name</th>\n",
       "      <th>post_url</th>\n",
       "      <th>post_preview</th>\n",
       "      <th>class</th>\n",
       "      <th>analysis_window</th>\n",
       "      <th>quarter_for_analysis</th>\n",
       "      <th>conversation_id</th>\n",
       "      <th>text</th>\n",
       "      <th>summary_text</th>\n",
       "      <th>tag</th>\n",
       "    </tr>\n",
       "  </thead>\n",
       "  <tbody>\n",
       "    <tr>\n",
       "      <th>0</th>\n",
       "      <td>0</td>\n",
       "      <td>person   purchase  advantage license additio...</td>\n",
       "      <td>0.380220</td>\n",
       "      <td>0.056250</td>\n",
       "      <td>2164</td>\n",
       "      <td>0</td>\n",
       "      <td>0_advantage_license_dna</td>\n",
       "      <td>https://community.cisco.com/t5/cisco-one-discu...</td>\n",
       "      <td>Hello Folks,\\n&amp;nbsp;\\nQuick question. I have p...</td>\n",
       "      <td>Licensing</td>\n",
       "      <td>annual</td>\n",
       "      <td>20233</td>\n",
       "      <td>4757953</td>\n",
       "      <td>Hello Folks,\\n\\nQuick question. I have purchas...</td>\n",
       "      <td>The issue being faced is that the person is no...</td>\n",
       "      <td>Cisco dna</td>\n",
       "    </tr>\n",
       "    <tr>\n",
       "      <th>1</th>\n",
       "      <td>0</td>\n",
       "      <td>understand relationship  dna center sda whet...</td>\n",
       "      <td>0.738165</td>\n",
       "      <td>0.836678</td>\n",
       "      <td>23114</td>\n",
       "      <td>0</td>\n",
       "      <td>0_advantage_license_dna</td>\n",
       "      <td>https://community.cisco.com/t5/cisco-digital-n...</td>\n",
       "      <td>Hello All,\\nStarting to get into ISE and DNA a...</td>\n",
       "      <td>Licensing</td>\n",
       "      <td>annual</td>\n",
       "      <td>20233</td>\n",
       "      <td>4725319</td>\n",
       "      <td>Hello All,\\nStarting to get into ISE and DNA a...</td>\n",
       "      <td>The user is trying to understand the relations...</td>\n",
       "      <td>Cisco dna</td>\n",
       "    </tr>\n",
       "    <tr>\n",
       "      <th>2</th>\n",
       "      <td>0</td>\n",
       "      <td>enable policy based enforcement   essentia...</td>\n",
       "      <td>0.234175</td>\n",
       "      <td>0.935613</td>\n",
       "      <td>73380</td>\n",
       "      <td>0</td>\n",
       "      <td>0_advantage_license_dna</td>\n",
       "      <td>https://community.cisco.com/t5/software-define...</td>\n",
       "      <td>I have question about ISE&amp;nbsp;I have ISE esse...</td>\n",
       "      <td>Licensing</td>\n",
       "      <td>annual</td>\n",
       "      <td>20233</td>\n",
       "      <td>4614950</td>\n",
       "      <td>I have question about ISEI have ISE essential ...</td>\n",
       "      <td>The issue being faced is that the user wants t...</td>\n",
       "      <td>Cisco dna</td>\n",
       "    </tr>\n",
       "    <tr>\n",
       "      <th>3</th>\n",
       "      <td>0</td>\n",
       "      <td>generating alarm smart  authorization renew...</td>\n",
       "      <td>0.590524</td>\n",
       "      <td>0.374223</td>\n",
       "      <td>63672</td>\n",
       "      <td>0</td>\n",
       "      <td>0_smart_failure_authorization</td>\n",
       "      <td>https://community.cisco.com/t5/network-access-...</td>\n",
       "      <td>Hi guys,&amp;nbsp;I am running two node deployment...</td>\n",
       "      <td>Licensing</td>\n",
       "      <td>annual</td>\n",
       "      <td>20233</td>\n",
       "      <td>4638108</td>\n",
       "      <td>Hi guys,I am running two node deployment with ...</td>\n",
       "      <td>The issue being faced is that ISE is generatin...</td>\n",
       "      <td>Cisco firewall</td>\n",
       "    </tr>\n",
       "    <tr>\n",
       "      <th>4</th>\n",
       "      <td>0</td>\n",
       "      <td>smart license  box connected internet able o...</td>\n",
       "      <td>0.152381</td>\n",
       "      <td>0.551912</td>\n",
       "      <td>84584</td>\n",
       "      <td>0</td>\n",
       "      <td>0_smart_failure_authorization</td>\n",
       "      <td>https://community.cisco.com/t5/network-access-...</td>\n",
       "      <td>I want to smart license my ISE box which ia no...</td>\n",
       "      <td>Licensing</td>\n",
       "      <td>annual</td>\n",
       "      <td>20233</td>\n",
       "      <td>4613090</td>\n",
       "      <td>I want to smart license my ISE box which ia no...</td>\n",
       "      <td>The customer wants to smart license their ISE ...</td>\n",
       "      <td>Cisco firewall</td>\n",
       "    </tr>\n",
       "  </tbody>\n",
       "</table>\n",
       "</div>"
      ],
      "text/plain": [
       "   topic                                                doc  \\\n",
       "0      0    person   purchase  advantage license additio...   \n",
       "1      0    understand relationship  dna center sda whet...   \n",
       "2      0      enable policy based enforcement   essentia...   \n",
       "3      0     generating alarm smart  authorization renew...   \n",
       "4      0    smart license  box connected internet able o...   \n",
       "\n",
       "   post_x_coordinate  post_y_coordinate   user  topic_id  \\\n",
       "0           0.380220           0.056250   2164         0   \n",
       "1           0.738165           0.836678  23114         0   \n",
       "2           0.234175           0.935613  73380         0   \n",
       "3           0.590524           0.374223  63672         0   \n",
       "4           0.152381           0.551912  84584         0   \n",
       "\n",
       "                      topic_name  \\\n",
       "0        0_advantage_license_dna   \n",
       "1        0_advantage_license_dna   \n",
       "2        0_advantage_license_dna   \n",
       "3  0_smart_failure_authorization   \n",
       "4  0_smart_failure_authorization   \n",
       "\n",
       "                                            post_url  \\\n",
       "0  https://community.cisco.com/t5/cisco-one-discu...   \n",
       "1  https://community.cisco.com/t5/cisco-digital-n...   \n",
       "2  https://community.cisco.com/t5/software-define...   \n",
       "3  https://community.cisco.com/t5/network-access-...   \n",
       "4  https://community.cisco.com/t5/network-access-...   \n",
       "\n",
       "                                        post_preview      class  \\\n",
       "0  Hello Folks,\\n&nbsp;\\nQuick question. I have p...  Licensing   \n",
       "1  Hello All,\\nStarting to get into ISE and DNA a...  Licensing   \n",
       "2  I have question about ISE&nbsp;I have ISE esse...  Licensing   \n",
       "3  Hi guys,&nbsp;I am running two node deployment...  Licensing   \n",
       "4  I want to smart license my ISE box which ia no...  Licensing   \n",
       "\n",
       "  analysis_window  quarter_for_analysis  conversation_id  \\\n",
       "0          annual                 20233          4757953   \n",
       "1          annual                 20233          4725319   \n",
       "2          annual                 20233          4614950   \n",
       "3          annual                 20233          4638108   \n",
       "4          annual                 20233          4613090   \n",
       "\n",
       "                                                text  \\\n",
       "0  Hello Folks,\\n\\nQuick question. I have purchas...   \n",
       "1  Hello All,\\nStarting to get into ISE and DNA a...   \n",
       "2  I have question about ISEI have ISE essential ...   \n",
       "3  Hi guys,I am running two node deployment with ...   \n",
       "4  I want to smart license my ISE box which ia no...   \n",
       "\n",
       "                                        summary_text             tag  \n",
       "0  The issue being faced is that the person is no...       Cisco dna  \n",
       "1  The user is trying to understand the relations...       Cisco dna  \n",
       "2  The issue being faced is that the user wants t...       Cisco dna  \n",
       "3  The issue being faced is that ISE is generatin...  Cisco firewall  \n",
       "4  The customer wants to smart license their ISE ...  Cisco firewall  "
      ]
     },
     "execution_count": 222,
     "metadata": {},
     "output_type": "execute_result"
    }
   ],
   "source": [
    "df.head()"
   ]
  },
  {
   "cell_type": "code",
   "execution_count": null,
   "metadata": {},
   "outputs": [],
   "source": [
    "docs = df['text'].tolist()\n",
    "post_url = df['post_url'].tolist()\n",
    "post_tag = df['tag'].tolist()\n",
    "post_topic = df['topic_name'].tolist()"
   ]
  },
  {
   "cell_type": "code",
   "execution_count": 214,
   "metadata": {},
   "outputs": [],
   "source": [
    "from langchain.docstore.document import Document \n",
    "\n",
    "docs = [Document(page_content=doc, metadata={'url': post_url[i], 'tag': post_tag[i], 'topic_name': post_topic[i]}) for i, doc in enumerate(texts)]"
   ]
  },
  {
   "cell_type": "code",
   "execution_count": 5,
   "metadata": {},
   "outputs": [
    {
     "name": "stderr",
     "output_type": "stream",
     "text": [
      "ERROR:root:Internal Python error in the inspect module.\n",
      "Below is the traceback from this internal error.\n",
      "\n"
     ]
    },
    {
     "name": "stdout",
     "output_type": "stream",
     "text": [
      "Traceback (most recent call last):\n",
      "  File \"c:\\Users\\farefain\\AppData\\Local\\Programs\\Python\\Python38\\lib\\site-packages\\IPython\\core\\interactiveshell.py\", line 3437, in run_code\n",
      "    exec(code_obj, self.user_global_ns, self.user_ns)\n",
      "  File \"<ipython-input-5-d09f1092ac28>\", line 14, in <module>\n",
      "    db = Chroma.from_documents(docs, embeddings, persist_directory=f'vector_databases/{class_name}_db')\n",
      "NameError: name 'docs' is not defined\n",
      "\n",
      "During handling of the above exception, another exception occurred:\n",
      "\n",
      "Traceback (most recent call last):\n",
      "  File \"c:\\Users\\farefain\\AppData\\Local\\Programs\\Python\\Python38\\lib\\site-packages\\IPython\\core\\interactiveshell.py\", line 2061, in showtraceback\n",
      "    stb = value._render_traceback_()\n",
      "AttributeError: 'NameError' object has no attribute '_render_traceback_'\n",
      "\n",
      "During handling of the above exception, another exception occurred:\n",
      "\n",
      "Traceback (most recent call last):\n",
      "  File \"c:\\Users\\farefain\\AppData\\Local\\Programs\\Python\\Python38\\lib\\site-packages\\IPython\\core\\ultratb.py\", line 1101, in get_records\n",
      "    return _fixed_getinnerframes(etb, number_of_lines_of_context, tb_offset)\n",
      "  File \"c:\\Users\\farefain\\AppData\\Local\\Programs\\Python\\Python38\\lib\\site-packages\\IPython\\core\\ultratb.py\", line 248, in wrapped\n",
      "    return f(*args, **kwargs)\n",
      "  File \"c:\\Users\\farefain\\AppData\\Local\\Programs\\Python\\Python38\\lib\\site-packages\\IPython\\core\\ultratb.py\", line 281, in _fixed_getinnerframes\n",
      "    records = fix_frame_records_filenames(inspect.getinnerframes(etb, context))\n",
      "  File \"c:\\Users\\farefain\\AppData\\Local\\Programs\\Python\\Python38\\lib\\inspect.py\", line 1515, in getinnerframes\n",
      "    frameinfo = (tb.tb_frame,) + getframeinfo(tb, context)\n",
      "  File \"c:\\Users\\farefain\\AppData\\Local\\Programs\\Python\\Python38\\lib\\inspect.py\", line 1473, in getframeinfo\n",
      "    filename = getsourcefile(frame) or getfile(frame)\n",
      "  File \"c:\\Users\\farefain\\AppData\\Local\\Programs\\Python\\Python38\\lib\\inspect.py\", line 708, in getsourcefile\n",
      "    if getattr(getmodule(object, filename), '__loader__', None) is not None:\n",
      "  File \"c:\\Users\\farefain\\AppData\\Local\\Programs\\Python\\Python38\\lib\\inspect.py\", line 751, in getmodule\n",
      "    f = getabsfile(module)\n",
      "  File \"c:\\Users\\farefain\\AppData\\Local\\Programs\\Python\\Python38\\lib\\inspect.py\", line 720, in getabsfile\n",
      "    _filename = getsourcefile(object) or getfile(object)\n",
      "  File \"c:\\Users\\farefain\\AppData\\Local\\Programs\\Python\\Python38\\lib\\inspect.py\", line 705, in getsourcefile\n",
      "    if os.path.exists(filename):\n",
      "  File \"c:\\Users\\farefain\\AppData\\Local\\Programs\\Python\\Python38\\lib\\genericpath.py\", line 19, in exists\n",
      "    os.stat(path)\n",
      "KeyboardInterrupt\n"
     ]
    },
    {
     "ename": "TypeError",
     "evalue": "object of type 'NoneType' has no len()",
     "output_type": "error",
     "traceback": [
      "\u001b[1;31m---------------------------------------------------------------------------\u001b[0m",
      "\u001b[1;31mNameError\u001b[0m                                 Traceback (most recent call last)",
      "    \u001b[1;31m[... skipping hidden 1 frame]\u001b[0m\n",
      "\u001b[1;32m<ipython-input-5-d09f1092ac28>\u001b[0m in \u001b[0;36m<module>\u001b[1;34m\u001b[0m\n\u001b[0;32m     13\u001b[0m \u001b[1;33m\u001b[0m\u001b[0m\n\u001b[1;32m---> 14\u001b[1;33m \u001b[0mdb\u001b[0m \u001b[1;33m=\u001b[0m \u001b[0mChroma\u001b[0m\u001b[1;33m.\u001b[0m\u001b[0mfrom_documents\u001b[0m\u001b[1;33m(\u001b[0m\u001b[0mdocs\u001b[0m\u001b[1;33m,\u001b[0m \u001b[0membeddings\u001b[0m\u001b[1;33m,\u001b[0m \u001b[0mpersist_directory\u001b[0m\u001b[1;33m=\u001b[0m\u001b[1;34mf'vector_databases/{class_name}_db'\u001b[0m\u001b[1;33m)\u001b[0m\u001b[1;33m\u001b[0m\u001b[1;33m\u001b[0m\u001b[0m\n\u001b[0m\u001b[0;32m     15\u001b[0m \u001b[0mdb\u001b[0m\u001b[1;33m.\u001b[0m\u001b[0mpersist\u001b[0m\u001b[1;33m(\u001b[0m\u001b[1;33m)\u001b[0m\u001b[1;33m\u001b[0m\u001b[1;33m\u001b[0m\u001b[0m\n",
      "\u001b[1;31mNameError\u001b[0m: name 'docs' is not defined",
      "\nDuring handling of the above exception, another exception occurred:\n",
      "\u001b[1;31mAttributeError\u001b[0m                            Traceback (most recent call last)",
      "\u001b[1;32mc:\\Users\\farefain\\AppData\\Local\\Programs\\Python\\Python38\\lib\\site-packages\\IPython\\core\\interactiveshell.py\u001b[0m in \u001b[0;36mshowtraceback\u001b[1;34m(self, exc_tuple, filename, tb_offset, exception_only, running_compiled_code)\u001b[0m\n\u001b[0;32m   2060\u001b[0m                         \u001b[1;31m# in the engines. This should return a list of strings.\u001b[0m\u001b[1;33m\u001b[0m\u001b[1;33m\u001b[0m\u001b[1;33m\u001b[0m\u001b[0m\n\u001b[1;32m-> 2061\u001b[1;33m                         \u001b[0mstb\u001b[0m \u001b[1;33m=\u001b[0m \u001b[0mvalue\u001b[0m\u001b[1;33m.\u001b[0m\u001b[0m_render_traceback_\u001b[0m\u001b[1;33m(\u001b[0m\u001b[1;33m)\u001b[0m\u001b[1;33m\u001b[0m\u001b[1;33m\u001b[0m\u001b[0m\n\u001b[0m\u001b[0;32m   2062\u001b[0m                     \u001b[1;32mexcept\u001b[0m \u001b[0mException\u001b[0m\u001b[1;33m:\u001b[0m\u001b[1;33m\u001b[0m\u001b[1;33m\u001b[0m\u001b[0m\n",
      "\u001b[1;31mAttributeError\u001b[0m: 'NameError' object has no attribute '_render_traceback_'",
      "\nDuring handling of the above exception, another exception occurred:\n",
      "\u001b[1;31mTypeError\u001b[0m                                 Traceback (most recent call last)",
      "    \u001b[1;31m[... skipping hidden 1 frame]\u001b[0m\n",
      "\u001b[1;32mc:\\Users\\farefain\\AppData\\Local\\Programs\\Python\\Python38\\lib\\site-packages\\IPython\\core\\interactiveshell.py\u001b[0m in \u001b[0;36mshowtraceback\u001b[1;34m(self, exc_tuple, filename, tb_offset, exception_only, running_compiled_code)\u001b[0m\n\u001b[0;32m   2061\u001b[0m                         \u001b[0mstb\u001b[0m \u001b[1;33m=\u001b[0m \u001b[0mvalue\u001b[0m\u001b[1;33m.\u001b[0m\u001b[0m_render_traceback_\u001b[0m\u001b[1;33m(\u001b[0m\u001b[1;33m)\u001b[0m\u001b[1;33m\u001b[0m\u001b[1;33m\u001b[0m\u001b[0m\n\u001b[0;32m   2062\u001b[0m                     \u001b[1;32mexcept\u001b[0m \u001b[0mException\u001b[0m\u001b[1;33m:\u001b[0m\u001b[1;33m\u001b[0m\u001b[1;33m\u001b[0m\u001b[0m\n\u001b[1;32m-> 2063\u001b[1;33m                         stb = self.InteractiveTB.structured_traceback(etype,\n\u001b[0m\u001b[0;32m   2064\u001b[0m                                             value, tb, tb_offset=tb_offset)\n\u001b[0;32m   2065\u001b[0m \u001b[1;33m\u001b[0m\u001b[0m\n",
      "\u001b[1;32mc:\\Users\\farefain\\AppData\\Local\\Programs\\Python\\Python38\\lib\\site-packages\\IPython\\core\\ultratb.py\u001b[0m in \u001b[0;36mstructured_traceback\u001b[1;34m(self, etype, value, tb, tb_offset, number_of_lines_of_context)\u001b[0m\n\u001b[0;32m   1365\u001b[0m         \u001b[1;32melse\u001b[0m\u001b[1;33m:\u001b[0m\u001b[1;33m\u001b[0m\u001b[1;33m\u001b[0m\u001b[0m\n\u001b[0;32m   1366\u001b[0m             \u001b[0mself\u001b[0m\u001b[1;33m.\u001b[0m\u001b[0mtb\u001b[0m \u001b[1;33m=\u001b[0m \u001b[0mtb\u001b[0m\u001b[1;33m\u001b[0m\u001b[1;33m\u001b[0m\u001b[0m\n\u001b[1;32m-> 1367\u001b[1;33m         return FormattedTB.structured_traceback(\n\u001b[0m\u001b[0;32m   1368\u001b[0m             self, etype, value, tb, tb_offset, number_of_lines_of_context)\n\u001b[0;32m   1369\u001b[0m \u001b[1;33m\u001b[0m\u001b[0m\n",
      "\u001b[1;32mc:\\Users\\farefain\\AppData\\Local\\Programs\\Python\\Python38\\lib\\site-packages\\IPython\\core\\ultratb.py\u001b[0m in \u001b[0;36mstructured_traceback\u001b[1;34m(self, etype, value, tb, tb_offset, number_of_lines_of_context)\u001b[0m\n\u001b[0;32m   1265\u001b[0m         \u001b[1;32mif\u001b[0m \u001b[0mmode\u001b[0m \u001b[1;32min\u001b[0m \u001b[0mself\u001b[0m\u001b[1;33m.\u001b[0m\u001b[0mverbose_modes\u001b[0m\u001b[1;33m:\u001b[0m\u001b[1;33m\u001b[0m\u001b[1;33m\u001b[0m\u001b[0m\n\u001b[0;32m   1266\u001b[0m             \u001b[1;31m# Verbose modes need a full traceback\u001b[0m\u001b[1;33m\u001b[0m\u001b[1;33m\u001b[0m\u001b[1;33m\u001b[0m\u001b[0m\n\u001b[1;32m-> 1267\u001b[1;33m             return VerboseTB.structured_traceback(\n\u001b[0m\u001b[0;32m   1268\u001b[0m                 \u001b[0mself\u001b[0m\u001b[1;33m,\u001b[0m \u001b[0metype\u001b[0m\u001b[1;33m,\u001b[0m \u001b[0mvalue\u001b[0m\u001b[1;33m,\u001b[0m \u001b[0mtb\u001b[0m\u001b[1;33m,\u001b[0m \u001b[0mtb_offset\u001b[0m\u001b[1;33m,\u001b[0m \u001b[0mnumber_of_lines_of_context\u001b[0m\u001b[1;33m\u001b[0m\u001b[1;33m\u001b[0m\u001b[0m\n\u001b[0;32m   1269\u001b[0m             )\n",
      "\u001b[1;32mc:\\Users\\farefain\\AppData\\Local\\Programs\\Python\\Python38\\lib\\site-packages\\IPython\\core\\ultratb.py\u001b[0m in \u001b[0;36mstructured_traceback\u001b[1;34m(self, etype, evalue, etb, tb_offset, number_of_lines_of_context)\u001b[0m\n\u001b[0;32m   1122\u001b[0m         \u001b[1;34m\"\"\"Return a nice text document describing the traceback.\"\"\"\u001b[0m\u001b[1;33m\u001b[0m\u001b[1;33m\u001b[0m\u001b[0m\n\u001b[0;32m   1123\u001b[0m \u001b[1;33m\u001b[0m\u001b[0m\n\u001b[1;32m-> 1124\u001b[1;33m         formatted_exception = self.format_exception_as_a_whole(etype, evalue, etb, number_of_lines_of_context,\n\u001b[0m\u001b[0;32m   1125\u001b[0m                                                                tb_offset)\n\u001b[0;32m   1126\u001b[0m \u001b[1;33m\u001b[0m\u001b[0m\n",
      "\u001b[1;32mc:\\Users\\farefain\\AppData\\Local\\Programs\\Python\\Python38\\lib\\site-packages\\IPython\\core\\ultratb.py\u001b[0m in \u001b[0;36mformat_exception_as_a_whole\u001b[1;34m(self, etype, evalue, etb, number_of_lines_of_context, tb_offset)\u001b[0m\n\u001b[0;32m   1080\u001b[0m \u001b[1;33m\u001b[0m\u001b[0m\n\u001b[0;32m   1081\u001b[0m \u001b[1;33m\u001b[0m\u001b[0m\n\u001b[1;32m-> 1082\u001b[1;33m         \u001b[0mlast_unique\u001b[0m\u001b[1;33m,\u001b[0m \u001b[0mrecursion_repeat\u001b[0m \u001b[1;33m=\u001b[0m \u001b[0mfind_recursion\u001b[0m\u001b[1;33m(\u001b[0m\u001b[0morig_etype\u001b[0m\u001b[1;33m,\u001b[0m \u001b[0mevalue\u001b[0m\u001b[1;33m,\u001b[0m \u001b[0mrecords\u001b[0m\u001b[1;33m)\u001b[0m\u001b[1;33m\u001b[0m\u001b[1;33m\u001b[0m\u001b[0m\n\u001b[0m\u001b[0;32m   1083\u001b[0m \u001b[1;33m\u001b[0m\u001b[0m\n\u001b[0;32m   1084\u001b[0m         \u001b[0mframes\u001b[0m \u001b[1;33m=\u001b[0m \u001b[0mself\u001b[0m\u001b[1;33m.\u001b[0m\u001b[0mformat_records\u001b[0m\u001b[1;33m(\u001b[0m\u001b[0mrecords\u001b[0m\u001b[1;33m,\u001b[0m \u001b[0mlast_unique\u001b[0m\u001b[1;33m,\u001b[0m \u001b[0mrecursion_repeat\u001b[0m\u001b[1;33m)\u001b[0m\u001b[1;33m\u001b[0m\u001b[1;33m\u001b[0m\u001b[0m\n",
      "\u001b[1;32mc:\\Users\\farefain\\AppData\\Local\\Programs\\Python\\Python38\\lib\\site-packages\\IPython\\core\\ultratb.py\u001b[0m in \u001b[0;36mfind_recursion\u001b[1;34m(etype, value, records)\u001b[0m\n\u001b[0;32m    380\u001b[0m     \u001b[1;31m# first frame (from in to out) that looks different.\u001b[0m\u001b[1;33m\u001b[0m\u001b[1;33m\u001b[0m\u001b[1;33m\u001b[0m\u001b[0m\n\u001b[0;32m    381\u001b[0m     \u001b[1;32mif\u001b[0m \u001b[1;32mnot\u001b[0m \u001b[0mis_recursion_error\u001b[0m\u001b[1;33m(\u001b[0m\u001b[0metype\u001b[0m\u001b[1;33m,\u001b[0m \u001b[0mvalue\u001b[0m\u001b[1;33m,\u001b[0m \u001b[0mrecords\u001b[0m\u001b[1;33m)\u001b[0m\u001b[1;33m:\u001b[0m\u001b[1;33m\u001b[0m\u001b[1;33m\u001b[0m\u001b[0m\n\u001b[1;32m--> 382\u001b[1;33m         \u001b[1;32mreturn\u001b[0m \u001b[0mlen\u001b[0m\u001b[1;33m(\u001b[0m\u001b[0mrecords\u001b[0m\u001b[1;33m)\u001b[0m\u001b[1;33m,\u001b[0m \u001b[1;36m0\u001b[0m\u001b[1;33m\u001b[0m\u001b[1;33m\u001b[0m\u001b[0m\n\u001b[0m\u001b[0;32m    383\u001b[0m \u001b[1;33m\u001b[0m\u001b[0m\n\u001b[0;32m    384\u001b[0m     \u001b[1;31m# Select filename, lineno, func_name to track frames with\u001b[0m\u001b[1;33m\u001b[0m\u001b[1;33m\u001b[0m\u001b[1;33m\u001b[0m\u001b[0m\n",
      "\u001b[1;31mTypeError\u001b[0m: object of type 'NoneType' has no len()"
     ]
    }
   ],
   "source": [
    "# embeddings = VertexAIEmbeddings()\n",
    "# Create a vectorstore from documents\n",
    "from langchain.embeddings import VertexAIEmbeddings\n",
    "from langchain.vectorstores import DocArrayInMemorySearch\n",
    "\n",
    "\n",
    "embeddings = VertexAIEmbeddings()\n",
    "\n",
    "# db = DocArrayInMemorySearch.from_documents(\n",
    "#     docs, \n",
    "#     embeddings\n",
    "# )\n",
    "\n",
    "db = Chroma.from_documents(docs, embeddings, persist_directory=f'vector_databases/{class_name}_db')\n",
    "db.persist()"
   ]
  },
  {
   "cell_type": "code",
   "execution_count": 217,
   "metadata": {},
   "outputs": [
    {
     "data": {
      "text/plain": [
       "'vector_databases/Licensing_db'"
      ]
     },
     "execution_count": 217,
     "metadata": {},
     "output_type": "execute_result"
    }
   ],
   "source": [
    "\n",
    "db._client_settings.persist_directory"
   ]
  },
  {
   "cell_type": "code",
   "execution_count": 44,
   "metadata": {},
   "outputs": [],
   "source": [
    "query = \"Give me all the issues about DACL discussed among customers. Provide them in bullet points.\""
   ]
  },
  {
   "cell_type": "code",
   "execution_count": 311,
   "metadata": {},
   "outputs": [],
   "source": [
    "retriever = db.as_retriever"
   ]
  },
  {
   "cell_type": "code",
   "execution_count": 326,
   "metadata": {},
   "outputs": [
    {
     "data": {
      "text/plain": [
       "[Document(page_content=\"I have noticed one weird bug in ISE when the CoA is not working (i.e. when it's not configured on the switch) - the result is that the session is correctly authorized, but you will see no entry in Li\", metadata={}),\n",
       " Document(page_content='If you have already this , and you are seeing the events related to the passive ID connector, I would check if the ISE and the NAD are issuing the CoA correctly.', metadata={}),\n",
       " Document(page_content='ng for a long time. I suspect this may have something to do with the problem perhaps. Having looked at the destination of the CoA packets, it is clear that ISE is trying to ask the original APs based', metadata={}),\n",
       " Document(page_content='ation packets to construct CoA? If so, how does that explain the alarm messages I have been getting on ISE complaining about lack of response to generated CoA to APs? Hello,', metadata={})]"
      ]
     },
     "execution_count": 326,
     "metadata": {},
     "output_type": "execute_result"
    }
   ],
   "source": [
    "retriever.get_relevant_documents(query=query)"
   ]
  },
  {
   "cell_type": "code",
   "execution_count": 312,
   "metadata": {},
   "outputs": [],
   "source": [
    "query = 'Give me more context into issues customers are having where switche is not receiving the correct CoA from the ISE.'"
   ]
  },
  {
   "cell_type": "code",
   "execution_count": 318,
   "metadata": {},
   "outputs": [],
   "source": [
    "c = db.similarity_search(query=query, k=8)"
   ]
  },
  {
   "cell_type": "code",
   "execution_count": 319,
   "metadata": {},
   "outputs": [],
   "source": [
    "context = '\\n\\n'.join([page.page_content for page in c])"
   ]
  },
  {
   "cell_type": "code",
   "execution_count": 331,
   "metadata": {},
   "outputs": [
    {
     "data": {
      "text/plain": [
       "'dataset/Implement_db'"
      ]
     },
     "execution_count": 331,
     "metadata": {},
     "output_type": "execute_result"
    }
   ],
   "source": [
    "db._persist_directory"
   ]
  },
  {
   "cell_type": "code",
   "execution_count": 14,
   "metadata": {},
   "outputs": [],
   "source": [
    "class_name = 'upgrade'"
   ]
  },
  {
   "cell_type": "code",
   "execution_count": 55,
   "metadata": {},
   "outputs": [],
   "source": [
    "query = 'list all ISE implement issues involding Cisco dna discussed in bullet points.'"
   ]
  },
  {
   "cell_type": "code",
   "execution_count": 6,
   "metadata": {},
   "outputs": [],
   "source": [
    "query = \"What type of questions are getting asked on licenses for Cisco SD-Access deployment\""
   ]
  },
  {
   "cell_type": "code",
   "execution_count": 9,
   "metadata": {},
   "outputs": [],
   "source": [
    "persist_directory = './community-app/vector_databases/Licensing_db'\n",
    "\n",
    "embeddings = VertexAIEmbeddings()\n",
    "\n",
    "vectordb = Chroma(persist_directory=persist_directory, \n",
    "                      embedding_function=embeddings)\n"
   ]
  },
  {
   "cell_type": "code",
   "execution_count": 16,
   "metadata": {},
   "outputs": [
    {
     "ename": "TypeError",
     "evalue": "'dict' object is not callable",
     "output_type": "error",
     "traceback": [
      "\u001b[1;31m---------------------------------------------------------------------------\u001b[0m",
      "\u001b[1;31mTypeError\u001b[0m                                 Traceback (most recent call last)",
      "\u001b[1;32m<ipython-input-16-c478443b923f>\u001b[0m in \u001b[0;36m<module>\u001b[1;34m\u001b[0m\n\u001b[0;32m      1\u001b[0m \u001b[1;31m# Check validity of the imported database\u001b[0m\u001b[1;33m\u001b[0m\u001b[1;33m\u001b[0m\u001b[1;33m\u001b[0m\u001b[0m\n\u001b[1;32m----> 2\u001b[1;33m \u001b[0mvectordb\u001b[0m\u001b[1;33m.\u001b[0m\u001b[0m_client_settings\u001b[0m\u001b[1;33m.\u001b[0m\u001b[0m__dict__\u001b[0m\u001b[1;33m(\u001b[0m\u001b[1;33m)\u001b[0m\u001b[1;33m\u001b[0m\u001b[1;33m\u001b[0m\u001b[0m\n\u001b[0m",
      "\u001b[1;31mTypeError\u001b[0m: 'dict' object is not callable"
     ]
    }
   ],
   "source": [
    "# Check validity of the imported database\n",
    "vectordb._client_settings.__dict__()"
   ]
  },
  {
   "cell_type": "code",
   "execution_count": 8,
   "metadata": {},
   "outputs": [
    {
     "data": {
      "text/plain": [
       "[Document(page_content='The issue being faced is that the person is not sure if they need to purchase ISE Advantage licenses in addition to the DNA Advantage licenses they have already purchased. They are concerned because the Cisco ISE 3.x licensing structure states that ISE Advantage licenses are required to use pxGrid and TrustSec. Hello Folks,\\n\\nQuick question. I have purchased DNA Advantage licenses for Cisco SD-Access deployment. With SD-Access, we already have ISE 3.x Essential licenses. The question is do I also', metadata={'url': 'https://community.cisco.com/t5/cisco-one-discussions/cisco-dna-advantage-for-sd-access-and-ise-advantage-license/td-p/4757953', 'tag': 'Cisco dna', 'topic_name': '0_advantage_license_dna', 'summary': 'The issue being faced is that the person is not sure if they need to purchase ISE Advantage licenses in addition to the DNA Advantage licenses they have already purchased. They are concerned because the Cisco ISE 3.x licensing structure states that ISE Advantage licenses are required to use pxGrid and TrustSec.', 'conversation_id': 4757953}),\n",
       " Document(page_content='The user wants to know if they need a license to use Cisco ISE for only Radius authentication with Meraki Wi-Fi devices. Hi,Quick question Do I need a license to use Cisco ISE for only Radius authentication with Meraki Wi-Fi devices? |||| Also, if I am only using a Base license, do I get TAC support with that? |||| Any type of ISE usage requires a license. If you are only doing authentication and basic authorization then you need at a minimum the ISE VM license (or hardware appliance) and ISE Es', metadata={'url': 'https://community.cisco.com/t5/network-access-control/ise-license-for-only-using-radius/td-p/4730207', 'tag': 'Others', 'topic_name': '1_license_device_smart', 'summary': 'The user wants to know if they need a license to use Cisco ISE for only Radius authentication with Meraki Wi-Fi devices.', 'conversation_id': 4730207}),\n",
       " Document(page_content='The issue is that the customer wants to extend the ISE functions to their \"industrial network\" but they are not sure if this kind of deployment is allowed and supported by TAC. They also want to know if they need a full ISE license or if there are licenses to only run specific services of ISE. Hello,I have a small question about the deployment of Cisco ISE.Actually we are running a cluster of 2 members, each hosting PAN-MnT-PSN.We want to extend the ISE functions to our \"industrial network\" sepa', metadata={'url': 'https://community.cisco.com/t5/network-access-control/cisco-ise-deployment-question/td-p/4682758', 'tag': 'Others', 'topic_name': '0_license_version_upgrade', 'summary': 'The issue is that the customer wants to extend the ISE functions to their \"industrial network\" but they are not sure if this kind of deployment is allowed and supported by TAC. They also want to know if they need a full ISE license or if there are licenses to only run specific services of ISE.', 'conversation_id': 4682758}),\n",
       " Document(page_content='The issue is that the customer is trying to figure out how many licenses they need for ISE. They have 200 phones with dual ports, 1500 wireless users, and 100 pcs which are connected to the phones. They want to authorize all of these devices and are wondering what type of license they should buy. Hi ,I have 200 phone with dual port , and 1500 wireless users and 100 pc which are connected to the phoneSo what is the total license require for ISEI want to authorize all those deviceWhat type of lice', metadata={'url': 'https://community.cisco.com/t5/network-access-control/ise-license/td-p/4622379', 'tag': 'Others', 'topic_name': '1_license_device_smart', 'summary': 'The issue is that the customer is trying to figure out how many licenses they need for ISE. They have 200 phones with dual ports, 1500 wireless users, and 100 pcs which are connected to the phones. They want to authorize all of these devices and are wondering what type of license they should buy.', 'conversation_id': 4622379})]"
      ]
     },
     "execution_count": 8,
     "metadata": {},
     "output_type": "execute_result"
    }
   ],
   "source": [
    "vectordb.similarity_search(query=query, k=4)"
   ]
  },
  {
   "cell_type": "code",
   "execution_count": 8,
   "metadata": {},
   "outputs": [],
   "source": [
    "from langchain.chains.query_constructor.base import AttributeInfo\n",
    "from langchain.retrievers.self_query.base import SelfQueryRetriever\n",
    "from langchain.llms import OpenAI "
   ]
  },
  {
   "cell_type": "code",
   "execution_count": 9,
   "metadata": {},
   "outputs": [],
   "source": [
    "metadata_field_info = [\n",
    "    AttributeInfo(\n",
    "        name = 'url',\n",
    "        description='Where the document is from. Should be a link to the document',\n",
    "        type = 'string'\n",
    "    ),\n",
    "    AttributeInfo(\n",
    "        name = 'tag',\n",
    "        description= \"What subc-class the document belongs too. Should be one of 'Others', 'Directory services', 'Cloud/OS', 'Integration', 'Cisco firewall', 'Authentication', 'Cisco dna', 'Design'\",\n",
    "        type = 'string'\n",
    "    ),\n",
    "    AttributeInfo(\n",
    "        name = 'topic_name',\n",
    "        description = \"The topic where the document belongs to.\",\n",
    "        type = 'sstring'\n",
    "\n",
    "    )\n",
    "]"
   ]
  },
  {
   "cell_type": "code",
   "execution_count": 14,
   "metadata": {},
   "outputs": [],
   "source": [
    "document_content_description = \"ISE product category documents\"\n",
    "\n",
    "llm = VertexAI(temperature=0)\n",
    "\n",
    "retriever = SelfQueryRetriever.from_llm(\n",
    "    llm=llm, \n",
    "    vectorstore=vectordb,\n",
    "    document_contents=document_content_description,\n",
    "    metadata_field_info=metadata_field_info,\n",
    "    verbose=True\n",
    ")"
   ]
  },
  {
   "cell_type": "code",
   "execution_count": 15,
   "metadata": {},
   "outputs": [],
   "source": [
    "query = \"Give me discussions where a  customer wants to smart license their ISE box which is not connected to the internet.\""
   ]
  },
  {
   "cell_type": "code",
   "execution_count": 16,
   "metadata": {},
   "outputs": [
    {
     "name": "stderr",
     "output_type": "stream",
     "text": [
      "c:\\Users\\farefain\\AppData\\Local\\Programs\\Python\\Python38\\lib\\site-packages\\langchain\\chains\\llm.py:275: UserWarning: The predict_and_parse method is deprecated, instead pass an output parser directly to LLMChain.\n",
      "  warnings.warn(\n"
     ]
    },
    {
     "name": "stdout",
     "output_type": "stream",
     "text": [
      "query='smart license ISE box not connected to the internet' filter=None limit=None\n"
     ]
    }
   ],
   "source": [
    "results = retriever.get_relevant_documents(query=query)"
   ]
  },
  {
   "cell_type": "code",
   "execution_count": 23,
   "metadata": {},
   "outputs": [
    {
     "data": {
      "text/plain": [
       "'https://community.cisco.com/t5/network-access-control/ise-smart-licensing/td-p/4613090'"
      ]
     },
     "execution_count": 23,
     "metadata": {},
     "output_type": "execute_result"
    }
   ],
   "source": [
    "results[0].metadata['url']"
   ]
  },
  {
   "cell_type": "code",
   "execution_count": 35,
   "metadata": {},
   "outputs": [],
   "source": [
    "d = pd.read_excel('dataset/cluster_summaries_aq.xlsx')"
   ]
  },
  {
   "cell_type": "code",
   "execution_count": 55,
   "metadata": {},
   "outputs": [
    {
     "data": {
      "text/plain": [
       "2"
      ]
     },
     "execution_count": 55,
     "metadata": {},
     "output_type": "execute_result"
    }
   ],
   "source": [
    "len(d[(d['class'] == 'Licensing') & (d['tag'] == 'Others') & (d['analysis_window'] == 'annual')])"
   ]
  },
  {
   "cell_type": "code",
   "execution_count": null,
   "metadata": {},
   "outputs": [],
   "source": []
  },
  {
   "cell_type": "code",
   "execution_count": null,
   "metadata": {},
   "outputs": [],
   "source": []
  },
  {
   "cell_type": "code",
   "execution_count": null,
   "metadata": {},
   "outputs": [],
   "source": []
  },
  {
   "cell_type": "code",
   "execution_count": 32,
   "metadata": {},
   "outputs": [
    {
     "data": {
      "text/html": [
       "<div>\n",
       "<style scoped>\n",
       "    .dataframe tbody tr th:only-of-type {\n",
       "        vertical-align: middle;\n",
       "    }\n",
       "\n",
       "    .dataframe tbody tr th {\n",
       "        vertical-align: top;\n",
       "    }\n",
       "\n",
       "    .dataframe thead th {\n",
       "        text-align: right;\n",
       "    }\n",
       "</style>\n",
       "<table border=\"1\" class=\"dataframe\">\n",
       "  <thead>\n",
       "    <tr style=\"text-align: right;\">\n",
       "      <th></th>\n",
       "      <th>topic</th>\n",
       "      <th>doc</th>\n",
       "      <th>post_x_coordinate</th>\n",
       "      <th>post_y_coordinate</th>\n",
       "      <th>user</th>\n",
       "      <th>topic_id</th>\n",
       "      <th>topic_name</th>\n",
       "      <th>post_url</th>\n",
       "      <th>post_preview</th>\n",
       "      <th>class</th>\n",
       "      <th>analysis_window</th>\n",
       "      <th>quarter_for_analysis</th>\n",
       "      <th>conversation_id</th>\n",
       "      <th>text</th>\n",
       "      <th>summary_text</th>\n",
       "      <th>tag</th>\n",
       "    </tr>\n",
       "  </thead>\n",
       "  <tbody>\n",
       "    <tr>\n",
       "      <th>0</th>\n",
       "      <td>0</td>\n",
       "      <td>person   purchase  advantage license additio...</td>\n",
       "      <td>0.380220</td>\n",
       "      <td>0.056250</td>\n",
       "      <td>2164</td>\n",
       "      <td>0</td>\n",
       "      <td>0_advantage_license_dna</td>\n",
       "      <td>https://community.cisco.com/t5/cisco-one-discu...</td>\n",
       "      <td>Hello Folks,\\n&amp;nbsp;\\nQuick question. I have p...</td>\n",
       "      <td>Licensing</td>\n",
       "      <td>annual</td>\n",
       "      <td>20233</td>\n",
       "      <td>4757953</td>\n",
       "      <td>&lt;P&gt;Hello Folks,&lt;/P&gt;\\n&lt;P&gt;&amp;nbsp;&lt;/P&gt;\\n&lt;P&gt;Quick q...</td>\n",
       "      <td>The issue being faced is that the person is no...</td>\n",
       "      <td>Cisco dna</td>\n",
       "    </tr>\n",
       "    <tr>\n",
       "      <th>1</th>\n",
       "      <td>0</td>\n",
       "      <td>understand relationship  dna center sda whet...</td>\n",
       "      <td>0.738165</td>\n",
       "      <td>0.836678</td>\n",
       "      <td>23114</td>\n",
       "      <td>0</td>\n",
       "      <td>0_advantage_license_dna</td>\n",
       "      <td>https://community.cisco.com/t5/cisco-digital-n...</td>\n",
       "      <td>Hello All,\\nStarting to get into ISE and DNA a...</td>\n",
       "      <td>Licensing</td>\n",
       "      <td>annual</td>\n",
       "      <td>20233</td>\n",
       "      <td>4725319</td>\n",
       "      <td>&lt;P&gt;Hello All,&lt;/P&gt;\\n&lt;P&gt;Starting to get into ISE...</td>\n",
       "      <td>The user is trying to understand the relations...</td>\n",
       "      <td>Cisco dna</td>\n",
       "    </tr>\n",
       "    <tr>\n",
       "      <th>2</th>\n",
       "      <td>0</td>\n",
       "      <td>enable policy based enforcement   essentia...</td>\n",
       "      <td>0.234175</td>\n",
       "      <td>0.935613</td>\n",
       "      <td>73380</td>\n",
       "      <td>0</td>\n",
       "      <td>0_advantage_license_dna</td>\n",
       "      <td>https://community.cisco.com/t5/software-define...</td>\n",
       "      <td>I have question about ISE&amp;nbsp;I have ISE esse...</td>\n",
       "      <td>Licensing</td>\n",
       "      <td>annual</td>\n",
       "      <td>20233</td>\n",
       "      <td>4614950</td>\n",
       "      <td>&lt;P&gt;I have question about ISE&lt;/P&gt;&lt;P&gt;&amp;nbsp;&lt;/P&gt;&lt;...</td>\n",
       "      <td>The issue being faced is that the user wants t...</td>\n",
       "      <td>Cisco dna</td>\n",
       "    </tr>\n",
       "    <tr>\n",
       "      <th>3</th>\n",
       "      <td>0</td>\n",
       "      <td>generating alarm smart  authorization renew...</td>\n",
       "      <td>0.590524</td>\n",
       "      <td>0.374223</td>\n",
       "      <td>63672</td>\n",
       "      <td>0</td>\n",
       "      <td>0_smart_failure_authorization</td>\n",
       "      <td>https://community.cisco.com/t5/network-access-...</td>\n",
       "      <td>Hi guys,&amp;nbsp;I am running two node deployment...</td>\n",
       "      <td>Licensing</td>\n",
       "      <td>annual</td>\n",
       "      <td>20233</td>\n",
       "      <td>4638108</td>\n",
       "      <td>&lt;P&gt;Hi guys,&lt;/P&gt;&lt;P&gt;&amp;nbsp;&lt;/P&gt;&lt;P&gt;I am running tw...</td>\n",
       "      <td>The issue being faced is that ISE is generatin...</td>\n",
       "      <td>Cisco firewall</td>\n",
       "    </tr>\n",
       "    <tr>\n",
       "      <th>4</th>\n",
       "      <td>0</td>\n",
       "      <td>smart license  box connected internet able o...</td>\n",
       "      <td>0.152381</td>\n",
       "      <td>0.551912</td>\n",
       "      <td>84584</td>\n",
       "      <td>0</td>\n",
       "      <td>0_smart_failure_authorization</td>\n",
       "      <td>https://community.cisco.com/t5/network-access-...</td>\n",
       "      <td>I want to smart license my ISE box which ia no...</td>\n",
       "      <td>Licensing</td>\n",
       "      <td>annual</td>\n",
       "      <td>20233</td>\n",
       "      <td>4613090</td>\n",
       "      <td>&lt;P&gt;I want to smart license my ISE box which ia...</td>\n",
       "      <td>The customer wants to smart license their ISE ...</td>\n",
       "      <td>Cisco firewall</td>\n",
       "    </tr>\n",
       "  </tbody>\n",
       "</table>\n",
       "</div>"
      ],
      "text/plain": [
       "   topic                                                doc  \\\n",
       "0      0    person   purchase  advantage license additio...   \n",
       "1      0    understand relationship  dna center sda whet...   \n",
       "2      0      enable policy based enforcement   essentia...   \n",
       "3      0     generating alarm smart  authorization renew...   \n",
       "4      0    smart license  box connected internet able o...   \n",
       "\n",
       "   post_x_coordinate  post_y_coordinate   user  topic_id  \\\n",
       "0           0.380220           0.056250   2164         0   \n",
       "1           0.738165           0.836678  23114         0   \n",
       "2           0.234175           0.935613  73380         0   \n",
       "3           0.590524           0.374223  63672         0   \n",
       "4           0.152381           0.551912  84584         0   \n",
       "\n",
       "                      topic_name  \\\n",
       "0        0_advantage_license_dna   \n",
       "1        0_advantage_license_dna   \n",
       "2        0_advantage_license_dna   \n",
       "3  0_smart_failure_authorization   \n",
       "4  0_smart_failure_authorization   \n",
       "\n",
       "                                            post_url  \\\n",
       "0  https://community.cisco.com/t5/cisco-one-discu...   \n",
       "1  https://community.cisco.com/t5/cisco-digital-n...   \n",
       "2  https://community.cisco.com/t5/software-define...   \n",
       "3  https://community.cisco.com/t5/network-access-...   \n",
       "4  https://community.cisco.com/t5/network-access-...   \n",
       "\n",
       "                                        post_preview      class  \\\n",
       "0  Hello Folks,\\n&nbsp;\\nQuick question. I have p...  Licensing   \n",
       "1  Hello All,\\nStarting to get into ISE and DNA a...  Licensing   \n",
       "2  I have question about ISE&nbsp;I have ISE esse...  Licensing   \n",
       "3  Hi guys,&nbsp;I am running two node deployment...  Licensing   \n",
       "4  I want to smart license my ISE box which ia no...  Licensing   \n",
       "\n",
       "  analysis_window  quarter_for_analysis  conversation_id  \\\n",
       "0          annual                 20233          4757953   \n",
       "1          annual                 20233          4725319   \n",
       "2          annual                 20233          4614950   \n",
       "3          annual                 20233          4638108   \n",
       "4          annual                 20233          4613090   \n",
       "\n",
       "                                                text  \\\n",
       "0  <P>Hello Folks,</P>\\n<P>&nbsp;</P>\\n<P>Quick q...   \n",
       "1  <P>Hello All,</P>\\n<P>Starting to get into ISE...   \n",
       "2  <P>I have question about ISE</P><P>&nbsp;</P><...   \n",
       "3  <P>Hi guys,</P><P>&nbsp;</P><P>I am running tw...   \n",
       "4  <P>I want to smart license my ISE box which ia...   \n",
       "\n",
       "                                        summary_text             tag  \n",
       "0  The issue being faced is that the person is no...       Cisco dna  \n",
       "1  The user is trying to understand the relations...       Cisco dna  \n",
       "2  The issue being faced is that the user wants t...       Cisco dna  \n",
       "3  The issue being faced is that ISE is generatin...  Cisco firewall  \n",
       "4  The customer wants to smart license their ISE ...  Cisco firewall  "
      ]
     },
     "execution_count": 32,
     "metadata": {},
     "output_type": "execute_result"
    }
   ],
   "source": [
    "df.head()"
   ]
  },
  {
   "cell_type": "code",
   "execution_count": 28,
   "metadata": {},
   "outputs": [
    {
     "data": {
      "text/plain": [
       "['D', 'e', 's', 'i', 'g', 'n', '/']"
      ]
     },
     "execution_count": 28,
     "metadata": {},
     "output_type": "execute_result"
    }
   ],
   "source": [
    "list('Design/')"
   ]
  },
  {
   "cell_type": "code",
   "execution_count": 31,
   "metadata": {},
   "outputs": [
    {
     "data": {
      "text/plain": [
       "['Design']"
      ]
     },
     "execution_count": 31,
     "metadata": {},
     "output_type": "execute_result"
    }
   ],
   "source": [
    "'Design'.split('/')"
   ]
  },
  {
   "cell_type": "code",
   "execution_count": 27,
   "metadata": {},
   "outputs": [
    {
     "data": {
      "text/plain": [
       "[Document(page_content='worth looking suggested steps on this thread :\\nhttps://community.cisco.com/t5/wireless/cisco-ise-guest-portal-redirect/td-p/3786304 |||| Sorry, we need a lot more detail here.\\nWhat would you need to tell the TAC to help you troubleshoot this?\\nIt would be nice if you shared the ISE LiveLog details or errors.\\nExplain why it is not what you expected.\\xa0\\nWhat did you expect?\\xa0\\xa0\\nWhat ISE authorization profile was assigned? You may need to share the details of the assignment depending on the issue.', metadata={'url': 'https://community.cisco.com/t5/network-access-control/cisco-ise-for-external-guest-access/td-p/4669839', 'tag': 'Others', 'topic_name': '1_device_network_portal'}),\n",
       " Document(page_content='Good morning,I have a user in AD who is blocked all time in Cisco ISE (Screenshot 1 and 2).Firstly, i had this issue \"24415 User authentication against AD failed since user\\'s account is locked out\"(Screenshot 3).I changed some configurations (Screenshot 4) to (Screenshot 5).And following this information (https://community.cisco.com/t5/network-access-control/prevent-ad-account-being-locked-out-by-failed-authentications/td-p/3727650) i did this changes (Screenshot 6).But now, the account follows blocked and i have a different issue (Screenshot 7 and 8).Could you help me?Thank so much.\\xa0\\xa0 |||| I had a similar issue. The user had logged into another device at some point. When resetting their password on a new device the old one was still trying to use the old password and locking the account. You will have to find that device or change the username. |||| Hi michael18,Thank so much for your answer.The problem is that the user is blocked every 5 min and it is impossible to work on this way.Did you do something related from the Cisco ISE side?', metadata={'url': 'https://community.cisco.com/t5/network-access-control/ad-user-blocks-every-time-in-cisco-ise/td-p/4661362', 'tag': 'Directory services', 'topic_name': '1_ad_authenticate_able'}),\n",
       " Document(page_content='Dear all,I would like to ask some helps for my facing ise posture issue. Posture state is pending and pc and get only APIPA address. When i trouble shoot, i have DC_Unknown authorization profile by attaching DACL name = Test_RD1. That Test_RD1 have the following access-list as screenshot. When i delete \"\"Deny ip any any\"\" at Test_RD1, posture flow is completed and working fine. Actually, it was working fine before without removing \"\"Deny ip any any\"\" at DACL. I have no changes before facing this posture issue.NOTE: user switch model >> C2960X and firmware version is\\xa015.2(2)E6.Could anyone pls suggest to get the cause? how related with it? Thanks much.\\xa0\\xa0\\xa0 |||| hello @journey jane\\xa0 , are you using a posture based redirection flow ? or redirection-less ?\\xa0 |||| Hello everyone,\\xa0Thanks alot. As i checked with TAC, they remove DACL and issue was resolved but that was not the cause and tac also cannot find out the cause as well. They just suggest not to put all of the postures and radius policy to a policy set and to do\\xa0segregation for each.\\xa0', metadata={'url': 'https://community.cisco.com/t5/network-access-control/ise-posture-status-pending-with-assigned-apipa-address-at-client/td-p/4746515', 'tag': 'Others', 'topic_name': '0_certificate_server_authentication'})]"
      ]
     },
     "execution_count": 27,
     "metadata": {},
     "output_type": "execute_result"
    }
   ],
   "source": [
    "vectordb.similarity_search(query, k=3)"
   ]
  },
  {
   "cell_type": "code",
   "execution_count": null,
   "metadata": {},
   "outputs": [],
   "source": []
  },
  {
   "cell_type": "code",
   "execution_count": 320,
   "metadata": {},
   "outputs": [
    {
     "name": "stdout",
     "output_type": "stream",
     "text": [
      "('I have noticed one weird bug in ISE when the CoA is not working (i.e. when '\n",
      " \"it's not configured on the switch) - the result is that the session is \"\n",
      " 'correctly authorized, but you will see no entry in Li\\n'\n",
      " '\\n'\n",
      " 'If you have already this , and you are seeing the events related to the '\n",
      " 'passive ID connector, I would check if the ISE and the NAD are issuing the '\n",
      " 'CoA correctly.\\n'\n",
      " '\\n'\n",
      " 'ng for a long time. I suspect this may have something to do with the problem '\n",
      " 'perhaps. Having looked at the destination of the CoA packets, it is clear '\n",
      " 'that ISE is trying to ask the original APs based\\n'\n",
      " '\\n'\n",
      " 'ation packets to construct CoA? If so, how does that explain the alarm '\n",
      " 'messages I have been getting on ISE complaining about lack of response to '\n",
      " 'generated CoA to APs? Hello,\\n'\n",
      " '\\n'\n",
      " 'https://community.cisco.com/t5/wireless/cisco-ise-guest-portal-redirect/td-p/3786304 '\n",
      " '|||| Sorry, we need a lot more detail here.\\n'\n",
      " 'What would you need to tell the TAC to help you troubleshoot this?\\n'\n",
      " '\\n'\n",
      " \"Hello Cisco brains,I recently deployed Cisco ISE (3.1P3) and I'm running \"\n",
      " 'into an issue with Anomalous Behavior and Detection. I understand that in '\n",
      " 'order for ISE to trigger an anomaly, it must hit th\\n'\n",
      " '\\n'\n",
      " 'l see no entry in Live Logs - as soon as you fix the CoA config on the '\n",
      " 'switch and try again, you will see the entire auth process. Ensure that your '\n",
      " 'switches are configured to allow ISE to send it a Co\\n'\n",
      " '\\n'\n",
      " 'HING. You need to provide us with some technical information. E.g. what are '\n",
      " 'you doing here (MAB, 802.1X), show us your switch config, and errors - '\n",
      " 'relevant ISE config')\n"
     ]
    }
   ],
   "source": [
    "from pprint import pprint \n",
    "\n",
    "pprint(context)"
   ]
  },
  {
   "cell_type": "code",
   "execution_count": null,
   "metadata": {},
   "outputs": [],
   "source": []
  },
  {
   "cell_type": "code",
   "execution_count": 89,
   "metadata": {},
   "outputs": [],
   "source": [
    "from langchain.prompts import (\n",
    "    SystemMessagePromptTemplate,\n",
    "    HumanMessagePromptTemplate,\n",
    "    ChatPromptTemplate,\n",
    "    MessagesPlaceholder\n",
    ")\n",
    "from langchain.chains.conversation.memory import ConversationBufferWindowMemory"
   ]
  },
  {
   "cell_type": "code",
   "execution_count": 48,
   "metadata": {},
   "outputs": [
    {
     "data": {
      "text/plain": [
       "[':\\nhttps://www.cisco.com/c/en/us/products/collateral/security/identity-services-engine/guide-c07-656177.html\\n\\xa0 I have a customer who owns ISE admin but not FTD admin so they want to do dACL for RA VPN so they can skip the Access Control Policy on FTD. (So the less they have to ask to the FTD team',\n",
       " \"base license?Thank you very much for your help and discussion!\\xa0thanksJeffery\\xa0\\xa0\\xa0\\xa0 |||| Do you have RADIUS Accounting enabled on the ASA?\\xa0 I'm not sure of way to forcibly delete these (other than deleting the endpoint from context visibility maybe?).\\xa0 What patch of 2.6 are you\",\n",
       " 'below\\nhttps://bst.cisco.com/bugsearch/bug/CSCvw34491 Hi all,I have question please.Can I do accounting for device administration and without TACACS device admin license? |||| I mean Commands accounting. not endpoints accounting, my scope is to use ISE only for device administration Hello,I need']"
      ]
     },
     "execution_count": 48,
     "metadata": {},
     "output_type": "execute_result"
    }
   ],
   "source": [
    "# results = db.similarity_search(query, k=5)\n",
    "# for result in results:\n",
    "#     content.append(result.page_content)\n",
    "# content"
   ]
  },
  {
   "cell_type": "code",
   "execution_count": 124,
   "metadata": {},
   "outputs": [],
   "source": [
    "def get_context(db, query):\n",
    "\n",
    "    related_docs = db.similarity_search(query, k=8)\n",
    "\n",
    "    context = ' '.join([page.page_content for page in related_docs])\n",
    "\n",
    "    return context"
   ]
  },
  {
   "cell_type": "code",
   "execution_count": 76,
   "metadata": {},
   "outputs": [
    {
     "data": {
      "text/plain": [
       "':\\nhttps://www.cisco.com/c/en/us/products/collateral/security/identity-services-engine/guide-c07-656177.html\\n\\xa0 I have a customer who owns ISE admin but not FTD admin so they want to do dACL for RA VPN so they can skip the Access Control Policy on FTD. (So the less they have to ask to the FTD team base license?Thank you very much for your help and discussion!\\xa0thanksJeffery\\xa0\\xa0\\xa0\\xa0 |||| Do you have RADIUS Accounting enabled on the ASA?\\xa0 I\\'m not sure of way to forcibly delete these (other than deleting the endpoint from context visibility maybe?).\\xa0 What patch of 2.6 are you below\\nhttps://bst.cisco.com/bugsearch/bug/CSCvw34491 Hi all,I have question please.Can I do accounting for device administration and without TACACS device admin license? |||| I mean Commands accounting. not endpoints accounting, my scope is to use ISE only for device administration Hello,I need actually working on a project integrating Dell (N Series) NAD\\'s into ISE and would appreciate a clean copy of the switch config if you can provide it. I have the Cisco config but I would like to compare it to Dell\\'sThanks! |||| Hello Leonardo,I\\'m actually working on a project integrating Dell (N Series) NAD\\'s into ISE and would appreciate a clean copy of the switch config if you can provide it. I have the Cisco config but I would like to compare it to Dell\\'sThanks! |||| Hi Guilhermo,\\xa0Follow the last firmware version that I\\'ve implemented, using this version I also validated TACACS+ and Downloadable ACL via Dot1x, and works really fine.\\xa0The script bellow does not have TACACS+ and dACL but you can find how to configure easily on manuals.\\xa0!System Description \"Dell EMC Networking N2048, 6.6.0.13, Linux 3.6.5-e3cd5a07, Not Available\"!System Software Version 6.6.0.13!authentication enableauthentication dynamic-vlan enabledot1x system-auth-controlaaa authentication dot1x default radiusaaa (PassiveID)\\nhttps://www.cisco.com/c/en/us/products/collateral/security/identity-services-engine/qa-c67-744190.pdf\\xa0 |||| Gracias |||| Thank you.I\\'ve been seeing Cisco\\'s stuff, that\\'s right. Thank you very much. Hi everyone!Can anyone consult me if there are any problems with ISE licensing in case I'"
      ]
     },
     "execution_count": 76,
     "metadata": {},
     "output_type": "execute_result"
    }
   ],
   "source": [
    "# c = get_context(db, query)\n",
    "# c"
   ]
  },
  {
   "cell_type": "code",
   "execution_count": 106,
   "metadata": {},
   "outputs": [],
   "source": [
    "template = \"\"\"From the history and context provided below, Answer the question as truthfully as possible. \n",
    "    and if the answer is not contained within the context or history below, say 'I don't know' or ask me to refine my query. \n",
    "\n",
    "Current conversation:\n",
    "{history}\n",
    "\n",
    "{input}\n",
    "\"\"\"\n"
   ]
  },
  {
   "cell_type": "code",
   "execution_count": 107,
   "metadata": {},
   "outputs": [],
   "source": [
    "system_msg_template = SystemMessagePromptTemplate.from_template(template=template)\n"
   ]
  },
  {
   "cell_type": "code",
   "execution_count": 108,
   "metadata": {},
   "outputs": [],
   "source": [
    "human_msg_template = HumanMessagePromptTemplate.from_template(template=\"{input}\")"
   ]
  },
  {
   "cell_type": "code",
   "execution_count": 109,
   "metadata": {},
   "outputs": [],
   "source": [
    "prompt_template = ChatPromptTemplate.from_messages([system_msg_template, MessagesPlaceholder(variable_name=\"history\"), human_msg_template])"
   ]
  },
  {
   "cell_type": "code",
   "execution_count": 110,
   "metadata": {},
   "outputs": [],
   "source": [
    "from langchain.chains import ConversationChain\n",
    "conversation = ConversationChain(llm=llm, prompt=prompt_template, verbose=True, memory=ConversationBufferWindowMemory(k=3,return_messages=True))"
   ]
  },
  {
   "cell_type": "code",
   "execution_count": 111,
   "metadata": {},
   "outputs": [
    {
     "data": {
      "text/plain": [
       "ChatPromptTemplate(input_variables=['input', 'history'], output_parser=None, partial_variables={}, messages=[SystemMessagePromptTemplate(prompt=PromptTemplate(input_variables=['history', 'input'], output_parser=None, partial_variables={}, template=\"From the history and context provided below, Answer the question as truthfully as possible. \\n    and if the answer is not contained within the context or history below, say 'I don't know' or ask me to refine my query. \\n\\nCurrent conversation:\\n{history}\\n\\n{input}\\n\", template_format='f-string', validate_template=True), additional_kwargs={}), MessagesPlaceholder(variable_name='history'), HumanMessagePromptTemplate(prompt=PromptTemplate(input_variables=['input'], output_parser=None, partial_variables={}, template='{input}', template_format='f-string', validate_template=True), additional_kwargs={})])"
      ]
     },
     "execution_count": 111,
     "metadata": {},
     "output_type": "execute_result"
    }
   ],
   "source": [
    "conversation.prompt"
   ]
  },
  {
   "cell_type": "code",
   "execution_count": 112,
   "metadata": {},
   "outputs": [
    {
     "data": {
      "text/plain": [
       "'Give me all the issues about DACL discussed among customers. Provide them in bullet points.'"
      ]
     },
     "execution_count": 112,
     "metadata": {},
     "output_type": "execute_result"
    }
   ],
   "source": [
    "query"
   ]
  },
  {
   "cell_type": "code",
   "execution_count": 113,
   "metadata": {},
   "outputs": [],
   "source": [
    "context = get_context(db, query)"
   ]
  },
  {
   "cell_type": "code",
   "execution_count": 114,
   "metadata": {},
   "outputs": [
    {
     "data": {
      "text/plain": [
       "':\\nhttps://www.cisco.com/c/en/us/products/collateral/security/identity-services-engine/guide-c07-656177.html\\n\\xa0 I have a customer who owns ISE admin but not FTD admin so they want to do dACL for RA VPN so they can skip the Access Control Policy on FTD. (So the less they have to ask to the FTD team base license?Thank you very much for your help and discussion!\\xa0thanksJeffery\\xa0\\xa0\\xa0\\xa0 |||| Do you have RADIUS Accounting enabled on the ASA?\\xa0 I\\'m not sure of way to forcibly delete these (other than deleting the endpoint from context visibility maybe?).\\xa0 What patch of 2.6 are you below\\nhttps://bst.cisco.com/bugsearch/bug/CSCvw34491 Hi all,I have question please.Can I do accounting for device administration and without TACACS device admin license? |||| I mean Commands accounting. not endpoints accounting, my scope is to use ISE only for device administration Hello,I need actually working on a project integrating Dell (N Series) NAD\\'s into ISE and would appreciate a clean copy of the switch config if you can provide it. I have the Cisco config but I would like to compare it to Dell\\'sThanks! |||| Hello Leonardo,I\\'m actually working on a project integrating Dell (N Series) NAD\\'s into ISE and would appreciate a clean copy of the switch config if you can provide it. I have the Cisco config but I would like to compare it to Dell\\'sThanks! |||| Hi Guilhermo,\\xa0Follow the last firmware version that I\\'ve implemented, using this version I also validated TACACS+ and Downloadable ACL via Dot1x, and works really fine.\\xa0The script bellow does not have TACACS+ and dACL but you can find how to configure easily on manuals.\\xa0!System Description \"Dell EMC Networking N2048, 6.6.0.13, Linux 3.6.5-e3cd5a07, Not Available\"!System Software Version 6.6.0.13!authentication enableauthentication dynamic-vlan enabledot1x system-auth-controlaaa authentication dot1x default radiusaaa (PassiveID)\\nhttps://www.cisco.com/c/en/us/products/collateral/security/identity-services-engine/qa-c67-744190.pdf\\xa0 |||| Gracias |||| Thank you.I\\'ve been seeing Cisco\\'s stuff, that\\'s right. Thank you very much. Hi everyone!Can anyone consult me if there are any problems with ISE licensing in case I'"
      ]
     },
     "execution_count": 114,
     "metadata": {},
     "output_type": "execute_result"
    }
   ],
   "source": [
    "context"
   ]
  },
  {
   "cell_type": "code",
   "execution_count": 115,
   "metadata": {},
   "outputs": [
    {
     "name": "stdout",
     "output_type": "stream",
     "text": [
      "\n",
      "\n",
      "\u001b[1m> Entering new  chain...\u001b[0m\n",
      "Prompt after formatting:\n",
      "\u001b[32;1m\u001b[1;3mSystem: From the history and context provided below, Answer the question as truthfully as possible. \n",
      "    and if the answer is not contained within the context or history below, say 'I don't know' or ask me to refine my query. \n",
      "\n",
      "Current conversation:\n",
      "[]\n",
      "\n",
      "Context:\n",
      " ```:\n",
      "https://www.cisco.com/c/en/us/products/collateral/security/identity-services-engine/guide-c07-656177.html\n",
      "  I have a customer who owns ISE admin but not FTD admin so they want to do dACL for RA VPN so they can skip the Access Control Policy on FTD. (So the less they have to ask to the FTD team base license?Thank you very much for your help and discussion! thanksJeffery     |||| Do you have RADIUS Accounting enabled on the ASA?  I'm not sure of way to forcibly delete these (other than deleting the endpoint from context visibility maybe?).  What patch of 2.6 are you below\n",
      "https://bst.cisco.com/bugsearch/bug/CSCvw34491 Hi all,I have question please.Can I do accounting for device administration and without TACACS device admin license? |||| I mean Commands accounting. not endpoints accounting, my scope is to use ISE only for device administration Hello,I need actually working on a project integrating Dell (N Series) NAD's into ISE and would appreciate a clean copy of the switch config if you can provide it. I have the Cisco config but I would like to compare it to Dell'sThanks! |||| Hello Leonardo,I'm actually working on a project integrating Dell (N Series) NAD's into ISE and would appreciate a clean copy of the switch config if you can provide it. I have the Cisco config but I would like to compare it to Dell'sThanks! |||| Hi Guilhermo, Follow the last firmware version that I've implemented, using this version I also validated TACACS+ and Downloadable ACL via Dot1x, and works really fine. The script bellow does not have TACACS+ and dACL but you can find how to configure easily on manuals. !System Description \"Dell EMC Networking N2048, 6.6.0.13, Linux 3.6.5-e3cd5a07, Not Available\"!System Software Version 6.6.0.13!authentication enableauthentication dynamic-vlan enabledot1x system-auth-controlaaa authentication dot1x default radiusaaa (PassiveID)\n",
      "https://www.cisco.com/c/en/us/products/collateral/security/identity-services-engine/qa-c67-744190.pdf  |||| Gracias |||| Thank you.I've been seeing Cisco's stuff, that's right. Thank you very much. Hi everyone!Can anyone consult me if there are any problems with ISE licensing in case I``` \n",
      "\n",
      " Query:\n",
      "```Give me all the issues about DACL discussed among customers. Provide them in bullet points.```\n",
      "\n",
      "Human: Context:\n",
      " ```:\n",
      "https://www.cisco.com/c/en/us/products/collateral/security/identity-services-engine/guide-c07-656177.html\n",
      "  I have a customer who owns ISE admin but not FTD admin so they want to do dACL for RA VPN so they can skip the Access Control Policy on FTD. (So the less they have to ask to the FTD team base license?Thank you very much for your help and discussion! thanksJeffery     |||| Do you have RADIUS Accounting enabled on the ASA?  I'm not sure of way to forcibly delete these (other than deleting the endpoint from context visibility maybe?).  What patch of 2.6 are you below\n",
      "https://bst.cisco.com/bugsearch/bug/CSCvw34491 Hi all,I have question please.Can I do accounting for device administration and without TACACS device admin license? |||| I mean Commands accounting. not endpoints accounting, my scope is to use ISE only for device administration Hello,I need actually working on a project integrating Dell (N Series) NAD's into ISE and would appreciate a clean copy of the switch config if you can provide it. I have the Cisco config but I would like to compare it to Dell'sThanks! |||| Hello Leonardo,I'm actually working on a project integrating Dell (N Series) NAD's into ISE and would appreciate a clean copy of the switch config if you can provide it. I have the Cisco config but I would like to compare it to Dell'sThanks! |||| Hi Guilhermo, Follow the last firmware version that I've implemented, using this version I also validated TACACS+ and Downloadable ACL via Dot1x, and works really fine. The script bellow does not have TACACS+ and dACL but you can find how to configure easily on manuals. !System Description \"Dell EMC Networking N2048, 6.6.0.13, Linux 3.6.5-e3cd5a07, Not Available\"!System Software Version 6.6.0.13!authentication enableauthentication dynamic-vlan enabledot1x system-auth-controlaaa authentication dot1x default radiusaaa (PassiveID)\n",
      "https://www.cisco.com/c/en/us/products/collateral/security/identity-services-engine/qa-c67-744190.pdf  |||| Gracias |||| Thank you.I've been seeing Cisco's stuff, that's right. Thank you very much. Hi everyone!Can anyone consult me if there are any problems with ISE licensing in case I``` \n",
      "\n",
      " Query:\n",
      "```Give me all the issues about DACL discussed among customers. Provide them in bullet points.```\u001b[0m\n",
      "\n",
      "\u001b[1m> Finished chain.\u001b[0m\n"
     ]
    },
    {
     "data": {
      "text/plain": [
       "\"\\n\\n I don't see any specific issues about DACL discussed among customers.\""
      ]
     },
     "execution_count": 115,
     "metadata": {},
     "output_type": "execute_result"
    }
   ],
   "source": [
    "conversation.predict(input=f\"Context:\\n ```{context}``` \\n\\n Query:\\n```{query}```\")"
   ]
  },
  {
   "cell_type": "code",
   "execution_count": 130,
   "metadata": {},
   "outputs": [],
   "source": [
    "query = \"Give me specific issues discussed about compatibility\""
   ]
  },
  {
   "cell_type": "code",
   "execution_count": 126,
   "metadata": {},
   "outputs": [],
   "source": [
    "context = get_context(db, query)"
   ]
  },
  {
   "cell_type": "code",
   "execution_count": 132,
   "metadata": {},
   "outputs": [
    {
     "name": "stdout",
     "output_type": "stream",
     "text": [
      "('work for you. (never tested on Cat 9200) - Cat 9300 ok\\n'\n",
      " '\\xa0\\n'\n",
      " 'Table 10.\\xa0\\xa0\\xa0\\xa0\\xa0Network essentials and advantage package '\n",
      " 'features\\n'\n",
      " '\\xa0\\n'\n",
      " 'https://www.cisco.com/c/en/us/products/collateral/switches/catalyst-9200-series-switches/nb-06-cat9200-ser-data-sheet-cte-en.html#Licensing\\n'\n",
      " '\\xa0 Does anyone know where to download :\\n'\n",
      " 'https://www.cisco.com/c/en/us/td/docs/security/ise/2-7/compatibility_doc/b_ise_sdt_27.html\\n'\n",
      " 'what kind of integration we are considering here ? |||| Hi Balaji,Thanks for '\n",
      " 'the reply.We are considering\\xa0Meraki MR series Access Points and MS series '\n",
      " 'switches for\\xa0Guest and dot1.x Authentications. Hello,\\n'\n",
      " 'Following the reset of the /opt partition which was full (100%) on MNT, we '\n",
      " 'no longer have Splunk logs on 2 new PSN 3695\\n'\n",
      " 'while the other 4 PSN(3595) continue to work correctly.\\n'\n",
      " 'There are collection log Errors:\\n'\n",
      " 'The ISE MNT collector process is unable to persist the audit logs generated '\n",
      " 'from the Policy Service nodes.\\n'\n",
      " 'The current version is: 2.7.0.356 P5\\n'\n",
      " 'BR,\\n'\n",
      " '\\xa0\\n'\n",
      " '\\xa0\\n'\n",
      " \"\\xa0 |||| I found this bug\\xa0 CSCvv08466 which seems to correspond but it's \"\n",
      " 'already fixed in patch 3\\xa0 |||| \\xa0\\n'\n",
      " '\\xa0- Probably a bug as these reports seem be something with the switche '\n",
      " 'profile, but im still investigating does anyone have any ideas or solution '\n",
      " 'for this.\\n'\n",
      " '\\xa0\\n'\n",
      " '\\n'\n",
      " 'Saludos,\\n'\n",
      " 'Gerardo Andree Mejía García |||| Hi Gerardo ,\\xa0\\n'\n",
      " \"To me it would appear that there's an issue of compatibility , please verify \"\n",
      " 'if you NAD is validated within the section \"Validated Third Party Access '\n",
      " 'Switches\" in the following compatibility for ISE\\xa0 '\n",
      " 'https://www.cisco.com/c/en/us/td/docs/security/ise/3-0/compatibility_doc/b_ise_sdt_30.html#Cisco_Reference.dita_3456b3da-c198-439e-bb7c-d1ca839e1751\\xa0'\n",
      " 'as within those NAD,\\xa0 it as been confirmed that the features of ISE work '\n",
      " 'fine.\\xa0\\xa0 Hi Community,We are evaluating integration of meraki to our '\n",
      " 'Cisco ISE deplyment with version 2.7 p7, but wanted to find out\\xa0 if there '\n",
      " 'are any limitations of integrating ISE with Meraki / any meraki version '\n",
      " \"doesn't support or any feature limitations if any with cisco ISE.Any help or \"\n",
      " 'knowledge on this would be of great help.Thanks in advance. |||| chcek the '\n",
      " 'matrix for support models :\\n'\n",
      " 'https://www.cisco.com/c/m/en_uk/products/software/dna-subscription-switching/en-sw-sub-matrix-switching.html '\n",
      " 'Hello All,\\n'\n",
      " 'Starting to get into ISE and DNA and a couple of queries if someone can '\n",
      " 'point me in the right direction.\\xa0 There is a lot of content on both '\n",
      " 'subjects and I cant quite piece')\n"
     ]
    }
   ],
   "source": [
    "from pprint import pprint\n",
    "pprint(context)"
   ]
  },
  {
   "cell_type": "code",
   "execution_count": 134,
   "metadata": {},
   "outputs": [
    {
     "ename": "SyntaxError",
     "evalue": "EOF while scanning triple-quoted string literal (<ipython-input-134-b215d0ab45b8>, line 23)",
     "output_type": "error",
     "traceback": [
      "\u001b[1;36m  File \u001b[1;32m\"<ipython-input-134-b215d0ab45b8>\"\u001b[1;36m, line \u001b[1;32m23\u001b[0m\n\u001b[1;33m    ...\u001b[0m\n\u001b[1;37m       \n^\u001b[0m\n\u001b[1;31mSyntaxError\u001b[0m\u001b[1;31m:\u001b[0m EOF while scanning triple-quoted string literal\n"
     ]
    }
   ],
   "source": [
    "context = '''Prompt after formatting:\n",
    "System: From the history and context provided below, Answer the question as truthfully as possible. \n",
    "    and if the answer is not contained within the context or history below, say 'I don't know' or ask me to refine my query. \n",
    "\n",
    "Current conversation:\n",
    "[HumanMessage(content='Context:\\n ```:\\nhttps://www.cisco.com/c/en/us/products/collateral/security/identity-services-engine/guide-c07-656177.html\\n\\xa0 I have a customer who owns ISE admin but not FTD admin so they want to do dACL for RA VPN so they can skip the Access Control Policy on FTD. (So the less they have to ask to the FTD team base license?Thank you very much for your help and discussion!\\xa0thanksJeffery\\xa0\\xa0\\xa0\\xa0 |||| Do you have RADIUS Accounting enabled on the ASA?\\xa0 I\\'m not sure of way to forcibly delete these (other than deleting the endpoint from context visibility maybe?).\\xa0 What patch of 2.6 are you below\\nhttps://bst.cisco.com/bugsearch/bug/CSCvw34491 Hi all,I have question please.Can I do accounting for device administration and without TACACS device admin license? |||| I mean Commands accounting. not endpoints accounting, my scope is to use ISE only for device administration Hello,I need actually working on a project integrating Dell (N Series) NAD\\'s into ISE and would appreciate a clean copy of the switch config if you can provide it. I have the Cisco config but I would like to compare it to Dell\\'sThanks! |||| Hello Leonardo,I\\'m actually working on a project integrating Dell (N Series) NAD\\'s into ISE and would appreciate a clean copy of the switch config if you can provide it. I have the Cisco config but I would like to compare it to Dell\\'sThanks! |||| Hi Guilhermo,\\xa0Follow the last firmware version that I\\'ve implemented, using this version I also validated TACACS+ and Downloadable ACL via Dot1x, and works really fine.\\xa0The script bellow does not have TACACS+ and dACL but you can find how to configure easily on manuals.\\xa0!System Description \"Dell EMC Networking N2048, 6.6.0.13, Linux 3.6.5-e3cd5a07, Not Available\"!System Software Version 6.6.0.13!authentication enableauthentication dynamic-vlan enabledot1x system-auth-controlaaa authentication dot1x default radiusaaa (PassiveID)\\nhttps://www.cisco.com/c/en/us/products/collateral/security/identity-services-engine/qa-c67-744190.pdf\\xa0 |||| Gracias |||| Thank you.I\\'ve been seeing Cisco\\'s stuff, that\\'s right. Thank you very much. Hi everyone!Can anyone consult me if there are any problems with ISE licensing in case I``` \\n\\n Query:\\n```Give me all the issues about DACL discussed among customers. Provide them in bullet points.```', additional_kwargs={}, example=False), AIMessage(content=\"\\n\\n I don't see any specific issues about DACL discussed among customers.\", additional_kwargs={}, example=False), HumanMessage(content='Context:\\n ```FAQ : (is that helpful ?) - what features you looking, what kind of setup you have ?\\n\\xa0\\n\\xa0\\nEssentials, Advantage, and Premier licenses in ISE 3.0\\nhttps://www.cisco.com/c/en/us/products/collateral/security/identity-services-engine/qa-c67-744190.html Hi,\\n\\xa0\\nI\\'m preparing a solution for Guest WiFi with :\\n\\xa0\\nhttps://community.cisco.com/kxiwq67737/attachments/kxiwq67737/4561-docs-security/6061/1/Integration_between_ISE_and_HPE-ArubaOS.pdf\\nhttp://www.labminutes.com/sec0209_ise_20_3rd_party_nad_aruba_mab_dot1x_2\\n\\xa0\\n\\xa0 |||| there are many many timeout\\xa0can I see\\xa0show auth session for failed user interface\\xa0 Hello,\\n\\xa0\\nI\\'m working on a project in order to deploy ISEs to gain more security. I would like to know what ise the stable OS version. Is it recommended to install version 3.1 or version 3.0? These ISEs will be deploy in production environnement.\\n\\xa0\\nSincerly yours. |||| ISE 3.1 is the recommended version. So you should install that.Its from August 21, so got plenty of time in production many places, so its well tested.After installation of 3.1, remeber to install patches as well, as of this time patch3 |||| You need to define first what kind of deployment you are going to have: small, medium or large size deployment. We have a large size deployment with over 250K users, 10+ WLC\\'s and we are about the deployment of Cisco ISE.Actually we are running a cluster of 2 members, each hosting PAN-MnT-PSN.We want to extend the ISE functions to our \"industrial network\" separated by a DMZ.To limit the trafic between the 2 zones, I would like to add one (or 2 for redundancy) server running only``` \\n\\n Query:\\n```How about anything about deployment of Cisco ISE 3.0```', additional_kwargs={}, example=False), AIMessage(content='\\n AI: \\n\\n The recommended version of Cisco ISE is 3.1. It has been in production use for several months and is well tested. After installation, it is important to install any available patches.', additional_kwargs={}, example=False), HumanMessage(content='Context:\\n ```be something with the switche profile, but im still investigating does anyone have any ideas or solution for this.\\n\\xa0\\n\\nSaludos,\\nGerardo Andree Mejía García |||| Hi Gerardo ,\\xa0\\nTo me it would appear that there\\'s an issue of compatibility , please verify if you NAD is validated within the section \"Validated Third Party Access Switches\" in the following compatibility for ISE\\xa0 https://www.cisco.com/c/en/us/td/docs/security/ise/3-0/compatibility_doc/b_ise_sdt_30.html#Cisco_Reference.dita_3456b3da-c198-439e-bb7c-d1ca839e1751\\xa0as within those NAD,\\xa0 it as been confirmed that the features of ISE work fine.\\xa0\\xa0 Hi Community,We are evaluating integration of meraki to our Cisco ISE deplyment with version 2.7 p7, but wanted to find out\\xa0 if there are any limitations of integrating ISE with Meraki / any meraki version doesn\\'t support or any feature limitations if any with cisco ISE.Any help or knowledge on this would be of great help.Thanks in advance. |||| chcek the matrix for support models previously but want to refresh this.We are having challenges on our network for authenticating MAC books using the JAMF and Cisco ISE integration.We see Cisco ISE provides various attributes like \"MDM Manufacturer\",\\xa0MDM SerialNumber\", \"MDM DeviceRegisterStatus\" etc. but none of these are working.\\xa0We are trying to figure out what best will work in this case.\\xa0\\xa0With reference to the same checking for guidance from the community.\\xa0\\xa0Thanks!!N. |||| There is not enough information given to provide any meaningful assistance. Please see How to Ask the Community for Help .\\nTroubleshooting MDM issues typically requires enabling the necessary debug logs, duplicating the issue, and reviewing the ise-psc.log file as per the Troubleshoot and Enable Debugs on ISE guide. If you\\'re not familiar with troubleshooting ISE and need to resolve the issue quickly, you might be best opening a TAC case to investigate. Hi guys,\\xa0I have fresh Cisco ISE 3.1 installation with patch1 and hotfix``` \\n\\n Query:\\n```Give me specific issues discussed about deployment of Cisco ISE 3.0```', additional_kwargs={}, example=False), AIMessage(content=\"\\n AI: \\n I don't see any specific issues about deployment of Cisco ISE 3.0 discussed.\", additional_kwargs={}, example=False)]\n",
    "\n",
    "Context:\n",
    " ```work for you. (never tested on Cat 9200) - Cat 9300 ok\n",
    " \n",
    "Table 10.     Network essentials and advantage package features\n",
    " \n",
    "https://www.cisco.com/c/en/us/products/collateral/switches/catalyst-9200-series-switches/nb-06-cat9200-ser-data-sheet-cte-en.html#Licensing\n",
    "  Does anyone know where to download :\n",
    "https://www.cisco.com/c/en/us/td/docs/security/ise/2-7/compatibility_doc/b_ise_sdt_27.html\n",
    "what kind of integration we are considering here ? |||| Hi Balaji,Thanks for the reply.We are considering Meraki MR series Access Points and MS series switches for Guest and dot1.x Authentications. Hello,\n",
    "Following the reset of the /opt partition which was full (100%) on MNT, we no longer have Splunk logs on 2 new PSN 3695\n",
    "while the other 4 PSN(3595) continue to work correctly.\n",
    "There are collection log Errors:\n",
    "The ISE MNT collector process is unable to persist the audit logs generated from the Policy Service nodes.\n",
    "The current version is: 2.7.0.356 P5\n",
    "BR,\n",
    "..."
   ]
  },
  {
   "cell_type": "code",
   "execution_count": 137,
   "metadata": {},
   "outputs": [
    {
     "data": {
      "text/plain": [
       "'There are a few issues discussed about compatibility. One issue is that the ISE MNT collector process is unable to persist the audit logs generated from the Policy Service nodes. This can cause problems with Splunk logs. Another issue is that some NADs may not be validated within the section \"Validated Third Party Access Switches\" in the compatibility for ISE. This can cause problems with the features of ISE working properly.'"
      ]
     },
     "execution_count": 137,
     "metadata": {},
     "output_type": "execute_result"
    }
   ],
   "source": [
    "llm(prompt=f\"Context:\\n ```{context}``` \\n\\n Query:\\n```{query}```\")"
   ]
  },
  {
   "cell_type": "code",
   "execution_count": null,
   "metadata": {},
   "outputs": [],
   "source": []
  },
  {
   "cell_type": "code",
   "execution_count": null,
   "metadata": {},
   "outputs": [],
   "source": []
  },
  {
   "cell_type": "code",
   "execution_count": null,
   "metadata": {},
   "outputs": [],
   "source": []
  },
  {
   "cell_type": "code",
   "execution_count": null,
   "metadata": {},
   "outputs": [],
   "source": []
  },
  {
   "cell_type": "code",
   "execution_count": null,
   "metadata": {},
   "outputs": [],
   "source": []
  },
  {
   "cell_type": "code",
   "execution_count": null,
   "metadata": {},
   "outputs": [],
   "source": []
  },
  {
   "cell_type": "code",
   "execution_count": 42,
   "metadata": {},
   "outputs": [],
   "source": [
    "from langchain import LLMChain, PromptTemplate\n",
    "from steamship import Steamship\n",
    "from langchain.chains import ConversationChain"
   ]
  },
  {
   "cell_type": "code",
   "execution_count": 36,
   "metadata": {},
   "outputs": [],
   "source": [
    "from langchain.chains.conversation.memory import ConversationBufferWindowMemory \n",
    "from steamship_langchain.memory import ChatMessageHistory\n"
   ]
  },
  {
   "cell_type": "code",
   "execution_count": 43,
   "metadata": {},
   "outputs": [
    {
     "ename": "SyntaxError",
     "evalue": "invalid syntax (<ipython-input-43-c8645918af07>, line 26)",
     "output_type": "error",
     "traceback": [
      "\u001b[1;36m  File \u001b[1;32m\"<ipython-input-43-c8645918af07>\"\u001b[1;36m, line \u001b[1;32m26\u001b[0m\n\u001b[1;33m    prompt=prompt,\u001b[0m\n\u001b[1;37m    ^\u001b[0m\n\u001b[1;31mSyntaxError\u001b[0m\u001b[1;31m:\u001b[0m invalid syntax\n"
     ]
    }
   ],
   "source": [
    "template = \"\"\" Assistant is designed to be able to assist with a wide range of tasks, \n",
    "from answering simple questions to providing in-depth explanations and discussions on topics within conversation and context. \n",
    "As a language model, Assistant is able to generate human-like text based on the input it receives, \n",
    "allowing it to engage in natural-sounding conversations and provide responses that are coherent and relevant to the topic at hand.\n",
    "\n",
    "Assistant is constantly learning and improving, and its capabilities are constantly evolving. \n",
    "It is able to process and understand large amounts of text, and can use this knowledge to provide accurate and informative responses to a wide range of questions. Additionally, Assistant is able to generate its own text based on the input it receives.\n",
    "\n",
    "Overall, Assistant is a powerful tool that can help with a wide range of tasks and provide valuable insights.\n",
    "\n",
    "If Assistant cannot infer any answer or response from previous conversation history or human input, say 'I don't know the answer'.\n",
    "\n",
    "{history}\n",
    "\n",
    "Human: {human_input}\n",
    "\n",
    "Assistant:\"\"\"\n",
    "\n",
    "# client = Steamship()\n",
    "# prompt = PromptTemplate(input_variables=[\"history\", \"human_input\"], template=template)\n",
    "\n",
    "\n",
    "\n",
    "chat_memory=ConversationBufferWindowMemory(k=3,return_messages=True)\n",
    "\n",
    "chatgpt_chain = ConversationChain(\n",
    "    llm=llm\n",
    "    prompt=prompt,\n",
    "    verbose=True,\n",
    "    memory=chat_memory\n",
    ")\n",
    "\n",
    "chatgpt_chain.predict(\n",
    "    human_input=\"I want you to act as a Linux terminal. I will type commands and you will reply with what the terminal should show. I want you to only reply wiht the terminal output inside one unique code block, and nothing else. Do not write explanations. Do not type commands unless I instruct you to do so. When I need to tell you something in English I will do so by putting text inside curly brackets {like this}. My first command is pwd.\"\n",
    ")"
   ]
  },
  {
   "cell_type": "code",
   "execution_count": null,
   "metadata": {},
   "outputs": [],
   "source": []
  },
  {
   "cell_type": "code",
   "execution_count": null,
   "metadata": {},
   "outputs": [],
   "source": []
  },
  {
   "cell_type": "code",
   "execution_count": null,
   "metadata": {},
   "outputs": [],
   "source": []
  },
  {
   "cell_type": "code",
   "execution_count": null,
   "metadata": {},
   "outputs": [],
   "source": []
  },
  {
   "cell_type": "code",
   "execution_count": 200,
   "metadata": {},
   "outputs": [],
   "source": [
    "from langchain.memory import ConversationBufferMemory\n",
    "from langchain.embeddings.openai import OpenAIEmbeddings\n",
    "from langchain.vectorstores import Chroma\n",
    "from langchain.text_splitter import CharacterTextSplitter\n",
    "from langchain.llms import OpenAI\n",
    "from langchain.chains import ConversationalRetrievalChain\n",
    "memory = ConversationBufferMemory(memory_key=\"chat_history\", return_messages=True)"
   ]
  },
  {
   "cell_type": "code",
   "execution_count": 201,
   "metadata": {},
   "outputs": [],
   "source": [
    "qa = ConversationalRetrievalChain.from_llm(llm, db.as_retriever(), memory=memory)"
   ]
  },
  {
   "cell_type": "code",
   "execution_count": 213,
   "metadata": {},
   "outputs": [],
   "source": [
    "query = \"Give me all failures in association with RSA\""
   ]
  },
  {
   "cell_type": "code",
   "execution_count": 228,
   "metadata": {},
   "outputs": [],
   "source": [
    "t = db.similarity_search(query, k=5 )"
   ]
  },
  {
   "cell_type": "code",
   "execution_count": 229,
   "metadata": {},
   "outputs": [],
   "source": [
    "context = ' '.join([page.page_content for page in t])"
   ]
  },
  {
   "cell_type": "code",
   "execution_count": 230,
   "metadata": {},
   "outputs": [
    {
     "data": {
      "text/plain": [
       "'SecurID\\xa024551RSA request is declined, because RSA agent initialization has failed - RSA SecurID\\xa024503Cannot establish a session with the RSA SecurID Server - RSA SecurID\\xa022059The advanced option that is configured for process failure is used\\xa022062The \\'Drop\\' advanced option is configured in case of able to esablish connection to RSA server, thus no logs on FW along the path.\\nI would point my troubleshooting towards reconfiguration of ISE-RSA integration, like regenerate sdconf.rec file, checking DNS on both systems (are they able to resolve each other hostnames), and similar.\\nBased on initialization has failed - RSA SecurID\".13013Received TACACS+ Authentication START Request\\xa015049Evaluating Policy Group\\xa015008Evaluating Service Selection Policy\\xa015048Queried PIP - DEVICE.Device Type\\xa015041Evaluating Identity Policy\\xa022072Selected identity source sequence - base license?Thank you very much for your help and discussion!\\xa0thanksJeffery\\xa0\\xa0\\xa0\\xa0 |||| Do you have RADIUS Accounting enabled on the ASA?\\xa0 I\\'m not sure of way to forcibly delete these (other than deleting the endpoint from context visibility maybe?).\\xa0 What patch of 2.6 are you keep working with the lab to see if I get an EUREKA  |||| Yes RADIUS is an open standard.\\xa0 Here would be your flow:\\nVPN attempt ->CheckPoint->RADIUS->ISE->Access-Accept->CheckPoint.\\nSo the CheckPoint sends a RADIUS request to ISE, ISE validates this attempt against AD, checks AD group membership'"
      ]
     },
     "execution_count": 230,
     "metadata": {},
     "output_type": "execute_result"
    }
   ],
   "source": [
    "context"
   ]
  },
  {
   "cell_type": "code",
   "execution_count": null,
   "metadata": {},
   "outputs": [],
   "source": []
  },
  {
   "cell_type": "code",
   "execution_count": null,
   "metadata": {},
   "outputs": [],
   "source": []
  },
  {
   "cell_type": "code",
   "execution_count": 164,
   "metadata": {},
   "outputs": [],
   "source": [
    "result = qa({\"question\": query})"
   ]
  },
  {
   "cell_type": "code",
   "execution_count": 165,
   "metadata": {},
   "outputs": [
    {
     "data": {
      "text/plain": [
       "'The issue is that the domain administrator user has permission to join AD, but the AD team is concerned that this user may be using LSA to perform read/write operations in AD.'"
      ]
     },
     "execution_count": 165,
     "metadata": {},
     "output_type": "execute_result"
    }
   ],
   "source": [
    "result['answer']"
   ]
  },
  {
   "cell_type": "code",
   "execution_count": 166,
   "metadata": {},
   "outputs": [],
   "source": [
    "query = \"Did they mention they found the solution?\"\n",
    "result = qa({\"question\": query})"
   ]
  },
  {
   "cell_type": "code",
   "execution_count": 167,
   "metadata": {},
   "outputs": [
    {
     "data": {
      "text/plain": [
       "'Not yet.'"
      ]
     },
     "execution_count": 167,
     "metadata": {},
     "output_type": "execute_result"
    }
   ],
   "source": [
    "result['answer']"
   ]
  },
  {
   "cell_type": "code",
   "execution_count": 172,
   "metadata": {},
   "outputs": [],
   "source": [
    "query = \"What was the recommended solution and who recommended it?\"\n",
    "result = qa({\"question\": query})"
   ]
  },
  {
   "cell_type": "code",
   "execution_count": 173,
   "metadata": {},
   "outputs": [
    {
     "data": {
      "text/plain": [
       "'There is not enough information given to provide any meaningful assistance. Please see How to Ask the Community for Help .'"
      ]
     },
     "execution_count": 173,
     "metadata": {},
     "output_type": "execute_result"
    }
   ],
   "source": [
    "result['answer']"
   ]
  },
  {
   "cell_type": "code",
   "execution_count": 174,
   "metadata": {},
   "outputs": [
    {
     "data": {
      "text/plain": [
       "{'question': 'What was the recommended solution and who recommended it?',\n",
       " 'chat_history': [HumanMessage(content='Give me specific issue discussed about Active Directory', additional_kwargs={}, example=False),\n",
       "  AIMessage(content='The issue is that the domain administrator user has permission to join AD, but the AD team is concerned that this user may be using LSA to perform read/write operations in AD.', additional_kwargs={}, example=False),\n",
       "  HumanMessage(content='Did they mention they found the solution?', additional_kwargs={}, example=False),\n",
       "  AIMessage(content='Not yet.', additional_kwargs={}, example=False),\n",
       "  HumanMessage(content='How did their conversation end?', additional_kwargs={}, example=False),\n",
       "  AIMessage(content='There is no answer to this question because the conversattion is still in progress.', additional_kwargs={}, example=False),\n",
       "  HumanMessage(content='What was the recommended solution?', additional_kwargs={}, example=False),\n",
       "  AIMessage(content='I will recommend to create a new troubleshooting case and attach the logs and the configuration of ISE and Stealthwatch.', additional_kwargs={}, example=False),\n",
       "  HumanMessage(content='What was the recommended solution and who recommended it?', additional_kwargs={}, example=False),\n",
       "  AIMessage(content='There is not enough information given to provide any meaningful assistance. Please see How to Ask the Community for Help .', additional_kwargs={}, example=False)],\n",
       " 'answer': 'There is not enough information given to provide any meaningful assistance. Please see How to Ask the Community for Help .'}"
      ]
     },
     "execution_count": 174,
     "metadata": {},
     "output_type": "execute_result"
    }
   ],
   "source": [
    "result"
   ]
  },
  {
   "cell_type": "code",
   "execution_count": null,
   "metadata": {},
   "outputs": [],
   "source": []
  },
  {
   "cell_type": "code",
   "execution_count": 156,
   "metadata": {},
   "outputs": [],
   "source": [
    "db.persist()\n",
    "db=None"
   ]
  },
  {
   "cell_type": "code",
   "execution_count": 59,
   "metadata": {},
   "outputs": [],
   "source": [
    "retriever = db.as_retriever()"
   ]
  },
  {
   "cell_type": "code",
   "execution_count": 60,
   "metadata": {},
   "outputs": [],
   "source": [
    "qa = RetrievalQA.from_chain_type(llm=llm, chain_type='stuff', retriever=retriever)"
   ]
  },
  {
   "cell_type": "code",
   "execution_count": 79,
   "metadata": {},
   "outputs": [],
   "source": [
    "query_text=\"\"\"Can you give me a specific issue a user is having related to  to the user saying ```I cannot seem to get the credential scan from ISE working with a domain user '\n",
    " 'account. I have tried multiple things, but I keep getting an error \"The '\n",
    " 'domain user account is invalid```. \"\"\""
   ]
  },
  {
   "cell_type": "code",
   "execution_count": 80,
   "metadata": {},
   "outputs": [],
   "source": [
    "from pprint import pprint"
   ]
  },
  {
   "cell_type": "code",
   "execution_count": 81,
   "metadata": {},
   "outputs": [
    {
     "name": "stdout",
     "output_type": "stream",
     "text": [
      "(' The user tried to configure credential scan from ISE and got the error \"The '\n",
      " 'domain user account is invalid\". |||| I would assume that the user has '\n",
      " 'configured credential scan incorrectly.\\n'\n",
      " 'The error message is indicating that the domain user account is invalid. '\n",
      " 'This means that the user may have entered the wrong username or password. It '\n",
      " 'is also possible that the account does not exist in the domain.\\n'\n",
      " 'I would recommend that the user verify the username and password and ensure '\n",
      " 'that the account exists in the domain. If the issue persists, I would '\n",
      " 'contact the domain administrator for assistance.')\n"
     ]
    }
   ],
   "source": [
    "pprint(qa.run(query_text))"
   ]
  },
  {
   "cell_type": "code",
   "execution_count": null,
   "metadata": {},
   "outputs": [],
   "source": []
  },
  {
   "cell_type": "code",
   "execution_count": null,
   "metadata": {},
   "outputs": [],
   "source": []
  },
  {
   "cell_type": "code",
   "execution_count": null,
   "metadata": {},
   "outputs": [],
   "source": []
  },
  {
   "cell_type": "code",
   "execution_count": 40,
   "metadata": {},
   "outputs": [],
   "source": [
    "d = pd.read_csv('dataset/cluster_summaries.csv')"
   ]
  },
  {
   "cell_type": "code",
   "execution_count": 41,
   "metadata": {},
   "outputs": [
    {
     "data": {
      "text/plain": [
       "Index(['topic_id', 'tag', 'summary', 'class', 'analysis_window',\n",
       "       'quarter_for_analysis'],\n",
       "      dtype='object')"
      ]
     },
     "execution_count": 41,
     "metadata": {},
     "output_type": "execute_result"
    }
   ],
   "source": [
    "d.columns"
   ]
  },
  {
   "cell_type": "code",
   "execution_count": 45,
   "metadata": {},
   "outputs": [
    {
     "data": {
      "text/html": [
       "<div>\n",
       "<style scoped>\n",
       "    .dataframe tbody tr th:only-of-type {\n",
       "        vertical-align: middle;\n",
       "    }\n",
       "\n",
       "    .dataframe tbody tr th {\n",
       "        vertical-align: top;\n",
       "    }\n",
       "\n",
       "    .dataframe thead th {\n",
       "        text-align: right;\n",
       "    }\n",
       "</style>\n",
       "<table border=\"1\" class=\"dataframe\">\n",
       "  <thead>\n",
       "    <tr style=\"text-align: right;\">\n",
       "      <th></th>\n",
       "      <th>topic_id</th>\n",
       "      <th>tag</th>\n",
       "      <th>summary</th>\n",
       "      <th>class</th>\n",
       "      <th>analysis_window</th>\n",
       "      <th>quarter_for_analysis</th>\n",
       "    </tr>\n",
       "  </thead>\n",
       "  <tbody>\n",
       "    <tr>\n",
       "      <th>25</th>\n",
       "      <td>0</td>\n",
       "      <td>Others</td>\n",
       "      <td>* The Cisco 800 Series routers are experiencin...</td>\n",
       "      <td>Upgrade</td>\n",
       "      <td>annual</td>\n",
       "      <td>20233</td>\n",
       "    </tr>\n",
       "    <tr>\n",
       "      <th>26</th>\n",
       "      <td>1</td>\n",
       "      <td>Others</td>\n",
       "      <td>- The customer is having problems with their C...</td>\n",
       "      <td>Upgrade</td>\n",
       "      <td>annual</td>\n",
       "      <td>20233</td>\n",
       "    </tr>\n",
       "    <tr>\n",
       "      <th>46</th>\n",
       "      <td>0</td>\n",
       "      <td>Others</td>\n",
       "      <td>1. The customer is having trouble with their C...</td>\n",
       "      <td>Upgrade</td>\n",
       "      <td>quarterly</td>\n",
       "      <td>20233</td>\n",
       "    </tr>\n",
       "    <tr>\n",
       "      <th>47</th>\n",
       "      <td>1</td>\n",
       "      <td>Others</td>\n",
       "      <td>* The customer is having problems with their C...</td>\n",
       "      <td>Upgrade</td>\n",
       "      <td>quarterly</td>\n",
       "      <td>20233</td>\n",
       "    </tr>\n",
       "  </tbody>\n",
       "</table>\n",
       "</div>"
      ],
      "text/plain": [
       "    topic_id     tag                                            summary  \\\n",
       "25         0  Others  * The Cisco 800 Series routers are experiencin...   \n",
       "26         1  Others  - The customer is having problems with their C...   \n",
       "46         0  Others  1. The customer is having trouble with their C...   \n",
       "47         1  Others  * The customer is having problems with their C...   \n",
       "\n",
       "      class analysis_window  quarter_for_analysis  \n",
       "25  Upgrade          annual                 20233  \n",
       "26  Upgrade          annual                 20233  \n",
       "46  Upgrade       quarterly                 20233  \n",
       "47  Upgrade       quarterly                 20233  "
      ]
     },
     "execution_count": 45,
     "metadata": {},
     "output_type": "execute_result"
    }
   ],
   "source": [
    "d[(d['class'] == 'Upgrade') & (d['tag'] == 'Others')].head()"
   ]
  },
  {
   "cell_type": "code",
   "execution_count": null,
   "metadata": {},
   "outputs": [],
   "source": []
  }
 ],
 "metadata": {
  "kernelspec": {
   "display_name": "Python 3",
   "language": "python",
   "name": "python3"
  },
  "language_info": {
   "codemirror_mode": {
    "name": "ipython",
    "version": 3
   },
   "file_extension": ".py",
   "mimetype": "text/x-python",
   "name": "python",
   "nbconvert_exporter": "python",
   "pygments_lexer": "ipython3",
   "version": "3.8.7"
  },
  "orig_nbformat": 4
 },
 "nbformat": 4,
 "nbformat_minor": 2
}
